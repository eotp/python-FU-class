{
 "cells": [
  {
   "cell_type": "markdown",
   "metadata": {
    "slideshow": {
     "slide_type": "slide"
    }
   },
   "source": [
    "# Introduction to scientific computing with Python\n"
   ]
  },
  {
   "cell_type": "markdown",
   "metadata": {
    "slideshow": {
     "slide_type": "slide"
    }
   },
   "source": [
    "## Computational Thinking"
   ]
  },
  {
   "cell_type": "markdown",
   "metadata": {
    "slideshow": {
     "slide_type": "subslide"
    }
   },
   "source": [
    "> __Task: Program a bread slicer machine__\n",
    "\n",
    "<img src=\"./_img/bread.png\" width=\"700px\"> \n",
    "\n",
    "* Provide comands to cut 3 normal slices of bread.\n",
    "* Each person provides on command and writes it on a post-it.\n",
    "* Any previous command can be undone by an erase command."
   ]
  },
  {
   "cell_type": "markdown",
   "metadata": {
    "slideshow": {
     "slide_type": "slide"
    }
   },
   "source": [
    "## Scientific Computing\n",
    "\n",
    "Scientists spend an increasing amount of time building and using software. However, many researchers are unaware of tools and practices that would allow them to write more reliable and maintainable code with less effort. Software is very important to modern scientific research as the daily operation of science revolves around developing new algorithms, managing and analyzing the large amounts of data that are generated in single research projects, combining disparate datasets to assess synthetic problems, and other computational tasks.\n",
    "\n",
    "In that sense software is just another kind of experimental apparatus and should be built, checked, and used as carefully as any physical apparatus. However, while most scientists are careful to validate their laboratory and field equipment, most do not know how reliable their software is. This can lead to serious errors impacting the central conclusions of published research. In addition, because software is often used for more than a single project, and is often reused by other scientists, computing errors can have disproportionate impacts on the scientific process. \n"
   ]
  },
  {
   "cell_type": "markdown",
   "metadata": {
    "slideshow": {
     "slide_type": "subslide"
    }
   },
   "source": [
    "\n",
    "### Best Practices for Scientific Computing\n",
    "\n",
    "[Wilson G, et al. (2014) Best Practices for Scientific Computing. PLoS Biol 12(1): e1001745.](https://journals.plos.org/plosbiology/article?id=10.1371/journal.pbio.1001745)\n",
    "\n",
    "* __Write programs for people, not computers.__\n",
    "    * A program should not require its readers to hold more than a handful of facts in memory at once.\n",
    "    * Make names consistent, distinctive, and meaningful.\n",
    "    * Make code style and formatting consistent.\n",
    "* __Let the computer do the work.__\n",
    "    * Make the computer repeat tasks.\n",
    "    * Save recent commands in a file for re-use.\n",
    "    * Use a build tool to automate workflows.\n",
    "* __Make incremental changes.__\n",
    "    * Work in small steps with frequent feedback and course correction.\n",
    "    * Use a version control system.\n",
    "    * Put everything that has been created manually in version control.\n",
    "* __Don't repeat yourself (or others).__\n",
    "    * Every piece of data must have a single authoritative representation in the system.\n",
    "    * Modularize code rather than copying and pasting.\n",
    "    * Re-use code instead of rewriting it.\n",
    "* __Plan for mistakes.__\n",
    "    * Add assertions to programs to check their operation.\n",
    "    * Use an off-the-shelf unit testing library.\n",
    "    * Turn bugs into test cases.\n",
    "    * Use a symbolic debugger.\n",
    "* __Optimize software only after it works correctly.__\n",
    "    * Use a profiler to identify bottlenecks.\n",
    "    * Write code in the highest-level language possible.\n",
    "* __Document design and purpose, not mechanics.__\n",
    "    * Document interfaces and reasons, not implementations.\n",
    "    * Refactor code in preference to explaining how it works.\n",
    "    * Embed the documentation for a piece of software in that software.\n",
    "* __Collaborate.__\n",
    "    * Use pre-merge code reviews.\n",
    "    * Use pair programming when bringing someone new up to speed and when tackling particularly tricky problems.\n",
    "    * Use an issue tracking tool."
   ]
  },
  {
   "cell_type": "markdown",
   "metadata": {
    "slideshow": {
     "slide_type": "slide"
    }
   },
   "source": [
    "***\n",
    "## Why Python?"
   ]
  },
  {
   "cell_type": "markdown",
   "metadata": {
    "slideshow": {
     "slide_type": "subslide"
    }
   },
   "source": [
    "### A powerful, all-purpose language with a great syntax (_\"executable pseudocode\"_)\n",
    "\n",
    "<img src=\"./_img/xkcd_learning_curve_wave_python.png\" width=\"700px\"> \n",
    "\n",
    "Source: [Fabien Maussion](http://fabienmaussion.info/)"
   ]
  },
  {
   "cell_type": "markdown",
   "metadata": {
    "slideshow": {
     "slide_type": "subslide"
    }
   },
   "source": [
    "### Interoperability with other languages\n",
    "\n",
    "[Guido van Rossum](https://gvanrossum.github.io//index.html) (creator of Python formally known as Benevolent Dictator For Life (BDFL))\n",
    "\n",
    "_... I never intended Python to be the primary language for programmers ..._\n",
    "\n",
    "_... bridge the gap between the shell and C ..._\n",
    "\n",
    "\n",
    "<img src=\"./_img/guido.png\" width=\"500px\">\n",
    "\n",
    "Source: [SD Times](https://sdtimes.com/guido-van-rossum/python-creator-proposes-type-annotations-programming-language/) (2014\n",
    ") & [A Conversation with Guido van Rossum](https://www.artima.com/intv/)  (2002)"
   ]
  },
  {
   "cell_type": "markdown",
   "metadata": {
    "slideshow": {
     "slide_type": "subslide"
    }
   },
   "source": [
    "### Open and encouraging community\n",
    "\n",
    "<img src=\"./_img/growth_major_languages-1-1400x1200.png\"  width=\"650px\">\n",
    "\n",
    "Source: [Blog post by David Robinson](https://stackoverflow.blog/2017/09/06/incredible-growth-python/) (September 6, 2017)\n",
    "\n",
    "\n"
   ]
  },
  {
   "cell_type": "markdown",
   "metadata": {
    "slideshow": {
     "slide_type": "subslide"
    }
   },
   "source": [
    "### Batteries included and third-party modules\n",
    "\n",
    "<img src=\"https://imgs.xkcd.com/comics/python.png\" width=\"500px;\">\n",
    "\n",
    "Source: [xkcd](https://xkcd.com/353/)"
   ]
  },
  {
   "cell_type": "markdown",
   "metadata": {},
   "source": [
    "### Python ecosystem\n",
    "\n",
    "\n",
    "<img src=\"./_img/python_ecosystem.png\"  style=\"height: 480px;\">\n",
    "\n",
    "***\n",
    "    conda install <YOUR-PACKAGE-OF-CHOICE> # conda package manager\n",
    "    pip install <YOUR-PACKAGE-OF-CHOICE>   # tool for installing Python packages\n",
    "    \n",
    "    >>> import <YOUR-PACKAGE-OF-CHOICE>"
   ]
  },
  {
   "cell_type": "markdown",
   "metadata": {},
   "source": [
    "### Python for other domains\n",
    "\n",
    "\n",
    "> _If you are interested in other domain specific stacks consider [Awesome Python](https://awesome-python.com/), a curated list of Python frameworks, libraries, software and resources._"
   ]
  },
  {
   "cell_type": "markdown",
   "metadata": {
    "slideshow": {
     "slide_type": "slide"
    }
   },
   "source": [
    "***\n",
    "## Reproducible Research\n",
    "\n",
    "\n",
    "\n",
    "The term [reproducible research](https://en.wikipedia.org/wiki/Reproducibility#Reproducible_research) refers to the idea that the ultimate product of academic research is the paper along with the laboratory notebooks and full computational environment used to produce the results in the paper such as the code, data, etc. that can be used to reproduce the results and create new work based on the research. Typical examples of reproducible research comprise compendia of data, code and text files, often organised around an __[R Markdown source document](https://rmarkdown.rstudio.com/)__ or a __[Jupyter notebook](http://jupyter.org/)__.\n"
   ]
  },
  {
   "cell_type": "markdown",
   "metadata": {
    "slideshow": {
     "slide_type": "subslide"
    }
   },
   "source": [
    "<img src=\"./_img/pipeline.png\" width=\"1200px;\">\n",
    "\n",
    "(after Peng et al. 2006)"
   ]
  },
  {
   "cell_type": "markdown",
   "metadata": {
    "slideshow": {
     "slide_type": "slide"
    }
   },
   "source": [
    "***\n",
    "## Literate Programming"
   ]
  },
  {
   "cell_type": "markdown",
   "metadata": {
    "slideshow": {
     "slide_type": "subslide"
    }
   },
   "source": [
    "[Literate programming](https://en.wikipedia.org/wiki/Literate_programming) is a programming paradigm introduced by [Donald Knuth](https://en.wikipedia.org/wiki/Donald_Knuth) in which a program is given as an explanation of the program logic in a natural language, interspersed with snippets of macros and traditional source code.\n",
    "\n",
    "The literate programming paradigm enables programmers to develop programs in the order demanded by the logic and flow of their thoughts. Literate programs are written much like the text of an essay, in which macros are included to hide abstractions and traditional source code.\n",
    "\n",
    "> _Write Programs For People, Not Computers._ ([Wilson G, et al. (2014)](https://journals.plos.org/plosbiology/article?id=10.1371/journal.pbio.1001745))"
   ]
  },
  {
   "cell_type": "markdown",
   "metadata": {
    "slideshow": {
     "slide_type": "slide"
    }
   },
   "source": [
    "### _The Scientific Paper Is Obsolete_\n",
    "by James Somers, [The Atlantic, Apr 5, 2018](https://www.theatlantic.com/science/archive/2018/04/the-scientific-paper-is-obsolete/556676/)"
   ]
  },
  {
   "cell_type": "code",
   "execution_count": null,
   "metadata": {
    "slideshow": {
     "slide_type": "fragment"
    }
   },
   "outputs": [],
   "source": [
    "from IPython.display import IFrame    \n",
    "IFrame('https://www.theatlantic.com/science/archive/2018/04/the-scientific-paper-is-obsolete/556676/', \n",
    "       width=\"100%\", height=450)"
   ]
  },
  {
   "cell_type": "markdown",
   "metadata": {
    "slideshow": {
     "slide_type": "slide"
    }
   },
   "source": [
    "***\n",
    "## Data Science"
   ]
  },
  {
   "cell_type": "markdown",
   "metadata": {
    "slideshow": {
     "slide_type": "fragment"
    }
   },
   "source": [
    "### What is data science?\n",
    "   "
   ]
  },
  {
   "cell_type": "markdown",
   "metadata": {
    "slideshow": {
     "slide_type": "fragment"
    }
   },
   "source": [
    "_Data science [...] is an **interdisciplinary field of scientific methods, processes, and systems** to extract **knowledge or insights from data**[...]_ ([Wikipedia](https://en.wikipedia.org/wiki/Data_science))"
   ]
  },
  {
   "cell_type": "markdown",
   "metadata": {
    "slideshow": {
     "slide_type": "fragment"
    }
   },
   "source": [
    "_It employs techniques and theories drawn from many fields within the broad areas of_\n",
    "* _mathematics_, \n",
    "* _statistics_, \n",
    "* _information science_, and \n",
    "* _computer science_, in particular from the subdomains of \n",
    "    * _machine learning_, \n",
    "    * _classification_, \n",
    "    * _cluster analysis_, \n",
    "    * _data mining_, \n",
    "    * _databases_, and \n",
    "    * _visualization._"
   ]
  },
  {
   "cell_type": "markdown",
   "metadata": {
    "slideshow": {
     "slide_type": "subslide"
    }
   },
   "source": [
    "The [Harvard Business Review](https://hbr.org/2012/10/data-scientist-the-sexiest-job-of-the-21st-century)  (2012) referred to data science as \"**The Sexiest Job of the 21st Century**\"."
   ]
  },
  {
   "cell_type": "markdown",
   "metadata": {
    "slideshow": {
     "slide_type": "fragment"
    }
   },
   "source": [
    "<img src=\"./_img/data_science.png\"  width=\"800px\"> \n",
    "\n",
    "Source: [Michael Barber](https://towardsdatascience.com/introduction-to-statistics-e9d72d818745)"
   ]
  },
  {
   "cell_type": "markdown",
   "metadata": {},
   "source": [
    "***"
   ]
  }
 ],
 "metadata": {
  "celltoolbar": "Slideshow",
  "kernelspec": {
   "display_name": "Python 3",
   "language": "python",
   "name": "python3"
  },
  "language_info": {
   "codemirror_mode": {
    "name": "ipython",
    "version": 3
   },
   "file_extension": ".py",
   "mimetype": "text/x-python",
   "name": "python",
   "nbconvert_exporter": "python",
   "pygments_lexer": "ipython3",
   "version": "3.7.3"
  },
  "livereveal": {
   "scroll": true,
   "start_slideshow_at": "selected"
  }
 },
 "nbformat": 4,
 "nbformat_minor": 4
}
