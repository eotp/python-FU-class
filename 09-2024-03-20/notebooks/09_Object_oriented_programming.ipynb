{
 "cells": [
  {
   "cell_type": "markdown",
   "id": "f5c400c6-9614-4e75-a6cf-921609668fbf",
   "metadata": {},
   "source": [
    "# Object Oriented Programming (OOP)\n",
    "\n",
    "Object-oriented programming is a programming paradigm that provides a means of structuring programs so that properties and behaviors are bundled into individual objects.\n",
    "\n",
    "For instance, an object could represent a person with properties like a name, age, and address and behaviors such as walking, talking, breathing, and running. Or it could represent an email with properties like a recipient list, subject, and body and behaviors like adding attachments and sending.\n",
    "\n",
    "The key takeaway is that objects are at the center of object-oriented programming in Python."
   ]
  },
  {
   "cell_type": "markdown",
   "id": "f8435d7e-4df9-4c5a-8305-df22609cdc34",
   "metadata": {},
   "source": [
    "# Classes\n",
    "\n",
    "Classes provide a means of bundling data and functionality together. Creating a new class creates a new type of object, allowing new instances of that type to be made. Each class instance can have attributes attached to it for maintaining its state. Class instances can also have methods (defined by its class) for modifying its state.\n",
    "\n",
    "Python classes provide all the standard features of Object Oriented Programming:\n",
    "\n",
    "- the class inheritance mechanism allows multiple base classes\n",
    "- a derived class can override any methods of its base class or classes, and\n",
    "- a method can call the method of a base class with the same name.\n",
    "\n",
    "Objects can contain arbitrary amounts and kinds of data. As is true for modules, classes partake of the dynamic nature of Python: they are created at runtime, and can be modified further after creation.\n",
    "\n",
    "## A First Look at Classes\n",
    "Classes introduce a little bit of new syntax, three new object types, and some new semantics.\n",
    "\n",
    "The simplest form of class definition looks like this:\n",
    "```python\n",
    "class ClassName:\n",
    "    <statement-1>\n",
    "    .\n",
    "    .\n",
    "    .\n",
    "    <statement-N>\n",
    "```  \n",
    "  \n",
    "## Class Objects\n",
    "Class objects support two kinds of operations: attribute references and instantiation.\n",
    "\n",
    "Attribute references use the standard syntax used for all attribute references in Python: `obj.name`. Valid attribute names are all the names that were in the class’s namespace when the class object was created. So, if the class definition looked like this:\n",
    "\n",
    "```python\n",
    "class MyClass:\n",
    "    \"\"\"A simple example class\"\"\"\n",
    "    i = 12345\n",
    "\n",
    "    def f(self):\n",
    "        return 'hello world'\n",
    "    \n",
    "    def print_i(self):\n",
    "        print(self.i)\n",
    "```\n",
    "then `MyClass.i` and `MyClass.f` are valid attribute references, returning an integer and a function object, respectively.\n",
    "\n",
    "Class instantiation uses function notation. Just pretend that the class object is a parameterless function that returns a new instance of the class. For example (assuming the above class):\n",
    "\n",
    "```python\n",
    "x = MyClass()\n",
    "```\n",
    "\n",
    "creates a new **instance** of the class and assigns this object to the local variable x."
   ]
  },
  {
   "cell_type": "markdown",
   "id": "bbf530c2-d9d2-4cda-a742-8bd76b9739f3",
   "metadata": {},
   "source": [
    "## Example: `pd.DataFrame`\n",
    "We have seen pandas DataFrames quite a lot during the last sessions. \n",
    "\n",
    "Notice that `pd.DataFrame` is also a class containing **attributes** such as `columns`, `index`, `values`, `shape`"
   ]
  },
  {
   "cell_type": "code",
   "execution_count": null,
   "id": "e590de4c-399b-4260-9199-6caab2512141",
   "metadata": {},
   "outputs": [],
   "source": [
    "import pandas as pd\n",
    "df = pd.DataFrame({\"Name\": [\"Anthony\", \"Flea\", \"Chad\", \"John\"],\n",
    "                  \"Role\": [\"Singer\", \"Bassist\", \"Drummer\", \"Guitarist\"]})\n",
    "df"
   ]
  },
  {
   "cell_type": "code",
   "execution_count": null,
   "id": "eddb7e29-d920-4cdc-a966-d15bf76e359d",
   "metadata": {},
   "outputs": [],
   "source": [
    "print(f\"columns attribute:\\n{df.columns}\\n\")\n",
    "print(f\"index attribute:\\n{df.index}\\n\")\n",
    "print(f\"values attribute:\\n{df.values}\\n\")\n",
    "print(f\"shape attribute:\\n{df.shape}\")"
   ]
  },
  {
   "cell_type": "markdown",
   "id": "f80343e6-6499-4ee3-93f7-5019189b4dce",
   "metadata": {},
   "source": [
    "As (almost) every other class it also contains **methods** (i.e. functions bound to a class) such as `sort_values()`, `count()`"
   ]
  },
  {
   "cell_type": "code",
   "execution_count": null,
   "id": "11aff44e-e569-4104-8e02-d2d6e80ecfb4",
   "metadata": {},
   "outputs": [],
   "source": [
    "print(\"sort_values() method:\")\n",
    "display(df.sort_values(by=\"Name\"))\n",
    "\n",
    "print(\"\\ncount() method:\")\n",
    "display(df.count())"
   ]
  },
  {
   "cell_type": "markdown",
   "id": "39fc4f76-4de9-44e7-81ae-3b2bfa936acd",
   "metadata": {},
   "source": [
    "### Challenge: Build your first class\n",
    "\n",
    "- Set up a class called `BankAccount`\n",
    "- Add an **attribute** `bank_name` to the class and assign a Name of your choice to it\n",
    "- Add a **method** `print_bank_name` that prints the `bank_name` variable"
   ]
  },
  {
   "cell_type": "code",
   "execution_count": null,
   "id": "bffcba1c-2f79-4aab-b403-875fa41e35dd",
   "metadata": {},
   "outputs": [],
   "source": [
    "### Your code here..."
   ]
  },
  {
   "cell_type": "code",
   "execution_count": null,
   "id": "d9af3002-faa3-4f90-b088-20432c2da593",
   "metadata": {},
   "outputs": [],
   "source": [
    "# %load ../src/_solutions/bank_account_v0.py"
   ]
  },
  {
   "cell_type": "code",
   "execution_count": null,
   "id": "c839fb30-17ed-45fe-a0e5-0b072c36ccc5",
   "metadata": {},
   "outputs": [],
   "source": [
    "bank = BankAccount()\n",
    "bank.print_bank_name()"
   ]
  },
  {
   "cell_type": "markdown",
   "id": "ff129452-fabd-4aeb-b910-8957fef30ad8",
   "metadata": {},
   "source": [
    "## Instantiation\n",
    "The instantiation operation (“calling” a class object) creates an empty object. Many classes like to create objects with instances customized to a specific initial state. Therefore a class may define a special method named `__init__()`, like this:\n",
    "\n",
    "```python\n",
    "def __init__(self):\n",
    "    self.data = []\n",
    "```\n",
    "When a class defines an `__init__()` method, class instantiation automatically invokes `init()` for the newly-created class instance. The `__init__()` method may have arguments for greater flexibility.\n",
    "\n",
    "```python\n",
    "class AddressBook:\n",
    "     def __init__(self, name, email):\n",
    "         self.name = name\n",
    "         self.email = email\n",
    "```\n",
    "Now what can we do with instance objects? The only operations understood by instance objects are attribute references. There are two kinds of valid attribute names, data attributes and methods.\n",
    "\n",
    "```python\n",
    "class AddressBook:\n",
    "     def __init__(self, name, email):\n",
    "         self.name = name\n",
    "         self.email = email\n",
    "            \n",
    "     def print_name(self):\n",
    "         print(f'Hi, {self.name}. Your email is {self.email}')\n",
    "```"
   ]
  },
  {
   "cell_type": "markdown",
   "id": "09bf3ef0-fee6-43b9-be82-06abeac64767",
   "metadata": {},
   "source": [
    "### Challenge: Add `__init__()` function\n",
    "- Implement a `__init__()` function which takes `bank_name` and `customer_name` as arguments and instantiates the class with them"
   ]
  },
  {
   "cell_type": "code",
   "execution_count": null,
   "id": "600c9280-5ee8-4317-9588-3ada28ba9401",
   "metadata": {},
   "outputs": [],
   "source": [
    "class BankAccount:\n",
    "    ### your code here ...\n",
    "    pass"
   ]
  },
  {
   "cell_type": "code",
   "execution_count": null,
   "id": "4e3ac960-a3e1-4dcd-9375-91a5176405fa",
   "metadata": {},
   "outputs": [],
   "source": [
    "# %load ../src/_solutions/bank_account_v1.py"
   ]
  },
  {
   "cell_type": "code",
   "execution_count": null,
   "id": "ef177a10-42e6-4517-ad51-25d71d7ebd6c",
   "metadata": {},
   "outputs": [],
   "source": [
    "bank_lisa = BankAccount('Commerzbank', 'Lisa')\n",
    "bank_lisa.print_bank_name()\n",
    "bank_lisa.print_customer_name()"
   ]
  },
  {
   "cell_type": "code",
   "execution_count": null,
   "id": "20bc5e05-6023-480b-99dc-10412cf542a3",
   "metadata": {},
   "outputs": [],
   "source": [
    "bank_aleks = BankAccount('Sparkasse', 'Aleks')\n",
    "bank_aleks.print_bank_name()\n",
    "bank_aleks.print_customer_name()"
   ]
  },
  {
   "cell_type": "markdown",
   "id": "27d21408-6d3f-4e3f-ae10-faf9284763ae",
   "metadata": {},
   "source": [
    "## Printing a class instance\n",
    "\n",
    "Upon trying to print a class instance you will see a weird looking output:\n",
    "\n",
    "- Something like `<__main__.ClassName object at 0x0000FFFF42FFFF42>`.\n",
    "\n",
    "To actually make a object printable you need to implement a `__str__()` method.\n",
    "\n",
    "Example:\n",
    "```python\n",
    "def __str__(self):\n",
    "    return \"Hello World\"\n",
    "```"
   ]
  },
  {
   "cell_type": "code",
   "execution_count": null,
   "id": "35850cd4-2ef8-4711-a8b7-798bf2502383",
   "metadata": {},
   "outputs": [],
   "source": [
    "print(bank_lisa)"
   ]
  },
  {
   "cell_type": "markdown",
   "id": "52cbe82d-1d71-4635-ae6e-b4fc3f28c505",
   "metadata": {},
   "source": [
    "### Challenge: Add a `__str__()` method"
   ]
  },
  {
   "cell_type": "code",
   "execution_count": null,
   "id": "538c611b-4a6e-4e4b-b1f6-624d5a459db1",
   "metadata": {},
   "outputs": [],
   "source": [
    "class BankAccount:\n",
    "    def __init__(self, bank_name, customer_name):\n",
    "        self.bank_name = bank_name\n",
    "        self.customer_name = customer_name\n",
    "    \n",
    "    def print_bank_name(self):\n",
    "        print(f\"My name is {self.bank_name}\")\n",
    "        \n",
    "    def print_customer_name(self):\n",
    "        print(f\"This account belongs to {self.customer_name}\")\n",
    "        \n",
    "    ### Your code here...\n",
    "    "
   ]
  },
  {
   "cell_type": "code",
   "execution_count": null,
   "id": "d02f0123-0626-417d-9375-7ae4dc4dddf3",
   "metadata": {},
   "outputs": [],
   "source": [
    "# %load ../src/_solutions/bank_account_v2.py       "
   ]
  },
  {
   "cell_type": "code",
   "execution_count": null,
   "id": "9d6befe2-f940-4497-a8d2-5f45b46d7880",
   "metadata": {},
   "outputs": [],
   "source": [
    "bank_lisa = BankAccount('Commerzbank', 'Lisa')\n",
    "print(bank_lisa)"
   ]
  },
  {
   "cell_type": "code",
   "execution_count": null,
   "id": "f8c05bbe-97aa-4b7c-9212-1ba6610615c0",
   "metadata": {},
   "outputs": [],
   "source": [
    "bank_aleks = BankAccount('Sparkasse', 'Aleks')\n",
    "print(bank_aleks)"
   ]
  },
  {
   "cell_type": "markdown",
   "id": "369fd1ef-902e-4e39-a8e0-988ec822fb7d",
   "metadata": {},
   "source": [
    "## Private attributes and methods\n",
    "You can \"hide\" attributes and methods by prepending `__` to a attribute/method name.\n",
    "It then won't get automatically suggested (and is hard to access, _though not impossible!_)\n",
    "\n",
    "Keep in mind that Python doesn't offer Encapsulation such as Java for example does. The private attribute or method is not in fact private, just hidden!"
   ]
  },
  {
   "cell_type": "code",
   "execution_count": null,
   "id": "c43dc9a7-8d63-40af-946e-aec0b3a68662",
   "metadata": {},
   "outputs": [],
   "source": [
    "class BankAccount:    \n",
    "    def __init__(self, bank_name, customer_name):\n",
    "        self.bank_name = bank_name\n",
    "        self.customer_name =  customer_name\n",
    "        self.__balance = 0\n",
    "    \n",
    "    def __str__(self):\n",
    "        return f'This {self.bank_name} account belongs to {self.customer_name}'\n",
    "\n",
    "    def print_bank_name(self):\n",
    "        print('My name is', self.bank_name)\n",
    "         \n",
    "    def print_customer_name(self):\n",
    "        print('This account belongs to', self.customer_name)\n",
    "        \n",
    "    # public method to access private attribute\n",
    "    def get_balance(self):\n",
    "        return self.__balance"
   ]
  },
  {
   "cell_type": "code",
   "execution_count": null,
   "id": "782fc1a7-80e2-4726-a23a-ce9d84fd4050",
   "metadata": {},
   "outputs": [],
   "source": [
    "bank_lisa = BankAccount('Commerzbank', 'Lisa')\n",
    "bank_lisa.get_balance()"
   ]
  },
  {
   "cell_type": "code",
   "execution_count": null,
   "id": "2b27c82c-7e97-419f-a77b-b041af638d62",
   "metadata": {},
   "outputs": [],
   "source": [
    "# See: You can acceess hidden variables by using instance._ClassName__hiddenVariableName\n",
    "# and even overwrite it! So there are no secure variables in Python\n",
    "bank_lisa._BankAccount__balance = 2"
   ]
  },
  {
   "cell_type": "code",
   "execution_count": null,
   "id": "828c3804-d5d1-45c3-9c20-f3e4914042b7",
   "metadata": {},
   "outputs": [],
   "source": [
    "bank_lisa.get_balance()"
   ]
  },
  {
   "cell_type": "markdown",
   "id": "79c16753-424f-4343-928d-b600286d19d1",
   "metadata": {},
   "source": [
    "## Challenge: Extend the class for to \"fully\" featured bank account\n",
    "Add the following:\n",
    "- deposit() method\n",
    "- withdraw() method\n",
    "- pin attribute (ask for it before deposit and withdraw)\n",
    "- (opt) lock account after 3 entering a wrong pin three times"
   ]
  },
  {
   "cell_type": "code",
   "execution_count": null,
   "id": "5ee61ed5-d895-4ed9-b268-3f795384ecfe",
   "metadata": {},
   "outputs": [],
   "source": [
    "class BankAccount:    \n",
    "    def __init__(self, bank_name, customer_name):\n",
    "        self.bank_name = bank_name\n",
    "        self.customer_name =  customer_name\n",
    "        self.__balance = 0\n",
    "    \n",
    "    def __str__(self):\n",
    "        return f'This {self.bank_name} account belongs to {self.customer_name}'\n",
    "\n",
    "    def print_bank_name(self):\n",
    "        print('My name is', self.bank_name)\n",
    "         \n",
    "    def print_customer_name(self):\n",
    "        print('This account belongs to', self.customer_name)\n",
    "        \n",
    "    # public method to access private attribute\n",
    "    def get_balance(self):\n",
    "        return self.__balance\n",
    "    \n",
    "    ### Your code here..."
   ]
  },
  {
   "cell_type": "code",
   "execution_count": null,
   "id": "074341f1-e1ce-4e97-b340-dca401befb27",
   "metadata": {},
   "outputs": [],
   "source": [
    "# %load ../src/_solutions/bank_account_v3.py"
   ]
  },
  {
   "cell_type": "code",
   "execution_count": null,
   "id": "c5b97c02-a2bf-4224-8bdc-56247e81dfe7",
   "metadata": {},
   "outputs": [],
   "source": [
    "bank = BankAccount('Sparkasse', 'Lisa', '7777')"
   ]
  },
  {
   "cell_type": "code",
   "execution_count": null,
   "id": "1a961e31-100e-4f57-9f22-34590920d237",
   "metadata": {},
   "outputs": [],
   "source": [
    "bank.deposit(400)"
   ]
  },
  {
   "cell_type": "code",
   "execution_count": null,
   "id": "55169c4d-fcb3-485a-9191-54cb7eb9c298",
   "metadata": {},
   "outputs": [],
   "source": [
    "bank.get_balance()"
   ]
  },
  {
   "cell_type": "code",
   "execution_count": null,
   "id": "45afd952-ba6b-421c-beb2-a740d9cd4b4a",
   "metadata": {},
   "outputs": [],
   "source": [
    "bank.withdraw(100)"
   ]
  },
  {
   "cell_type": "code",
   "execution_count": null,
   "id": "19db3008-f574-4f51-a885-9890ee15879d",
   "metadata": {},
   "outputs": [],
   "source": [
    "bank.get_balance()"
   ]
  },
  {
   "cell_type": "markdown",
   "id": "4ffa6ee8-354f-408f-95e7-561a3b687f66",
   "metadata": {},
   "source": [
    "## Inheritance\n",
    "\n",
    "A child class can inherit from a parent class, inheriting all attributes and methods from the specified parent function.\n",
    "\n",
    "Syntax: \n",
    "```python\n",
    "class ChildClass(ParentClass):\n",
    "    pass\n",
    "```\n",
    "\n",
    "You can then extend the child class or even overwrite some of it's functionality. \n",
    "\n",
    "You can call a method or attribute of the parent class using the `super()` keyword."
   ]
  },
  {
   "cell_type": "code",
   "execution_count": null,
   "id": "a09040cf-e7e3-4299-b74c-36d63eceb9c9",
   "metadata": {},
   "outputs": [],
   "source": [
    "class SparkassenSpecialAccount(BankAccount):\n",
    "\n",
    "    def __init__(self, customer_name, pin):\n",
    "        super().__init__(bank_name = \"Sparkasse\", customer_name = customer_name, pin = pin)\n",
    "        self._BankAccount__balance = 500"
   ]
  },
  {
   "cell_type": "code",
   "execution_count": null,
   "id": "fac931ac-097b-4493-ae6c-97c8e5e41000",
   "metadata": {},
   "outputs": [],
   "source": [
    "sparkasse = SparkassenSpecialAccount(\"Aleks\", \"1234\")"
   ]
  },
  {
   "cell_type": "code",
   "execution_count": null,
   "id": "fe9fe964-53ac-4a78-9816-fee98507123c",
   "metadata": {},
   "outputs": [],
   "source": [
    "print(sparkasse)"
   ]
  },
  {
   "cell_type": "code",
   "execution_count": null,
   "id": "a1c73209-5799-41e8-a6cf-c3c63898ae5f",
   "metadata": {},
   "outputs": [],
   "source": [
    "sparkasse.get_balance()"
   ]
  },
  {
   "cell_type": "code",
   "execution_count": null,
   "id": "49cf4ba0-abb6-42a8-86a8-d8a660c1a79b",
   "metadata": {},
   "outputs": [],
   "source": [
    "sparkasse.deposit(1000)"
   ]
  },
  {
   "cell_type": "code",
   "execution_count": null,
   "id": "5857ed3c-c36a-48b3-b3d9-51572c77c4ff",
   "metadata": {},
   "outputs": [],
   "source": [
    "sparkasse.get_balance()"
   ]
  },
  {
   "cell_type": "markdown",
   "id": "4efeee4f-b22f-49ac-944b-aed437e1d674",
   "metadata": {},
   "source": [
    "## Challenge: Let's try out a new IDE\n",
    "Press the blue + Button in the top left corner and open a new Terminal session.\n",
    "\n",
    "Type in: `spyder` \n",
    "\n",
    "## Challenge: Implement the game 'Escape Room'"
   ]
  },
  {
   "cell_type": "markdown",
   "id": "aced1a25-2259-450e-afc5-b311eeab11f7",
   "metadata": {},
   "source": [
    "Aufgabe: Mit Klassen ein Textadventure programmieren. Spieler wird mit\n",
    "\n",
    "\n",
    "player = Escape_Room()\n",
    "\n",
    "instanziert.\n",
    "\n",
    "Es gibt 2 Räume. Ein Raum enthält einen Schlüssel und eine Türe. Wenn der Spieler die Tür mit dem Schlüssel aufsperrt ist das Spiel gewonnen.\n",
    "\n",
    "Spielerinstanz hat folgende Methoden:\n",
    "\n",
    "\n",
    "player.walk() ... bewegt von Raum zu Raum\n",
    "\n",
    "player.look() ... gibt Beschreibung des Raums\n",
    "\n",
    "player.take() ... Objekt(Schlüssel) aufnehmen\n",
    "\n",
    "player.open() ... öffnet Türe falls Spieler den Schlüssel besitzt\n",
    "\n",
    "class Escape_Room:\n",
    "    def __init__(self):\n",
    "        \n",
    "        self.room1 = 'You see an empty room. There´s a door to the North.'\n",
    "        self.room1_id = True\n",
    "...\n",
    "\n",
    "\n",
    "\n"
   ]
  },
  {
   "cell_type": "code",
   "execution_count": null,
   "id": "5e314eee-c378-4f2c-98c0-0377d896b66f",
   "metadata": {},
   "outputs": [],
   "source": [
    "#Your Code here ..."
   ]
  }
 ],
 "metadata": {
  "kernelspec": {
   "display_name": "Python 3 (ipykernel)",
   "language": "python",
   "name": "python3"
  },
  "language_info": {
   "codemirror_mode": {
    "name": "ipython",
    "version": 3
   },
   "file_extension": ".py",
   "mimetype": "text/x-python",
   "name": "python",
   "nbconvert_exporter": "python",
   "pygments_lexer": "ipython3",
   "version": "3.10.6"
  }
 },
 "nbformat": 4,
 "nbformat_minor": 5
}
