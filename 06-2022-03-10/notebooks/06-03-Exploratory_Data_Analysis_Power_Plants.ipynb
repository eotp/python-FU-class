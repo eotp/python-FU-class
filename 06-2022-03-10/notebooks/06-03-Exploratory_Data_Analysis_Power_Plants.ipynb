{
 "cells": [
  {
   "cell_type": "markdown",
   "metadata": {},
   "source": [
    "# Exploratory Data Analysis in Action - EDA\n",
    "\n"
   ]
  },
  {
   "cell_type": "markdown",
   "metadata": {},
   "source": [
    "In this section we explore the [_Power plants data set_](https://www.kaggle.com/ramjasmaurya/global-powerplants) and apply techniques referred to as __Exploratory Data Analysis__:"
   ]
  },
  {
   "cell_type": "markdown",
   "metadata": {},
   "source": [
    "<img src=\"./_img/phd053104s.gif\">\n",
    "\n",
    "Source: [PHD Comics](http://phdcomics.com/comics/archive.php?comicid=462)"
   ]
  },
  {
   "cell_type": "markdown",
   "metadata": {},
   "source": [
    "## Task\n",
    "> ### Conduct an exploratory data analysis into the `powerplants` data set. Answer the research questions as stated below and feel fry to add your own quetions of interest. Conduct the analysis using jupyter notebooks and prepare a hmtl based report, including, text, figures and code.\n",
    "\n",
    "- You will be assigned to groups of 3-4 people.\n",
    "- Each group will conduct an analysis for a set of questions. \n",
    "    - Please answer all questions from the set assigned to you and **add at least one further question yourself**.\n",
    "    - _Feel free to add further questions_\n",
    "- Prepare a nicely formatted presentation by exporting your executed Notebooks, e.g. with `jupyterbook`.\n",
    "    - Please `zip` all the files together. \n",
    "    - Make sure all files are included! \n",
    "        - _a good test would be to unzip all files in any different directory and checking if everything is displayed correctly_\n",
    "        - E.g. by only including the exported `.html` file images will be missing. So make sure all folders needed for correct display of the html are included in the zip\n",
    "    - In case the zipped archive is too big to send via e-mail, feel free to upload it to [box.fu-berlin.de](https://box.fu-berlin.de) and share the link with us\n",
    "- Hand in your solutions by **29.03.2022** @ `krois@zedat.fu-berlin.de` and `patric.hausmann@fu-berlin.de` \n",
    "\n",
    "- All groups will present their solutions in a digital format on webex to the class on **31.03.2022** with ca. 30 min of time!"
   ]
  },
  {
   "cell_type": "markdown",
   "metadata": {},
   "source": [
    "## Define research questions "
   ]
  },
  {
   "cell_type": "markdown",
   "metadata": {
    "tags": []
   },
   "source": [
    "We perform a EDA guided by research questions which are of particular interest for us.\n",
    "\n",
    "Here are some suggestions (_feel free to add some more questions to the list_):\n",
    "\n",
    "***\n",
    "__@Energetic production__\n",
    "\n",
    "#### [Exploratory Data Analysis in Action - EDA: Energy production](06-03a-EDA_Energetic_production.ipynb)\n",
    "\n",
    "- Q1: How much energy is produced on each continent?\n",
    "- Q2: Looking at each continent: which country produces the most energy on their continent?\n",
    "- Q3: Which type of ressource is most used for energy production? Does this change in time?\n",
    "- Q4: Q4: Which organisation owns the most power plants in the world? How much energy is produced by these power plants? How ist the energy mixture based on the energy source type?\n",
    "\n",
    "\n",
    "\n",
    "***\n",
    "__@Powerplants__\n",
    "\n",
    "#### [Exploratory Data Analysis in Action - EDA: Powerplants](06-03b-EDA_Powerplants.ipynb)\n",
    "\n",
    "- Q1: How many power plants are located in Europe? Which countries have the most power plants?\n",
    "- Q2: Which country in the world has the most/the least power plants?\n",
    "- Q3: Looking at a region of your choice: what could you say about the distribution of power plants and their spacial und temporal variability?\n",
    "\n",
    "***\n",
    "__@Energy Share__\n",
    "\n",
    "#### [Exploratory Data Analysis in Action - EDA: Energy share](06-03c-Energy_share.ipynb)\n",
    "\n",
    "- Q1: Which countries cover the most of their energy share by solar energy?\n",
    "- Q2: Which are the top solar energy producing countries in the world? Is there a correlation between the geographic position and the production of solar energy?\n",
    "- Q3: Sort the countries by the type of energy they produce. Think of grouping together sources of clean energy and fossil energy. Provide a Ranking.\n",
    "- Q4: Which countries produce the most green energy?\n",
    "- Q5: Which countries in Europe have the highest number of power plants that produce clean energy? \n",
    "- Q6: How much Energy is produced in Europe by energy source type?"
   ]
  },
  {
   "cell_type": "markdown",
   "metadata": {},
   "source": [
    "***"
   ]
  }
 ],
 "metadata": {
  "hide_input": false,
  "kernelspec": {
   "display_name": "Python 3 (ipykernel)",
   "language": "python",
   "name": "python3"
  },
  "language_info": {
   "codemirror_mode": {
    "name": "ipython",
    "version": 3
   },
   "file_extension": ".py",
   "mimetype": "text/x-python",
   "name": "python",
   "nbconvert_exporter": "python",
   "pygments_lexer": "ipython3",
   "version": "3.7.12"
  }
 },
 "nbformat": 4,
 "nbformat_minor": 4
}
