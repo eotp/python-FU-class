{
 "cells": [
  {
   "cell_type": "markdown",
   "metadata": {
    "slideshow": {
     "slide_type": "slide"
    }
   },
   "source": [
    "# Exploratory Data Analysis"
   ]
  },
  {
   "cell_type": "markdown",
   "metadata": {
    "slideshow": {
     "slide_type": "fragment"
    }
   },
   "source": [
    "In statistics, **exploratory data analysis (EDA)** is an approach to analyzing data sets to summarize their main characteristics, often with visual methods ([Wikipedia](https://en.wikipedia.org/wiki/Exploratory_data_analysis))."
   ]
  },
  {
   "cell_type": "markdown",
   "metadata": {
    "slideshow": {
     "slide_type": "slide"
    }
   },
   "source": [
    "## The origins of EDA\n",
    "\n",
    "\n",
    "[John Wilder Tukey](https://en.wikipedia.org/wiki/John_Tukey) (1915 – 2000)\n",
    "\n",
    "\n",
    "\n",
    "<img src=\"./_img/EDA_Tukey_77.png\"  style=\"height: 350px;\"> \n",
    "\n",
    "Tukey, John W. (1977) _Exploratory data analysis_. "
   ]
  },
  {
   "cell_type": "markdown",
   "metadata": {
    "slideshow": {
     "slide_type": "subslide"
    }
   },
   "source": [
    "## Minard's Map\n",
    "\n",
    "\n",
    "[Charles Joseph Minard](https://en.wikipedia.org/wiki/Charles_Joseph_Minard) (1781 – 1870)\n",
    "\n",
    "<img src=\"./_img/minards_map.png\"  style=\"height: 400px;\"> \n",
    "\n"
   ]
  },
  {
   "cell_type": "markdown",
   "metadata": {
    "slideshow": {
     "slide_type": "subslide"
    }
   },
   "source": [
    "## Anscombe's quartet\n",
    "\n",
    "[Francis John Anscombe](https://en.wikipedia.org/wiki/Frank_Anscombe) (1918 – 2001)\n",
    "\n",
    "\n",
    "#### *Based on descriptive statistics such as mean, variance, and regression coefficients, among others others, these 4 data sets are the same!!*   \n",
    "\n",
    "<p><p> \n",
    "<font size=25>\n",
    "<table style=\"text-align: center; margin-left:auto; \n",
    "              margin-right:auto; font-size: 60%; font-family : courier\" border=\"1\", width=\"800px\", >\n",
    "<tr>\n",
    "<th colspan=\"2\">I</th>\n",
    "<th colspan=\"2\">II</th>\n",
    "<th colspan=\"2\">III</th>\n",
    "<th colspan=\"2\">IV</th>\n",
    "</tr>\n",
    "<tr>\n",
    "<td>x</td>\n",
    "<td>y</td>\n",
    "<td>x</td>\n",
    "<td>y</td>\n",
    "<td>x</td>\n",
    "<td>y</td>\n",
    "<td>x</td>\n",
    "<td>y</td>\n",
    "</tr>\n",
    "<tr>\n",
    "<td>10.0</td>\n",
    "<td>8.04</td>\n",
    "<td>10.0</td>\n",
    "<td>9.14</td>\n",
    "<td>10.0</td>\n",
    "<td>7.46</td>\n",
    "<td>8.0</td>\n",
    "<td>6.58</td>\n",
    "</tr>\n",
    "<tr>\n",
    "<td>8.0</td>\n",
    "<td>6.95</td>\n",
    "<td>8.0</td>\n",
    "<td>8.14</td>\n",
    "<td>8.0</td>\n",
    "<td>6.77</td>\n",
    "<td>8.0</td>\n",
    "<td>5.76</td>\n",
    "</tr>\n",
    "<tr>\n",
    "<td>13.0</td>\n",
    "<td>7.58</td>\n",
    "<td>13.0</td>\n",
    "<td>8.74</td>\n",
    "<td>13.0</td>\n",
    "<td>12.74</td>\n",
    "<td>8.0</td>\n",
    "<td>7.71</td>\n",
    "</tr>\n",
    "<tr>\n",
    "<td>9.0</td>\n",
    "<td>8.81</td>\n",
    "<td>9.0</td>\n",
    "<td>8.77</td>\n",
    "<td>9.0</td>\n",
    "<td>7.11</td>\n",
    "<td>8.0</td>\n",
    "<td>8.84</td>\n",
    "</tr>\n",
    "<tr>\n",
    "<td>11.0</td>\n",
    "<td>8.33</td>\n",
    "<td>11.0</td>\n",
    "<td>9.26</td>\n",
    "<td>11.0</td>\n",
    "<td>7.81</td>\n",
    "<td>8.0</td>\n",
    "<td>8.47</td>\n",
    "</tr>\n",
    "<tr>\n",
    "<td>14.0</td>\n",
    "<td>9.96</td>\n",
    "<td>14.0</td>\n",
    "<td>8.10</td>\n",
    "<td>14.0</td>\n",
    "<td>8.84</td>\n",
    "<td>8.0</td>\n",
    "<td>7.04</td>\n",
    "</tr>\n",
    "<tr>\n",
    "<td>6.0</td>\n",
    "<td>7.24</td>\n",
    "<td>6.0</td>\n",
    "<td>6.13</td>\n",
    "<td>6.0</td>\n",
    "<td>6.08</td>\n",
    "<td>8.0</td>\n",
    "<td>5.25</td>\n",
    "</tr>\n",
    "<tr>\n",
    "<td>4.0</td>\n",
    "<td>4.26</td>\n",
    "<td>4.0</td>\n",
    "<td>3.10</td>\n",
    "<td>4.0</td>\n",
    "<td>5.39</td>\n",
    "<td>19.0</td>\n",
    "<td>12.50</td>\n",
    "</tr>\n",
    "<tr>\n",
    "<td>12.0</td>\n",
    "<td>10.84</td>\n",
    "<td>12.0</td>\n",
    "<td>9.13</td>\n",
    "<td>12.0</td>\n",
    "<td>8.15</td>\n",
    "<td>8.0</td>\n",
    "<td>5.56</td>\n",
    "</tr>\n",
    "<tr>\n",
    "<td>7.0</td>\n",
    "<td>4.82</td>\n",
    "<td>7.0</td>\n",
    "<td>7.26</td>\n",
    "<td>7.0</td>\n",
    "<td>6.42</td>\n",
    "<td>8.0</td>\n",
    "<td>7.91</td>\n",
    "</tr>\n",
    "<tr>\n",
    "<td>5.0</td>\n",
    "<td>5.68</td>\n",
    "<td>5.0</td>\n",
    "<td>4.74</td>\n",
    "<td>5.0</td>\n",
    "<td>5.73</td>\n",
    "<td>8.0</td>\n",
    "<td>6.89</td>\n",
    "</tr>\n",
    "</table>\n",
    "</font>"
   ]
  },
  {
   "cell_type": "markdown",
   "metadata": {
    "slideshow": {
     "slide_type": "subslide"
    }
   },
   "source": [
    "### Plotting of the data reveals the structure of the data set\n",
    "\n",
    "\n",
    "\n",
    "<img src=\"./_img/anscombes_quartet.png\"  style=\"height: 700px;\"> "
   ]
  },
  {
   "cell_type": "markdown",
   "metadata": {
    "slideshow": {
     "slide_type": "slide"
    }
   },
   "source": [
    "## Let's  code!\n",
    "***\n"
   ]
  }
 ],
 "metadata": {
  "celltoolbar": "Slideshow",
  "kernelspec": {
   "display_name": "Python 3",
   "language": "python",
   "name": "python3"
  },
  "language_info": {
   "codemirror_mode": {
    "name": "ipython",
    "version": 3
   },
   "file_extension": ".py",
   "mimetype": "text/x-python",
   "name": "python",
   "nbconvert_exporter": "python",
   "pygments_lexer": "ipython3",
   "version": "3.7.10"
  },
  "livereveal": {
   "scroll": true,
   "start_slideshow_at": "selected"
  }
 },
 "nbformat": 4,
 "nbformat_minor": 4
}
