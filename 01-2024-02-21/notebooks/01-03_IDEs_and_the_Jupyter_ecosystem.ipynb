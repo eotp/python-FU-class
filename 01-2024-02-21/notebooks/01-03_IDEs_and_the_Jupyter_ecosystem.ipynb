{
 "cells": [
  {
   "cell_type": "markdown",
   "metadata": {
    "slideshow": {
     "slide_type": "slide"
    }
   },
   "source": [
    "# IDE's and the Jupyter ecosystem"
   ]
  },
  {
   "cell_type": "markdown",
   "metadata": {
    "slideshow": {
     "slide_type": "subslide"
    }
   },
   "source": [
    "## Python\n",
    "\n",
    "\n",
    "<img src=\"./_img/2000px-Python-logo-notext.png\"  width=\"100px\">\n",
    "\n",
    "[Python]() is an __interpreted high-level programming language__ for general-purpose programming. Created by [Guido van Rossum]() and first released in 1991, Python has a design philosophy that emphasizes code readability, notably using significant whitespace. \n",
    "\n",
    "Python features a dynamic type system, an automatic memory management has a large and comprehensive standard library. Python is managed by the non-profit [Python Software Foundation]().\n"
   ]
  },
  {
   "cell_type": "markdown",
   "metadata": {
    "slideshow": {
     "slide_type": "subslide"
    }
   },
   "source": [
    "#### [The Zen of Python](https://www.python.org/dev/peps/pep-0020/)\n",
    "\n",
    "    Beautiful is better than ugly.\n",
    "    Explicit is better than implicit.\n",
    "    Simple is better than complex.\n",
    "    Complex is better than complicated.\n",
    "    Flat is better than nested.\n",
    "    Sparse is better than dense.\n",
    "    Readability counts.\n",
    "    Special cases aren't special enough to break the rules.\n",
    "    Although practicality beats purity.\n",
    "    Errors should never pass silently.\n",
    "    Unless explicitly silenced.\n",
    "    In the face of ambiguity, refuse the temptation to guess.\n",
    "    There should be one-- and preferably only one --obvious way to do it.\n",
    "    Although that way may not be obvious at first unless you're Dutch.\n",
    "    Now is better than never.\n",
    "    Although never is often better than *right* now.\n",
    "    If the implementation is hard to explain, it's a bad idea.\n",
    "    If the implementation is easy to explain, it may be a good idea.\n",
    "    Namespaces are one honking great idea -- let's do more of those!"
   ]
  },
  {
   "cell_type": "markdown",
   "metadata": {
    "slideshow": {
     "slide_type": "slide"
    }
   },
   "source": [
    "## Development environments\n",
    "\n",
    "Most Python implementations include a __[read–eval–print loop (REPL)](https://en.wikipedia.org/wiki/Read%E2%80%93eval%E2%80%93print_loop)__, permitting them to function as a command line interpreter for which the user enters statements sequentially and receives results immediately.\n",
    "\n",
    "\n",
    "Other shells, including __[IDLE](https://en.wikipedia.org/wiki/IDLE)__ and __[IPython](https://ipython.org/)__, add further abilities such as auto-completion, session state retention and syntax highlighting.\n",
    "\n",
    "\n",
    "As well as standard desktop integrated development environments (e.g. __[Spyder](https://www.spyder-ide.org/)__, __[PyCharm](https://www.jetbrains.com/pycharm/)__) and web browser-based IDEs (e.g. __[Jupyter Notebook](http://jupyter.org/)__)"
   ]
  },
  {
   "cell_type": "markdown",
   "metadata": {
    "slideshow": {
     "slide_type": "subslide"
    }
   },
   "source": [
    "### REPL and IDLE\n",
    "\n",
    "> In order to start the the REPL type `python` into your shell. \n",
    "\n",
    "\n",
    "> In order to start the the [IDLE under the Anaconda distribution](https://docs.anaconda.com/anaconda/user-guide/tasks/integration/idle/) you have to type the full path such as `/Users/USERNAME/miniconda3/bin/idle3.6` (be aware to reference the Anaconda distribution and the Python version you are actually using).\n"
   ]
  },
  {
   "cell_type": "markdown",
   "metadata": {
    "slideshow": {
     "slide_type": "subslide"
    }
   },
   "source": [
    "### IPython\n",
    "\n",
    "<img src=\"./_img/IPy_header.png\"  width=\"500px\">\n",
    "\n",
    "\n",
    "[IPython](https://ipython.org/) provides a rich toolkit to help you make the most of using Python interactively. \n",
    "\n",
    "Its main components are:\n",
    "\n",
    "* A powerful interactive Python shell\n",
    "\n",
    "> In order to start the interactive Python shell type `ipython` into your shell.\n",
    "\n",
    "* A Jupyter kernel to work with Python code in Jupyter notebooks and other interactive frontends.\n"
   ]
  },
  {
   "cell_type": "markdown",
   "metadata": {
    "slideshow": {
     "slide_type": "subslide"
    }
   },
   "source": [
    "### Interactive shell vs. command line scripts\n",
    "\n",
    "In the interactive shell the Python interpreter displays the results after each command. However, if the computational task is getting more complex it is recommeded to store the series of commands commands in a text file with the extension `.py`.\n",
    "\n",
    "Then we can have the Python interpreter execute our script files by calling them from the command line. In this case we'll be running Python and providing the name of the script as an argument. The simplest way to execute a script is to provide the script file name as a parameter to the python interpreter. In this style, we explicitly name both the interpreter and the input script. Here's an example.\n",
    "\n",
    "    python my_script.py\n",
    "\n",
    "This will provide the `my_script.py` file to the Python interpreter for execution.\n",
    "\n"
   ]
  },
  {
   "cell_type": "markdown",
   "metadata": {
    "slideshow": {
     "slide_type": "slide"
    }
   },
   "source": [
    "## Integrated Development Environments\n",
    "\n",
    "An __[integrated development environment (IDE)](https://en.wikipedia.org/wiki/Integrated_development_environment)__ is a software application that provides comprehensive facilities to computer programmers for software development. An IDE normally consists of a __source code editor__, __build automation tools__, and a __debugger__. Most modern IDEs have intelligent code completion. Some IDEs  contain a compiler, an interpreter, or both.\n",
    "\n",
    "For Python in particular there exist [numerous open source as well as proprietary IDEs](https://en.wikipedia.org/wiki/Comparison_of_integrated_development_environments#Python). A very comprehensive cross-platform IDE for Python is [PyCharm](https://www.jetbrains.com/pycharm/). It is developed by the Czech company JetBrains and provides code analysis, a graphical debugger, an integrated unit tester, integration with version control systems, supports web development with [Django](https://www.djangoproject.com/) and many additional extra features."
   ]
  },
  {
   "cell_type": "markdown",
   "metadata": {
    "slideshow": {
     "slide_type": "subslide"
    }
   },
   "source": [
    "### Spyder\n",
    "\n",
    "\n",
    "<img src=\"./_img/Spyder_logo.png\"  width=\"150px\">\n",
    "\n",
    "\n",
    "Another recommendable IDE is [Spyder](https://www.spyder-ide.org/). Spyder ships with the Anaconda distribution and is a powerful scientific environment written in Python, for Python, and __designed by and for scientists, engineers and data analysts__. It offers a unique combination of the advanced editing, analysis, debugging, and profiling functionality of a comprehensive development tool with the data exploration, interactive execution, deep inspection, and beautiful visualization capabilities of a scientific package.\n",
    "\n",
    "\n",
    "> In order to start the Spyder type `spyder` into your shell (make sure that you actually have installed spyder beforehand)."
   ]
  },
  {
   "cell_type": "markdown",
   "metadata": {
    "slideshow": {
     "slide_type": "subslide"
    }
   },
   "source": [
    "## Jupyter\n",
    "\n",
    "<img src=\"./_img/jupyter.png\"  width=\"150px\">\n",
    "\n",
    "\n",
    "[Project Jupyter](https://jupyter.org/) is a non-profit, open-source project, born out of the [IPython Project](https://ipython.org/) in 2014 as it evolved to support interactive data science and scientific computing across all programming languages. \n"
   ]
  },
  {
   "cell_type": "markdown",
   "metadata": {
    "slideshow": {
     "slide_type": "subslide"
    }
   },
   "source": [
    "### Jupyter notebook\n",
    "\n",
    "The Jupyter Notebook is an open-source web application that allows you to create and share documents that contain live code, equations, visualizations and narrative text. Uses include: data cleaning and transformation, numerical simulation, statistical modeling, data visualization, machine learning, and much more.\n",
    "\n",
    "> In order to start the Jupyter notebook server `jupyter notebook` into your shell (make sure that you actually have installed jupyter beforehand)."
   ]
  },
  {
   "cell_type": "markdown",
   "metadata": {
    "slideshow": {
     "slide_type": "subslide"
    }
   },
   "source": [
    "### JupyterLab\n",
    "\n",
    "\n",
    "<img src=\"./_img/jupyterlab.png\"  width=\"125px\">\n",
    "\n",
    "[JupyterLab](https://github.com/jupyterlab/jupyterlab) is an an extensible environment for interactive and reproducible computing, based on the Jupyter Notebook and Architecture. It is the next-generation user interface for Project Jupyter. It offers all the familiar building blocks of the classic Jupyter Notebook (notebook, terminal, text editor, file browser, rich outputs, etc.) in a flexible and powerful user interface. Eventually, JupyterLab will replace the classic Jupyter Notebook.\n",
    "\n",
    "\n",
    "> In order to start Jupyter lab `jupyter lab` into your shell (make sure that you actually have installed jupyter lab beforehand)."
   ]
  },
  {
   "cell_type": "markdown",
   "metadata": {},
   "source": [
    "***"
   ]
  }
 ],
 "metadata": {
  "celltoolbar": "Slideshow",
  "kernelspec": {
   "display_name": "Python 3",
   "language": "python",
   "name": "python3"
  },
  "language_info": {
   "codemirror_mode": {
    "name": "ipython",
    "version": 3
   },
   "file_extension": ".py",
   "mimetype": "text/x-python",
   "name": "python",
   "nbconvert_exporter": "python",
   "pygments_lexer": "ipython3",
   "version": "3.8.6"
  },
  "livereveal": {
   "scroll": true,
   "start_slideshow_at": "selected"
  }
 },
 "nbformat": 4,
 "nbformat_minor": 4
}
