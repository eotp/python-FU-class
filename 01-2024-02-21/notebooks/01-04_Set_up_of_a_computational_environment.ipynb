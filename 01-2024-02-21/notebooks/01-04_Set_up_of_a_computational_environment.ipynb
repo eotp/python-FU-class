{
 "cells": [
  {
   "cell_type": "markdown",
   "metadata": {
    "slideshow": {
     "slide_type": "slide"
    }
   },
   "source": [
    "# Set up of a computational environment from scratch"
   ]
  },
  {
   "cell_type": "markdown",
   "metadata": {
    "slideshow": {
     "slide_type": "subslide"
    }
   },
   "source": [
    "## Python and the package manager Conda\n",
    "\n",
    "We use Python throughout the class. We further use some additional packages, and installing them individually can be a bit difficult. Hence, we recommend to install [Miniconda](https://conda.io/docs/), which comes with Python (please use 3.x) and the package manager Conda.      \n",
    "(_Note that Conda is a part of the [Anaconda](https://www.anaconda.com/download/) distribution. If you are already using the Anaconda distribution you may skip installing Miniconda!_)\n",
    "\n",
    "Download Miniconda [here](https://conda.io/miniconda.html) and follow the installation instructions. \n",
    "\n",
    "It is recommended to add the [conda-forge channel](https://conda-forge.org/) to your conda channels:\n",
    "\n",
    "    conda config --add channels conda-forge \n",
    "  "
   ]
  },
  {
   "cell_type": "markdown",
   "metadata": {
    "slideshow": {
     "slide_type": "subslide"
    }
   },
   "source": [
    "## Creating a conda environment from scratch\n",
    "\n",
    "Once you have installed the Conda package manager, we create a virtual environment by installing Python and all other packages of interest.\n",
    "\n",
    "Move to your working directory and type one of the following commands:\n",
    "\n",
    "\n",
    "    conda create -n fupy python=3.8  \n"
   ]
  },
  {
   "cell_type": "markdown",
   "metadata": {},
   "source": [
    "## Creating a conda environment from an `environment.yml` file\n",
    "\n",
    "Once you have installed the Conda package manager, you may create a virtual environment by instructions within a file (e.g. `environment.yml`). This allows you to recreate an existing environment on anoter machine. .\n",
    "\n",
    "Move to your working directory (make sure the `environment.yml` is available) and type one of the following commands:\n",
    "\n",
    "    conda env create -f environment.yml\n",
    "\n",
    "into the command line.\n"
   ]
  },
  {
   "cell_type": "markdown",
   "metadata": {
    "slideshow": {
     "slide_type": "subslide"
    }
   },
   "source": [
    "\n",
    "## Fire up the environment\n",
    "\n",
    "First, we **activate our recently created environment** by executing one of the following commands:\n",
    "\n",
    "@LINUX & MAC OS\n",
    "\n",
    "    conda activate fupy\n",
    "    \n",
    "@WINDOS    \n",
    "\n",
    "    activate fupy\n",
    "   \n",
    "\n"
   ]
  },
  {
   "cell_type": "markdown",
   "metadata": {
    "slideshow": {
     "slide_type": "subslide"
    }
   },
   "source": [
    "## Downloading additional modules and libraries \n",
    "\n",
    "In order to download additional libraries from the [Anaconda package repository](https://anaconda.org/anaconda/repo) or the [conda-forge](https://conda-forge.org/) channel you type \n",
    "\n",
    "    conda install MY_MODULE_OF_CHOICE\n",
    "\n",
    "into the shell.\n",
    "\n",
    "Further you may use the Python module [pip](https://pypi.org/project/pip/) for downloading additional packages from [PyPi](https://pypi.org/), the Python Package Index.\n",
    "\n",
    "> Packaging in Python is still not yet completety free of pain, hence it is recommended to stay - if possible - within one realm, when you start to build more complex and sophisticated software."
   ]
  },
  {
   "cell_type": "markdown",
   "metadata": {},
   "source": [
    "***"
   ]
  }
 ],
 "metadata": {
  "celltoolbar": "Slideshow",
  "kernelspec": {
   "display_name": "Python 3",
   "language": "python",
   "name": "python3"
  },
  "language_info": {
   "codemirror_mode": {
    "name": "ipython",
    "version": 3
   },
   "file_extension": ".py",
   "mimetype": "text/x-python",
   "name": "python",
   "nbconvert_exporter": "python",
   "pygments_lexer": "ipython3",
   "version": "3.7.6"
  },
  "livereveal": {
   "scroll": true,
   "start_slideshow_at": "selected"
  }
 },
 "nbformat": 4,
 "nbformat_minor": 4
}
