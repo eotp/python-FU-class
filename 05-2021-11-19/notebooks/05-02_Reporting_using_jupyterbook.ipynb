{
 "cells": [
  {
   "cell_type": "markdown",
   "id": "de4630bd-ccf0-467b-80e7-b1976a56ce04",
   "metadata": {},
   "source": [
    "# Reporting using Jupyter Book"
   ]
  },
  {
   "cell_type": "markdown",
   "id": "986c6c38-ef44-4d03-8aac-8d0f709ea6b0",
   "metadata": {},
   "source": [
    "[Jupyter Book](https://jupyterbook.org/intro.html) is an open source project for building beautiful, publication-quality books and documents from computational material.\n",
    "\n",
    "In our case it will help us to export our Jupyter Notebooks into nice to look at HTML files."
   ]
  },
  {
   "cell_type": "markdown",
   "id": "98f41248-7a5e-49b1-872f-0e4220e8bd25",
   "metadata": {},
   "source": [
    "## Installation\n",
    "- If you're running this notebook from the environment of todays lesson `jupyter-book` should already be installed.\n",
    "\n",
    "- To install it with conda use the following command to install it from the `conda-forge` channel\n",
    "\n",
    "```bash\n",
    "conda install -c conda-forge jupyter-book\n",
    "```"
   ]
  },
  {
   "cell_type": "markdown",
   "id": "caad9004-f980-48a4-a5be-c27417db71d6",
   "metadata": {},
   "source": [
    "## Initialize a template"
   ]
  },
  {
   "cell_type": "markdown",
   "id": "a811f0c8-59ae-4ee7-a91e-64b4d66a8129",
   "metadata": {},
   "source": [
    "- Jupyter Book relies on certain files (mostly for configuration). In order to create them, use the `jupyter-book create <template_path>` command.\n",
    "\n",
    "- To keep things tidy lets use the `reports` directory.\n",
    "\n",
    "> Hint: We can execute terminal commands directly inside our jupyter notebook by starting the line with `!`"
   ]
  },
  {
   "cell_type": "code",
   "execution_count": null,
   "id": "8b51993e-479e-4121-9c8e-8959811b3097",
   "metadata": {},
   "outputs": [],
   "source": [
    "!jupyter-book create ../reports/jupyterbook"
   ]
  },
  {
   "cell_type": "markdown",
   "id": "912b43de-4741-4ceb-be79-27090d5f64f9",
   "metadata": {},
   "source": [
    "- Before we take a look at the generated files, lets copy over the jupyter notebooks we want to include in our HTML report\n",
    "\n",
    "## Task:\n",
    "- Copy `05-00_Processing_of_Tabular_Data.ipynb` and `05-01_Temperature_anomalies.ipynb` into `../reports/jupyterbook`\n",
    "\n",
    "> Hint: you don't have to leave the Jupyter Universe to do that. Just open the explorer on the left (the folder icon) and use right-click -> copy.\n",
    "\n",
    "- Now let us take a look at the files"
   ]
  },
  {
   "cell_type": "markdown",
   "id": "0fd2d1e1-b2ed-4419-a335-56cf98fbdbc2",
   "metadata": {},
   "source": [
    "## File inspection\n",
    "### We need to change the content of two files for everything to run smoothly"
   ]
  },
  {
   "cell_type": "markdown",
   "id": "0a3b4e42-41aa-4b2f-aff7-3688be9616fd",
   "metadata": {},
   "source": [
    "### _config.yml\n",
    "\n",
    "- Stores configuration parameters such as the Title, Author and execution behaviour\n",
    "\n",
    "- You can change `title` and `author` to whatever you like\n",
    "- The **only parameter we need to change is set `execute_notebooks` to `\"off\"`**\n",
    "    - This ensures `jupyter-book` doesn't rerun our notebooks but takes them as they are (with the current outputs)\n",
    "- The remaining fields can be removed\n",
    "\n",
    "Sample file:\n",
    "\n",
    "```yml\n",
    "# _config.yml\n",
    "# Book settings\n",
    "# Learn more at https://jupyterbook.org/customize/config.html\n",
    "\n",
    "title: Your Title\n",
    "author: Your Name\n",
    "logo: logo.png\n",
    "\n",
    "# Force re-execution of notebooks on each build.\n",
    "# See https://jupyterbook.org/content/execute.html\n",
    "execute:\n",
    "  execute_notebooks: 'off'\n",
    "```"
   ]
  },
  {
   "cell_type": "markdown",
   "id": "6c52de9a-cfa3-4b08-b85a-bf18b13bad8f",
   "metadata": {},
   "source": [
    "### _toc.yml\n",
    "\n",
    "- Table of Content file\n",
    "\n",
    "- Specifies which files to render into HTML\n",
    "\n",
    "- Make sure you see the jupyter notebook files `05-00_Processing_of_Tabular_Data.ipynb` and `05-01_Temperature_anomalies.ipynb` in `reports/jupyterbook`\n",
    "\n",
    "- Include both of these files in the Table of Contents\n",
    "\n",
    "Sample file:\n",
    "\n",
    "```yml\n",
    "# Table of content\n",
    "# Learn more at https://jupyterbook.org/customize/toc.html\n",
    "#\n",
    "- file: 05-00_Processing_of_Tabular_Data.ipynb\n",
    "- file: 05-01_Temperature_anomalies.ipynb\n",
    "```"
   ]
  },
  {
   "cell_type": "markdown",
   "id": "73449b69-47ea-436b-8bd3-c22d207f79a8",
   "metadata": {},
   "source": [
    "### Remaining files:\n",
    "\n",
    "- `logo.png` will be displayed inside the HTML\n",
    "- All remaining files are for demonstration purposes only and serve no use for us (you can savely remove them)"
   ]
  },
  {
   "cell_type": "markdown",
   "id": "67f1820c-c54a-4b31-be47-9367ebdda63e",
   "metadata": {},
   "source": [
    "## Generate HTML files\n",
    "\n",
    "- In order to generate the html files use `jupyter-book build <template_path>`"
   ]
  },
  {
   "cell_type": "code",
   "execution_count": null,
   "id": "b5f1abbf-3cf6-42b5-9070-7eaf2893bc20",
   "metadata": {},
   "outputs": [],
   "source": [
    "!jupyter-book build ../reports/jupyterbook"
   ]
  },
  {
   "cell_type": "markdown",
   "id": "8fdccead-58fe-4884-986c-ce09c237a45c",
   "metadata": {},
   "source": [
    "## Open the HTML files\n",
    "\n",
    "- Check the last lines of the `jupyter-book build` output\n",
    "\n",
    "- All HTML files are in the folder: `../reports/jupyterbook/_build/html`\n",
    "- Open `../reports/jupyterbook/_build/html/index.html` in your Browser or copy the link generated by `jupyter-book` into your Browser to view your notebooks!"
   ]
  },
  {
   "cell_type": "markdown",
   "id": "a67a136e-a5f6-45fb-af89-fef4846a8b7d",
   "metadata": {},
   "source": [
    "## Further Reading:\n",
    "- [JupyterBook Website](https://jupyterbook.org/intro.html)\n",
    "- [JupyterBook Tutorial by Pablo Caceres](https://github.com/pabloinsente/jupyter-book-tutorial)\n",
    "    - This goes pretty in-depth, you can skip most of the stuff mentioned there (like publishing the HTMLs to GitHub Pages)\n",
    "    - Still very well balanced tutorial (more in-depth than we go, but not too complex)"
   ]
  }
 ],
 "metadata": {
  "kernelspec": {
   "display_name": "Python 3",
   "language": "python",
   "name": "python3"
  },
  "language_info": {
   "codemirror_mode": {
    "name": "ipython",
    "version": 3
   },
   "file_extension": ".py",
   "mimetype": "text/x-python",
   "name": "python",
   "nbconvert_exporter": "python",
   "pygments_lexer": "ipython3",
   "version": "3.7.10"
  }
 },
 "nbformat": 4,
 "nbformat_minor": 5
}
