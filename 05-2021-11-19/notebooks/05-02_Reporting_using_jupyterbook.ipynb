{
 "cells": [
  {
   "cell_type": "markdown",
   "id": "de4630bd-ccf0-467b-80e7-b1976a56ce04",
   "metadata": {},
   "source": [
    "# Reporting using Jupyter Book"
   ]
  },
  {
   "cell_type": "markdown",
   "id": "986c6c38-ef44-4d03-8aac-8d0f709ea6b0",
   "metadata": {},
   "source": [
    "[Jupyter Book](https://jupyterbook.org/intro.html) is an open source project for building beautiful, publication-quality books and documents from computational material.\n",
    "\n",
    "In our case it will help us to export our Jupyter Notebooks into nice to look at HTML files."
   ]
  },
  {
   "cell_type": "markdown",
   "id": "98f41248-7a5e-49b1-872f-0e4220e8bd25",
   "metadata": {},
   "source": [
    "## Installation\n",
    "- If you're running this notebook from the environment of todays lesson `jupyter-book` should already be installed.\n",
    "\n",
    "- To install it with conda use the following command to install it from the `conda-forge` channel\n",
    "\n",
    "```bash\n",
    "conda install -c conda-forge jupyter-book\n",
    "```"
   ]
  },
  {
   "cell_type": "markdown",
   "id": "caad9004-f980-48a4-a5be-c27417db71d6",
   "metadata": {},
   "source": [
    "## Initialize a template"
   ]
  },
  {
   "cell_type": "markdown",
   "id": "a811f0c8-59ae-4ee7-a91e-64b4d66a8129",
   "metadata": {},
   "source": [
    "- Jupyter Book relies on certain files (mostly for configuration). In order to create them, use the `jupyter-book create <template_path>` command.\n",
    "\n",
    "- To keep things tidy lets use the `reports` directory.\n",
    "\n",
    "> Hint: We can execute terminal commands directly inside our jupyter notebook by starting the line with `!`"
   ]
  },
  {
   "cell_type": "code",
   "execution_count": null,
   "id": "8b51993e-479e-4121-9c8e-8959811b3097",
   "metadata": {},
   "outputs": [],
   "source": [
    "!jupyter-book create ../reports/jupyterbook"
   ]
  },
  {
   "cell_type": "markdown",
   "id": "c0aebc08-dc16-4005-9ce4-9fab24be27c3",
   "metadata": {},
   "source": [
    "- Before we take a look at the generated files, lets copy over the jupyter notebooks we want to include in our HTML report\n",
    "\n",
    "## Task:\n",
    "- Copy `05-00_Processing_of_Tabular_Data.ipynb` and `05-01_Temperature_anomalies.ipynb`  directory into `../reports/jupyterbook`\n",
    "\n",
    "> Hint: you don't have to leave the Jupyter Universe to do that. Just open the explorer on the left (the folder icon) and use right-click -> copy."
   ]
  },
  {
   "cell_type": "code",
   "execution_count": null,
   "id": "286317f3-c042-4ca7-8f86-3f42e9adb416",
   "metadata": {},
   "outputs": [],
   "source": [
    "# alternatively use this snippet to copy the desired files\n",
    "!cp 05-00_Processing_of_Tabular_Data.ipynb 05-01_Temperature_anomalies.ipynb ../reports/jupyterbook/"
   ]
  },
  {
   "cell_type": "markdown",
   "id": "be7c4f2c-67ab-4bd4-bb31-c5bd62ff94eb",
   "metadata": {},
   "source": [
    "- Now let us take a look at the files"
   ]
  },
  {
   "cell_type": "markdown",
   "id": "0fd2d1e1-b2ed-4419-a335-56cf98fbdbc2",
   "metadata": {},
   "source": [
    "## File inspection\n",
    "### We need to change the content of two files for everything to run smoothly"
   ]
  },
  {
   "cell_type": "markdown",
   "id": "0a3b4e42-41aa-4b2f-aff7-3688be9616fd",
   "metadata": {},
   "source": [
    "### _config.yml\n",
    "\n",
    "- Stores configuration parameters such as the Title, Author and execution behaviour\n",
    "\n",
    "- You can change `title` and `author` to whatever you like\n",
    "- The **only parameter we need to change is set `execute_notebooks` to `\"off\"`**\n",
    "    - This ensures `jupyter-book` doesn't rerun our notebooks but takes them as they are (with the current outputs)\n",
    "- The remaining fields can be removed\n",
    "\n",
    "Sample file:\n",
    "\n",
    "```yml\n",
    "# _config.yml\n",
    "# Book settings\n",
    "# Learn more at https://jupyterbook.org/customize/config.html\n",
    "\n",
    "title: Your Title\n",
    "author: Your Name\n",
    "logo: logo.png\n",
    "\n",
    "# Turn off re-execution of notebooks on each build.\n",
    "# See https://jupyterbook.org/content/execute.html\n",
    "execute:\n",
    "  execute_notebooks: 'off'\n",
    "```"
   ]
  },
  {
   "cell_type": "markdown",
   "id": "6c52de9a-cfa3-4b08-b85a-bf18b13bad8f",
   "metadata": {},
   "source": [
    "### _toc.yml\n",
    "\n",
    "- Table of Content file\n",
    "\n",
    "- Specifies which files to render into HTML\n",
    "\n",
    "- Make sure you see the jupyter notebook files `05-00_Processing_of_Tabular_Data.ipynb` and `05-01_Temperature_anomalies.ipynb` in `reports/jupyterbook`\n",
    "\n",
    "- Include both of these files in the Table of Contents\n",
    "\n",
    "Sample file:\n",
    "\n",
    "```yml\n",
    "# Table of Contents\n",
    "# Learn more at https://jupyterbook.org/customize/toc.html\n",
    "\n",
    "format: jb-article\n",
    "root: 05-00_Processing_of_Tabular_Data.ipynb\n",
    "sections:\n",
    "- file: 05-01_Temperature_anomalies.ipynb\n",
    "```"
   ]
  },
  {
   "cell_type": "markdown",
   "id": "73449b69-47ea-436b-8bd3-c22d207f79a8",
   "metadata": {},
   "source": [
    "### Remaining files:\n",
    "\n",
    "- `logo.png` will be displayed inside the HTML\n",
    "- All remaining files are for demonstration purposes only and serve no use for us (you can savely remove them)"
   ]
  },
  {
   "cell_type": "markdown",
   "id": "67f1820c-c54a-4b31-be47-9367ebdda63e",
   "metadata": {},
   "source": [
    "## Generate HTML files\n",
    "\n",
    "- In order to generate the html files use `jupyter-book build <template_path>`"
   ]
  },
  {
   "cell_type": "code",
   "execution_count": null,
   "id": "b5f1abbf-3cf6-42b5-9070-7eaf2893bc20",
   "metadata": {},
   "outputs": [],
   "source": [
    "!jupyter-book build ../reports/jupyterbook"
   ]
  },
  {
   "cell_type": "markdown",
   "id": "39488ab7-605f-4467-a3d3-aa2409984f8f",
   "metadata": {},
   "source": [
    "# Safety Net\n",
    "\n",
    "- Make sure you specify the `_toc.yml` and `_config.yml` files as specified above\n",
    "- If it should still fail for you, try running this:"
   ]
  },
  {
   "cell_type": "code",
   "execution_count": null,
   "id": "1c7a7d2e-4549-450b-aac0-ff6ff6405a33",
   "metadata": {},
   "outputs": [],
   "source": [
    "!rm -rf ../reports/jupyterbook\n",
    "!jupyter-book create ../reports/jupyterbook\n",
    "# cp now includes the _img directory\n",
    "# allowing to display images included in original notebooks\n",
    "!cp -r _img 05-00_Processing_of_Tabular_Data.ipynb 05-01_Temperature_anomalies.ipynb ../reports/jupyterbook/\n",
    "!cp ../src/_solutions/_toc.yml ../src/_solutions/_config.yml ../reports/jupyterbook/\n",
    "!jupyter-book build ../reports/jupyterbook"
   ]
  },
  {
   "cell_type": "markdown",
   "id": "8fdccead-58fe-4884-986c-ce09c237a45c",
   "metadata": {},
   "source": [
    "## Open the HTML files\n",
    "\n",
    "- Check the last lines of the `jupyter-book build` output\n",
    "\n",
    "- All HTML files are in the folder: `../reports/jupyterbook/_build/html`\n",
    "- Open `../reports/jupyterbook/_build/html/index.html` in your Browser or copy the link generated by `jupyter-book` into your Browser to view your notebooks!"
   ]
  },
  {
   "cell_type": "markdown",
   "id": "a67a136e-a5f6-45fb-af89-fef4846a8b7d",
   "metadata": {},
   "source": [
    "## Further Reading:\n",
    "- [JupyterBook Website](https://jupyterbook.org/intro.html)\n",
    "- [JupyterBook Tutorial by Pablo Caceres](https://github.com/pabloinsente/jupyter-book-tutorial)\n",
    "    - This goes pretty in-depth, you can skip most of the stuff mentioned there (like publishing the HTMLs to GitHub Pages)\n",
    "    - Still very well balanced tutorial (more in-depth than we go, but not too complex)"
   ]
  }
 ],
 "metadata": {
  "kernelspec": {
   "display_name": "Python 3 (ipykernel)",
   "language": "python",
   "name": "python3"
  },
  "language_info": {
   "codemirror_mode": {
    "name": "ipython",
    "version": 3
   },
   "file_extension": ".py",
   "mimetype": "text/x-python",
   "name": "python",
   "nbconvert_exporter": "python",
   "pygments_lexer": "ipython3",
   "version": "3.8.12"
  }
 },
 "nbformat": 4,
 "nbformat_minor": 5
}
