{
 "cells": [
  {
   "cell_type": "code",
   "execution_count": 4,
   "id": "05061553-5dab-4b27-8a86-3f55ce079792",
   "metadata": {},
   "outputs": [
    {
     "name": "stdin",
     "output_type": "stream",
     "text": [
      "Choose Rock, Paper, or Scissors:  paper\n"
     ]
    },
    {
     "name": "stdout",
     "output_type": "stream",
     "text": [
      "You chose: paper\n",
      "AI chose: rock\n",
      "You win!\n"
     ]
    },
    {
     "name": "stdin",
     "output_type": "stream",
     "text": [
      "Do you want to play again? (yes/no):  no\n"
     ]
    }
   ],
   "source": [
    "import random\n",
    "\n",
    "def get_user_choice():\n",
    "    while True:\n",
    "        user_choice = input(\"Choose Rock, Paper, or Scissors: \").lower()\n",
    "        if user_choice in ['rock', 'paper', 'scissors']:\n",
    "            return user_choice\n",
    "        else:\n",
    "            print(\"Invalid choice. Please choose again.\")\n",
    "\n",
    "def get_ai_choice(user_choices):\n",
    "    choices = ['rock', 'paper', 'scissors']\n",
    "    if len(user_choices) >= 2 and all(choice == user_choices[-1] for choice in user_choices[-2:]):\n",
    "        # Wenn der Benutzer zweimal hintereinander dasselbe gewählt hat, wählt die KI das Gegenteil\n",
    "        opposite_choices = {'rock': 'paper', 'paper': 'scissors', 'scissors': 'rock'}\n",
    "        return opposite_choices[user_choices[-1]]\n",
    "    else:\n",
    "        return random.choice(choices)\n",
    "\n",
    "def determine_winner(user_choice, ai_choice):\n",
    "    if user_choice == ai_choice:\n",
    "        return \"It's a tie!\"\n",
    "    elif (user_choice == 'rock' and ai_choice == 'scissors') or \\\n",
    "         (user_choice == 'paper' and ai_choice == 'rock') or \\\n",
    "         (user_choice == 'scissors' and ai_choice == 'paper'):\n",
    "        return \"You win!\"\n",
    "    else:\n",
    "        return \"You lose!\"\n",
    "\n",
    "def main():\n",
    "    user_choices = []\n",
    "    while True:\n",
    "        user_choice = get_user_choice()\n",
    "        ai_choice = get_ai_choice(user_choices)\n",
    "        user_choices.append(user_choice)\n",
    "        print(f\"You chose: {user_choice}\")\n",
    "        print(f\"AI chose: {ai_choice}\")\n",
    "        print(determine_winner(user_choice, ai_choice))\n",
    "        play_again = input(\"Do you want to play again? (yes/no): \").lower()\n",
    "        if play_again != 'yes':\n",
    "            break\n",
    "\n",
    "if __name__ == \"__main__\":\n",
    "    main()\n"
   ]
  },
  {
   "cell_type": "code",
   "execution_count": null,
   "id": "bbf40355-6fb6-4d9e-b79f-c461010ae581",
   "metadata": {},
   "outputs": [],
   "source": []
  }
 ],
 "metadata": {
  "kernelspec": {
   "display_name": "Python 3 (ipykernel)",
   "language": "python",
   "name": "python3"
  },
  "language_info": {
   "codemirror_mode": {
    "name": "ipython",
    "version": 3
   },
   "file_extension": ".py",
   "mimetype": "text/x-python",
   "name": "python",
   "nbconvert_exporter": "python",
   "pygments_lexer": "ipython3",
   "version": "3.8.18"
  }
 },
 "nbformat": 4,
 "nbformat_minor": 5
}
