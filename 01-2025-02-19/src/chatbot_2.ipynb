{
 "cells": [
  {
   "cell_type": "code",
   "execution_count": 1,
   "id": "048e39f6-c39d-475e-bc55-bdfc2ddc7c58",
   "metadata": {},
   "outputs": [],
   "source": [
    "def print_text(text):\n",
    "    import time\n",
    "    for i in range(len(text)):\n",
    "        print(text[i], end = \"\")\n",
    "        time.sleep(0.3)\n",
    "        #print(text[i])"
   ]
  },
  {
   "cell_type": "code",
   "execution_count": 2,
   "id": "0f9db851-b30f-4625-aadb-aace1d2a2a48",
   "metadata": {},
   "outputs": [
    {
     "name": "stdout",
     "output_type": "stream",
     "text": [
      "Hi, my name is Vincent.What is your name?"
     ]
    },
    {
     "name": "stdin",
     "output_type": "stream",
     "text": [
      " joe\n"
     ]
    },
    {
     "name": "stdout",
     "output_type": "stream",
     "text": [
      "Nice to meet you Joe.\n"
     ]
    }
   ],
   "source": [
    "import time\n",
    "import numpy as np\n",
    "\n",
    "random_number = np.random.uniform(2, 6)\n",
    "\n",
    "print_text(\"Hi, my name is Vincent.\")\n",
    "time.sleep(1)\n",
    "print_text(\"What is your name?\")\n",
    "user = input()\n",
    "if user.lower() == \"joachim\":\n",
    "    \n",
    "    print_text(\"Good afternoon my creator!\")\n",
    "    print(\"\")\n",
    "elif user.lower() in [\"jan\"]:\n",
    "    print_text(\"Oh, what a pleasure! It feels great to have you in the house.\")\n",
    "    time.sleep(1)\n",
    "    print_text(\"Is Joachim somewhere around too?\")\n",
    "    answer = input()\n",
    "    if answer.lower() == \"yes\":\n",
    "        print_text(\"Great, a strong team!\")\n",
    "    elif answer.lower() == \"no\":\n",
    "        print_text(\"OK, if you see him make sure he knows that we miss him.\")\n",
    "    else:\n",
    "        print_text(\"Well, did not get that, but thats's fine. See you buddy!\")\n",
    "    print(\"\")\n",
    "else:\n",
    "    print_text(f\"Nice to meet you {user.capitalize()}.\")\n",
    "    print(\"\")\n",
    "time.sleep(1)"
   ]
  }
 ],
 "metadata": {
  "kernelspec": {
   "display_name": "Python 3 (ipykernel)",
   "language": "python",
   "name": "python3"
  },
  "language_info": {
   "codemirror_mode": {
    "name": "ipython",
    "version": 3
   },
   "file_extension": ".py",
   "mimetype": "text/x-python",
   "name": "python",
   "nbconvert_exporter": "python",
   "pygments_lexer": "ipython3",
   "version": "3.9.0"
  }
 },
 "nbformat": 4,
 "nbformat_minor": 5
}
