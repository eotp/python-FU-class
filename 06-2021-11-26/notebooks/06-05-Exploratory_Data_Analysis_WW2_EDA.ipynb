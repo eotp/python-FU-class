{
 "cells": [
  {
   "cell_type": "markdown",
   "metadata": {},
   "source": [
    "# Exploratory Data Analysis in Action - EDA\n",
    "\n"
   ]
  },
  {
   "cell_type": "markdown",
   "metadata": {},
   "source": [
    "In this section we explore the [_Arial Bombing Data Set_](https://www.kaggle.com/usaf/world-war-ii) and apply techniques referred to as __Exploratory Data Analysis__:"
   ]
  },
  {
   "cell_type": "markdown",
   "metadata": {},
   "source": [
    "<img src=\"./_img/phd053104s.gif\">\n",
    "\n",
    "Source: [PHD Comics](http://phdcomics.com/comics/archive.php?comicid=462)"
   ]
  },
  {
   "cell_type": "markdown",
   "metadata": {},
   "source": [
    "## Task\n",
    "> ### Conduct an exploratory data analysis into the `operations` data set. Answer the research questions as stated below. Conduct the analysis using jupyter notebooks and prepare a hmtl based report, including, text, figures and code.\n",
    "\n",
    "#### Build teams of up to 4 persons and hand in the report until June 18, 2021."
   ]
  },
  {
   "cell_type": "markdown",
   "metadata": {},
   "source": [
    "## Define research questions "
   ]
  },
  {
   "cell_type": "markdown",
   "metadata": {},
   "source": [
    "We perform a EDA guided by research questions which are of particular interest for us.\n",
    "\n",
    "Here are some suggestions (_feel free to add some more questions to the list_):\n",
    "\n",
    "***\n",
    "__@Number of attacks__\n",
    "\n",
    "#### [Exploratory Data Analysis in Action - EDA: Number of attacks](05-04a-EDA_Number_of_attacks-template.ipynb)\n",
    "\n",
    "- Q1: How many attacks were launched between 1939 and 1945 over Europe? \n",
    "- Q2: Which Allied Force was responsible for the most of the attacks? Did this change over time? \n",
    "- Q3: Which Allied Force launched the most attacks against Germany?\n",
    "- Q4: Is there a seasonal pattern in the attacks  against Germany (e.g. winter vs. summer)?\n",
    "- Q5: Which area experienced the highest number of attacks? Did the area change over time?\n",
    "\n",
    "\n",
    "\n",
    "***\n",
    "__@Airplanes__\n",
    "\n",
    "#### [Exploratory Data Analysis in Action - EDA: Airplanes](05-04b-EDA_Airplanes-template.ipynb)\n",
    "\n",
    "\n",
    "- Q1: Which type of airplane is mostly engaged?\n",
    "- Q2: At what height do airplanes operate?\n",
    "- Q3: Which Allied Force uses which airplane when and where?\n",
    "- Q4: Which type of airplane carried the heaviest bombs?\n",
    "\n",
    "***\n",
    "__@Targets__\n",
    "\n",
    "#### [Exploratory Data Analysis in Action - EDA: Targets](05-04c-EDA_Targets-template.ipynb)\n",
    "\n",
    "\n",
    "- Q1: Which cities were the 15 most frequent targets?\n",
    "- Q2: How much high explosives (in tons) went down on the 25 most frequent targets?\n",
    "- Q3: How did the aerial attacks change over time for the 15 most frequent targeted cities?"
   ]
  },
  {
   "cell_type": "markdown",
   "metadata": {},
   "source": [
    "***"
   ]
  }
 ],
 "metadata": {
  "hide_input": false,
  "kernelspec": {
   "display_name": "Python 3",
   "language": "python",
   "name": "python3"
  },
  "language_info": {
   "codemirror_mode": {
    "name": "ipython",
    "version": 3
   },
   "file_extension": ".py",
   "mimetype": "text/x-python",
   "name": "python",
   "nbconvert_exporter": "python",
   "pygments_lexer": "ipython3",
   "version": "3.7.10"
  }
 },
 "nbformat": 4,
 "nbformat_minor": 4
}
