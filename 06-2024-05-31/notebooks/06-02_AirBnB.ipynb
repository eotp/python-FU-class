{
 "cells": [
  {
   "cell_type": "markdown",
   "id": "0578aaa7-6fe3-4171-aa5b-6ca829e6f7a1",
   "metadata": {
    "tags": []
   },
   "source": [
    "# Airbnb in New York City - an explorative data analysis\n",
    "\n",
    "On todays session we want to analyze the Airbnb offer in New York City using and improving our already learned knowledge about data science!\n",
    "\n",
    "<img src=\"./_img/NYC_2.jpg\"> \n",
    "\n",
    "For this tutorial the following commands will be very helpful:\n",
    "\n",
    "| commands | meaning |\n",
    "| :-: | :-: |\n",
    "| `pd.read_csv(<path>)` | Reading a .csv-File from your file System | \n",
    "| `len()` | return the length of an input object, for example the row count of an pandas dataframe | \n",
    "| `df.columns()` | returns the column names of a dataframe |\n",
    "| `df.head(<n>)` | returns the first n rows of a dataframe | \n",
    "| `df.tail(<n>)` | returns the last n rows of a dataframe | \n",
    "| `df.loc[<index>]` | locator to filter a dataframe | \n",
    "| `df[\"<column_name>\"]` | filter a dataframe to a given column / return only the specified column of a dataframe | \n",
    "| `df.sample(<n>)` | picks randomly n rows out of a dataframe | \n",
    "| `df.shape()` | returns the dimensions of a dataframe | \n",
    "| `df.unique()` | returns the unique values for each column of a dataframe |  \n",
    "| `df.groupby(\"<column_name>\")` | groups the information of a dataframe by the specified column | \n",
    "| `df.groupby(\"<column_name>\").size()` | return the number of observation in each group | \n",
    "| `df.groupby(\"<column_name>\").sort_values()` | sort the output by values, may based on a specified column | \n",
    "| `df.groupby(\"<column_name>\").xs(\"<column_name>\")` | extract a specific value set out of a grouped information which consists out of a multi level index | \n",
    "| `series.mean()` | calculates the mean value based on the given information list | \n",
    "| `df.describe()` | returns a statistical description for all columns of a given dataframe | "
   ]
  },
  {
   "cell_type": "markdown",
   "id": "10e49c48-9392-4053-b5e1-0474b949db9a",
   "metadata": {},
   "source": [
    "## Loading packages and dataset"
   ]
  },
  {
   "cell_type": "code",
   "execution_count": null,
   "id": "f2e723e1-c0fe-4bae-854e-80226a2e76c7",
   "metadata": {},
   "outputs": [],
   "source": [
    "%matplotlib inline\n",
    "import pandas as pd\n",
    "import matplotlib.pyplot as plt"
   ]
  },
  {
   "cell_type": "code",
   "execution_count": null,
   "id": "887f664f-2024-4a95-8f87-6f4557bc0b18",
   "metadata": {},
   "outputs": [],
   "source": [
    "airbnb_NY = pd.read_csv(\"../data/Airbnb_NYC.csv\")"
   ]
  },
  {
   "cell_type": "markdown",
   "id": "b4db45a8-4ea0-4753-9abe-0d078c9dc4fb",
   "metadata": {},
   "source": [
    "## Get to know the dataset\n",
    "\n",
    "> **Question 1A)** How many observations yields the dataset?"
   ]
  },
  {
   "cell_type": "code",
   "execution_count": null,
   "id": "6b400aee-290e-47bf-88c6-4ce5ce1fcab2",
   "metadata": {},
   "outputs": [],
   "source": []
  },
  {
   "cell_type": "markdown",
   "id": "7f763f27-6fc1-417b-8f40-73780133b0f4",
   "metadata": {},
   "source": [
    "> **Question 1B)** What columns are included in the dataset?"
   ]
  },
  {
   "cell_type": "code",
   "execution_count": null,
   "id": "2dd99f56-982c-4fa6-88fa-ef277442ba69",
   "metadata": {},
   "outputs": [],
   "source": []
  },
  {
   "cell_type": "markdown",
   "id": "f5fac771-4179-4bf6-8a72-4ac7caadd33e",
   "metadata": {},
   "source": [
    "Okay, now let's get a quick overview:\n",
    "\n",
    "> **Question 2A)** show the first 10 observations of the dataset!"
   ]
  },
  {
   "cell_type": "code",
   "execution_count": null,
   "id": "091d23f8-6fec-48e8-80b4-d75d037a22a8",
   "metadata": {},
   "outputs": [],
   "source": []
  },
  {
   "cell_type": "markdown",
   "id": "3c8da9c9-8032-47fa-8e1c-47399d083e3e",
   "metadata": {},
   "source": [
    "> **Question 2B)** show the last 15 observations of the dataset!"
   ]
  },
  {
   "cell_type": "code",
   "execution_count": null,
   "id": "ab984c89-d3e8-4403-834f-6936b7cd803f",
   "metadata": {},
   "outputs": [],
   "source": []
  },
  {
   "cell_type": "markdown",
   "id": "2bb468f6-89e9-44ec-ac40-4b43eea07159",
   "metadata": {},
   "source": [
    "> **Question 2C)** choose randomly 15 observations out of the dataset and show them!"
   ]
  },
  {
   "cell_type": "code",
   "execution_count": null,
   "id": "38088067-1808-418c-8eaa-daa371968cd8",
   "metadata": {},
   "outputs": [],
   "source": []
  },
  {
   "cell_type": "markdown",
   "id": "898638fb-215e-4fe3-b40c-a12cf69bfd72",
   "metadata": {},
   "source": [
    "> **Question 2D)** like C) but only the borough, property type and the price should be shown"
   ]
  },
  {
   "cell_type": "code",
   "execution_count": null,
   "id": "52178241-f8a3-449b-9d0b-034ca7eb8397",
   "metadata": {},
   "outputs": [],
   "source": []
  },
  {
   "cell_type": "markdown",
   "id": "71167c86-3c0f-47d5-bf7a-655794cead87",
   "metadata": {
    "tags": []
   },
   "source": [
    "## The spatial context matters\n",
    "\n",
    "Let's take a deeper look on the dataset\n",
    "\n",
    "> **Question 3A)** Which boroughs of NYC are covered by the dataset?"
   ]
  },
  {
   "cell_type": "code",
   "execution_count": null,
   "id": "b630f880-1928-495e-8f70-c9a56615cb15",
   "metadata": {},
   "outputs": [],
   "source": []
  },
  {
   "cell_type": "markdown",
   "id": "5149bf7b-5f1a-4e6e-850d-bedf437e1609",
   "metadata": {},
   "source": [
    "> **Question 3B)** Which different kind of accomodations exists?"
   ]
  },
  {
   "cell_type": "code",
   "execution_count": null,
   "id": "ac371289-caf6-40df-a890-7e4f3f55824c",
   "metadata": {},
   "outputs": [],
   "source": []
  },
  {
   "cell_type": "markdown",
   "id": "2e528a84-064e-40bf-9aea-27dd296c221f",
   "metadata": {},
   "source": [
    "> **Question 3C)** How many airbnb offers exists per borough?"
   ]
  },
  {
   "cell_type": "code",
   "execution_count": null,
   "id": "e1098b56-3a80-4168-acda-5175e6209698",
   "metadata": {},
   "outputs": [],
   "source": []
  },
  {
   "cell_type": "markdown",
   "id": "2f650ef4-bab5-40cf-82b9-f687369d9e2c",
   "metadata": {},
   "source": [
    "> **Question 3D)** Order the output from C) by the count of offers!"
   ]
  },
  {
   "cell_type": "code",
   "execution_count": null,
   "id": "ab108ae9-9a7a-4c78-96d7-5017a37a1ffa",
   "metadata": {},
   "outputs": [],
   "source": []
  },
  {
   "cell_type": "markdown",
   "id": "c0908aa1-0e7d-4f2f-b818-bf05803f1542",
   "metadata": {},
   "source": [
    "> **Question 3E)** Refine your search: how is the type of property influenced by the boroughs? Provide a table view!"
   ]
  },
  {
   "cell_type": "code",
   "execution_count": null,
   "id": "0683fa1a-d1e8-4bbc-8e0c-0bcf4cf179be",
   "metadata": {},
   "outputs": [],
   "source": []
  },
  {
   "cell_type": "markdown",
   "id": "65057d48-37c4-4eca-b8dd-d77f1889bcbd",
   "metadata": {},
   "source": [
    "> **Question 3F)** Provide a plot to visualize E) \n",
    "hint: try at first to provide a barplot only for Bronx and afterwars for all boroughs at the same time)"
   ]
  },
  {
   "cell_type": "code",
   "execution_count": null,
   "id": "6b3bac61-f53a-47bf-9a22-5aff73f7f728",
   "metadata": {},
   "outputs": [],
   "source": []
  },
  {
   "cell_type": "markdown",
   "id": "db51924d-4bd1-4c0b-9e0d-eba1e528f7f5",
   "metadata": {},
   "source": [
    "## What about the prices?"
   ]
  },
  {
   "cell_type": "markdown",
   "id": "91b0fb2e-315b-4bc1-84b9-8609e9895e61",
   "metadata": {},
   "source": [
    "> **Question 4A)** Which is the most expensive AirBnB?"
   ]
  },
  {
   "cell_type": "code",
   "execution_count": null,
   "id": "7de738d9-b2e3-4745-9759-c9cd8f2a080a",
   "metadata": {},
   "outputs": [],
   "source": []
  },
  {
   "cell_type": "markdown",
   "id": "93adf725-717f-4b65-991f-0d53924824a4",
   "metadata": {},
   "source": [
    "> **Question 4B)** How many airbnb exists that are in price less than 50 $?"
   ]
  },
  {
   "cell_type": "code",
   "execution_count": null,
   "id": "098ee33c-2e44-4e8d-9a36-9de04e8a5e15",
   "metadata": {},
   "outputs": [],
   "source": []
  },
  {
   "cell_type": "markdown",
   "id": "5270843a-d4a4-49ad-a286-3748c54661a5",
   "metadata": {},
   "source": [
    "> **Question 4C)** Refining B) in which borough are most of them located?"
   ]
  },
  {
   "cell_type": "code",
   "execution_count": null,
   "id": "67687c30-0d82-43e2-aaed-98f67e49b6f8",
   "metadata": {},
   "outputs": [],
   "source": []
  },
  {
   "cell_type": "markdown",
   "id": "26b50448-370d-4538-9796-70126484e123",
   "metadata": {},
   "source": [
    "> **Question 4D)** Take a closer look at C): provide a ranking of the mean Review-count of these airbnbs per borough!"
   ]
  },
  {
   "cell_type": "code",
   "execution_count": null,
   "id": "349a6548-20f1-4f68-b9f6-e5d5767a882f",
   "metadata": {},
   "outputs": [],
   "source": []
  },
  {
   "cell_type": "markdown",
   "id": "919d8a3a-7ca3-4c41-9b47-cdd110ab9127",
   "metadata": {
    "tags": []
   },
   "source": [
    "## Statistics count!\n",
    "\n",
    "> **Question 5A**) What is the mean cost of an airbnb in NYC?"
   ]
  },
  {
   "cell_type": "code",
   "execution_count": null,
   "id": "c19bc1b7-c545-4c27-b237-ea91009f6989",
   "metadata": {},
   "outputs": [],
   "source": []
  },
  {
   "cell_type": "markdown",
   "id": "fd57440f-5ab1-4c82-b535-744c08920498",
   "metadata": {},
   "source": [
    "> **Question 5B)** How does the price vary?"
   ]
  },
  {
   "cell_type": "code",
   "execution_count": null,
   "id": "0f4c2e1b-c135-4b2d-bf6e-5e75d594c01f",
   "metadata": {},
   "outputs": [],
   "source": []
  },
  {
   "cell_type": "markdown",
   "id": "ba211951-959b-4ade-806f-9a8f9ac2bfea",
   "metadata": {},
   "source": [
    "> **Question 5C)** How is the price changing according to the property type? which property type the less expansive one?"
   ]
  },
  {
   "cell_type": "code",
   "execution_count": null,
   "id": "ab4fa760-898b-4d91-8278-caa5c606d959",
   "metadata": {},
   "outputs": [],
   "source": []
  },
  {
   "cell_type": "markdown",
   "id": "ca6d193d-0fe9-4f7c-a62c-96347b99b94c",
   "metadata": {},
   "source": [
    "> **Question 5D)** how does the mean airbnb price is changing according to the boroughs?"
   ]
  },
  {
   "cell_type": "code",
   "execution_count": null,
   "id": "8ead9b26-7eff-4528-98be-d1fb7ebfcf6d",
   "metadata": {},
   "outputs": [],
   "source": []
  },
  {
   "cell_type": "markdown",
   "id": "2aedb66e-4521-4fdf-a3e1-41f1c7665ca3",
   "metadata": {},
   "source": [
    "> **Question 5E)** Which are top 10 rated airbnb per borough? calculate the mean price of them!"
   ]
  },
  {
   "cell_type": "code",
   "execution_count": null,
   "id": "cd37da09-2dab-4377-a4a0-658163bb8f66",
   "metadata": {},
   "outputs": [],
   "source": []
  }
 ],
 "metadata": {
  "kernelspec": {
   "display_name": "Python 3 (ipykernel)",
   "language": "python",
   "name": "python3"
  },
  "language_info": {
   "codemirror_mode": {
    "name": "ipython",
    "version": 3
   },
   "file_extension": ".py",
   "mimetype": "text/x-python",
   "name": "python",
   "nbconvert_exporter": "python",
   "pygments_lexer": "ipython3",
   "version": "3.9.0"
  }
 },
 "nbformat": 4,
 "nbformat_minor": 5
}
