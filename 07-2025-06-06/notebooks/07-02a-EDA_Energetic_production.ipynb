{
 "cells": [
  {
   "cell_type": "markdown",
   "metadata": {
    "tags": []
   },
   "source": [
    "# Exploratory Data Analysis in Action - EDA: Energy production\n",
    "\n",
    "Energetic production questions:\n",
    "- Q1: How much energy was estimated to be produced in 2020 on each continent?\n",
    "- Q2: Looking at each continent: which country produces the most energy on their continent?\n",
    "- Q3: Which type of ressource is most used for energy production?\n",
    "- Q4: Compare the distribution of ressources used for energy production across the Top 3 Continents\n",
    "- Q5: Which is the most prominent primary fuel source for each respective continent?\n",
    "- Q6: _Come up with your own question_"
   ]
  },
  {
   "cell_type": "code",
   "execution_count": null,
   "metadata": {},
   "outputs": [],
   "source": [
    "%matplotlib inline\n",
    "import pandas as pd\n",
    "import matplotlib.pyplot as plt\n",
    "import geopandas as gpd\n",
    "import sys\n",
    "sys.path.append(\"../src/\")\n",
    "\n",
    "from helper import cuteplot\n",
    "from helper import minmax_scaler\n",
    "plt.rcParams[\"figure.figsize\"] = [22,10]"
   ]
  },
  {
   "cell_type": "code",
   "execution_count": null,
   "metadata": {},
   "outputs": [],
   "source": [
    "import pickle\n",
    "gdf_world = pickle.load(open( \"../data/gdf_world.p\", \"rb\" ))\n",
    "gdf_europe = pickle.load(open( \"../data/gdf_europe.p\", \"rb\" ))\n",
    "gdf_germany = pickle.load(open( \"../data/gdf_germany.p\", \"rb\" ))"
   ]
  },
  {
   "cell_type": "markdown",
   "metadata": {},
   "source": [
    "> **Q1: How much energy was estimated to be produced in 2020 on each continent?**"
   ]
  },
  {
   "cell_type": "code",
   "execution_count": null,
   "metadata": {},
   "outputs": [],
   "source": []
  },
  {
   "cell_type": "markdown",
   "metadata": {},
   "source": [
    "> **Q2: Looking at each continent: which country produces the most energy on their continent?**"
   ]
  },
  {
   "cell_type": "code",
   "execution_count": null,
   "metadata": {},
   "outputs": [],
   "source": []
  },
  {
   "cell_type": "markdown",
   "metadata": {},
   "source": [
    "> **Q3: Which type of ressource is most used for energy production?**"
   ]
  },
  {
   "cell_type": "code",
   "execution_count": null,
   "metadata": {},
   "outputs": [],
   "source": []
  },
  {
   "cell_type": "markdown",
   "metadata": {},
   "source": [
    "> **Q4: Compare the distribution of ressources used for energy production across the Top-3 Continents(*)**\n",
    "\n",
    "> _(*) Top-3 continents regarding the estimated energy production_\n",
    "\n",
    "> Hint: Consider using bar or pie plots (you may use something different though)"
   ]
  },
  {
   "cell_type": "code",
   "execution_count": null,
   "metadata": {},
   "outputs": [],
   "source": []
  },
  {
   "cell_type": "markdown",
   "metadata": {},
   "source": [
    "> **Q5: Which is the most prominent primary fuel source for each respective continent?** "
   ]
  },
  {
   "cell_type": "code",
   "execution_count": null,
   "metadata": {},
   "outputs": [],
   "source": []
  },
  {
   "cell_type": "markdown",
   "metadata": {},
   "source": [
    "> **Q6: _Come up with your own question_**"
   ]
  },
  {
   "cell_type": "code",
   "execution_count": null,
   "metadata": {},
   "outputs": [],
   "source": []
  }
 ],
 "metadata": {
  "kernelspec": {
   "display_name": "Python 3 (ipykernel)",
   "language": "python",
   "name": "python3"
  },
  "language_info": {
   "codemirror_mode": {
    "name": "ipython",
    "version": 3
   },
   "file_extension": ".py",
   "mimetype": "text/x-python",
   "name": "python",
   "nbconvert_exporter": "python",
   "pygments_lexer": "ipython3",
   "version": "3.10.8"
  }
 },
 "nbformat": 4,
 "nbformat_minor": 4
}
