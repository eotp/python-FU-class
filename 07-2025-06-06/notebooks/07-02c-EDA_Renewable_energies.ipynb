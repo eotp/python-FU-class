{
 "cells": [
  {
   "cell_type": "markdown",
   "metadata": {},
   "source": [
    "# Exploratory Data Analysis in Action - EDA: Renewable Energies\n",
    "\n",
    "Reneweable Energies questions:\n",
    "- Q1: How many powerplants are present worldwide that utilize Renewable Energies and how many that do not?\n",
    "- Q2: How much energy is produced in a green way opposed to fossil and nuclear energy?\n",
    "- Q3: Which European countries have the highest share of energy production from renewable sources? And which ones the lowest?\n",
    "- Q4: Inspect a country of your choice. How much of energy is gained from individual fuel types? Is the result trustworthy?\n",
    "- Q5: Which types of renewable energies produce the most energy in total? Is there a difference between continents?\n",
    "- Q6:  _Come up with your own question_"
   ]
  },
  {
   "cell_type": "code",
   "execution_count": null,
   "metadata": {},
   "outputs": [],
   "source": [
    "%matplotlib inline\n",
    "import pandas as pd\n",
    "import matplotlib.pyplot as plt\n",
    "import geopandas as gpd\n",
    "import sys\n",
    "sys.path.append(\"../src/\")\n",
    "\n",
    "from helper import cuteplot\n",
    "from helper import minmax_scaler\n",
    "plt.rcParams[\"figure.figsize\"] = [22,10]"
   ]
  },
  {
   "cell_type": "code",
   "execution_count": null,
   "metadata": {},
   "outputs": [],
   "source": [
    "import pickle\n",
    "gdf_world = pickle.load(open( \"../data/gdf_world.p\", \"rb\" ))\n",
    "gdf_europe = pickle.load(open( \"../data/gdf_europe.p\", \"rb\" ))\n",
    "gdf_germany = pickle.load(open( \"../data/gdf_germany.p\", \"rb\" ))"
   ]
  },
  {
   "cell_type": "markdown",
   "metadata": {},
   "source": [
    "> **Q1: How many powerplants are present worldwide that utilize Renewable Energies and how many that do not?**"
   ]
  },
  {
   "cell_type": "code",
   "execution_count": null,
   "metadata": {},
   "outputs": [],
   "source": []
  },
  {
   "cell_type": "markdown",
   "metadata": {},
   "source": [
    "> **Q2: How much energy is produced in a green way opposed to fossil and nuclear energy?**"
   ]
  },
  {
   "cell_type": "code",
   "execution_count": null,
   "metadata": {},
   "outputs": [],
   "source": []
  },
  {
   "cell_type": "markdown",
   "metadata": {},
   "source": [
    "> **Q3: Which European countries have the highest share of energy production from renewable sources? And which ones the lowest?**\n",
    "\n",
    "> _Hint: consider using `df.groupby()` with a list of columns to group on. You can use `df.unstack()` afterwards to get rid of the multi-dimensional Index._"
   ]
  },
  {
   "cell_type": "code",
   "execution_count": null,
   "metadata": {},
   "outputs": [],
   "source": []
  },
  {
   "cell_type": "markdown",
   "metadata": {},
   "source": [
    "> **Q4: Inspect a country of your choice. How much of energy is gained from individual fuel types? Is the result trustworthy?**\n",
    "\n",
    "> _Hint: Double check your result with another source. Is the dataset trustworthy for your country?_\n",
    "\n",
    "> _Note: Consider plotting plants on a map of the country. Consider using the `map_extent` argument in the `cuteplot()` function._"
   ]
  },
  {
   "cell_type": "code",
   "execution_count": null,
   "metadata": {},
   "outputs": [],
   "source": []
  },
  {
   "cell_type": "markdown",
   "metadata": {},
   "source": [
    "> **Q5: Which types of renewable energies produce the most energy in total? Is there a difference between continents?**"
   ]
  },
  {
   "cell_type": "code",
   "execution_count": null,
   "metadata": {},
   "outputs": [],
   "source": []
  },
  {
   "cell_type": "markdown",
   "metadata": {},
   "source": [
    "> **Q6: _Come up with your own question_**"
   ]
  },
  {
   "cell_type": "code",
   "execution_count": null,
   "metadata": {},
   "outputs": [],
   "source": []
  }
 ],
 "metadata": {
  "kernelspec": {
   "display_name": "Python 3 (ipykernel)",
   "language": "python",
   "name": "python3"
  },
  "language_info": {
   "codemirror_mode": {
    "name": "ipython",
    "version": 3
   },
   "file_extension": ".py",
   "mimetype": "text/x-python",
   "name": "python",
   "nbconvert_exporter": "python",
   "pygments_lexer": "ipython3",
   "version": "3.10.8"
  }
 },
 "nbformat": 4,
 "nbformat_minor": 4
}
