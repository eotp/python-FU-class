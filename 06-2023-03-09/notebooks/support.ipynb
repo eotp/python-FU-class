{
 "cells": [
  {
   "cell_type": "code",
   "execution_count": null,
   "id": "dac9ef62-9800-4330-892e-00c6d95b5a89",
   "metadata": {},
   "outputs": [],
   "source": [
    "%matplotlib inline\n",
    "import pandas as pd\n",
    "import matplotlib.pyplot as plt\n",
    "import numpy as np\n",
    "import sys\n",
    "sys.path.append(\"../src\")\n",
    "\n",
    "plt.rcParams[\"figure.figsize\"] = [20,9]"
   ]
  },
  {
   "cell_type": "code",
   "execution_count": null,
   "id": "ed12b4d2-945d-433b-8633-eef0597a2bd1",
   "metadata": {},
   "outputs": [],
   "source": [
    "from shapely.geometry import Point\n",
    "from shapely.geometry import Polygon\n",
    "import geopandas as gpd\n",
    "from helper import minmax_scaler\n",
    "from helper import cuteplot"
   ]
  },
  {
   "cell_type": "code",
   "execution_count": null,
   "id": "99081984-3155-48aa-9204-90193475a651",
   "metadata": {},
   "outputs": [],
   "source": [
    "gdf_world_gdf = gpd.read_file(\"gdf_world.gpkg\")\n",
    "gdf_europe_gdf = gpd.read_file(\"gdf_europe.gpkg\")\n",
    "gdf_germany_gdf = gpd.read_file(\"gdf_germany.gpkg\")"
   ]
  }
 ],
 "metadata": {
  "kernelspec": {
   "display_name": "Python 3 (ipykernel)",
   "language": "python",
   "name": "python3"
  },
  "language_info": {
   "codemirror_mode": {
    "name": "ipython",
    "version": 3
   },
   "file_extension": ".py",
   "mimetype": "text/x-python",
   "name": "python",
   "nbconvert_exporter": "python",
   "pygments_lexer": "ipython3",
   "version": "3.10.6"
  }
 },
 "nbformat": 4,
 "nbformat_minor": 5
}
