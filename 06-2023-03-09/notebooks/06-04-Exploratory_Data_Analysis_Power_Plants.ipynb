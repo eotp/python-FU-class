{
 "cells": [
  {
   "cell_type": "markdown",
   "metadata": {},
   "source": [
    "# Exploratory Data Analysis in Action - EDA\n",
    "\n"
   ]
  },
  {
   "cell_type": "markdown",
   "metadata": {},
   "source": [
    "In this section we explore the [_Power plants data set_](https://www.kaggle.com/ramjasmaurya/global-powerplants) and apply techniques referred to as __Exploratory Data Analysis__:"
   ]
  },
  {
   "cell_type": "markdown",
   "metadata": {},
   "source": [
    "<img src=\"./_img/phd053104s.gif\">\n",
    "\n",
    "Source: [PHD Comics](http://phdcomics.com/comics/archive.php?comicid=462)"
   ]
  },
  {
   "cell_type": "markdown",
   "metadata": {},
   "source": [
    "## Task\n",
    "> ### Conduct an exploratory data analysis into the `powerplants` data set. Answer the research questions as stated below and feel fry to add your own quetions of interest. Conduct the analysis using jupyter notebooks and prepare a hmtl based report, including, text, figures and code.\n",
    "\n",
    "- You will be assigned to groups of 3-4 people.\n",
    "- Each group will conduct an analysis for a set of questions. _Feel free to add further questions_\n",
    "- Prepare a nicely formatted presentation by exporting your executed Notebooks, e.g. with `jupyterbook`.\n",
    "    - Please `zip` all the files together. \n",
    "    - Make sure all files are included! \n",
    "        - _a good test would be to unzip all files in any different directory and checking if everything is displayed correctly_\n",
    "        - E.g. by only including the exported `.html` file images will be missing. So make sure all folders needed for correct display of the html are included in the zip\n",
    "    - In case the zipped archive is too big to send via e-mail, feel free to upload it to [box.fu-berlin.de](https://box.fu-berlin.de) and share the link with us\n",
    "- Hand in your solutions by **27.06.2022** @ `krois@zedat.fu-berlin.de`, `leonhard.pfaender@fu-berlin.de`, `martha.duchrau@charite.de`, `aleksander.krasowski@charite.de`\n",
    "\n",
    "- All groups will present their solutions to the class on **30.06.2022** with ca. 30 min of time!"
   ]
  },
  {
   "cell_type": "markdown",
   "metadata": {},
   "source": [
    "## Define research questions "
   ]
  },
  {
   "cell_type": "markdown",
   "metadata": {
    "tags": []
   },
   "source": [
    "We perform a EDA guided by research questions which are of particular interest for us.\n",
    "\n",
    "Here are some suggestions (_feel free to add some more questions to the list_):\n",
    "\n",
    "***\n",
    "\n",
    "#### [Exploratory Data Analysis in Action - EDA: Energy production](06-03a-EDA_Energetic_production.ipynb)\n",
    "\n",
    "- Q1: How much energy was estimated to be produced in 2020 on each continent?\n",
    "- Q2: Looking at each continent: which country produces the most energy on their continent?\n",
    "- Q3: Which type of ressource is most used for energy production?\n",
    "- Q4: Compare the distribution of ressources used for energy production across the Top 3 Continents\n",
    "- Q5: Which is the most prominent primary fuel source for each respective continent?\n",
    "- Q6: _Come up with your own question_\n",
    "\n",
    "\n",
    "***\n",
    "\n",
    "#### [Exploratory Data Analysis in Action - EDA: Powerplants](06-03b-EDA_Powerplants.ipynb)\n",
    "\n",
    "- Q1: How many power plants are located in Europe?\n",
    "- Q2: Which European countries have the most power plants?\n",
    "- Q3: Which country in the world has the most/the least power plants?\n",
    "- Q4: Inspect the regional distribution of individual fuels in Germany\n",
    "- Q5: Take a look at the United States of America. Inspect what types of powerplants have been constructed at what time\n",
    "- Q6: _Come up with your own question_\n",
    "***\n",
    "\n",
    "#### [Exploratory Data Analysis in Action - EDA: Renewable Energies](06-03c-EDA_Renewable_energies.ipynb)\n",
    "\n",
    "- Q1: How many powerplants are present worldwide that utilize Renewable Energies and how many that do not?\n",
    "- Q2: How much energy is produced in a green way opposed to fossil and nuclear energy?\n",
    "- Q3: Which European countries have the highest share of energy production from renewable sources? And which ones the lowest?\n",
    "- Q4: Inspect a country of your choice. How much of energy is gained from individual fuel types? Is the result trustworthy?\n",
    "- Q5: Which types of renewable energies produce the most energy in total? Is there a difference between continents?\n",
    "- Q6:  _Come up with your own question_"
   ]
  },
  {
   "cell_type": "markdown",
   "metadata": {},
   "source": [
    "***"
   ]
  }
 ],
 "metadata": {
  "hide_input": false,
  "kernelspec": {
   "display_name": "Python 3 (ipykernel)",
   "language": "python",
   "name": "python3"
  },
  "language_info": {
   "codemirror_mode": {
    "name": "ipython",
    "version": 3
   },
   "file_extension": ".py",
   "mimetype": "text/x-python",
   "name": "python",
   "nbconvert_exporter": "python",
   "pygments_lexer": "ipython3",
   "version": "3.10.4"
  }
 },
 "nbformat": 4,
 "nbformat_minor": 4
}
