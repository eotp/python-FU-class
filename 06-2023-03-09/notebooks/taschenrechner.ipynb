{
 "cells": [
  {
   "cell_type": "code",
   "execution_count": 1,
   "id": "1d197fa1-2b06-4646-9f5f-4ad82fe9e620",
   "metadata": {},
   "outputs": [],
   "source": [
    "import numpy as np"
   ]
  },
  {
   "cell_type": "code",
   "execution_count": 6,
   "id": "70cfea8e-5f8d-47f3-9e31-08a56fdd2f24",
   "metadata": {},
   "outputs": [
    {
     "data": {
      "text/plain": [
       "1.732287351171458"
      ]
     },
     "execution_count": 6,
     "metadata": {},
     "output_type": "execute_result"
    }
   ],
   "source": [
    "((np.pi/(4))**3)/6+((np.pi/(4))**2)/2+(np.pi)/(4)-(((-np.pi/(4))**3)/6+((-np.pi/(4))**2)/2+(-np.pi)/(4))"
   ]
  },
  {
   "cell_type": "code",
   "execution_count": 9,
   "id": "812b2372-bc9d-4a82-aec5-54c16ec67681",
   "metadata": {},
   "outputs": [
    {
     "data": {
      "text/plain": [
       "1.7627471740390863"
      ]
     },
     "execution_count": 9,
     "metadata": {},
     "output_type": "execute_result"
    }
   ],
   "source": [
    "-np.log(1-np.sin((np.pi/(4))))+np.log(1-np.sin((-np.pi/(4))))"
   ]
  },
  {
   "cell_type": "code",
   "execution_count": null,
   "id": "2be6328c-b104-4c65-b7f8-4d1d63ae8915",
   "metadata": {},
   "outputs": [],
   "source": []
  }
 ],
 "metadata": {
  "kernelspec": {
   "display_name": "Python 3 (ipykernel)",
   "language": "python",
   "name": "python3"
  },
  "language_info": {
   "codemirror_mode": {
    "name": "ipython",
    "version": 3
   },
   "file_extension": ".py",
   "mimetype": "text/x-python",
   "name": "python",
   "nbconvert_exporter": "python",
   "pygments_lexer": "ipython3",
   "version": "3.10.6"
  }
 },
 "nbformat": 4,
 "nbformat_minor": 5
}
