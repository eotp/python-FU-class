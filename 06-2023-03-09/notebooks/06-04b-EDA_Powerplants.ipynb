{
 "cells": [
  {
   "cell_type": "markdown",
   "metadata": {
    "tags": []
   },
   "source": [
    "# Exploratory Data Analysis in Action - EDA: Powerplants\n",
    "\n",
    "Powerplant questions:\n",
    "- Q1: How many power plants are located in Europe?\n",
    "- Q2: Which European countries have the most power plants?\n",
    "- Q3: Which country in the world has the most/the least power plants?\n",
    "- Q4: Inspect the regional distribution of individual fuels in Germany\n",
    "- Q5: Take a look at the United States of America. Inspect what types of powerplants have been constructed at what time\n",
    "- Q6: _Come up with your own question_"
   ]
  },
  {
   "cell_type": "code",
   "execution_count": 1,
   "metadata": {},
   "outputs": [],
   "source": [
    "%matplotlib inline\n",
    "import pandas as pd\n",
    "import matplotlib.pyplot as plt\n",
    "import geopandas as gpd\n",
    "import sys\n",
    "sys.path.append(\"../src/\")\n",
    "\n",
    "from utils import cuteplot\n",
    "from utils import minmax_scaler\n",
    "plt.rcParams[\"figure.figsize\"] = [22,10]"
   ]
  },
  {
   "cell_type": "code",
   "execution_count": 2,
   "metadata": {},
   "outputs": [],
   "source": [
    "import pickle\n",
    "gdf_world = pickle.load(open( \"../data/gdf_world.p\", \"rb\" ))\n",
    "gdf_europe = pickle.load(open( \"../data/gdf_europe.p\", \"rb\" ))\n",
    "gdf_germany = pickle.load(open( \"../data/gdf_germany.p\", \"rb\" ))"
   ]
  },
  {
   "cell_type": "markdown",
   "metadata": {},
   "source": [
    "> **Q1: How many power plants are located in Europe?**"
   ]
  },
  {
   "cell_type": "code",
   "execution_count": null,
   "metadata": {},
   "outputs": [],
   "source": []
  },
  {
   "cell_type": "markdown",
   "metadata": {},
   "source": [
    "> **Q2: Which European countries have the most power plants?**"
   ]
  },
  {
   "cell_type": "code",
   "execution_count": null,
   "metadata": {},
   "outputs": [],
   "source": []
  },
  {
   "cell_type": "markdown",
   "metadata": {},
   "source": [
    "> **Q3: Which country in the world has the most/the least power plants?**"
   ]
  },
  {
   "cell_type": "code",
   "execution_count": null,
   "metadata": {},
   "outputs": [],
   "source": []
  },
  {
   "cell_type": "markdown",
   "metadata": {},
   "source": [
    "> **Q4: Inspect the regional distribution of individual fuels in Germany**\n",
    "\n",
    "> _Note: Some fuels may be distributed differently than expected. Is the dataset or are the state politics to blame?_\n",
    "\n",
    "> _Hint: you can use `map_extent = (5, 16, 47, 55)` for the `cuteplot()` function to draw a map of germany. You can use the `draw_water=True` keyword in the `cuteplot()` function to draw (the biggest) rivers and lakes._\n"
   ]
  },
  {
   "cell_type": "code",
   "execution_count": null,
   "metadata": {},
   "outputs": [],
   "source": []
  },
  {
   "cell_type": "markdown",
   "metadata": {},
   "source": [
    "> **Q5: Take a look at the United States of America. Inspect what types of powerplants have been constructed at what time**\n",
    "\n",
    "_Info: Type is meant with regard to the primary fuel._\n",
    "\n",
    "> _Hint: Consider using `df.groupby()` on multiple columns. You can get rid of the multi-dimensional Index afterwards by using `df.unstack()`._"
   ]
  },
  {
   "cell_type": "code",
   "execution_count": null,
   "metadata": {},
   "outputs": [],
   "source": []
  },
  {
   "cell_type": "markdown",
   "metadata": {},
   "source": [
    "> **Q6: _Come up with your own question_**"
   ]
  },
  {
   "cell_type": "code",
   "execution_count": null,
   "metadata": {},
   "outputs": [],
   "source": []
  }
 ],
 "metadata": {
  "kernelspec": {
   "display_name": "Python 3 (ipykernel)",
   "language": "python",
   "name": "python3"
  },
  "language_info": {
   "codemirror_mode": {
    "name": "ipython",
    "version": 3
   },
   "file_extension": ".py",
   "mimetype": "text/x-python",
   "name": "python",
   "nbconvert_exporter": "python",
   "pygments_lexer": "ipython3",
   "version": "3.10.6"
  }
 },
 "nbformat": 4,
 "nbformat_minor": 4
}
