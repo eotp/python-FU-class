{
 "cells": [
  {
   "cell_type": "markdown",
   "id": "66850d66",
   "metadata": {},
   "source": [
    "# Data Preparation for Streamlit Powerplants Implementation\n",
    "Our Powerplants data contains specifics about green and non-green energy on individual coordinates.\n",
    "\n",
    "In this session we want to create a nice looking web-page that let's us easily compare statistics between individual countries.\n",
    "\n",
    "In order to do this we have to aggregate our individual coordinate-based data to per-country data."
   ]
  },
  {
   "cell_type": "markdown",
   "id": "90e09f5b-5367-40f8-b396-b78805938fac",
   "metadata": {},
   "source": [
    "## Imports"
   ]
  },
  {
   "cell_type": "code",
   "execution_count": null,
   "id": "a159f93b-f294-4637-a346-c49c83659c3c",
   "metadata": {},
   "outputs": [],
   "source": [
    "import geopandas as gpd\n",
    "import pandas as pd\n",
    "import folium\n",
    "pd.set_option('display.max_rows', 100)\n",
    "pd.set_option('display.max_columns', 100)\n",
    "pd.set_option('display.width', None)\n",
    "pd.set_option('display.max_colwidth', 100)"
   ]
  },
  {
   "cell_type": "markdown",
   "id": "9a171443-5a17-40f7-abe9-bd51b24cc5df",
   "metadata": {},
   "source": [
    "## Load Raw Data"
   ]
  },
  {
   "cell_type": "code",
   "execution_count": null,
   "id": "df807625-c95e-4feb-a564-1bbb7d27d18e",
   "metadata": {},
   "outputs": [],
   "source": [
    "# load data on european countries\n",
    "europe = pd.read_pickle(\"../data/europe.p\").to_crs(\"EPSG:4326\")\n",
    "# contains all countries intersecting our polygon from the WW2 analysis\n",
    "europe.sample(5)# not only european countries per se\n",
    "# columns of interest for us: name and geometry\n",
    "europe.head()"
   ]
  },
  {
   "cell_type": "code",
   "execution_count": null,
   "id": "09d3186d-e5e0-4522-85bc-61645e595e66",
   "metadata": {},
   "outputs": [],
   "source": [
    "europe.shape"
   ]
  },
  {
   "cell_type": "code",
   "execution_count": null,
   "id": "f20942b4",
   "metadata": {},
   "outputs": [],
   "source": [
    "# load Powerplants data for target_df\n",
    "# geometry contains coordinate POINTS\n",
    "europe_data = pd.read_pickle(\"../data/gdf_europe.p\").to_crs(\"EPSG:4326\")\n",
    "europe_data.head()"
   ]
  },
  {
   "cell_type": "code",
   "execution_count": null,
   "id": "6c0d3505-9ae2-4112-bfa4-e7131e522fb6",
   "metadata": {},
   "outputs": [],
   "source": [
    "europe_data.shape"
   ]
  },
  {
   "cell_type": "markdown",
   "id": "ac7f1bf6-7677-4826-9a03-a8776c6fecc2",
   "metadata": {},
   "source": [
    "## Replace coordinates by countries polygons"
   ]
  },
  {
   "cell_type": "code",
   "execution_count": null,
   "id": "11f77326-26c9-4b43-86c2-91879db76cad",
   "metadata": {},
   "outputs": [],
   "source": [
    "res_intersect_europe = gpd.overlay(europe_data, europe, how='intersection')\n",
    "# Basically checks for each geometry in \"europe_data\" (target coordinates) \n",
    "# if intersects with geometry of \"target_df\" (country)\n",
    "# -> Merges both dataframes and keeps country polygon instead of target coordinates\n",
    "res_intersect_europe.head()"
   ]
  },
  {
   "cell_type": "code",
   "execution_count": null,
   "id": "d740a5fd-08b5-498a-a69d-b1e6c0d10b1c",
   "metadata": {},
   "outputs": [],
   "source": [
    "res_intersect_europe.shape"
   ]
  },
  {
   "cell_type": "code",
   "execution_count": null,
   "id": "4b3c63e1-0ea9-4096-88fb-52d258ba3716",
   "metadata": {},
   "outputs": [],
   "source": [
    "# Set index to country name so we can directly insert data grouped by country name\n",
    "europe.set_index(\"name\", inplace=True, drop=False)"
   ]
  },
  {
   "cell_type": "code",
   "execution_count": null,
   "id": "211509b9",
   "metadata": {},
   "outputs": [],
   "source": [
    "def insert_totals(target_df, data_df):\n",
    "    # get powerplant counts and green ratio\n",
    "    # and apply it to a given target country\n",
    "    # get totals\n",
    "    target_df[f\"N_powerplants\"] = data_df.groupby(\"name\").size()\n",
    "    target_df[f\"N_green\"] = data_df.loc[data_df[\"green\"]].groupby(\"name\").size()\n",
    "    # replace NaN (no a number) values with 0\n",
    "    target_df.fillna(0, inplace=True)\n",
    "    n_green = data_df.groupby([\"name\", \"green\"])[\"name\"].size().unstack()\n",
    "    target_df[\"green_ratio\"] = (n_green[True] / n_green.sum(axis=1)).fillna(0)\n",
    "    return target_df"
   ]
  },
  {
   "cell_type": "code",
   "execution_count": null,
   "id": "bece33b3",
   "metadata": {
    "tags": []
   },
   "outputs": [],
   "source": [
    "europe = insert_totals(europe, res_intersect_europe)"
   ]
  },
  {
   "cell_type": "code",
   "execution_count": null,
   "id": "8f583b41-53de-4ca3-8aae-ec7bbb8b0e16",
   "metadata": {},
   "outputs": [],
   "source": [
    "europe.head(1)"
   ]
  },
  {
   "cell_type": "code",
   "execution_count": null,
   "id": "244a12a5",
   "metadata": {},
   "outputs": [],
   "source": [
    "europe = europe.loc[europe[\"continent\"] == \"Europe\"]"
   ]
  },
  {
   "cell_type": "code",
   "execution_count": null,
   "id": "5cb62d95",
   "metadata": {},
   "outputs": [],
   "source": [
    "def insert_fuel_types(target_df, data_df):\n",
    "    for pp_type in data_df[\"primary_fuel\"].unique():\n",
    "        target_df[f\"N_fuel_{pp_type}\"] = data_df.loc[data_df[\"primary_fuel\"] == pp_type].groupby(\"name\").size()\n",
    "        data_df.loc[data_df[\"primary_fuel\"] == pp_type, f\"is_{pp_type}\"] = True\n",
    "        data_df.loc[data_df[\"primary_fuel\"] != pp_type, f\"is_{pp_type}\"] = False \n",
    "        ratio = data_df.groupby([\"name\", f\"is_{pp_type}\"]).size().unstack().fillna(0)\n",
    "        target_df[f\"fuel_ratio_{pp_type}\"] = ratio[True] / ratio.sum(axis=1)\n",
    "\n",
    "        production = data_df.groupby([\"name\", f\"is_{pp_type}\"])[\"estimated_generation_gwh_2020\"].sum().unstack().fillna(0)\n",
    "\n",
    "        target_df[f\"fuel_generation_ratio_{pp_type}\"] = production[True] / production.sum(axis=1)\n",
    "        target_df[f\"fuel_generation_total_{pp_type}\"] = production[True]\n",
    "    return target_df"
   ]
  },
  {
   "cell_type": "code",
   "execution_count": null,
   "id": "5d6c0284",
   "metadata": {},
   "outputs": [],
   "source": [
    "europe = insert_fuel_types(europe, res_intersect_europe).fillna(0)"
   ]
  },
  {
   "cell_type": "code",
   "execution_count": null,
   "id": "a87711c9-c870-402b-a3f0-1b30bb9b8852",
   "metadata": {},
   "outputs": [],
   "source": [
    "europe.shape"
   ]
  },
  {
   "cell_type": "code",
   "execution_count": null,
   "id": "a5c14d2b-aca3-46d6-87a4-757499eb0380",
   "metadata": {},
   "outputs": [],
   "source": [
    "europe.head(5)"
   ]
  },
  {
   "cell_type": "code",
   "execution_count": null,
   "id": "d3474f92-b880-4833-a2e6-bd8ad43088b1",
   "metadata": {},
   "outputs": [],
   "source": [
    "europe = europe.drop('name',axis=1)"
   ]
  },
  {
   "cell_type": "code",
   "execution_count": null,
   "id": "ec95319e-9f9d-4127-b8ae-b49c644c4500",
   "metadata": {},
   "outputs": [],
   "source": [
    "europe = europe.reset_index()\n",
    "europe = europe.fillna(0)\n",
    "europe['id'] = europe.index # Work around German Umlaute"
   ]
  },
  {
   "cell_type": "code",
   "execution_count": null,
   "id": "aeec9db0-7fdf-42bc-be9d-b0106c0f5b79",
   "metadata": {},
   "outputs": [],
   "source": [
    "europe.to_file('Europa.geojson', driver=\"GeoJSON\",index=False,encoding='latin1')\n",
    "europe.to_csv('Europa.csv',index=False,encoding='latin1')\n",
    "europe_df = pd.read_csv('Europa.csv',encoding='latin1')\n",
    "europe_df.loc[europe['name']== 'Austria']"
   ]
  },
  {
   "cell_type": "markdown",
   "id": "4b6b64f7-54f2-495f-a621-86dfd0fcdcbf",
   "metadata": {},
   "source": [
    "# German Bundeslaender"
   ]
  },
  {
   "cell_type": "code",
   "execution_count": null,
   "id": "45ea4135-e800-4b03-97bd-7eff8e41f0e7",
   "metadata": {},
   "outputs": [],
   "source": [
    "# load data containing German Bundesländer\n",
    "# similarly to the europe dataset it contains polygons mapping individual Bundesländer\n",
    "bl = gpd.read_file('../data/vg2500_geo84.zip').to_crs(\"EPSG:4326\")\n",
    "# rename the column that specifies the name so that is the same with the remaining data\n",
    "bl.rename({\"GEN\": \"name\"}, axis=1, inplace=True)"
   ]
  },
  {
   "cell_type": "code",
   "execution_count": null,
   "id": "c6bf087a-1562-4fe1-9223-842c9fa72c21",
   "metadata": {},
   "outputs": [],
   "source": [
    "bl.shape"
   ]
  },
  {
   "cell_type": "code",
   "execution_count": null,
   "id": "19ed46c5",
   "metadata": {},
   "outputs": [],
   "source": [
    "bl.head()"
   ]
  },
  {
   "cell_type": "code",
   "execution_count": null,
   "id": "96fb60e8-f5f1-422d-b050-d7327d721542",
   "metadata": {},
   "outputs": [],
   "source": [
    "# same as before but now we want to aggregate data for individual Bundesländer\n",
    "res_intersect_bl = gpd.overlay(europe_data, bl, how='intersection')"
   ]
  },
  {
   "cell_type": "code",
   "execution_count": null,
   "id": "e36d368f",
   "metadata": {},
   "outputs": [],
   "source": [
    "res_intersect_bl.sample(5)"
   ]
  },
  {
   "cell_type": "code",
   "execution_count": null,
   "id": "3f8364f8-cf16-466d-8b6a-a7ea17b6e57f",
   "metadata": {},
   "outputs": [],
   "source": [
    "bl.set_index(\"name\", inplace=True)\n",
    "bl = insert_totals(bl, res_intersect_bl)\n",
    "bl = insert_fuel_types(bl, res_intersect_bl)"
   ]
  },
  {
   "cell_type": "code",
   "execution_count": null,
   "id": "b4575efd-c6b3-4f4c-b033-81f54221313f",
   "metadata": {},
   "outputs": [],
   "source": [
    "bl = bl.reset_index()\n",
    "bl = bl.fillna(0)\n",
    "bl['id'] = bl.index"
   ]
  },
  {
   "cell_type": "code",
   "execution_count": null,
   "id": "52d6a1a8-d847-4e88-b630-876819a48000",
   "metadata": {},
   "outputs": [],
   "source": [
    "bl.to_file('Bundeslaender.geojson', driver=\"GeoJSON\",index=False,encoding='latin1')\n",
    "bl.to_csv('Bundeslaender.csv',index=False,encoding='latin1')\n",
    "bl_df = pd.read_csv('Bundeslaender.csv',encoding='latin1')\n",
    "bl_df.head()"
   ]
  },
  {
   "cell_type": "markdown",
   "id": "87b58541-215a-44b6-b2bc-03adea231231",
   "metadata": {},
   "source": [
    "## German Landkreise\n",
    "Let's go even lower than Bundesländer"
   ]
  },
  {
   "cell_type": "code",
   "execution_count": null,
   "id": "6e118475-9803-4e70-891d-3afd4738cfcb",
   "metadata": {},
   "outputs": [],
   "source": [
    "kreise = gpd.read_file('../data/vg2500_krs.zip').to_crs(\"EPSG:4326\")\n",
    "kreise.rename({\"GEN\": \"name\"}, axis=1, inplace=True)\n",
    "kreise.sample(5)"
   ]
  },
  {
   "cell_type": "markdown",
   "id": "0a80e23f",
   "metadata": {
    "tags": []
   },
   "source": [
    "repeat the stepts"
   ]
  },
  {
   "cell_type": "code",
   "execution_count": null,
   "id": "84b78dc6-22d0-4f6d-9592-f53e1867dca6",
   "metadata": {},
   "outputs": [],
   "source": [
    "res_intersect_kreise = gpd.overlay(europe_data, kreise, how='intersection')"
   ]
  },
  {
   "cell_type": "code",
   "execution_count": null,
   "id": "4d51f82d",
   "metadata": {},
   "outputs": [],
   "source": [
    "kreise.set_index(\"name\", inplace=True)\n",
    "kreise = insert_totals(kreise, res_intersect_kreise)\n",
    "kreise = insert_fuel_types(kreise, res_intersect_kreise)"
   ]
  },
  {
   "cell_type": "code",
   "execution_count": null,
   "id": "c5669dcd-c7b4-4262-bf76-1671f480e0ce",
   "metadata": {},
   "outputs": [],
   "source": [
    "kreise = kreise.reset_index()\n",
    "kreise = kreise.fillna(0)\n",
    "kreise['id'] = kreise.index"
   ]
  },
  {
   "cell_type": "code",
   "execution_count": null,
   "id": "68611833-274d-4435-96f3-76ef0ee0e2f3",
   "metadata": {},
   "outputs": [],
   "source": [
    "kreise.to_file('Landkreise.geojson', driver=\"GeoJSON\",index=False,encoding='latin1')\n",
    "kreise.to_csv('Landkreise.csv',index=False,encoding='latin1')\n",
    "kreise_df = pd.read_csv('Landkreise.csv',encoding='latin1')\n",
    "kreise_df.head()"
   ]
  },
  {
   "cell_type": "code",
   "execution_count": null,
   "id": "66be0eda-6215-4191-a4a1-47efce891e62",
   "metadata": {},
   "outputs": [],
   "source": [
    "kreise_df.shape"
   ]
  },
  {
   "cell_type": "code",
   "execution_count": null,
   "id": "993010f2-91cc-48d5-b026-2ad1b42fd3d6",
   "metadata": {},
   "outputs": [],
   "source": [
    "kreise.shape"
   ]
  },
  {
   "cell_type": "code",
   "execution_count": null,
   "id": "d93aed9d-a4a5-424a-af75-fa07e1236e0d",
   "metadata": {},
   "outputs": [],
   "source": [
    "kreise_df.isnull().sum().sum()"
   ]
  },
  {
   "cell_type": "code",
   "execution_count": null,
   "id": "a4c8a922-5367-4b8e-848f-572227347451",
   "metadata": {},
   "outputs": [],
   "source": [
    "kreise.isnull().sum().sum()"
   ]
  },
  {
   "cell_type": "code",
   "execution_count": null,
   "id": "80823f8e-6da8-4c65-adcc-9f1aebc5535e",
   "metadata": {},
   "outputs": [],
   "source": [
    "kreise.crs"
   ]
  },
  {
   "cell_type": "code",
   "execution_count": null,
   "id": "25688ed3",
   "metadata": {},
   "outputs": [],
   "source": [
    "world = gpd.read_file(gpd.datasets.get_path('naturalearth_lowres'))\n",
    "world_data = pd.read_pickle(\"../data/gdf_world.p\").to_crs(\"EPSG:4326\")\n",
    "res_intersect_world = gpd.overlay(world_data, world, how='intersection')"
   ]
  },
  {
   "cell_type": "code",
   "execution_count": null,
   "id": "8ad007a3",
   "metadata": {},
   "outputs": [],
   "source": [
    "world.set_index(\"name\", inplace=True)\n",
    "world = insert_totals(world, res_intersect_world)\n",
    "world = insert_fuel_types(world, res_intersect_world)"
   ]
  },
  {
   "cell_type": "code",
   "execution_count": null,
   "id": "9ae56d75-86d8-4b21-b8aa-0c5875ac8f95",
   "metadata": {},
   "outputs": [],
   "source": [
    "world = world.reset_index()\n",
    "world = world.fillna(0)\n",
    "world['id'] = world.index"
   ]
  },
  {
   "cell_type": "code",
   "execution_count": null,
   "id": "d8b47166-87f6-4cdb-a966-3e1c56ee2541",
   "metadata": {},
   "outputs": [],
   "source": [
    "world.to_file('Welt.geojson', driver=\"GeoJSON\",index=False,encoding='latin1')\n",
    "world.to_csv('Welt.csv',index=False,encoding='latin1')\n",
    "world_df = pd.read_csv('Welt.csv',encoding='latin1')\n",
    "world_df.head()"
   ]
  },
  {
   "cell_type": "markdown",
   "id": "fb791429-5644-4ea7-b0ed-0c4f7f5b0575",
   "metadata": {},
   "source": [
    "## Challenge"
   ]
  },
  {
   "cell_type": "markdown",
   "id": "89a44d92-15cb-4ebf-872f-8d48209df3a2",
   "metadata": {
    "tags": []
   },
   "source": [
    "## Streamlit App\n",
    "\n",
    "First we´ll have to install streamlit, folium, und streamlit_folium libraries\n",
    "\n",
    "``` Python\n",
    "conda install -c conda-forge folium\n",
    "\n",
    "conda install -c conda-forge streamlit\n",
    "\n",
    "conda install -c conda-forge streamlit-folium\n",
    "\n",
    "```\n",
    "\n",
    "Next we will create the streamlit app which displays our data in an interactive map:\n",
    "\n",
    "Let´s open a Python-file in jupyter lab!"
   ]
  },
  {
   "cell_type": "markdown",
   "id": "8eb3c209-87ae-446b-b85a-544619d590ab",
   "metadata": {},
   "source": [
    "![Alt-Text](pythonfile.png)"
   ]
  },
  {
   "cell_type": "markdown",
   "id": "80593bbf-0562-4b59-8f7f-61cdbb2f24ae",
   "metadata": {},
   "source": [
    "We import the necessary libraries and create a title for the map...\n",
    "```python\n",
    "import streamlit as st\n",
    "import geopandas as gpd\n",
    "import matplotlib.pyplot as plt\n",
    "import pandas as pd\n",
    "import folium\n",
    "from streamlit_folium import st_folium\n",
    "\n",
    "APP_TITLE = 'A simple interactive Map'\n",
    "\n",
    "\n",
    "st.set_page_config(APP_TITLE)\n",
    "st.title(APP_TITLE)\n",
    "\n",
    "```"
   ]
  },
  {
   "cell_type": "markdown",
   "id": "fd3d30c3-f9be-41c2-864e-2b1d7742b7cd",
   "metadata": {},
   "source": [
    "We use the selectbox feature in streamlit to make the user choose the filter for the data.\n",
    "\n",
    "```python\n",
    "choice = ['Welt','Europa','Bundeslaender','Landkreise']\n",
    "choice_selected = st.selectbox('Gebiet auswählen:', choice)\n",
    "\n",
    "```"
   ]
  },
  {
   "cell_type": "markdown",
   "id": "3c6ae34e-7f6e-4ee4-b9f2-d64f208117c3",
   "metadata": {},
   "source": [
    "We create the initial folium map and at a latitude tooltip:\n",
    "\n",
    "```python\n",
    "m = folium.Map()\n",
    "m.add_child(folium.LatLngPopup())\n",
    "\n",
    "```"
   ]
  },
  {
   "cell_type": "markdown",
   "id": "7578af84-bc99-4fb4-8e40-4286fad30ec7",
   "metadata": {},
   "source": [
    "Next we load the data of our Powerplants dataset for Landkreise, Bundeslaender, Europe and the world and add it to the folium map.\n",
    "\n",
    "```python\n",
    "data = gpd.read_file(f'{choice_selected}.geojson',encoding='latin1')\n",
    "data_df = pd.read_csv(f'{choice_selected}.csv',encoding='latin1')\n",
    "folium.GeoJson(data, name=\"geojson\").add_to(m)\n",
    "\n",
    "```"
   ]
  },
  {
   "cell_type": "markdown",
   "id": "4beb4141-950e-4681-bc25-e787583158bc",
   "metadata": {},
   "source": [
    "Next we add a choropleth map to the folium map\n",
    "\n",
    "```python\n",
    "choro = folium.Choropleth(geo_data = f'{choice_selected}.geojson',\n",
    "                              data=data_df,columns=('id','green_ratio'),\n",
    "                              key_on='feature.properties.id',\n",
    "                              fill_opacity=0.5,\n",
    "                              line_opacity=0.5,\n",
    "                              linewidth=1.1,\n",
    "                              fill_color='YlOrRd',\n",
    "                              highlight=True).add_to(m)\n",
    "\n",
    "```"
   ]
  },
  {
   "cell_type": "markdown",
   "id": "717ddc20-ed51-4de9-9465-c3b4ab636fee",
   "metadata": {},
   "source": [
    "Lastly we add a tooltip to the choropleth map and plot the map.\n",
    "\n",
    "```python\n",
    "choro.geojson.add_child(folium.features.GeoJsonTooltip(['name'],labels=False))\n",
    "    \n",
    "data2 = st_folium(m, width = 700, height = 450)\n",
    "```"
   ]
  },
  {
   "cell_type": "markdown",
   "id": "edaa7165-1d4d-43d2-9da1-76b1dbac13c5",
   "metadata": {},
   "source": [
    "We can start the app by running\n",
    "\n",
    "``` python\n",
    "streamlit run streamlit_app_name.py\n",
    "\n",
    "```"
   ]
  },
  {
   "cell_type": "code",
   "execution_count": null,
   "id": "a9c19c0a-1e75-489f-97d8-828936219509",
   "metadata": {},
   "outputs": [],
   "source": []
  }
 ],
 "metadata": {
  "kernelspec": {
   "display_name": "Python 3 (ipykernel)",
   "language": "python",
   "name": "python3"
  },
  "language_info": {
   "codemirror_mode": {
    "name": "ipython",
    "version": 3
   },
   "file_extension": ".py",
   "mimetype": "text/x-python",
   "name": "python",
   "nbconvert_exporter": "python",
   "pygments_lexer": "ipython3",
   "version": "3.9.21"
  },
  "vscode": {
   "interpreter": {
    "hash": "86fcf9d5bdcdc91ff18371a0debd92228df6ac5e9cebb35d2f1285faf0b8781d"
   }
  }
 },
 "nbformat": 4,
 "nbformat_minor": 5
}
