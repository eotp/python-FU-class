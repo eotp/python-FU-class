{
 "cells": [
  {
   "cell_type": "markdown",
   "id": "66850d66",
   "metadata": {},
   "source": [
    "# Data Preperation for Streamlit WW2 Implementation\n",
    "Our WW2 data contains attacks on individual coordinates.\n",
    "\n",
    "In this session we want to create a nice looking web-page that let's us easily compare statistics between individual countries.\n",
    "\n",
    "In order to do this we have to aggregate our individual coordinate-based data to per-country data."
   ]
  },
  {
   "cell_type": "markdown",
   "id": "90e09f5b-5367-40f8-b396-b78805938fac",
   "metadata": {},
   "source": [
    "## Imports"
   ]
  },
  {
   "cell_type": "code",
   "execution_count": null,
   "id": "a159f93b-f294-4637-a346-c49c83659c3c",
   "metadata": {},
   "outputs": [],
   "source": [
    "import pandas as pd\n",
    "import geopandas as gpd"
   ]
  },
  {
   "cell_type": "markdown",
   "id": "9a171443-5a17-40f7-abe9-bd51b24cc5df",
   "metadata": {},
   "source": [
    "## Load Raw Data"
   ]
  },
  {
   "cell_type": "code",
   "execution_count": null,
   "id": "df807625-c95e-4feb-a564-1bbb7d27d18e",
   "metadata": {},
   "outputs": [],
   "source": [
    "# load data on european countries\n",
    "europe = pd.read_pickle(\"../data/europe.p\").to_crs(\"EPSG:4326\")\n",
    "# contains all countries intersecting our polygon from the WW2 analysis\n",
    "# not only european countries per se\n",
    "# columns of interest for us: name and geometry\n",
    "europe.head()\n"
   ]
  },
  {
   "cell_type": "code",
   "execution_count": null,
   "id": "f20942b4",
   "metadata": {},
   "outputs": [],
   "source": [
    "# load WW2 data for europe\n",
    "# geometry contains coordinate POINTS\n",
    "europe_data = pd.read_pickle(\"../data/gdf_europe.p\").to_crs(\"EPSG:4326\")\n",
    "europe_data.head()"
   ]
  },
  {
   "cell_type": "markdown",
   "id": "ac7f1bf6-7677-4826-9a03-a8776c6fecc2",
   "metadata": {},
   "source": [
    "## Replace target coordinates by target countries polygons"
   ]
  },
  {
   "cell_type": "code",
   "execution_count": null,
   "id": "11f77326-26c9-4b43-86c2-91879db76cad",
   "metadata": {},
   "outputs": [],
   "source": [
    "res_intersect_europe = gpd.overlay(europe_data, europe, how='intersection')\n",
    "# Basically checks for each geometry in \"europe_data\" (target coordinates) \n",
    "# if intersects with geometry of \"europe\" (country)\n",
    "# -> Merges both dataframes and keeps country polygon instead of target coordinates\n",
    "res_intersect_europe.head()"
   ]
  },
  {
   "cell_type": "code",
   "execution_count": null,
   "id": "4b3c63e1-0ea9-4096-88fb-52d258ba3716",
   "metadata": {},
   "outputs": [],
   "source": [
    "# Set index to country name so we can directly insert data grouped by country name\n",
    "europe.set_index(\"name\", inplace=True, drop=False)"
   ]
  },
  {
   "cell_type": "code",
   "execution_count": null,
   "id": "7176fc55-97be-4ee5-aa1e-d75397d39bdc",
   "metadata": {},
   "outputs": [],
   "source": [
    "# get attack counts and total weight of explosives per year\n",
    "# and apply it to a given target country\n",
    "for year in range(1939, 1946):\n",
    "    subset = res_intersect_europe.loc[res_intersect_europe['year'] == year]\n",
    "    europe[f\"attacks_{year}\"] = subset.groupby(\"name\")[\"Mission ID\"].count()\n",
    "    europe[f\"explosives_weight_{year}\"] = subset.groupby(\"name\")[\"High Explosives Weight (Tons)\"].sum()\n",
    "# get totals\n",
    "europe[f\"attacks_all\"] = res_intersect_europe.groupby(\"name\")[\"Mission ID\"].count()\n",
    "europe[f\"explosives_weight_all\"] = res_intersect_europe.groupby(\"name\")[\"High Explosives Weight (Tons)\"].sum()\n",
    "# replace NaN (no a number) values with 0\n",
    "europe.fillna(0, inplace=True)"
   ]
  },
  {
   "cell_type": "code",
   "execution_count": null,
   "id": "dd2d40ea",
   "metadata": {},
   "outputs": [],
   "source": [
    "# since we will be doing this more often, let's build a generic function that implements the steps above\n",
    "def aggregate_per_year(\n",
    "                    df: pd.DataFrame, \n",
    "                    df_data: pd.DataFrame, \n",
    "                    target_column: str = \"Mission ID\", \n",
    "                    aggr_column_name: str = \"attacks\",\n",
    "                    aggr_method: str = \"count\",\n",
    "                    years: list = range(1939, 1945 + 1),\n",
    "                ) -> pd.DataFrame:\n",
    "    \"\"\"[summary]\n",
    "\n",
    "    Returns:\n",
    "        [type]: [description]\n",
    "    \"\"\"\n",
    "    for year in years:\n",
    "        subset = df_data.loc[df_data['year'] == year]\n",
    "        df[f\"{aggr_column_name}_{year}\"] = subset.groupby(\"name\")[target_column].agg(aggr_method)\n",
    "    df[f\"{aggr_column_name}_all\"] = df_data.groupby(\"name\")[target_column].agg(aggr_method)\n",
    "    df.fillna(0, inplace=True)\n",
    "    return df"
   ]
  },
  {
   "cell_type": "code",
   "execution_count": null,
   "id": "272b8f11",
   "metadata": {},
   "outputs": [],
   "source": [
    "aggregate_per_year(\n",
    "    europe, res_intersect_europe\n",
    ")"
   ]
  },
  {
   "cell_type": "code",
   "execution_count": null,
   "id": "4bfec9f7",
   "metadata": {},
   "outputs": [],
   "source": [
    "# our data now contains the name of a country\n",
    "# it's borders and number of attacks and total weight of explosives dropped per year\n",
    "europe.loc[\"Germany\"].to_frame()"
   ]
  },
  {
   "cell_type": "code",
   "execution_count": null,
   "id": "aac3b566",
   "metadata": {},
   "outputs": [],
   "source": [
    "europe.sample(5)"
   ]
  },
  {
   "cell_type": "markdown",
   "id": "4b6b64f7-54f2-495f-a621-86dfd0fcdcbf",
   "metadata": {},
   "source": [
    "# German Bundeslaender"
   ]
  },
  {
   "cell_type": "code",
   "execution_count": null,
   "id": "45ea4135-e800-4b03-97bd-7eff8e41f0e7",
   "metadata": {},
   "outputs": [],
   "source": [
    "# load data containing German Bundesländer\n",
    "# similarly to the europe dataset it contains polygons mapping individual Bundesländer\n",
    "bl = gpd.read_file('../data/vg2500_geo84.zip').to_crs(\"EPSG:4326\")\n",
    "# rename the column that specifies the name so that is the same with the remaining data\n",
    "bl.rename({\"GEN\": \"name\"}, axis=1, inplace=True)"
   ]
  },
  {
   "cell_type": "code",
   "execution_count": null,
   "id": "19ed46c5",
   "metadata": {},
   "outputs": [],
   "source": [
    "bl.head()"
   ]
  },
  {
   "cell_type": "code",
   "execution_count": null,
   "id": "96fb60e8-f5f1-422d-b050-d7327d721542",
   "metadata": {},
   "outputs": [],
   "source": [
    "# same as before but now we want to aggregate data for individual Bundesländer\n",
    "res_intersect_bl = gpd.overlay(europe_data, bl, how='intersection')"
   ]
  },
  {
   "cell_type": "code",
   "execution_count": null,
   "id": "e36d368f",
   "metadata": {},
   "outputs": [],
   "source": [
    "res_intersect_bl.sample(5)"
   ]
  },
  {
   "cell_type": "code",
   "execution_count": null,
   "id": "3f8364f8-cf16-466d-8b6a-a7ea17b6e57f",
   "metadata": {},
   "outputs": [],
   "source": [
    "# get attack counts and total weight of explosives per year\n",
    "# and apply it to a given target Bundesland\n",
    "for year in range(1939, 1946):\n",
    "    subset = res_intersect_bl.loc[res_intersect_bl['year'] == year]\n",
    "    bl[f\"attacks_{year}\"] = subset.groupby(\"name\")[\"Mission ID\"].count()\n",
    "    bl[f\"explosives_weight_{year}\"] = subset.groupby(\"name\")[\"High Explosives Weight (Tons)\"].sum()\n",
    "bl[f\"attacks_all\"] = res_intersect_bl.groupby(\"name\")[\"Mission ID\"].count()\n",
    "bl[f\"explosives_weight_all\"] = res_intersect_bl.groupby(\"name\")[\"High Explosives Weight (Tons)\"].sum()\n",
    "bl.fillna(0, inplace=True)"
   ]
  },
  {
   "cell_type": "code",
   "execution_count": null,
   "id": "bf91dc03-396d-4f55-920a-36369e313eb0",
   "metadata": {},
   "outputs": [],
   "source": [
    "bl.sample(5)"
   ]
  },
  {
   "cell_type": "markdown",
   "id": "87b58541-215a-44b6-b2bc-03adea231231",
   "metadata": {},
   "source": [
    "## German Landkreise\n",
    "Let's go even lower than Bundesländer"
   ]
  },
  {
   "cell_type": "code",
   "execution_count": null,
   "id": "6e118475-9803-4e70-891d-3afd4738cfcb",
   "metadata": {},
   "outputs": [],
   "source": [
    "kreise = gpd.read_file('../data/vg2500_krs.zip').to_crs(\"EPSG:4326\")\n",
    "kreise.rename({\"GEN\": \"name\"}, axis=1, inplace=True)\n",
    "kreise.sample(5)"
   ]
  },
  {
   "cell_type": "markdown",
   "id": "0a80e23f",
   "metadata": {},
   "source": [
    "repeat the stepts"
   ]
  },
  {
   "cell_type": "code",
   "execution_count": null,
   "id": "84b78dc6-22d0-4f6d-9592-f53e1867dca6",
   "metadata": {},
   "outputs": [],
   "source": [
    "res_intersect_kreise = gpd.overlay(europe_data, kreise, how='intersection')"
   ]
  },
  {
   "cell_type": "code",
   "execution_count": null,
   "id": "97b0c3a0-beb9-4a11-98e6-24b6ff237617",
   "metadata": {},
   "outputs": [],
   "source": [
    "for year in range(1939, 1946):\n",
    "    subset = res_intersect_kreise.loc[res_intersect_kreise['year'] == year]\n",
    "    kreise[f\"attacks_{year}\"] = subset.groupby(\"name\")[\"Mission ID\"].count()\n",
    "    kreise[f\"explosives_weight_{year}\"] = subset.groupby(\"name\")[\"High Explosives Weight (Tons)\"].sum()\n",
    "kreise[f\"attacks_all\"] = res_intersect_kreise.groupby(\"name\")[\"Mission ID\"].count()\n",
    "kreise[f\"explosives_weight_all\"] = res_intersect_kreise.groupby(\"name\")[\"High Explosives Weight (Tons)\"].sum()\n",
    "kreise.fillna(0, inplace=True)"
   ]
  },
  {
   "cell_type": "code",
   "execution_count": null,
   "id": "6ad5eb8b-2c2d-46da-bbbc-251495d5ada9",
   "metadata": {},
   "outputs": [],
   "source": [
    "europe.to_pickle(\"../data/europe_attacks.p\")\n",
    "bl.to_pickle(\"../data/bl_attacks.p\")\n",
    "kreise.to_pickle(\"../data/kreise_attacks.p\")"
   ]
  },
  {
   "cell_type": "code",
   "execution_count": null,
   "id": "a74cbeea-b83b-4380-880c-fa80fd5fc2ce",
   "metadata": {},
   "outputs": [],
   "source": [
    "res_intersect_kreise.to_pickle(\"../data/kreise_full.p\")"
   ]
  },
  {
   "cell_type": "code",
   "execution_count": null,
   "id": "aeb6426b-cd65-4f4b-aa11-94c5573f48c9",
   "metadata": {},
   "outputs": [],
   "source": [
    "res_intersect_kreise"
   ]
  },
  {
   "cell_type": "code",
   "execution_count": null,
   "id": "ec7710b6-eafd-4cec-b48e-63474eed9789",
   "metadata": {},
   "outputs": [],
   "source": []
  }
 ],
 "metadata": {
  "kernelspec": {
   "display_name": "Python 3 (ipykernel)",
   "language": "python",
   "name": "python3"
  },
  "language_info": {
   "codemirror_mode": {
    "name": "ipython",
    "version": 3
   },
   "file_extension": ".py",
   "mimetype": "text/x-python",
   "name": "python",
   "nbconvert_exporter": "python",
   "pygments_lexer": "ipython3",
   "version": "3.9.21"
  },
  "vscode": {
   "interpreter": {
    "hash": "b0fa6594d8f4cbf19f97940f81e996739fb7646882a419484c72d19e05852a7e"
   }
  }
 },
 "nbformat": 4,
 "nbformat_minor": 5
}
