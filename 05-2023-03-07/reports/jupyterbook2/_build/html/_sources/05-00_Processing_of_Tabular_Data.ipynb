{
 "cells": [
  {
   "cell_type": "markdown",
   "metadata": {},
   "source": [
    "# Challenge: Processing of Tabular Data "
   ]
  },
  {
   "cell_type": "markdown",
   "metadata": {},
   "source": [
    "__Import Statements__"
   ]
  },
  {
   "cell_type": "code",
   "execution_count": 1,
   "metadata": {},
   "outputs": [],
   "source": [
    "%matplotlib inline\n",
    "import pandas as pd\n",
    "import matplotlib.pyplot as plt"
   ]
  },
  {
   "cell_type": "markdown",
   "metadata": {},
   "source": [
    "## Read the data"
   ]
  },
  {
   "cell_type": "markdown",
   "metadata": {},
   "source": [
    "> ### Challenge: Read the `IHME_GBD_2016_POPULATION_ESTIMATES_1990_2016_Y2017M09D14.CSV` file stored in the `../data/` folder and store it to a variable namend `pop`. _Hint: Use the_ `pd.read_csv` _function._ "
   ]
  },
  {
   "cell_type": "code",
   "execution_count": 2,
   "metadata": {},
   "outputs": [
    {
     "data": {
      "text/html": [
       "<div>\n",
       "<style scoped>\n",
       "    .dataframe tbody tr th:only-of-type {\n",
       "        vertical-align: middle;\n",
       "    }\n",
       "\n",
       "    .dataframe tbody tr th {\n",
       "        vertical-align: top;\n",
       "    }\n",
       "\n",
       "    .dataframe thead th {\n",
       "        text-align: right;\n",
       "    }\n",
       "</style>\n",
       "<table border=\"1\" class=\"dataframe\">\n",
       "  <thead>\n",
       "    <tr style=\"text-align: right;\">\n",
       "      <th></th>\n",
       "      <th>location_id</th>\n",
       "      <th>location_name</th>\n",
       "      <th>sex_id</th>\n",
       "      <th>sex_name</th>\n",
       "      <th>age_group_id</th>\n",
       "      <th>age_group_name</th>\n",
       "      <th>year_id</th>\n",
       "      <th>pop</th>\n",
       "    </tr>\n",
       "  </thead>\n",
       "  <tbody>\n",
       "    <tr>\n",
       "      <th>0</th>\n",
       "      <td>1</td>\n",
       "      <td>Global</td>\n",
       "      <td>1</td>\n",
       "      <td>Male</td>\n",
       "      <td>1</td>\n",
       "      <td>Under 5</td>\n",
       "      <td>1990</td>\n",
       "      <td>3.073378e+08</td>\n",
       "    </tr>\n",
       "    <tr>\n",
       "      <th>1</th>\n",
       "      <td>1</td>\n",
       "      <td>Global</td>\n",
       "      <td>2</td>\n",
       "      <td>Female</td>\n",
       "      <td>1</td>\n",
       "      <td>Under 5</td>\n",
       "      <td>1990</td>\n",
       "      <td>2.911299e+08</td>\n",
       "    </tr>\n",
       "    <tr>\n",
       "      <th>2</th>\n",
       "      <td>1</td>\n",
       "      <td>Global</td>\n",
       "      <td>3</td>\n",
       "      <td>Both</td>\n",
       "      <td>1</td>\n",
       "      <td>Under 5</td>\n",
       "      <td>1990</td>\n",
       "      <td>5.984677e+08</td>\n",
       "    </tr>\n",
       "    <tr>\n",
       "      <th>3</th>\n",
       "      <td>1</td>\n",
       "      <td>Global</td>\n",
       "      <td>1</td>\n",
       "      <td>Male</td>\n",
       "      <td>1</td>\n",
       "      <td>Under 5</td>\n",
       "      <td>1991</td>\n",
       "      <td>3.089656e+08</td>\n",
       "    </tr>\n",
       "    <tr>\n",
       "      <th>4</th>\n",
       "      <td>1</td>\n",
       "      <td>Global</td>\n",
       "      <td>2</td>\n",
       "      <td>Female</td>\n",
       "      <td>1</td>\n",
       "      <td>Under 5</td>\n",
       "      <td>1991</td>\n",
       "      <td>2.921822e+08</td>\n",
       "    </tr>\n",
       "    <tr>\n",
       "      <th>...</th>\n",
       "      <td>...</td>\n",
       "      <td>...</td>\n",
       "      <td>...</td>\n",
       "      <td>...</td>\n",
       "      <td>...</td>\n",
       "      <td>...</td>\n",
       "      <td>...</td>\n",
       "      <td>...</td>\n",
       "    </tr>\n",
       "    <tr>\n",
       "      <th>603931</th>\n",
       "      <td>44639</td>\n",
       "      <td>Middle SDI</td>\n",
       "      <td>2</td>\n",
       "      <td>Female</td>\n",
       "      <td>235</td>\n",
       "      <td>95 plus</td>\n",
       "      <td>2015</td>\n",
       "      <td>3.984956e+05</td>\n",
       "    </tr>\n",
       "    <tr>\n",
       "      <th>603932</th>\n",
       "      <td>44639</td>\n",
       "      <td>Middle SDI</td>\n",
       "      <td>3</td>\n",
       "      <td>Both</td>\n",
       "      <td>235</td>\n",
       "      <td>95 plus</td>\n",
       "      <td>2015</td>\n",
       "      <td>5.625882e+05</td>\n",
       "    </tr>\n",
       "    <tr>\n",
       "      <th>603933</th>\n",
       "      <td>44639</td>\n",
       "      <td>Middle SDI</td>\n",
       "      <td>1</td>\n",
       "      <td>Male</td>\n",
       "      <td>235</td>\n",
       "      <td>95 plus</td>\n",
       "      <td>2016</td>\n",
       "      <td>1.766505e+05</td>\n",
       "    </tr>\n",
       "    <tr>\n",
       "      <th>603934</th>\n",
       "      <td>44639</td>\n",
       "      <td>Middle SDI</td>\n",
       "      <td>2</td>\n",
       "      <td>Female</td>\n",
       "      <td>235</td>\n",
       "      <td>95 plus</td>\n",
       "      <td>2016</td>\n",
       "      <td>4.302028e+05</td>\n",
       "    </tr>\n",
       "    <tr>\n",
       "      <th>603935</th>\n",
       "      <td>44639</td>\n",
       "      <td>Middle SDI</td>\n",
       "      <td>3</td>\n",
       "      <td>Both</td>\n",
       "      <td>235</td>\n",
       "      <td>95 plus</td>\n",
       "      <td>2016</td>\n",
       "      <td>6.068534e+05</td>\n",
       "    </tr>\n",
       "  </tbody>\n",
       "</table>\n",
       "<p>603936 rows × 8 columns</p>\n",
       "</div>"
      ],
      "text/plain": [
       "        location_id location_name  sex_id sex_name  age_group_id  \\\n",
       "0                 1        Global       1     Male             1   \n",
       "1                 1        Global       2   Female             1   \n",
       "2                 1        Global       3     Both             1   \n",
       "3                 1        Global       1     Male             1   \n",
       "4                 1        Global       2   Female             1   \n",
       "...             ...           ...     ...      ...           ...   \n",
       "603931        44639    Middle SDI       2   Female           235   \n",
       "603932        44639    Middle SDI       3     Both           235   \n",
       "603933        44639    Middle SDI       1     Male           235   \n",
       "603934        44639    Middle SDI       2   Female           235   \n",
       "603935        44639    Middle SDI       3     Both           235   \n",
       "\n",
       "       age_group_name  year_id           pop  \n",
       "0             Under 5     1990  3.073378e+08  \n",
       "1             Under 5     1990  2.911299e+08  \n",
       "2             Under 5     1990  5.984677e+08  \n",
       "3             Under 5     1991  3.089656e+08  \n",
       "4             Under 5     1991  2.921822e+08  \n",
       "...               ...      ...           ...  \n",
       "603931        95 plus     2015  3.984956e+05  \n",
       "603932        95 plus     2015  5.625882e+05  \n",
       "603933        95 plus     2016  1.766505e+05  \n",
       "603934        95 plus     2016  4.302028e+05  \n",
       "603935        95 plus     2016  6.068534e+05  \n",
       "\n",
       "[603936 rows x 8 columns]"
      ]
     },
     "execution_count": 2,
     "metadata": {},
     "output_type": "execute_result"
    }
   ],
   "source": [
    "## your code here\n",
    "pop = pd.read_csv(\"../data/IHME_GBD_2016_POPULATION_ESTIMATES_1990_2016_Y2017M09D14.CSV\")\n",
    "pop"
   ]
  },
  {
   "cell_type": "code",
   "execution_count": 3,
   "metadata": {},
   "outputs": [],
   "source": [
    "# %load ../src/_solutions/tab_data01.py"
   ]
  },
  {
   "cell_type": "markdown",
   "metadata": {},
   "source": [
    "## Inspect the data"
   ]
  },
  {
   "cell_type": "markdown",
   "metadata": {},
   "source": [
    "> ### Challenge: Inspect the data by \n",
    "* printing the column names\n",
    "* counting the number of unique entries in the `location_name` column\n",
    "* printing some location names\n",
    "* figuring out the unique categories for the `sex_name` and `age_group` columns\n"
   ]
  },
  {
   "cell_type": "markdown",
   "metadata": {},
   "source": [
    "\n",
    "### Exploratory Data Analysis"
   ]
  },
  {
   "cell_type": "markdown",
   "metadata": {},
   "source": [
    "* printing the column names"
   ]
  },
  {
   "cell_type": "code",
   "execution_count": 4,
   "metadata": {},
   "outputs": [
    {
     "data": {
      "text/plain": [
       "Index(['location_id', 'location_name', 'sex_id', 'sex_name', 'age_group_id',\n",
       "       'age_group_name', 'year_id', 'pop'],\n",
       "      dtype='object')"
      ]
     },
     "execution_count": 4,
     "metadata": {},
     "output_type": "execute_result"
    }
   ],
   "source": [
    "## your code here\n",
    "pop.columns"
   ]
  },
  {
   "cell_type": "markdown",
   "metadata": {},
   "source": [
    "* counting the number of unique entries in the `location_name` column"
   ]
  },
  {
   "cell_type": "code",
   "execution_count": 5,
   "metadata": {},
   "outputs": [
    {
     "data": {
      "text/plain": [
       "231"
      ]
     },
     "execution_count": 5,
     "metadata": {},
     "output_type": "execute_result"
    }
   ],
   "source": [
    "## your code here\n",
    "pop[\"location_name\"].nunique()"
   ]
  },
  {
   "cell_type": "markdown",
   "metadata": {},
   "source": [
    "* printing some location names"
   ]
  },
  {
   "cell_type": "code",
   "execution_count": 6,
   "metadata": {},
   "outputs": [
    {
     "data": {
      "text/plain": [
       "267801                               The Bahamas\n",
       "461473                                Madagascar\n",
       "279546                                  Dominica\n",
       "382355                                      Oman\n",
       "4900      Southeast Asia, East Asia, and Oceania\n",
       "535522                                   Liberia\n",
       "215828                                     Italy\n",
       "285363                                    Guyana\n",
       "517477                                Cape Verde\n",
       "119337                                 Macedonia\n",
       "Name: location_name, dtype: object"
      ]
     },
     "execution_count": 6,
     "metadata": {},
     "output_type": "execute_result"
    }
   ],
   "source": [
    "## your code here\n",
    "pop[\"location_name\"].sample(10)"
   ]
  },
  {
   "cell_type": "markdown",
   "metadata": {},
   "source": [
    "* figuring out the unique categories for the `sex_name` and `age_group` columns"
   ]
  },
  {
   "cell_type": "code",
   "execution_count": 7,
   "metadata": {},
   "outputs": [
    {
     "data": {
      "text/plain": [
       "array(['Male', 'Female', 'Both'], dtype=object)"
      ]
     },
     "execution_count": 7,
     "metadata": {},
     "output_type": "execute_result"
    }
   ],
   "source": [
    "## your code here\n",
    "pop[\"sex_name\"].unique()"
   ]
  },
  {
   "cell_type": "code",
   "execution_count": 8,
   "metadata": {},
   "outputs": [
    {
     "data": {
      "text/plain": [
       "array(['Under 5', 'Early Neonatal', 'Late Neonatal', 'Post Neonatal',\n",
       "       '1 to 4', '5 to 9', '10 to 14', '15 to 19', '20 to 24', '25 to 29',\n",
       "       '30 to 34', '35 to 39', '40 to 44', '45 to 49', '50 to 54',\n",
       "       '55 to 59', '60 to 64', '65 to 69', '70 to 74', '75 to 79',\n",
       "       'All Ages', '5-14 years', '15-49 years', '50-69 years',\n",
       "       '70+ years', '<1 year', '80 to 84', '85 to 89', '90 to 94',\n",
       "       '<20 years', '10-24 years', '95 plus'], dtype=object)"
      ]
     },
     "execution_count": 8,
     "metadata": {},
     "output_type": "execute_result"
    }
   ],
   "source": [
    "## your code here\n",
    "pop[\"age_group_name\"].unique()"
   ]
  },
  {
   "cell_type": "code",
   "execution_count": 9,
   "metadata": {},
   "outputs": [],
   "source": [
    "# %load ../src/_solutions/tab_data02.py"
   ]
  },
  {
   "cell_type": "markdown",
   "metadata": {},
   "source": [
    "## Analyzing a subset of the dataset"
   ]
  },
  {
   "cell_type": "markdown",
   "metadata": {},
   "source": [
    "> ### Challenge: Subset the data set based on age groups, location and sex as given below and save the resulting  data frame to a variable called `pop_subset`. "
   ]
  },
  {
   "cell_type": "markdown",
   "metadata": {},
   "source": [
    "__Subsetting__"
   ]
  },
  {
   "cell_type": "code",
   "execution_count": 10,
   "metadata": {},
   "outputs": [],
   "source": [
    "ages = ['5-14 years', '15-49 years', '50-69 years','70+ years']\n",
    "location = [\"Germany\", \"France\", \"Italy\"]\n",
    "sex = ['Male', 'Female']"
   ]
  },
  {
   "cell_type": "code",
   "execution_count": 11,
   "metadata": {},
   "outputs": [
    {
     "name": "stdout",
     "output_type": "stream",
     "text": [
      "(648, 8)\n"
     ]
    },
    {
     "data": {
      "text/html": [
       "<div>\n",
       "<style scoped>\n",
       "    .dataframe tbody tr th:only-of-type {\n",
       "        vertical-align: middle;\n",
       "    }\n",
       "\n",
       "    .dataframe tbody tr th {\n",
       "        vertical-align: top;\n",
       "    }\n",
       "\n",
       "    .dataframe thead th {\n",
       "        text-align: right;\n",
       "    }\n",
       "</style>\n",
       "<table border=\"1\" class=\"dataframe\">\n",
       "  <thead>\n",
       "    <tr style=\"text-align: right;\">\n",
       "      <th></th>\n",
       "      <th>location_id</th>\n",
       "      <th>location_name</th>\n",
       "      <th>sex_id</th>\n",
       "      <th>sex_name</th>\n",
       "      <th>age_group_id</th>\n",
       "      <th>age_group_name</th>\n",
       "      <th>year_id</th>\n",
       "      <th>pop</th>\n",
       "    </tr>\n",
       "  </thead>\n",
       "  <tbody>\n",
       "    <tr>\n",
       "      <th>204010</th>\n",
       "      <td>81</td>\n",
       "      <td>Germany</td>\n",
       "      <td>2</td>\n",
       "      <td>Female</td>\n",
       "      <td>24</td>\n",
       "      <td>15-49 years</td>\n",
       "      <td>2007</td>\n",
       "      <td>18932511.72</td>\n",
       "    </tr>\n",
       "    <tr>\n",
       "      <th>203953</th>\n",
       "      <td>81</td>\n",
       "      <td>Germany</td>\n",
       "      <td>2</td>\n",
       "      <td>Female</td>\n",
       "      <td>23</td>\n",
       "      <td>5-14 years</td>\n",
       "      <td>2015</td>\n",
       "      <td>3472927.37</td>\n",
       "    </tr>\n",
       "    <tr>\n",
       "      <th>216904</th>\n",
       "      <td>86</td>\n",
       "      <td>Italy</td>\n",
       "      <td>2</td>\n",
       "      <td>Female</td>\n",
       "      <td>23</td>\n",
       "      <td>5-14 years</td>\n",
       "      <td>2012</td>\n",
       "      <td>2718458.12</td>\n",
       "    </tr>\n",
       "    <tr>\n",
       "      <th>201535</th>\n",
       "      <td>80</td>\n",
       "      <td>France</td>\n",
       "      <td>2</td>\n",
       "      <td>Female</td>\n",
       "      <td>26</td>\n",
       "      <td>70+ years</td>\n",
       "      <td>1992</td>\n",
       "      <td>3534207.71</td>\n",
       "    </tr>\n",
       "    <tr>\n",
       "      <th>201502</th>\n",
       "      <td>80</td>\n",
       "      <td>France</td>\n",
       "      <td>2</td>\n",
       "      <td>Female</td>\n",
       "      <td>25</td>\n",
       "      <td>50-69 years</td>\n",
       "      <td>2008</td>\n",
       "      <td>7352088.01</td>\n",
       "    </tr>\n",
       "  </tbody>\n",
       "</table>\n",
       "</div>"
      ],
      "text/plain": [
       "        location_id location_name  sex_id sex_name  age_group_id  \\\n",
       "204010           81       Germany       2   Female            24   \n",
       "203953           81       Germany       2   Female            23   \n",
       "216904           86         Italy       2   Female            23   \n",
       "201535           80        France       2   Female            26   \n",
       "201502           80        France       2   Female            25   \n",
       "\n",
       "       age_group_name  year_id          pop  \n",
       "204010    15-49 years     2007  18932511.72  \n",
       "203953     5-14 years     2015   3472927.37  \n",
       "216904     5-14 years     2012   2718458.12  \n",
       "201535      70+ years     1992   3534207.71  \n",
       "201502    50-69 years     2008   7352088.01  "
      ]
     },
     "execution_count": 11,
     "metadata": {},
     "output_type": "execute_result"
    }
   ],
   "source": [
    "## your code here\n",
    "cond = (\n",
    "    pop[\"age_group_name\"].isin(ages) & \n",
    "    pop[\"location_name\"].isin(location) & \n",
    "    pop[\"sex_name\"].isin(sex)\n",
    ")\n",
    "\n",
    "pop_subset = pop.loc[cond,:]\n",
    "print(pop_subset.shape)\n",
    "pop_subset.sample(5)"
   ]
  },
  {
   "cell_type": "code",
   "execution_count": 12,
   "metadata": {},
   "outputs": [],
   "source": [
    "# %load ../src/_solutions/tab_data03.py"
   ]
  },
  {
   "cell_type": "markdown",
   "metadata": {},
   "source": [
    "### Split-Apply-Combine"
   ]
  },
  {
   "cell_type": "markdown",
   "metadata": {},
   "source": [
    "![](_img/split-apply-combine.svg)\n",
    "Image source: [Jake VanderPlas 2016, Data Science Handbook](https://jakevdp.github.io/PythonDataScienceHandbook/)"
   ]
  },
  {
   "cell_type": "markdown",
   "metadata": {},
   "source": [
    "> ### Challenge: Compute the population of Germany, Italy and France for the years 1990 to 2016. _Hint: Use the_ `groupby` _function._\n"
   ]
  },
  {
   "cell_type": "code",
   "execution_count": 13,
   "metadata": {},
   "outputs": [
    {
     "data": {
      "text/plain": [
       "year_id  location_name\n",
       "1990     France           52924678.45\n",
       "         Germany          74905392.07\n",
       "         Italy            53965720.67\n",
       "1991     France           53204997.81\n",
       "         Germany          75282202.61\n",
       "                             ...     \n",
       "2015     Germany          78112961.81\n",
       "         Italy            57659331.41\n",
       "2016     France           61020069.08\n",
       "         Germany          78619000.77\n",
       "         Italy            57960714.36\n",
       "Name: pop, Length: 81, dtype: float64"
      ]
     },
     "execution_count": 13,
     "metadata": {},
     "output_type": "execute_result"
    }
   ],
   "source": [
    "## your code here\n",
    "gb = pop_subset.groupby([\"year_id\", \"location_name\"])[\"pop\"].sum()\n",
    "gb"
   ]
  },
  {
   "cell_type": "code",
   "execution_count": 14,
   "metadata": {},
   "outputs": [],
   "source": [
    "# %load ../src/_solutions/tab_data04.py"
   ]
  },
  {
   "cell_type": "markdown",
   "metadata": {},
   "source": [
    "## Plotting"
   ]
  },
  {
   "cell_type": "markdown",
   "metadata": {},
   "source": [
    "> ### Challenge:    \n",
    "Plot how the the population of Germany, Italy and France changed over the years 1990 to 2016. "
   ]
  },
  {
   "cell_type": "code",
   "execution_count": 15,
   "metadata": {},
   "outputs": [
    {
     "data": {
      "image/png": "[encoded data removed]",
      "text/plain": [
       "<Figure size 1008x288 with 1 Axes>"
      ]
     },
     "metadata": {
      "needs_background": "light"
     },
     "output_type": "display_data"
    }
   ],
   "source": [
    "## your code here\n",
    "gb.unstack().plot(figsize=(14,4))\n",
    "plt.grid()"
   ]
  },
  {
   "cell_type": "code",
   "execution_count": 16,
   "metadata": {},
   "outputs": [],
   "source": [
    "# %load ../src/_solutions/tab_data05.py"
   ]
  },
  {
   "cell_type": "markdown",
   "metadata": {},
   "source": [
    "> ### Challenge: Redo the analysis from above but now include Spain in addition to Germany, Italy and France into the analysis."
   ]
  },
  {
   "cell_type": "markdown",
   "metadata": {},
   "source": [
    "## Solution:\n",
    "- Append `'Spain'` into the location list and rerun the code above"
   ]
  },
  {
   "cell_type": "code",
   "execution_count": 17,
   "metadata": {},
   "outputs": [
    {
     "data": {
      "text/plain": [
       "['Germany', 'France', 'Italy']"
      ]
     },
     "execution_count": 17,
     "metadata": {},
     "output_type": "execute_result"
    }
   ],
   "source": [
    "location"
   ]
  },
  {
   "cell_type": "code",
   "execution_count": 18,
   "metadata": {},
   "outputs": [
    {
     "data": {
      "text/plain": [
       "['Germany', 'France', 'Italy', 'Spain']"
      ]
     },
     "execution_count": 18,
     "metadata": {},
     "output_type": "execute_result"
    }
   ],
   "source": [
    "location.append('Spain')\n",
    "location"
   ]
  },
  {
   "cell_type": "code",
   "execution_count": 19,
   "metadata": {},
   "outputs": [
    {
     "name": "stdout",
     "output_type": "stream",
     "text": [
      "(864, 8)\n"
     ]
    },
    {
     "data": {
      "text/html": [
       "<div>\n",
       "<style scoped>\n",
       "    .dataframe tbody tr th:only-of-type {\n",
       "        vertical-align: middle;\n",
       "    }\n",
       "\n",
       "    .dataframe tbody tr th {\n",
       "        vertical-align: top;\n",
       "    }\n",
       "\n",
       "    .dataframe thead th {\n",
       "        text-align: right;\n",
       "    }\n",
       "</style>\n",
       "<table border=\"1\" class=\"dataframe\">\n",
       "  <thead>\n",
       "    <tr style=\"text-align: right;\">\n",
       "      <th></th>\n",
       "      <th>location_id</th>\n",
       "      <th>location_name</th>\n",
       "      <th>sex_id</th>\n",
       "      <th>sex_name</th>\n",
       "      <th>age_group_id</th>\n",
       "      <th>age_group_name</th>\n",
       "      <th>year_id</th>\n",
       "      <th>pop</th>\n",
       "    </tr>\n",
       "  </thead>\n",
       "  <tbody>\n",
       "    <tr>\n",
       "      <th>201310</th>\n",
       "      <td>80</td>\n",
       "      <td>France</td>\n",
       "      <td>2</td>\n",
       "      <td>Female</td>\n",
       "      <td>23</td>\n",
       "      <td>5-14 years</td>\n",
       "      <td>1998</td>\n",
       "      <td>3682781.74</td>\n",
       "    </tr>\n",
       "    <tr>\n",
       "      <th>217018</th>\n",
       "      <td>86</td>\n",
       "      <td>Italy</td>\n",
       "      <td>2</td>\n",
       "      <td>Female</td>\n",
       "      <td>25</td>\n",
       "      <td>50-69 years</td>\n",
       "      <td>1996</td>\n",
       "      <td>6959415.53</td>\n",
       "    </tr>\n",
       "    <tr>\n",
       "      <th>201358</th>\n",
       "      <td>80</td>\n",
       "      <td>France</td>\n",
       "      <td>2</td>\n",
       "      <td>Female</td>\n",
       "      <td>23</td>\n",
       "      <td>5-14 years</td>\n",
       "      <td>2014</td>\n",
       "      <td>3874590.71</td>\n",
       "    </tr>\n",
       "    <tr>\n",
       "      <th>216969</th>\n",
       "      <td>86</td>\n",
       "      <td>Italy</td>\n",
       "      <td>1</td>\n",
       "      <td>Male</td>\n",
       "      <td>24</td>\n",
       "      <td>15-49 years</td>\n",
       "      <td>2007</td>\n",
       "      <td>13828699.00</td>\n",
       "    </tr>\n",
       "    <tr>\n",
       "      <th>216930</th>\n",
       "      <td>86</td>\n",
       "      <td>Italy</td>\n",
       "      <td>1</td>\n",
       "      <td>Male</td>\n",
       "      <td>24</td>\n",
       "      <td>15-49 years</td>\n",
       "      <td>1994</td>\n",
       "      <td>14475224.99</td>\n",
       "    </tr>\n",
       "  </tbody>\n",
       "</table>\n",
       "</div>"
      ],
      "text/plain": [
       "        location_id location_name  sex_id sex_name  age_group_id  \\\n",
       "201310           80        France       2   Female            23   \n",
       "217018           86         Italy       2   Female            25   \n",
       "201358           80        France       2   Female            23   \n",
       "216969           86         Italy       1     Male            24   \n",
       "216930           86         Italy       1     Male            24   \n",
       "\n",
       "       age_group_name  year_id          pop  \n",
       "201310     5-14 years     1998   3682781.74  \n",
       "217018    50-69 years     1996   6959415.53  \n",
       "201358     5-14 years     2014   3874590.71  \n",
       "216969    15-49 years     2007  13828699.00  \n",
       "216930    15-49 years     1994  14475224.99  "
      ]
     },
     "execution_count": 19,
     "metadata": {},
     "output_type": "execute_result"
    }
   ],
   "source": [
    "## your code here\n",
    "cond = (\n",
    "    pop[\"age_group_name\"].isin(ages) & \n",
    "    pop[\"location_name\"].isin(location) & \n",
    "    pop[\"sex_name\"].isin(sex)\n",
    ")\n",
    "\n",
    "pop_subset = pop.loc[cond,:]\n",
    "print(pop_subset.shape)\n",
    "pop_subset.sample(5)"
   ]
  },
  {
   "cell_type": "code",
   "execution_count": 20,
   "metadata": {},
   "outputs": [
    {
     "data": {
      "text/plain": [
       "year_id  location_name\n",
       "1990     France           52924678.45\n",
       "         Germany          74905392.07\n",
       "         Italy            53965720.67\n",
       "         Spain            36832506.47\n",
       "1991     France           53204997.81\n",
       "                             ...     \n",
       "2015     Spain            44243841.58\n",
       "2016     France           61020069.08\n",
       "         Germany          78619000.77\n",
       "         Italy            57960714.36\n",
       "         Spain            44315872.48\n",
       "Name: pop, Length: 108, dtype: float64"
      ]
     },
     "execution_count": 20,
     "metadata": {},
     "output_type": "execute_result"
    }
   ],
   "source": [
    "## your code here\n",
    "gb = pop_subset.groupby([\"year_id\", \"location_name\"])[\"pop\"].sum()\n",
    "gb"
   ]
  },
  {
   "cell_type": "code",
   "execution_count": 21,
   "metadata": {},
   "outputs": [
    {
     "data": {
      "image/png": "[encoded data removed]",
      "text/plain": [
       "<Figure size 1008x288 with 1 Axes>"
      ]
     },
     "metadata": {
      "needs_background": "light"
     },
     "output_type": "display_data"
    }
   ],
   "source": [
    "## your code here\n",
    "gb.unstack().plot(figsize=(14,4))\n",
    "plt.grid()"
   ]
  },
  {
   "cell_type": "markdown",
   "metadata": {},
   "source": [
    "***"
   ]
  }
 ],
 "metadata": {
  "kernelspec": {
   "display_name": "Python 3",
   "language": "python",
   "name": "python3"
  },
  "language_info": {
   "codemirror_mode": {
    "name": "ipython",
    "version": 3
   },
   "file_extension": ".py",
   "mimetype": "text/x-python",
   "name": "python",
   "nbconvert_exporter": "python",
   "pygments_lexer": "ipython3",
   "version": "3.7.10"
  }
 },
 "nbformat": 4,
 "nbformat_minor": 4
}
