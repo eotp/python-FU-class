{
 "cells": [
  {
   "cell_type": "code",
   "execution_count": 1,
   "id": "bf989a4a-fb71-475e-a602-39f52e2814c8",
   "metadata": {},
   "outputs": [
    {
     "data": {
      "text/plain": [
       "'powershell.exe'"
      ]
     },
     "execution_count": 1,
     "metadata": {},
     "output_type": "execute_result"
    }
   ],
   "source": [
    "import os\n",
    "os.environ['comspec']='powershell.exe'\n",
    "os.getenv('comspec')"
   ]
  },
  {
   "cell_type": "markdown",
   "id": "de4630bd-ccf0-467b-80e7-b1976a56ce04",
   "metadata": {},
   "source": [
    "# Reporting using Jupyter Book"
   ]
  },
  {
   "cell_type": "markdown",
   "id": "986c6c38-ef44-4d03-8aac-8d0f709ea6b0",
   "metadata": {},
   "source": [
    "[Jupyter Book](https://jupyterbook.org/intro.html) is an open source project for building beautiful, publication-quality books and documents from computational material.\n",
    "\n",
    "In our case it will help us to export our Jupyter Notebooks into nice to look at HTML files."
   ]
  },
  {
   "cell_type": "markdown",
   "id": "98f41248-7a5e-49b1-872f-0e4220e8bd25",
   "metadata": {},
   "source": [
    "## Installation\n",
    "- If you're running this notebook from the environment of todays lesson `jupyter-book` should already be installed.\n",
    "\n",
    "- To install it with conda use the following command to install it from the `conda-forge` channel\n",
    "\n",
    "```bash\n",
    "conda install -c conda-forge jupyter-book\n",
    "```"
   ]
  },
  {
   "cell_type": "markdown",
   "id": "caad9004-f980-48a4-a5be-c27417db71d6",
   "metadata": {},
   "source": [
    "## Initialize a template"
   ]
  },
  {
   "cell_type": "markdown",
   "id": "a811f0c8-59ae-4ee7-a91e-64b4d66a8129",
   "metadata": {},
   "source": [
    "- Jupyter Book relies on certain files (mostly for configuration). In order to create them, use the `jupyter-book create <template_path>` command.\n",
    "\n",
    "- To keep things tidy lets use the `reports` directory.\n",
    "\n",
    "> Hint: We can execute terminal commands directly inside our jupyter notebook by starting the line with `!`"
   ]
  },
  {
   "cell_type": "code",
   "execution_count": 2,
   "id": "8b51993e-479e-4121-9c8e-8959811b3097",
   "metadata": {},
   "outputs": [
    {
     "name": "stdout",
     "output_type": "stream",
     "text": [
      "\n",
      "\u001b[92m===============================================================================\u001b[0m\n",
      "\n",
      "Your book template can be found at\n",
      "\n",
      "    ..\\reports\\jupyterbook\\\n",
      "\n",
      "\u001b[92m===============================================================================\u001b[0m\n",
      "\n"
     ]
    }
   ],
   "source": [
    "!jupyter-book create ../reports/jupyterbook"
   ]
  },
  {
   "cell_type": "markdown",
   "id": "c0aebc08-dc16-4005-9ce4-9fab24be27c3",
   "metadata": {},
   "source": [
    "- Before we take a look at the generated files, lets copy over the jupyter notebooks we want to include in our HTML report\n",
    "\n",
    "## Task:\n",
    "- Copy `05-00_Processing_of_Tabular_Data.ipynb` and `05-01_Temperature_anomalies.ipynb`  directory into `../reports/jupyterbook`\n",
    "\n",
    "> Hint: you don't have to leave the Jupyter Universe to do that. Just open the explorer on the left (the folder icon) and use right-click -> copy."
   ]
  },
  {
   "cell_type": "code",
   "execution_count": 4,
   "id": "286317f3-c042-4ca7-8f86-3f42e9adb416",
   "metadata": {},
   "outputs": [],
   "source": [
    "# alternatively use this snippet to copy the desired files\n",
    "!cp 05-00_Processing_of_Tabular_Data.ipynb ../reports/jupyterbook/\n",
    "!cp 05-01_Temperature_anomalies.ipynb ../reports/jupyterbook/"
   ]
  },
  {
   "cell_type": "markdown",
   "id": "be7c4f2c-67ab-4bd4-bb31-c5bd62ff94eb",
   "metadata": {},
   "source": [
    "- Now let us take a look at the files"
   ]
  },
  {
   "cell_type": "markdown",
   "id": "0fd2d1e1-b2ed-4419-a335-56cf98fbdbc2",
   "metadata": {},
   "source": [
    "## File inspection\n",
    "### We need to change the content of two files for everything to run smoothly"
   ]
  },
  {
   "cell_type": "markdown",
   "id": "0a3b4e42-41aa-4b2f-aff7-3688be9616fd",
   "metadata": {},
   "source": [
    "### _config.yml\n",
    "\n",
    "- Stores configuration parameters such as the Title, Author and execution behaviour\n",
    "\n",
    "- You can change `title` and `author` to whatever you like\n",
    "- The **only parameter we need to change is set `execute_notebooks` to `\"off\"`**\n",
    "    - This ensures `jupyter-book` doesn't rerun our notebooks but takes them as they are (with the current outputs)\n",
    "- The remaining fields can be removed\n",
    "\n",
    "Sample file:\n",
    "\n",
    "```yml\n",
    "# _config.yml\n",
    "# Book settings\n",
    "# Learn more at https://jupyterbook.org/customize/config.html\n",
    "\n",
    "title: Your Title\n",
    "author: Your Name\n",
    "logo: logo.png\n",
    "\n",
    "# Turn off re-execution of notebooks on each build.\n",
    "# See https://jupyterbook.org/content/execute.html\n",
    "execute:\n",
    "  execute_notebooks: 'off'\n",
    "```"
   ]
  },
  {
   "cell_type": "markdown",
   "id": "6c52de9a-cfa3-4b08-b85a-bf18b13bad8f",
   "metadata": {},
   "source": [
    "### _toc.yml\n",
    "\n",
    "- Table of Content file\n",
    "\n",
    "- Specifies which files to render into HTML\n",
    "\n",
    "- Make sure you see the jupyter notebook files `05-00_Processing_of_Tabular_Data.ipynb` and `05-01_Temperature_anomalies.ipynb` in `reports/jupyterbook`\n",
    "\n",
    "- Include both of these files in the Table of Contents\n",
    "\n",
    "Sample file:\n",
    "\n",
    "```yml\n",
    "# Table of Contents\n",
    "# Learn more at https://jupyterbook.org/customize/toc.html\n",
    "\n",
    "format: jb-book\n",
    "root: intro\n",
    "chapters:\n",
    "- file: 05-00_Processing_of_Tabular_Data.ipynb\n",
    "- file: 05-01_Temperature_anomalies.ipynb\n",
    "```"
   ]
  },
  {
   "cell_type": "markdown",
   "id": "73449b69-47ea-436b-8bd3-c22d207f79a8",
   "metadata": {
    "jp-MarkdownHeadingCollapsed": true,
    "tags": []
   },
   "source": [
    "### Remaining files:\n",
    "\n",
    "- `logo.png` will be displayed inside the HTML\n",
    "- All remaining files are for demonstration purposes only and serve no use for us (you can savely remove them)"
   ]
  },
  {
   "cell_type": "markdown",
   "id": "67f1820c-c54a-4b31-be47-9367ebdda63e",
   "metadata": {},
   "source": [
    "## Generate HTML files\n",
    "\n",
    "- In order to generate the html files use `jupyter-book build <template_path>`"
   ]
  },
  {
   "cell_type": "code",
   "execution_count": 13,
   "id": "b5f1abbf-3cf6-42b5-9070-7eaf2893bc20",
   "metadata": {},
   "outputs": [
    {
     "name": "stdout",
     "output_type": "stream",
     "text": [
      "Running Jupyter-Book v0.13.1\n",
      "Source Folder: C:\\Users\\zak\\pythonFUclass_org\\05-2023-03-07\\notebooks\\..\\reports\\jupyterbook\n",
      "Config Path: C:\\Users\\zak\\pythonFUclass_org\\05-2023-03-07\\notebooks\\..\\reports\\jupyterbook\\_config.yml\n",
      "Output Path: C:\\Users\\zak\\pythonFUclass_org\\05-2023-03-07\\notebooks\\..\\reports\\jupyterbook\\_build\\html\n",
      "\u001b[01mRunning Sphinx v4.5.0\u001b[39;49;00m\n"
     ]
    },
    {
     "name": "stderr",
     "output_type": "stream",
     "text": [
      "\n",
      "\u001b[91mExtension error:\u001b[39;49;00m\n",
      "Could not import extension myst_nb (exception: cannot import name 'AttrDict' from 'markdown_it.utils' (C:\\Users\\zak\\anaconda3\\envs\\FUPython\\lib\\site-packages\\markdown_it\\utils.py))\n",
      "Traceback (most recent call last):\n",
      "  File \"C:\\Users\\zak\\anaconda3\\envs\\FUPython\\lib\\site-packages\\sphinx\\registry.py\", line 425, in load_extension\n",
      "    mod = import_module(extname)\n",
      "  File \"C:\\Users\\zak\\anaconda3\\envs\\FUPython\\lib\\importlib\\__init__.py\", line 126, in import_module\n",
      "    return _bootstrap._gcd_import(name[level:], package, level)\n",
      "  File \"<frozen importlib._bootstrap>\", line 1050, in _gcd_import\n",
      "  File \"<frozen importlib._bootstrap>\", line 1027, in _find_and_load\n",
      "  File \"<frozen importlib._bootstrap>\", line 1006, in _find_and_load_unlocked\n",
      "  File \"<frozen importlib._bootstrap>\", line 688, in _load_unlocked\n",
      "  File \"<frozen importlib._bootstrap_external>\", line 883, in exec_module\n",
      "  File \"<frozen importlib._bootstrap>\", line 241, in _call_with_frames_removed\n",
      "  File \"C:\\Users\\zak\\anaconda3\\envs\\FUPython\\lib\\site-packages\\myst_nb\\__init__.py\", line 35, in <module>\n",
      "    from .parser import NotebookParser\n",
      "  File \"C:\\Users\\zak\\anaconda3\\envs\\FUPython\\lib\\site-packages\\myst_nb\\parser.py\", line 13, in <module>\n",
      "    from myst_parser.sphinx_parser import MystParser\n",
      "  File \"C:\\Users\\zak\\anaconda3\\envs\\FUPython\\lib\\site-packages\\myst_parser\\sphinx_parser.py\", line 9, in <module>\n",
      "    from markdown_it.utils import AttrDict\n",
      "ImportError: cannot import name 'AttrDict' from 'markdown_it.utils' (C:\\Users\\zak\\anaconda3\\envs\\FUPython\\lib\\site-packages\\markdown_it\\utils.py)\n",
      "\n",
      "The above exception was the direct cause of the following exception:\n",
      "\n",
      "Traceback (most recent call last):\n",
      "  File \"C:\\Users\\zak\\anaconda3\\envs\\FUPython\\lib\\site-packages\\jupyter_book\\sphinx.py\", line 114, in build_sphinx\n",
      "    app = Sphinx(\n",
      "  File \"C:\\Users\\zak\\anaconda3\\envs\\FUPython\\lib\\site-packages\\sphinx\\application.py\", line 223, in __init__\n",
      "    self.setup_extension(extension)\n",
      "  File \"C:\\Users\\zak\\anaconda3\\envs\\FUPython\\lib\\site-packages\\sphinx\\application.py\", line 380, in setup_extension\n",
      "    self.registry.load_extension(self, extname)\n",
      "  File \"C:\\Users\\zak\\anaconda3\\envs\\FUPython\\lib\\site-packages\\sphinx\\registry.py\", line 428, in load_extension\n",
      "    raise ExtensionError(__('Could not import extension %s') % extname,\n",
      "sphinx.errors.ExtensionError: Could not import extension myst_nb (exception: cannot import name 'AttrDict' from 'markdown_it.utils' (C:\\Users\\zak\\anaconda3\\envs\\FUPython\\lib\\site-packages\\markdown_it\\utils.py))\n",
      "\n",
      "The above exception was the direct cause of the following exception:\n",
      "\n",
      "Traceback (most recent call last):\n",
      "  File \"C:\\Users\\zak\\anaconda3\\envs\\FUPython\\Scripts\\jupyter-book-script.py\", line 9, in <module>\n",
      "    sys.exit(main())\n",
      "  File \"C:\\Users\\zak\\anaconda3\\envs\\FUPython\\lib\\site-packages\\click\\core.py\", line 1130, in __call__\n",
      "    return self.main(*args, **kwargs)\n",
      "  File \"C:\\Users\\zak\\anaconda3\\envs\\FUPython\\lib\\site-packages\\click\\core.py\", line 1055, in main\n",
      "    rv = self.invoke(ctx)\n",
      "  File \"C:\\Users\\zak\\anaconda3\\envs\\FUPython\\lib\\site-packages\\click\\core.py\", line 1657, in invoke\n",
      "    return _process_result(sub_ctx.command.invoke(sub_ctx))\n",
      "  File \"C:\\Users\\zak\\anaconda3\\envs\\FUPython\\lib\\site-packages\\click\\core.py\", line 1404, in invoke\n",
      "    return ctx.invoke(self.callback, **ctx.params)\n",
      "  File \"C:\\Users\\zak\\anaconda3\\envs\\FUPython\\lib\\site-packages\\click\\core.py\", line 760, in invoke\n",
      "    return __callback(*args, **kwargs)\n",
      "  File \"C:\\Users\\zak\\anaconda3\\envs\\FUPython\\lib\\site-packages\\jupyter_book\\cli\\main.py\", line 323, in build\n",
      "    builder_specific_actions(\n",
      "  File \"C:\\Users\\zak\\anaconda3\\envs\\FUPython\\lib\\site-packages\\jupyter_book\\cli\\main.py\", line 531, in builder_specific_actions\n",
      "    raise RuntimeError(_message_box(msg, color=\"red\", doprint=False)) from result\n",
      "RuntimeError: \n",
      "\u001b[91m===============================================================================\u001b[0m\n",
      "\n",
      "There was an error in building your book. Look above for the cause.\n",
      "\n",
      "\u001b[91m===============================================================================\u001b[0m\n",
      "\n"
     ]
    }
   ],
   "source": [
    "!jupyter-book build ../reports/jupyterbook"
   ]
  },
  {
   "cell_type": "markdown",
   "id": "39488ab7-605f-4467-a3d3-aa2409984f8f",
   "metadata": {},
   "source": [
    "# Safety Net\n",
    "\n",
    "- Make sure you specify the `_toc.yml` and `_config.yml` files as specified above\n",
    "- If it should still fail for you, try running this:"
   ]
  },
  {
   "cell_type": "code",
   "execution_count": null,
   "id": "1c7a7d2e-4549-450b-aac0-ff6ff6405a33",
   "metadata": {},
   "outputs": [],
   "source": [
    "!rm -rf ../reports/jupyterbook\n",
    "!jupyter-book create ../reports/jupyterbook\n",
    "# cp now includes the _img directory\n",
    "# allowing to display images included in original notebooks\n",
    "!cp -r _img 05-00_Processing_of_Tabular_Data.ipynb 05-01_Temperature_anomalies.ipynb ../reports/jupyterbook/\n",
    "!cp ../src/_solutions/_toc.yml ../src/_solutions/_config.yml ../reports/jupyterbook/\n",
    "!jupyter-book build ../reports/jupyterbook"
   ]
  },
  {
   "cell_type": "markdown",
   "id": "8fdccead-58fe-4884-986c-ce09c237a45c",
   "metadata": {},
   "source": [
    "## Open the HTML files\n",
    "\n",
    "- Check the last lines of the `jupyter-book build` output\n",
    "\n",
    "- All HTML files are in the folder: `../reports/jupyterbook/_build/html`\n",
    "- Open `../reports/jupyterbook/_build/html/index.html` in your Browser or copy the link generated by `jupyter-book` into your Browser to view your notebooks!"
   ]
  },
  {
   "cell_type": "markdown",
   "id": "a67a136e-a5f6-45fb-af89-fef4846a8b7d",
   "metadata": {},
   "source": [
    "## Further Reading:\n",
    "- [JupyterBook Website](https://jupyterbook.org/intro.html)\n",
    "- [JupyterBook Tutorial by Pablo Caceres](https://github.com/pabloinsente/jupyter-book-tutorial)\n",
    "    - This goes pretty in-depth, you can skip most of the stuff mentioned there (like publishing the HTMLs to GitHub Pages)\n",
    "    - Still very well balanced tutorial (more in-depth than we go, but not too complex)"
   ]
  }
 ],
 "metadata": {
  "kernelspec": {
   "display_name": "Python 3 (ipykernel)",
   "language": "python",
   "name": "python3"
  },
  "language_info": {
   "codemirror_mode": {
    "name": "ipython",
    "version": 3
   },
   "file_extension": ".py",
   "mimetype": "text/x-python",
   "name": "python",
   "nbconvert_exporter": "python",
   "pygments_lexer": "ipython3",
   "version": "3.10.6"
  }
 },
 "nbformat": 4,
 "nbformat_minor": 5
}
