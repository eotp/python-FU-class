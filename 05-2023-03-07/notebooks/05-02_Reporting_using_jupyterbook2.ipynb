{
 "cells": [
  {
   "cell_type": "code",
   "execution_count": 12,
   "id": "bf989a4a-fb71-475e-a602-39f52e2814c8",
   "metadata": {
    "tags": []
   },
   "outputs": [
    {
     "data": {
      "text/plain": [
       "'powershell.exe'"
      ]
     },
     "execution_count": 12,
     "metadata": {},
     "output_type": "execute_result"
    }
   ],
   "source": [
    "import os\n",
    "os.environ['comspec']='powershell.exe'\n",
    "os.getenv('comspec')"
   ]
  },
  {
   "cell_type": "markdown",
   "id": "eb683c53-b772-469d-ab51-a76613e948e4",
   "metadata": {
    "tags": []
   },
   "source": [
    "# Installationsanleitung\n",
    "conda create -n jupyter-book -c anaconda python=3.8\n",
    "\n",
    "conda activate jupyter-book\n",
    "\n",
    "conda install -c conda-forge jupyterlab\n",
    "\n",
    "conda activate jupyter-book\n",
    "\n",
    "conda install -c conda-forge jupyter-book"
   ]
  },
  {
   "cell_type": "markdown",
   "id": "de4630bd-ccf0-467b-80e7-b1976a56ce04",
   "metadata": {},
   "source": [
    "# Reporting using Jupyter Book"
   ]
  },
  {
   "cell_type": "markdown",
   "id": "986c6c38-ef44-4d03-8aac-8d0f709ea6b0",
   "metadata": {},
   "source": [
    "[Jupyter Book](https://jupyterbook.org/intro.html) is an open source project for building beautiful, publication-quality books and documents from computational material.\n",
    "\n",
    "In our case it will help us to export our Jupyter Notebooks into nice to look at HTML files."
   ]
  },
  {
   "cell_type": "markdown",
   "id": "98f41248-7a5e-49b1-872f-0e4220e8bd25",
   "metadata": {},
   "source": [
    "## Installation\n",
    "- If you're running this notebook from the environment of todays lesson `jupyter-book` should already be installed.\n",
    "\n",
    "- To install it with conda use the following command to install it from the `conda-forge` channel\n",
    "\n",
    "```bash\n",
    "conda install -c conda-forge jupyter-book\n",
    "```"
   ]
  },
  {
   "cell_type": "markdown",
   "id": "caad9004-f980-48a4-a5be-c27417db71d6",
   "metadata": {},
   "source": [
    "## Initialize a template"
   ]
  },
  {
   "cell_type": "markdown",
   "id": "a811f0c8-59ae-4ee7-a91e-64b4d66a8129",
   "metadata": {},
   "source": [
    "- Jupyter Book relies on certain files (mostly for configuration). In order to create them, use the `jupyter-book create <template_path>` command.\n",
    "\n",
    "- To keep things tidy lets use the `reports` directory.\n",
    "\n",
    "> Hint: We can execute terminal commands directly inside our jupyter notebook by starting the line with `!`"
   ]
  },
  {
   "cell_type": "code",
   "execution_count": 16,
   "id": "8b51993e-479e-4121-9c8e-8959811b3097",
   "metadata": {},
   "outputs": [
    {
     "name": "stdout",
     "output_type": "stream",
     "text": [
      "\n",
      "\u001b[92m===============================================================================\u001b[0m\n",
      "\n",
      "Your book template can be found at\n",
      "\n",
      "    ..\\reports\\book4\\\n",
      "\n",
      "\u001b[92m===============================================================================\u001b[0m\n",
      "\n"
     ]
    }
   ],
   "source": [
    "!jupyter-book create ../reports/book4"
   ]
  },
  {
   "cell_type": "markdown",
   "id": "c0aebc08-dc16-4005-9ce4-9fab24be27c3",
   "metadata": {},
   "source": [
    "- Before we take a look at the generated files, lets copy over the jupyter notebooks we want to include in our HTML report\n",
    "\n",
    "## Task:\n",
    "- Copy `05-00_Processing_of_Tabular_Data.ipynb` and `05-01_Temperature_anomalies.ipynb`  directory into `../reports/jupyterbook`\n",
    "\n",
    "> Hint: you don't have to leave the Jupyter Universe to do that. Just open the explorer on the left (the folder icon) and use right-click -> copy."
   ]
  },
  {
   "cell_type": "code",
   "execution_count": 17,
   "id": "286317f3-c042-4ca7-8f86-3f42e9adb416",
   "metadata": {},
   "outputs": [],
   "source": [
    "# alternatively use this snippet to copy the desired files\n",
    "!cp 05-00_Processing_of_Tabular_Data.ipynb ../reports/book4/\n",
    "!cp 05-01_Temperature_anomalies.ipynb ../reports/book4/"
   ]
  },
  {
   "cell_type": "markdown",
   "id": "be7c4f2c-67ab-4bd4-bb31-c5bd62ff94eb",
   "metadata": {},
   "source": [
    "- Now let us take a look at the files"
   ]
  },
  {
   "cell_type": "markdown",
   "id": "0fd2d1e1-b2ed-4419-a335-56cf98fbdbc2",
   "metadata": {},
   "source": [
    "## File inspection\n",
    "### We need to change the content of two files for everything to run smoothly"
   ]
  },
  {
   "cell_type": "markdown",
   "id": "0a3b4e42-41aa-4b2f-aff7-3688be9616fd",
   "metadata": {},
   "source": [
    "### _config.yml\n",
    "\n",
    "- Stores configuration parameters such as the Title, Author and execution behaviour\n",
    "\n",
    "- You can change `title` and `author` to whatever you like\n",
    "- The **only parameter we need to change is set `execute_notebooks` to `\"off\"`**\n",
    "    - This ensures `jupyter-book` doesn't rerun our notebooks but takes them as they are (with the current outputs)\n",
    "- The remaining fields can be removed\n",
    "\n",
    "Sample file:\n",
    "\n",
    "```yml\n",
    "# _config.yml\n",
    "# Book settings\n",
    "# Learn more at https://jupyterbook.org/customize/config.html\n",
    "\n",
    "title: Your Title\n",
    "author: Your Name\n",
    "logo: logo.png\n",
    "\n",
    "# Turn off re-execution of notebooks on each build.\n",
    "# See https://jupyterbook.org/content/execute.html\n",
    "execute:\n",
    "  execute_notebooks: 'off'\n",
    "```"
   ]
  },
  {
   "cell_type": "markdown",
   "id": "6c52de9a-cfa3-4b08-b85a-bf18b13bad8f",
   "metadata": {},
   "source": [
    "### _toc.yml\n",
    "\n",
    "- Table of Content file\n",
    "\n",
    "- Specifies which files to render into HTML\n",
    "\n",
    "- Make sure you see the jupyter notebook files `05-00_Processing_of_Tabular_Data.ipynb` and `05-01_Temperature_anomalies.ipynb` in `reports/jupyterbook`\n",
    "\n",
    "- Include both of these files in the Table of Contents\n",
    "\n",
    "Sample file:\n",
    "\n",
    "```yml\n",
    "# Table of Contents\n",
    "# Learn more at https://jupyterbook.org/customize/toc.html\n",
    "\n",
    "format: jb-book\n",
    "root: intro\n",
    "chapters:\n",
    "- file: 05-00_Processing_of_Tabular_Data.ipynb\n",
    "- file: 05-01_Temperature_anomalies.ipynb\n",
    "```"
   ]
  },
  {
   "cell_type": "markdown",
   "id": "73449b69-47ea-436b-8bd3-c22d207f79a8",
   "metadata": {
    "jp-MarkdownHeadingCollapsed": true,
    "tags": []
   },
   "source": [
    "### Remaining files:\n",
    "\n",
    "- `logo.png` will be displayed inside the HTML\n",
    "- All remaining files are for demonstration purposes only and serve no use for us (you can savely remove them)"
   ]
  },
  {
   "cell_type": "markdown",
   "id": "67f1820c-c54a-4b31-be47-9367ebdda63e",
   "metadata": {},
   "source": [
    "## Generate HTML files\n",
    "\n",
    "- In order to generate the html files use `jupyter-book build <template_path>`"
   ]
  },
  {
   "cell_type": "code",
   "execution_count": 20,
   "id": "b5f1abbf-3cf6-42b5-9070-7eaf2893bc20",
   "metadata": {},
   "outputs": [
    {
     "name": "stdout",
     "output_type": "stream",
     "text": [
      "Running Jupyter-Book v0.15.0\n",
      "Source Folder: C:\\Users\\zak\\pythonFUclass_org\\05-2023-03-07\\notebooks\\..\\reports\\book4\n",
      "Config Path: C:\\Users\\zak\\pythonFUclass_org\\05-2023-03-07\\notebooks\\..\\reports\\book4\\_config.yml\n",
      "Output Path: C:\\Users\\zak\\pythonFUclass_org\\05-2023-03-07\\notebooks\\..\\reports\\book4\\_build\\html\n",
      "\u001b[01mRunning Sphinx v4.5.0\u001b[39;49;00m\n",
      "\u001b[01mmaking output directory... \u001b[39;49;00mdone\n",
      "[etoc] Changing master_doc to 'intro'\n",
      "\u001b[01mmyst v0.18.1:\u001b[39;49;00m MdParserConfig(commonmark_only=False, gfm_only=False, enable_extensions=['colon_fence', 'dollarmath', 'linkify', 'substitution', 'tasklist'], disable_syntax=[], all_links_external=False, url_schemes=['mailto', 'http', 'https'], ref_domains=None, highlight_code_blocks=True, number_code_blocks=[], title_to_header=False, heading_anchors=None, heading_slug_func=None, footnote_transition=True, words_per_minute=200, sub_delimiters=('{', '}'), linkify_fuzzy_links=True, dmath_allow_labels=True, dmath_allow_space=True, dmath_allow_digits=True, dmath_double_inline=False, update_mathjax=True, mathjax_classes='tex2jax_process|mathjax_process|math|output_area')\n",
      "\u001b[01mmyst-nb v0.17.1:\u001b[39;49;00m NbParserConfig(custom_formats={}, metadata_key='mystnb', cell_metadata_key='mystnb', kernel_rgx_aliases={}, execution_mode='off', execution_cache_path='', execution_excludepatterns=[], execution_timeout=30, execution_in_temp=False, execution_allow_errors=False, execution_raise_on_error=False, execution_show_tb=False, merge_streams=False, render_plugin='default', remove_code_source=False, remove_code_outputs=False, code_prompt_show='Show code cell {type}', code_prompt_hide='Hide code cell {type}', number_source_lines=False, output_stderr='show', render_text_lexer='myst-ansi', render_error_lexer='ipythontb', render_image_options={}, render_figure_options={}, render_markdown_format='commonmark', output_folder='build', append_css=True, metadata_to_fm=False)\n",
      "Using jupyter-cache at: C:\\Users\\zak\\pythonFUclass_org\\05-2023-03-07\\reports\\book4\\_build\\.jupyter_cache\n",
      "\u001b[01mbuilding [mo]: \u001b[39;49;00mtargets for 0 po files that are out of date\n",
      "\u001b[01mbuilding [html]: \u001b[39;49;00mtargets for 6 source files that are out of date\n",
      "\u001b[01mupdating environment: \u001b[39;49;00m[new config] 6 added, 0 changed, 0 removed\n",
      "\u001b[01mreading sources... \u001b[39;49;00m[ 16%] \u001b[35m05-00_Processing_of_Tabular_Data\u001b[39;49;00m                     \n",
      "\u001b[01mreading sources... \u001b[39;49;00m[ 33%] \u001b[35m05-01_Temperature_anomalies\u001b[39;49;00m                          \n",
      "\u001b[01mreading sources... \u001b[39;49;00m[ 50%] \u001b[35mintro\u001b[39;49;00m                                                \n",
      "\u001b[01mreading sources... \u001b[39;49;00m[ 66%] \u001b[35mmarkdown\u001b[39;49;00m                                             \n",
      "\u001b[01mreading sources... \u001b[39;49;00m[ 83%] \u001b[35mmarkdown-notebooks\u001b[39;49;00m                                   \n",
      "\u001b[01mreading sources... \u001b[39;49;00m[100%] \u001b[35mnotebooks\u001b[39;49;00m                                            \n",
      "\n",
      "\u001b[01mlooking for now-outdated files... \u001b[39;49;00mnone found\n",
      "\u001b[01mpickling environment... \u001b[39;49;00mdone\n",
      "\u001b[01mchecking consistency... \u001b[39;49;00mdone\n",
      "\u001b[01mpreparing documents... \u001b[39;49;00mdone\n",
      "\u001b[01mwriting output... \u001b[39;49;00m[ 16%] \u001b[32m05-00_Processing_of_Tabular_Data\u001b[39;49;00m                      \n",
      "\u001b[01mwriting output... \u001b[39;49;00m[ 33%] \u001b[32m05-01_Temperature_anomalies\u001b[39;49;00m                           \n",
      "\u001b[01mwriting output... \u001b[39;49;00m[ 50%] \u001b[32mintro\u001b[39;49;00m                                                 \n",
      "\u001b[01mwriting output... \u001b[39;49;00m[ 66%] \u001b[32mmarkdown\u001b[39;49;00m                                              \n",
      "\u001b[01mwriting output... \u001b[39;49;00m[ 83%] \u001b[32mmarkdown-notebooks\u001b[39;49;00m                                    \n",
      "\u001b[01mwriting output... \u001b[39;49;00m[100%] \u001b[32mnotebooks\u001b[39;49;00m                                             \n",
      "\n",
      "\u001b[01mgenerating indices... \u001b[39;49;00mgenindex done\n",
      "\u001b[01mwriting additional pages... \u001b[39;49;00msearch done\n",
      "\u001b[01mcopying images... \u001b[39;49;00m[ 50%] \u001b[33mC:/Users/zak/pythonFUclass_org/05-2023-03-07/reports/book4/_build/jupyter_execute/71c1c6718e122240a68590bc15841f509dae47d0a6633c5c7e97df7284c47ce8.png\u001b[39;49;00m\n",
      "\u001b[01mcopying images... \u001b[39;49;00m[100%] \u001b[33mC:/Users/zak/pythonFUclass_org/05-2023-03-07/reports/book4/_build/jupyter_execute/9aec072d7f89de20be7284890c2a3d0940f8c85e6abea65099a7605d2d967045.png\u001b[39;49;00m\n",
      "\n",
      "\u001b[01mcopying static files... \u001b[39;49;00mdone\n",
      "\u001b[01mcopying extra files... \u001b[39;49;00mdone\n",
      "\u001b[01mdumping search index in English (code: en)... \u001b[39;49;00mdone\n",
      "\u001b[01mdumping object inventory... \u001b[39;49;00mdone\n",
      "\u001b[01mbuild succeeded, 10 warnings.\u001b[39;49;00m\n",
      "\n",
      "The HTML pages are in ..\\reports\\book4\\_build\\html.\n",
      "[etoc] missing index.html written as redirect to 'intro.html'\n",
      "\n",
      "\u001b[92m===============================================================================\u001b[0m\n",
      "\n",
      "Finished generating HTML for book.\n",
      "Your book's HTML pages are here:\n",
      "    ..\\reports\\book4\\_build\\html\\\n",
      "You can look at your book by opening this file in a browser:\n",
      "    ..\\reports\\book4\\_build\\html\\index.html\n",
      "Or paste this line directly into your browser bar:\n",
      "    file://C:\\Users\\zak\\pythonFUclass_org\\05-2023-03-07\\reports\\book4\\_build\\html\\index.html            \n",
      "\n",
      "\u001b[92m===============================================================================\u001b[0m\n",
      "\n"
     ]
    },
    {
     "name": "stderr",
     "output_type": "stream",
     "text": [
      "\u001b[31mC:\\Users\\zak\\pythonFUclass_org\\05-2023-03-07\\reports\\book4\\05-00_Processing_of_Tabular_Data.ipynb:430002: ERROR: Document may not end with a transition.\u001b[39;49;00m\n",
      "\u001b[91mC:\\Users\\zak\\pythonFUclass_org\\05-2023-03-07\\reports\\book4\\05-00_Processing_of_Tabular_Data.ipynb:: WARNING: image file not readable: _img/split-apply-combine.svg\u001b[39;49;00m\n",
      "\u001b[91mC:\\Users\\zak\\pythonFUclass_org\\05-2023-03-07\\reports\\book4\\05-01_Temperature_anomalies.ipynb:820004: WARNING: Non-consecutive header level increase; H2 to H4 [myst.header]\u001b[39;49;00m\n",
      "\u001b[31mC:\\Users\\zak\\pythonFUclass_org\\05-2023-03-07\\reports\\book4\\05-01_Temperature_anomalies.ipynb:30002: ERROR: Document or section may not begin with a transition.\u001b[39;49;00m\n",
      "\u001b[31mC:\\Users\\zak\\pythonFUclass_org\\05-2023-03-07\\reports\\book4\\05-01_Temperature_anomalies.ipynb:850002: ERROR: Document may not end with a transition.\u001b[39;49;00m\n",
      "\u001b[31mC:\\Users\\zak\\pythonFUclass_org\\05-2023-03-07\\reports\\book4\\markdown.md:39: ERROR: Unknown interpreted text role \"cite\".\u001b[39;49;00m\n",
      "\u001b[31mC:\\Users\\zak\\pythonFUclass_org\\05-2023-03-07\\reports\\book4\\markdown.md:49: ERROR: Unknown directive type \"bibliography\".\u001b[39;49;00m\n",
      "\u001b[91mC:\\Users\\zak\\pythonFUclass_org\\05-2023-03-07\\reports\\book4\\markdown.md: WARNING: document isn't included in any toctree\u001b[39;49;00m\n",
      "\u001b[91mC:\\Users\\zak\\pythonFUclass_org\\05-2023-03-07\\reports\\book4\\markdown-notebooks.md: WARNING: document isn't included in any toctree\u001b[39;49;00m\n",
      "\u001b[91mC:\\Users\\zak\\pythonFUclass_org\\05-2023-03-07\\reports\\book4\\notebooks.ipynb: WARNING: document isn't included in any toctree\u001b[39;49;00m\n"
     ]
    }
   ],
   "source": [
    "!jupyter-book build ../reports/book4"
   ]
  },
  {
   "cell_type": "markdown",
   "id": "8fdccead-58fe-4884-986c-ce09c237a45c",
   "metadata": {},
   "source": [
    "## Open the HTML files\n",
    "\n",
    "- Check the last lines of the `jupyter-book build` output\n",
    "\n",
    "- All HTML files are in the folder: `../reports/jupyterbook/_build/html`\n",
    "- Open `../reports/jupyterbook/_build/html/index.html` in your Browser or copy the link generated by `jupyter-book` into your Browser to view your notebooks!"
   ]
  },
  {
   "cell_type": "markdown",
   "id": "a67a136e-a5f6-45fb-af89-fef4846a8b7d",
   "metadata": {},
   "source": [
    "## Further Reading:\n",
    "- [JupyterBook Website](https://jupyterbook.org/intro.html)\n",
    "- [JupyterBook Tutorial by Pablo Caceres](https://github.com/pabloinsente/jupyter-book-tutorial)\n",
    "    - This goes pretty in-depth, you can skip most of the stuff mentioned there (like publishing the HTMLs to GitHub Pages)\n",
    "    - Still very well balanced tutorial (more in-depth than we go, but not too complex)"
   ]
  }
 ],
 "metadata": {
  "kernelspec": {
   "display_name": "Python 3 (ipykernel)",
   "language": "python",
   "name": "python3"
  },
  "language_info": {
   "codemirror_mode": {
    "name": "ipython",
    "version": 3
   },
   "file_extension": ".py",
   "mimetype": "text/x-python",
   "name": "python",
   "nbconvert_exporter": "python",
   "pygments_lexer": "ipython3",
   "version": "3.10.6"
  }
 },
 "nbformat": 4,
 "nbformat_minor": 5
}
