{
 "cells": [
  {
   "cell_type": "markdown",
   "metadata": {
    "slideshow": {
     "slide_type": "-"
    }
   },
   "source": [
    "# Plotting with Python"
   ]
  },
  {
   "cell_type": "markdown",
   "metadata": {},
   "source": [
    "__Plotting is an essential component of data analysis__. It helps you to understand complex data sets and help others understand them too. However, the python visualization world can be a frustrating place. There are many different options and choosing the right one is a challenge. "
   ]
  },
  {
   "cell_type": "markdown",
   "metadata": {},
   "source": [
    "## The Python Visualization Landscape\n",
    "\n",
    "\n",
    "![Python Visualization Landscape](_img/landscape.png)\n",
    " \n",
    " \n",
    "Source: [Nicolas P. Rougier](https://github.com/rougier/python-visualization-landscape): An adaptation the Python Visualization Landscape slide from [Jake VanderPlas](http://vanderplas.com/)' keynote at PyCon 2017 ([slides](https://speakerdeck.com/jakevdp/pythons-visualization-landscape-pycon-2017), [video](https://www.youtube.com/watch?v=FytuB8nFHPQ)). \n",
    "\n",
    "\n",
    "Online you find many post and reports which compare and assess different Python libraries (e.g. blog post by [Dan Saber](https://dsaber.com/2016/10/02/a-dramatic-tour-through-pythons-data-visualization-landscape-including-ggplot-and-altair/) or by [Tim Hopper](http://pythonplot.com/)). These are very valuable sources of information if you are not yet sure which library fits best your needs. "
   ]
  },
  {
   "cell_type": "markdown",
   "metadata": {},
   "source": [
    "In this section we introduce two plotting libraries.\n",
    "\n",
    "\n",
    "### matplotlib\n",
    "\n",
    "[matplotlib](https://matplotlib.org/)  is probably the most well known 2D plotting Python library. It allows to produce publication quality figures in a variety of formats and interactive environments across platforms. However, matplotlib is the cause of frustration due to the complex syntax. \n",
    "\n",
    "\n",
    "### Seaborn\n",
    "\n",
    "[Seaborn](http://seaborn.pydata.org/index.html) is a library for making attractive and informative statistical graphics in Python. It is built on top of [matplotlib](https://matplotlib.org/) and it supports [numpy](http://www.numpy.org/) and [pandas](http://pandas.pydata.org/) data structures and statistical routines from [scipy](https://scipy.org/) and [statsmodels](http://www.statsmodels.org/stable/index.html).\n",
    "\n",
    "_If matplotlib tries to make easy things easy and hard things possible, seaborn tries to make a well-defined set of hard things easy too_ ([Quote by Michael Waskom](http://seaborn.pydata.org/introduction.html))."
   ]
  },
  {
   "cell_type": "markdown",
   "metadata": {},
   "source": [
    "## Data generation\n",
    "\n",
    "For the sake of simplicity we create a sine curve a cosine curve for plotting. "
   ]
  },
  {
   "cell_type": "code",
   "execution_count": null,
   "metadata": {},
   "outputs": [],
   "source": [
    "import numpy as np\n",
    "\n",
    "X= np.linspace(start=2*-np.pi, stop=2*np.pi, num=300)\n",
    "C = np.cos(X)\n",
    "S = np.sin(X)"
   ]
  },
  {
   "cell_type": "markdown",
   "metadata": {},
   "source": [
    "***\n",
    "## Matplotlib"
   ]
  },
  {
   "cell_type": "markdown",
   "metadata": {},
   "source": [
    "matplotlib, created by [John D. Hunter](https://en.wikipedia.org/wiki/John_D._Hunter), is probably the single most used Python package for 2D-graphics. It provides both a very quick way to visualize data from Python and publication-quality figures in many formats. \n",
    "\n",
    "matplotlib's `pyplot` module provides a convenient interface to the matplotlib object-oriented plotting library. It is modeled closely after [MATLAB](https://de.wikipedia.org/wiki/Matlab). \n",
    "\n",
    "We import the matplotlib libarary and matplotlib's `pyplot` module using the canonical commands\n",
    "\n",
    "    import matplotlib as mpl\n",
    "    import matplotlib.pyplot as plt\n",
    "\n",
    "Further, when working with Jupyter notebooks we call the magic function\n",
    "\n",
    "    % matplotlib inline\n",
    "\n",
    "to make sure the figures are created within the notebook (actually the figures are shown directly in the cell output)."
   ]
  },
  {
   "cell_type": "code",
   "execution_count": null,
   "metadata": {},
   "outputs": [],
   "source": [
    "import matplotlib as mpl\n",
    "import matplotlib.pyplot as plt\n",
    "\n",
    "%matplotlib inline"
   ]
  },
  {
   "cell_type": "markdown",
   "metadata": {},
   "source": [
    "It is worth noting that __matplotlib has two interfaces__. The first is based on MATLAB and uses a __state-based interface__. The second option is an an __object-oriented interface__. Hence, multiple solutions to problems that look somewhat similar but are not the same, which for sure causes confusion for new users if the looking for solutions to their tasks via [stack overflow](https://stackoverflow.com/) or Google search. _(Note that in this section we use the object oriented interface.)_\n",
    "\n",
    "Yet another source of confusion is that matplotlib is well integrated into other Python libraries, such as [pandas](http://pandas.pydata.org/), [seaborn](http://seaborn.pydata.org/index.html), [xarray](http://xarray.pydata.org/en/stable/), among others. Hence, there is confusion as to when one should use pure matplotlib to plot something with a tool that is built on top of matplotlib. \n",
    "\n",
    "> **Be aware that anytime there is more than one way to build a visualization. Therefore it is challenging for the new or infrequent user to follow the right path.** "
   ]
  },
  {
   "cell_type": "markdown",
   "metadata": {},
   "source": [
    "###  Creating a `Figure` and an `Axes` object \n",
    "\n",
    "> With respect to matplotlib terminology it is important to understand that the `Figure` is the final image that may contain one or more axes. The `Axes` represent an individual plot.    \n",
    "\n",
    "To create a `Figure` object we call\n",
    "\n",
    "    plt.figure()\n",
    "\n",
    "However, a more convenient way to create a `Figure` object and an `Axes` object at once, is to call\n",
    "\n",
    "    plt.subplots() \n",
    "    \n",
    "Note that the function call returns `Figure` object and an `Axes` object (or array of `Axes` objects)."
   ]
  },
  {
   "cell_type": "code",
   "execution_count": null,
   "metadata": {},
   "outputs": [],
   "source": [
    "fig, ax = plt.subplots()"
   ]
  },
  {
   "cell_type": "code",
   "execution_count": null,
   "metadata": {},
   "outputs": [],
   "source": [
    "print(type(fig))\n",
    "print(type(ax))"
   ]
  },
  {
   "cell_type": "markdown",
   "metadata": {},
   "source": [
    "Now can use the `Axes` object `ax` to add data for plotting. Therefore we simply call the `plot` function on the `Axes` object. Note that the `plot` function expect an `x` and a `y` argument."
   ]
  },
  {
   "cell_type": "markdown",
   "metadata": {},
   "source": [
    "### Plot some data"
   ]
  },
  {
   "cell_type": "code",
   "execution_count": null,
   "metadata": {},
   "outputs": [],
   "source": [
    "fig, ax = plt.subplots()\n",
    "ax.plot(X, C)"
   ]
  },
  {
   "cell_type": "markdown",
   "metadata": {},
   "source": [
    "To add more data on the same `Axes` object we call the `plot` function sequentially."
   ]
  },
  {
   "cell_type": "code",
   "execution_count": null,
   "metadata": {},
   "outputs": [],
   "source": [
    "fig, ax = plt.subplots()\n",
    "ax.plot(X, C)\n",
    "ax.plot(X, S)"
   ]
  },
  {
   "cell_type": "markdown",
   "metadata": {},
   "source": [
    "### Customizing the plot"
   ]
  },
  {
   "cell_type": "markdown",
   "metadata": {},
   "source": [
    "There are many ways to provide different plotting styles. Look up the [documentation](https://matplotlib.org/api/_as_gen/matplotlib.pyplot.subplots.html) for details.\n",
    "\n",
    "For the sake of this tutorial we color the cosine curve green and use a dashed line with a line width of 3.5 for the sine curve."
   ]
  },
  {
   "cell_type": "code",
   "execution_count": null,
   "metadata": {},
   "outputs": [],
   "source": [
    "fig, ax = plt.subplots()\n",
    "ax.plot(X, C, color=\"green\")\n",
    "ax.plot(X, S, linestyle=\"--\", linewidth=3.5)"
   ]
  },
  {
   "cell_type": "markdown",
   "metadata": {},
   "source": [
    "> ### __Challenge: Customizing the plot__ \n",
    "The goal of this challenge is to customize our plot in various ways. We are going to \n",
    "* add a title to the plot\n",
    "* add a legend to the plot\n",
    "* set a limit for the x-axis\n",
    "* set x and y ticks\n",
    "* set tick labels for the x axis\n",
    "* add a grid\n",
    "* adjust the figure size\n",
    "* save the figure to disk\n",
    "\n",
    "Our final plot will look like this:\n",
    "\n",
    "<img src=\"_img/my_awesome_mpl_figure.png\" width=\"800\">\n"
   ]
  },
  {
   "cell_type": "markdown",
   "metadata": {},
   "source": [
    "In order to further design our plot we need to get familiar with the matplotlib terminology. The graphic below from the [matplotlib faq](https://matplotlib.org/faq/usage_faq.html) helps in understanding the different terminology of a plot.\n",
    "\n",
    "\n",
    "<img src=\"_img/mpl_anatomy.png\" width=\"600\">"
   ]
  },
  {
   "cell_type": "markdown",
   "metadata": {},
   "source": [
    "**Our baseline plot**\n",
    "\n",
    "_Hint: Copy the code and paste it in the cells below to build your graphs sequentially. You can also use the `fig` statement at the end of a cell to display the figure_"
   ]
  },
  {
   "cell_type": "code",
   "execution_count": null,
   "metadata": {},
   "outputs": [],
   "source": [
    "fig, ax = plt.subplots()\n",
    "ax.plot(X, C, color=\"green\", label='cosine')\n",
    "ax.plot(X, S, linestyle=\"--\", linewidth=3.5, label='sine')"
   ]
  },
  {
   "cell_type": "markdown",
   "metadata": {},
   "source": [
    "**Add a title to the plot**\n",
    "\n",
    "_Hint: Use the_ `AXES.set_title` _method. Provide a title string and the font size (e.g. `size=16`)_\n"
   ]
  },
  {
   "cell_type": "code",
   "execution_count": null,
   "metadata": {},
   "outputs": [],
   "source": [
    "### your code here ..."
   ]
  },
  {
   "cell_type": "markdown",
   "metadata": {},
   "source": [
    "**Add a legend to the plot**\n",
    "\n",
    "_Hint: Use the_ `AXES.legend` _method. Provide the labels and the font size (e.g._ `fontsize=12`_)._ \n"
   ]
  },
  {
   "cell_type": "code",
   "execution_count": null,
   "metadata": {},
   "outputs": [],
   "source": [
    "### your code here ..."
   ]
  },
  {
   "cell_type": "markdown",
   "metadata": {},
   "source": [
    "**Set a limit for the x-axis to $-4$ to $4$**\n",
    "\n",
    "_Hint: Use the_ `AXES.set_xlim` _method._"
   ]
  },
  {
   "cell_type": "code",
   "execution_count": null,
   "metadata": {},
   "outputs": [],
   "source": [
    "### your code here ..."
   ]
  },
  {
   "cell_type": "markdown",
   "metadata": {},
   "source": [
    "**Set the x-ticks to $-\\pi, 0, \\pi$ and the y-ticks to $-1,0,1$**\n",
    "\n",
    "_Hint: Use the_ `AXES.set_xticks` _and_ `AXES.set_yticks` _methods. The actual value of $\\pi$ is availaibe in the_ `math` _and_ `numpy` _modules_\n"
   ]
  },
  {
   "cell_type": "code",
   "execution_count": null,
   "metadata": {},
   "outputs": [],
   "source": [
    "### your code here ..."
   ]
  },
  {
   "cell_type": "markdown",
   "metadata": {},
   "source": [
    "**Set tick labels for the x axis to $-\\pi, 0, +\\pi$**\n",
    "\n",
    "_Hint: Use the_ `AXES.set_xticklabels` _method. Write Greek letters using LaTeX notation:_ `'$-\\pi$', '$0$', '$+\\pi$'`_. For better readability scale the text size and add the_ `size=12` _argument._\n"
   ]
  },
  {
   "cell_type": "code",
   "execution_count": null,
   "metadata": {},
   "outputs": [],
   "source": [
    "### your code here ..."
   ]
  },
  {
   "cell_type": "markdown",
   "metadata": {},
   "source": [
    "**Add a grid to the figure**\n",
    "\n",
    "_Hint: Use the_ `AXES.grid` _method._"
   ]
  },
  {
   "cell_type": "code",
   "execution_count": null,
   "metadata": {},
   "outputs": [],
   "source": [
    "### your code here ..."
   ]
  },
  {
   "cell_type": "markdown",
   "metadata": {},
   "source": [
    "**Save the figure to disk**\n",
    "\n",
    "_Hint: Use the_ `FIGURE.savefig` _method. Save the figure as .png file in the folder_ `\"../figures/YOUR_FIGURE_NAME.png\"`_. Add the_ `dpi=300` _argument to enhance the quality._"
   ]
  },
  {
   "cell_type": "code",
   "execution_count": null,
   "metadata": {},
   "outputs": [],
   "source": [
    "### your code here ..."
   ]
  },
  {
   "cell_type": "markdown",
   "metadata": {},
   "source": [
    "_If for whatever reason you did not make it, uncomment the line below to load a solution._"
   ]
  },
  {
   "cell_type": "code",
   "execution_count": null,
   "metadata": {},
   "outputs": [],
   "source": [
    "# %load ../src/_solutions/mpl_plot_customization.py"
   ]
  },
  {
   "cell_type": "markdown",
   "metadata": {},
   "source": [
    "### Annotations, points, lines"
   ]
  },
  {
   "cell_type": "code",
   "execution_count": null,
   "metadata": {},
   "outputs": [],
   "source": [
    "import numpy as np\n",
    "import matplotlib.pyplot as plt\n",
    "\n",
    "# x-coordinates\n",
    "t=np.arange(0,20,0.001)\n",
    "\n",
    "# y-coordinates\n",
    "u=325*np.sin(2*np.pi*50*t/1000.0)\n",
    "\n",
    "# Figures and Axes\n",
    "fig,ax=plt.subplots() \n",
    "ax.plot(t,u,'b',lw=2,label=\"Kurve\")\n",
    "\n",
    "# Line\n",
    "ax.plot([0,20],[230,255],'r--',label=\"Gerade\")\n",
    "\n",
    "# Point\n",
    "ax.plot(5,325,'ro',label=\"Punkt\")\n",
    "\n",
    "# Annotation\n",
    "plt.annotate('Hier ist ein wichtiger Punkt!', xy=(5, 325), xytext=(5, 200),\n",
    "             arrowprops=dict(facecolor='black', shrink=0.05),\n",
    "             fontsize=10, color='k')\n",
    "\n",
    "ax.set_title(\"Beispielkurve\")\n",
    "ax.set_ylabel(\"y_label\")\n",
    "ax.set_xlabel(\"x_label\")\n",
    "ax.legend(loc='best')\n",
    "ax.grid(color='g',ls='dashed',lw='0.5')\n",
    "\n",
    "plt.show()"
   ]
  },
  {
   "cell_type": "markdown",
   "metadata": {},
   "source": [
    "### Multiple plots"
   ]
  },
  {
   "cell_type": "code",
   "execution_count": null,
   "metadata": {},
   "outputs": [],
   "source": [
    "import matplotlib.pyplot as plt\n",
    "import numpy as np\n",
    "\n",
    "# Data\n",
    "x = np.linspace(0, 10, 100)\n",
    "y1 = np.sin(x)\n",
    "y2 = np.cos(x)\n",
    "y3 = np.tan(x)\n",
    "y4 = np.exp(x)\n",
    "\n",
    "# Figure and Axes\n",
    "fig, axs = plt.subplots(2, 2, figsize=(10, 8))\n",
    "\n",
    "# Plot 1\n",
    "axs[0, 0].plot(x, y1)\n",
    "axs[0, 0].set_title('Plot 1')\n",
    "\n",
    "# Plot 2\n",
    "axs[0, 1].plot(x, y2)\n",
    "axs[0, 1].set_title('Plot 2')\n",
    "\n",
    "# Plot 3\n",
    "axs[1, 0].plot(x, y3)\n",
    "axs[1, 0].set_title('Plot 3')\n",
    "\n",
    "# Plot 4\n",
    "axs[1, 1].plot(x, y4)\n",
    "axs[1, 1].set_title('Plot 4')\n",
    "\n",
    "\n",
    "plt.tight_layout()\n",
    "plt.show()"
   ]
  },
  {
   "cell_type": "markdown",
   "metadata": {},
   "source": [
    "> **Challenge:** Arrange the plots for the following functions in a 3x2 Grid."
   ]
  },
  {
   "cell_type": "code",
   "execution_count": null,
   "metadata": {},
   "outputs": [],
   "source": [
    "# Data\n",
    "x = np.linspace(0, 2 * np.pi, 100)\n",
    "y1 = np.sin(x)\n",
    "y2 = np.cos(x)\n",
    "y3 = np.tan(x)\n",
    "y4 = np.exp(-x) * np.sin(2 * x)\n",
    "y5 = np.log(x + 1)\n",
    "y6 = np.sqrt(x)"
   ]
  },
  {
   "cell_type": "code",
   "execution_count": null,
   "metadata": {},
   "outputs": [],
   "source": [
    "### your code here..."
   ]
  },
  {
   "cell_type": "code",
   "execution_count": null,
   "metadata": {},
   "outputs": [],
   "source": [
    "# %load ../src/_solutions/multiple_plots.py"
   ]
  },
  {
   "cell_type": "markdown",
   "metadata": {},
   "source": [
    "### Assigning axes-objects with a `for`- loop"
   ]
  },
  {
   "cell_type": "code",
   "execution_count": null,
   "metadata": {},
   "outputs": [],
   "source": [
    "import matplotlib.pyplot as plt\n",
    "import numpy as np\n",
    "\n",
    "# Data\n",
    "x = np.linspace(0, 2 * np.pi, 100)\n",
    "y_data = [\n",
    "    np.sin(x),\n",
    "    np.cos(x),\n",
    "    np.tan(x),\n",
    "    np.exp(-x) * np.sin(2 * x),\n",
    "    np.log(x + 1),\n",
    "    np.sqrt(x)\n",
    "]\n",
    "\n",
    "# rows, columns\n",
    "nrows, ncols = 3, 2\n",
    "\n",
    "# Subplots\n",
    "fig, axs = plt.subplots(nrows, ncols, figsize=(6, 8))\n",
    "\n",
    "\n",
    "for i in range(nrows):\n",
    "    for j in range(ncols):\n",
    "        index = i * ncols + j  # Berechne den Index für den Zugriff auf y_data\n",
    "        axs[i, j].plot(x, y_data[index])\n",
    "        axs[i, j].set_title(f'Plot {index + 1}')\n",
    "\n",
    "\n",
    "plt.tight_layout()\n",
    "plt.show()\n"
   ]
  },
  {
   "cell_type": "markdown",
   "metadata": {},
   "source": [
    "### Individual plot titles"
   ]
  },
  {
   "cell_type": "code",
   "execution_count": null,
   "metadata": {},
   "outputs": [],
   "source": [
    "titles = {1:'This is the first plot',\n",
    "          2:'This is the second plot',\n",
    "          3:'This is the third plot',\n",
    "          4:'This is the fourth plot',\n",
    "          5:'This is the fifth plot',\n",
    "          6:'This is the sixth plot'}"
   ]
  },
  {
   "cell_type": "code",
   "execution_count": null,
   "metadata": {},
   "outputs": [],
   "source": [
    "titles[6]"
   ]
  },
  {
   "cell_type": "code",
   "execution_count": null,
   "metadata": {},
   "outputs": [],
   "source": [
    "import matplotlib.pyplot as plt\n",
    "import numpy as np\n",
    "\n",
    "# data\n",
    "x = np.linspace(-2 * np.pi, 2 * np.pi, 10000)\n",
    "y_data = [\n",
    "    np.sin(x),\n",
    "    np.cos(x),\n",
    "    x**2,\n",
    "    np.exp(x),\n",
    "    1-np.cos(x)**2,\n",
    "    1-np.sin(x)**2\n",
    "]\n",
    "\n",
    "\n",
    "nrows, ncols = 3, 2\n",
    "\n",
    "\n",
    "fig, axs = plt.subplots(nrows, ncols, figsize=(10, 10))\n",
    "\n",
    "\n",
    "for i in range(nrows):\n",
    "    for j in range(ncols):\n",
    "        index = i * ncols + j\n",
    "        ax = axs[i, j]\n",
    "        ax.plot(x, y_data[index])\n",
    "        ax.set_title(f'{titles[index + 1]}')\n",
    "\n",
    "        \n",
    "        \n",
    "\n",
    "plt.tight_layout()\n",
    "plt.show()\n"
   ]
  },
  {
   "cell_type": "markdown",
   "metadata": {},
   "source": [
    "> __Final note__: The matplotlib library is extremely powerful. For more information and inspiration visit the [gallery site](https://matplotlib.org/gallery/index.html) of the matplotlib documentation or check out the great tutorial by [Nicolas P. Rougier](https://github.com/rougier/matplotlib-tutorial) or the blog post by [Chris Moffitt](http://pbpython.com/effective-matplotlib.html), which were inspiring sources for this section."
   ]
  },
  {
   "cell_type": "markdown",
   "metadata": {},
   "source": [
    "***\n",
    "\n",
    "## Seaborn\n",
    "\n",
    "[Seaborn](https://seaborn.pydata.org/) is a Python visualization library based on matplotlib. It provides a high-level interface for drawing **attractive statistical graphics**."
   ]
  },
  {
   "cell_type": "markdown",
   "metadata": {},
   "source": [
    "conda install seaborn\n",
    "\n",
    "conda install pandas"
   ]
  },
  {
   "cell_type": "code",
   "execution_count": null,
   "metadata": {},
   "outputs": [],
   "source": [
    "import seaborn as sns\n",
    "\n",
    "import warnings\n",
    "warnings.filterwarnings(\"ignore\", category=FutureWarning)"
   ]
  },
  {
   "cell_type": "markdown",
   "metadata": {},
   "source": [
    "### Lineplots in seaborn"
   ]
  },
  {
   "cell_type": "markdown",
   "metadata": {},
   "source": [
    "#### Data Generation"
   ]
  },
  {
   "cell_type": "code",
   "execution_count": null,
   "metadata": {},
   "outputs": [],
   "source": [
    "import numpy as np\n",
    "\n",
    "X= np.linspace(start=2*-np.pi, stop=2*np.pi, num=300)\n",
    "C = np.cos(X)\n",
    "S = np.sin(X)"
   ]
  },
  {
   "cell_type": "code",
   "execution_count": null,
   "metadata": {},
   "outputs": [],
   "source": [
    "import pandas as pd\n",
    "dict = {'x': X, 'y': C, 'z': S}\n",
    "\n",
    "data = pd.DataFrame(dict)\n",
    "data"
   ]
  },
  {
   "cell_type": "code",
   "execution_count": null,
   "metadata": {},
   "outputs": [],
   "source": [
    "import seaborn as sns\n",
    "import matplotlib.pyplot as plt\n",
    "\n",
    "# Liniendiagramm erstellen\n",
    "sns.lineplot(x='x', y='y', data=data, color = 'green', linewidth = 0.75)\n",
    "sns.lineplot(x='x', y='z', data=data, color = 'blue', linestyle='--', linewidth = 2.5)\n",
    "\n",
    "# Formatiere Ticks\n",
    "sns.set_style(\"ticks\")\n",
    "plt.grid(True)\n",
    "plt.xticks([-np.pi, 0, np.pi], [r'$-\\pi$', '0', r'$\\pi$'])\n",
    "plt.yticks([-1,0,1])\n",
    "\n",
    "plt.title('My awesome Plot in seaborn', size = 20)\n",
    "\n",
    "plt.show()"
   ]
  },
  {
   "cell_type": "markdown",
   "metadata": {},
   "source": [
    "### Load sample datasets in `seaborn`"
   ]
  },
  {
   "cell_type": "code",
   "execution_count": null,
   "metadata": {},
   "outputs": [],
   "source": [
    "print(sns.get_dataset_names())"
   ]
  },
  {
   "cell_type": "markdown",
   "metadata": {},
   "source": [
    "### fmri-dataset"
   ]
  },
  {
   "cell_type": "code",
   "execution_count": null,
   "metadata": {},
   "outputs": [],
   "source": [
    "import seaborn as sns\n",
    "import matplotlib.pyplot as plt\n",
    "\n",
    "df = sns.load_dataset('fmri')"
   ]
  },
  {
   "cell_type": "code",
   "execution_count": null,
   "metadata": {},
   "outputs": [],
   "source": [
    "df.head(1)"
   ]
  },
  {
   "cell_type": "code",
   "execution_count": null,
   "metadata": {},
   "outputs": [],
   "source": [
    "sns.lineplot(x='timepoint'\n",
    "             , y='signal'\n",
    "             , data=df\n",
    "             #, errorbar = None\n",
    "            )\n",
    "\n",
    "plt.show()\n"
   ]
  },
  {
   "cell_type": "markdown",
   "metadata": {},
   "source": [
    "### car_crashes-dataset"
   ]
  },
  {
   "cell_type": "code",
   "execution_count": null,
   "metadata": {},
   "outputs": [],
   "source": [
    "crash_df = sns.load_dataset('car_crashes')\n",
    "\n",
    "crash_df.head()"
   ]
  },
  {
   "cell_type": "markdown",
   "metadata": {},
   "source": [
    "# Distribution Plots"
   ]
  },
  {
   "cell_type": "code",
   "execution_count": null,
   "metadata": {},
   "outputs": [],
   "source": [
    "_ = sns.displot(crash_df['not_distracted'])"
   ]
  },
  {
   "cell_type": "markdown",
   "metadata": {},
   "source": [
    "# Joint Plot"
   ]
  },
  {
   "cell_type": "code",
   "execution_count": null,
   "metadata": {},
   "outputs": [],
   "source": [
    "sns.jointplot(x = 'speeding', y = 'alcohol', data = crash_df, kind = 'reg')"
   ]
  },
  {
   "cell_type": "markdown",
   "metadata": {},
   "source": [
    "# KDE Plots"
   ]
  },
  {
   "cell_type": "code",
   "execution_count": null,
   "metadata": {},
   "outputs": [],
   "source": [
    "sns.kdeplot(crash_df['alcohol'])"
   ]
  },
  {
   "cell_type": "markdown",
   "metadata": {},
   "source": [
    "# Boxplot"
   ]
  },
  {
   "cell_type": "code",
   "execution_count": null,
   "metadata": {},
   "outputs": [],
   "source": [
    "tips_df = sns.load_dataset('tips')"
   ]
  },
  {
   "cell_type": "code",
   "execution_count": null,
   "metadata": {},
   "outputs": [],
   "source": [
    "sns.boxplot(x='day', y='total_bill', data = tips_df)"
   ]
  },
  {
   "cell_type": "code",
   "execution_count": null,
   "metadata": {},
   "outputs": [],
   "source": [
    "sns.boxplot(x='day', y='total_bill', data = tips_df, hue = 'sex')"
   ]
  },
  {
   "cell_type": "markdown",
   "metadata": {},
   "source": [
    "# Violin Plot"
   ]
  },
  {
   "cell_type": "code",
   "execution_count": null,
   "metadata": {},
   "outputs": [],
   "source": [
    "sns.violinplot(x = 'day', y = 'total_bill', data = tips_df, hue = 'sex')"
   ]
  },
  {
   "cell_type": "code",
   "execution_count": null,
   "metadata": {},
   "outputs": [],
   "source": [
    "sns.violinplot(x = 'day', y = 'total_bill', data = tips_df, hue = 'sex', split = True)"
   ]
  },
  {
   "cell_type": "code",
   "execution_count": null,
   "metadata": {},
   "outputs": [],
   "source": [
    "from matplotlib import colormaps\n",
    "list(colormaps)"
   ]
  },
  {
   "cell_type": "code",
   "execution_count": null,
   "metadata": {},
   "outputs": [],
   "source": [
    "sns.violinplot(x = 'day', y = 'total_bill', data = tips_df, hue = 'sex', split = True, palette = 'Dark2_r')"
   ]
  },
  {
   "cell_type": "markdown",
   "metadata": {},
   "source": [
    "# Pairplot"
   ]
  },
  {
   "cell_type": "code",
   "execution_count": null,
   "metadata": {},
   "outputs": [],
   "source": [
    "sns.pairplot(crash_df\n",
    "             #,hue = 'alcohol'\n",
    "            )"
   ]
  },
  {
   "cell_type": "markdown",
   "metadata": {},
   "source": [
    "### tips-datset"
   ]
  },
  {
   "cell_type": "code",
   "execution_count": null,
   "metadata": {},
   "outputs": [],
   "source": [
    "tips_df = sns.load_dataset('tips')"
   ]
  },
  {
   "cell_type": "code",
   "execution_count": null,
   "metadata": {},
   "outputs": [],
   "source": [
    "tips_df.head(1)"
   ]
  },
  {
   "cell_type": "code",
   "execution_count": null,
   "metadata": {},
   "outputs": [],
   "source": [
    "sns.pairplot(tips_df, hue = 'sex')"
   ]
  },
  {
   "cell_type": "markdown",
   "metadata": {},
   "source": [
    "### Multiple Plots - `FacetGrid`"
   ]
  },
  {
   "cell_type": "code",
   "execution_count": null,
   "metadata": {},
   "outputs": [],
   "source": [
    "g = sns.FacetGrid(data=tips_df, col=\"sex\")\n",
    "g.map(plt.scatter, \"tip\", \"total_bill\", alpha=.7);"
   ]
  },
  {
   "cell_type": "markdown",
   "metadata": {},
   "source": [
    "### Iris Dataset"
   ]
  },
  {
   "cell_type": "code",
   "execution_count": null,
   "metadata": {},
   "outputs": [],
   "source": [
    "import seaborn as sns\n",
    "\n",
    "# Use seaborn graphic settings\n",
    "sns.set()\n",
    "\n",
    "# Load the example Iris flower dataset\n",
    "iris = sns.load_dataset(\"iris\")\n",
    "#iris"
   ]
  },
  {
   "cell_type": "code",
   "execution_count": null,
   "metadata": {},
   "outputs": [],
   "source": [
    "# Plot tip as a function of total bill across days\n",
    "g = sns.lmplot(x=\"sepal_length\", y=\"sepal_width\", hue=\"species\",\n",
    "               truncate=True, height=8, data=iris)\n",
    "\n",
    "# Use more informative axis labels than are provided by default\n",
    "g.set_axis_labels(\"Sepal length (mm)\", \"Sepal width (mm)\");"
   ]
  },
  {
   "cell_type": "markdown",
   "metadata": {},
   "source": [
    "> **Challenge:** \n",
    "\n",
    "a) Create a pairplot of Irisdataset and color it according to species\n",
    " \n",
    "b) Create a FacetGrid of scatterplots for `sepal_length` and `sepal_width`"
   ]
  },
  {
   "cell_type": "code",
   "execution_count": null,
   "metadata": {},
   "outputs": [],
   "source": [
    "### a) your code here... "
   ]
  },
  {
   "cell_type": "code",
   "execution_count": null,
   "metadata": {},
   "outputs": [],
   "source": [
    "# %load ../src/_solutions/sns_pairplot.py"
   ]
  },
  {
   "cell_type": "code",
   "execution_count": null,
   "metadata": {},
   "outputs": [],
   "source": [
    "### b) your code here... "
   ]
  },
  {
   "cell_type": "code",
   "execution_count": null,
   "metadata": {},
   "outputs": [],
   "source": [
    "# %load ../src/_solutions/sns_pairplot2.py"
   ]
  },
  {
   "cell_type": "markdown",
   "metadata": {},
   "source": [
    "### Layout"
   ]
  },
  {
   "cell_type": "code",
   "execution_count": null,
   "metadata": {},
   "outputs": [],
   "source": [
    "# background\n",
    "sns.set_style('white')\n",
    "\n",
    "# size of figure\n",
    "import matplotlib.pyplot as plt\n",
    "plt.figure(figsize=(8,4))\n",
    "\n",
    "# font size and formatting\n",
    "sns.set_context('talk', font_scale=1.4)\n",
    "\n",
    "# turn of axis\n",
    "sns.despine(bottom = True)\n",
    "\n",
    "sns.histplot(tips_df)"
   ]
  },
  {
   "cell_type": "markdown",
   "metadata": {},
   "source": [
    "### Choosing a palette"
   ]
  },
  {
   "cell_type": "markdown",
   "metadata": {},
   "source": [
    "*    deep\n",
    "*    muted\n",
    "*    bright\n",
    "*    pastel\n",
    "*    dark\n",
    "*    colorblind"
   ]
  },
  {
   "cell_type": "code",
   "execution_count": null,
   "metadata": {},
   "outputs": [],
   "source": [
    "sns.color_palette('dark')"
   ]
  },
  {
   "cell_type": "code",
   "execution_count": null,
   "metadata": {},
   "outputs": [],
   "source": [
    "# color palette\n",
    "sns.set_context('paper', font_scale=1.4)\n",
    "plt.grid(False)\n",
    "_ = sns.barplot(x = 'sex', y = 'total_bill', data= tips_df, hue = 'sex', palette = 'deep')"
   ]
  },
  {
   "cell_type": "markdown",
   "metadata": {},
   "source": [
    "***"
   ]
  }
 ],
 "metadata": {
  "citation-manager": {
   "items": {}
  },
  "kernelspec": {
   "display_name": "Python 3 (ipykernel)",
   "language": "python",
   "name": "python3"
  },
  "language_info": {
   "codemirror_mode": {
    "name": "ipython",
    "version": 3
   },
   "file_extension": ".py",
   "mimetype": "text/x-python",
   "name": "python",
   "nbconvert_exporter": "python",
   "pygments_lexer": "ipython3",
   "version": "3.9.0"
  }
 },
 "nbformat": 4,
 "nbformat_minor": 4
}
