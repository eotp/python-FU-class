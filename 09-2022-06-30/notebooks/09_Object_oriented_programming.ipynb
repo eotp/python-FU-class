{
 "cells": [
  {
   "cell_type": "markdown",
   "id": "f5c400c6-9614-4e75-a6cf-921609668fbf",
   "metadata": {},
   "source": [
    "# Object Oriented Programming (OOP)\n",
    "\n",
    "Object-oriented programming is a programming paradigm that provides a means of structuring programs so that properties and behaviors are bundled into individual objects.\n",
    "\n",
    "For instance, an object could represent a person with properties like a name, age, and address and behaviors such as walking, talking, breathing, and running. Or it could represent an email with properties like a recipient list, subject, and body and behaviors like adding attachments and sending.\n",
    "\n",
    "The key takeaway is that objects are at the center of object-oriented programming in Python."
   ]
  },
  {
   "cell_type": "markdown",
   "id": "f8435d7e-4df9-4c5a-8305-df22609cdc34",
   "metadata": {},
   "source": [
    "# Classes\n",
    "\n",
    "Classes provide a means of bundling data and functionality together. Creating a new class creates a new type of object, allowing new instances of that type to be made. Each class instance can have attributes attached to it for maintaining its state. Class instances can also have methods (defined by its class) for modifying its state.\n",
    "\n",
    "Python classes provide all the standard features of Object Oriented Programming:\n",
    "\n",
    "- the class inheritance mechanism allows multiple base classes\n",
    "- a derived class can override any methods of its base class or classes, and\n",
    "- a method can call the method of a base class with the same name.\n",
    "\n",
    "Objects can contain arbitrary amounts and kinds of data. As is true for modules, classes partake of the dynamic nature of Python: they are created at runtime, and can be modified further after creation.\n",
    "\n",
    "## A First Look at Classes\n",
    "Classes introduce a little bit of new syntax, three new object types, and some new semantics.\n",
    "\n",
    "The simplest form of class definition looks like this:\n",
    "```python\n",
    "class ClassName:\n",
    "    <statement-1>\n",
    "    .\n",
    "    .\n",
    "    .\n",
    "    <statement-N>\n",
    "```  \n",
    "  \n",
    "## Class Objects\n",
    "Class objects support two kinds of operations: attribute references and instantiation.\n",
    "\n",
    "Attribute references use the standard syntax used for all attribute references in Python: `obj.name`. Valid attribute names are all the names that were in the class’s namespace when the class object was created. So, if the class definition looked like this:\n",
    "\n",
    "```python\n",
    "class MyClass:\n",
    "    \"\"\"A simple example class\"\"\"\n",
    "    i = 12345\n",
    "\n",
    "    def f(self):\n",
    "        return 'hello world'\n",
    "    \n",
    "    def print_i(self):\n",
    "        print(self.i)\n",
    "```\n",
    "then `MyClass.i` and `MyClass.f` are valid attribute references, returning an integer and a function object, respectively.\n",
    "\n",
    "Class instantiation uses function notation. Just pretend that the class object is a parameterless function that returns a new instance of the class. For example (assuming the above class):\n",
    "\n",
    "```python\n",
    "x = MyClass()\n",
    "```\n",
    "\n",
    "creates a new **instance** of the class and assigns this object to the local variable x."
   ]
  },
  {
   "cell_type": "markdown",
   "id": "bbf530c2-d9d2-4cda-a742-8bd76b9739f3",
   "metadata": {},
   "source": [
    "## Example: `pd.DataFrame`\n",
    "We have seen pandas DataFrames quite a lot during the last seessions. \n",
    "\n",
    "Notice that `pd.DataFrame` is also a class containing **attributes** such as `columns`, `index`, `values`, `shape`"
   ]
  },
  {
   "cell_type": "code",
   "execution_count": 1,
   "id": "e590de4c-399b-4260-9199-6caab2512141",
   "metadata": {},
   "outputs": [
    {
     "data": {
      "text/html": [
       "<div>\n",
       "<style scoped>\n",
       "    .dataframe tbody tr th:only-of-type {\n",
       "        vertical-align: middle;\n",
       "    }\n",
       "\n",
       "    .dataframe tbody tr th {\n",
       "        vertical-align: top;\n",
       "    }\n",
       "\n",
       "    .dataframe thead th {\n",
       "        text-align: right;\n",
       "    }\n",
       "</style>\n",
       "<table border=\"1\" class=\"dataframe\">\n",
       "  <thead>\n",
       "    <tr style=\"text-align: right;\">\n",
       "      <th></th>\n",
       "      <th>Name</th>\n",
       "      <th>Role</th>\n",
       "    </tr>\n",
       "  </thead>\n",
       "  <tbody>\n",
       "    <tr>\n",
       "      <th>0</th>\n",
       "      <td>Anthony</td>\n",
       "      <td>Singer</td>\n",
       "    </tr>\n",
       "    <tr>\n",
       "      <th>1</th>\n",
       "      <td>Flea</td>\n",
       "      <td>Bassist</td>\n",
       "    </tr>\n",
       "    <tr>\n",
       "      <th>2</th>\n",
       "      <td>Chad</td>\n",
       "      <td>Drummer</td>\n",
       "    </tr>\n",
       "    <tr>\n",
       "      <th>3</th>\n",
       "      <td>John</td>\n",
       "      <td>Guitarist</td>\n",
       "    </tr>\n",
       "  </tbody>\n",
       "</table>\n",
       "</div>"
      ],
      "text/plain": [
       "      Name       Role\n",
       "0  Anthony     Singer\n",
       "1     Flea    Bassist\n",
       "2     Chad    Drummer\n",
       "3     John  Guitarist"
      ]
     },
     "execution_count": 1,
     "metadata": {},
     "output_type": "execute_result"
    }
   ],
   "source": [
    "import pandas as pd\n",
    "df = pd.DataFrame({\"Name\": [\"Anthony\", \"Flea\", \"Chad\", \"John\"],\n",
    "                  \"Role\": [\"Singer\", \"Bassist\", \"Drummer\", \"Guitarist\"]})\n",
    "df"
   ]
  },
  {
   "cell_type": "code",
   "execution_count": 2,
   "id": "eddb7e29-d920-4cdc-a966-d15bf76e359d",
   "metadata": {},
   "outputs": [
    {
     "name": "stdout",
     "output_type": "stream",
     "text": [
      "columns attribute:\n",
      "Index(['Name', 'Role'], dtype='object')\n",
      "\n",
      "index attribute:\n",
      "RangeIndex(start=0, stop=4, step=1)\n",
      "\n",
      "values attribute:\n",
      "[['Anthony' 'Singer']\n",
      " ['Flea' 'Bassist']\n",
      " ['Chad' 'Drummer']\n",
      " ['John' 'Guitarist']]\n",
      "\n",
      "shape attribute:\n",
      "(4, 2)\n"
     ]
    }
   ],
   "source": [
    "print(f\"columns attribute:\\n{df.columns}\\n\")\n",
    "print(f\"index attribute:\\n{df.index}\\n\")\n",
    "print(f\"values attribute:\\n{df.values}\\n\")\n",
    "print(f\"shape attribute:\\n{df.shape}\")"
   ]
  },
  {
   "cell_type": "markdown",
   "id": "f80343e6-6499-4ee3-93f7-5019189b4dce",
   "metadata": {},
   "source": [
    "As (almost) every other class it also contains **methods** (i.e. functions bound to a class) such as `sort_values()`, `count()`"
   ]
  },
  {
   "cell_type": "code",
   "execution_count": 3,
   "id": "11aff44e-e569-4104-8e02-d2d6e80ecfb4",
   "metadata": {},
   "outputs": [
    {
     "name": "stdout",
     "output_type": "stream",
     "text": [
      "sort_values() method:\n"
     ]
    },
    {
     "data": {
      "text/html": [
       "<div>\n",
       "<style scoped>\n",
       "    .dataframe tbody tr th:only-of-type {\n",
       "        vertical-align: middle;\n",
       "    }\n",
       "\n",
       "    .dataframe tbody tr th {\n",
       "        vertical-align: top;\n",
       "    }\n",
       "\n",
       "    .dataframe thead th {\n",
       "        text-align: right;\n",
       "    }\n",
       "</style>\n",
       "<table border=\"1\" class=\"dataframe\">\n",
       "  <thead>\n",
       "    <tr style=\"text-align: right;\">\n",
       "      <th></th>\n",
       "      <th>Name</th>\n",
       "      <th>Role</th>\n",
       "    </tr>\n",
       "  </thead>\n",
       "  <tbody>\n",
       "    <tr>\n",
       "      <th>0</th>\n",
       "      <td>Anthony</td>\n",
       "      <td>Singer</td>\n",
       "    </tr>\n",
       "    <tr>\n",
       "      <th>2</th>\n",
       "      <td>Chad</td>\n",
       "      <td>Drummer</td>\n",
       "    </tr>\n",
       "    <tr>\n",
       "      <th>1</th>\n",
       "      <td>Flea</td>\n",
       "      <td>Bassist</td>\n",
       "    </tr>\n",
       "    <tr>\n",
       "      <th>3</th>\n",
       "      <td>John</td>\n",
       "      <td>Guitarist</td>\n",
       "    </tr>\n",
       "  </tbody>\n",
       "</table>\n",
       "</div>"
      ],
      "text/plain": [
       "      Name       Role\n",
       "0  Anthony     Singer\n",
       "2     Chad    Drummer\n",
       "1     Flea    Bassist\n",
       "3     John  Guitarist"
      ]
     },
     "metadata": {},
     "output_type": "display_data"
    },
    {
     "name": "stdout",
     "output_type": "stream",
     "text": [
      "\n",
      "count() method:\n"
     ]
    },
    {
     "data": {
      "text/plain": [
       "Name    4\n",
       "Role    4\n",
       "dtype: int64"
      ]
     },
     "metadata": {},
     "output_type": "display_data"
    }
   ],
   "source": [
    "print(\"sort_values() method:\")\n",
    "display(df.sort_values(by=\"Name\"))\n",
    "\n",
    "print(\"\\ncount() method:\")\n",
    "display(df.count())"
   ]
  },
  {
   "cell_type": "markdown",
   "id": "39fc4f76-4de9-44e7-81ae-3b2bfa936acd",
   "metadata": {
    "tags": []
   },
   "source": [
    "### Challenge: Build your first class\n",
    "\n",
    "- Set up a class called `BankAccount`\n",
    "- Add an **attribute** `bank_name` to the class and assign a Name of your choice to it\n",
    "- Add a **method** `print_bank_name` that prints the `bank_name` variable"
   ]
  },
  {
   "cell_type": "code",
   "execution_count": 6,
   "id": "87f66008-14f9-459d-a7a2-d87e8fe43a65",
   "metadata": {
    "jupyter": {
     "source_hidden": true
    },
    "tags": []
   },
   "outputs": [],
   "source": [
    "class MyClass:\n",
    "    \"\"\"A simple example class\"\"\"\n",
    "    i = 12345\n",
    "\n",
    "    def f(self):\n",
    "        return 'hello world'\n",
    "    \n",
    "    def print_i(self):\n",
    "        print(self.i)"
   ]
  },
  {
   "cell_type": "code",
   "execution_count": null,
   "id": "eeba22cd-4a71-4168-9fd1-b7abbeee500c",
   "metadata": {},
   "outputs": [],
   "source": [
    "class DataFrame:\n",
    "    columns = [\"Name\", \"Instrument\"]\n",
    "    \n",
    "    def sort_values(self):\n",
    "        pass"
   ]
  },
  {
   "cell_type": "code",
   "execution_count": 8,
   "id": "bffcba1c-2f79-4aab-b403-875fa41e35dd",
   "metadata": {},
   "outputs": [],
   "source": [
    "### Your code here...\n",
    "class BankAccount:\n",
    "    bank_name = \"unsere Bank\"\n",
    "    \n",
    "    def print_bank_name(self):\n",
    "        print(self.bank_name)"
   ]
  },
  {
   "cell_type": "code",
   "execution_count": null,
   "id": "d9af3002-faa3-4f90-b088-20432c2da593",
   "metadata": {},
   "outputs": [],
   "source": [
    "# %load ../src/_solutions/bank_account_v0.py"
   ]
  },
  {
   "cell_type": "code",
   "execution_count": 9,
   "id": "c839fb30-17ed-45fe-a0e5-0b072c36ccc5",
   "metadata": {},
   "outputs": [
    {
     "name": "stdout",
     "output_type": "stream",
     "text": [
      "unsere Bank\n"
     ]
    }
   ],
   "source": [
    "bank = BankAccount()\n",
    "bank.print_bank_name()"
   ]
  },
  {
   "cell_type": "code",
   "execution_count": 10,
   "id": "ad1756b6-a775-4a6d-89e7-956c229eee71",
   "metadata": {},
   "outputs": [
    {
     "name": "stdout",
     "output_type": "stream",
     "text": [
      "unsere Bank\n"
     ]
    }
   ],
   "source": [
    "sparkasse = BankAccount()\n",
    "sparkasse.print_bank_name()"
   ]
  },
  {
   "cell_type": "markdown",
   "id": "ff129452-fabd-4aeb-b910-8957fef30ad8",
   "metadata": {},
   "source": [
    "## Instantiation\n",
    "The instantiation operation (“calling” a class object) creates an empty object. Many classes like to create objects with instances customized to a specific initial state. Therefore a class may define a special method named `__init__()`, like this:\n",
    "\n",
    "```python\n",
    "def __init__(self):\n",
    "    self.data = []\n",
    "```\n",
    "When a class defines an `__init__()` method, class instantiation automatically invokes `init()` for the newly-created class instance. The `__init__()` method may have arguments for greater flexibility.\n",
    "\n",
    "```python\n",
    "class AddressBook:\n",
    "     def __init__(self, name, email):\n",
    "         self.name = name\n",
    "         self.email = email\n",
    "```\n",
    "Now what can we do with instance objects? The only operations understood by instance objects are attribute references. There are two kinds of valid attribute names, data attributes and methods.\n",
    "\n",
    "```python\n",
    "class AddressBook:\n",
    "     def __init__(self, name, email):\n",
    "         self.name = name\n",
    "         self.email = email\n",
    "            \n",
    "     def print_name(self):\n",
    "         print(f'Hi, {self.name}. Your email is {self.email}')\n",
    "```"
   ]
  },
  {
   "cell_type": "code",
   "execution_count": 18,
   "id": "8845d47e-7514-4a57-91f1-779c8467964c",
   "metadata": {},
   "outputs": [],
   "source": [
    "def a(x = 1,y = 2):\n",
    "    return x+y"
   ]
  },
  {
   "cell_type": "code",
   "execution_count": 19,
   "id": "f2e83df6-7c6b-4bdf-bb12-69c399745927",
   "metadata": {},
   "outputs": [
    {
     "data": {
      "text/plain": [
       "3"
      ]
     },
     "execution_count": 19,
     "metadata": {},
     "output_type": "execute_result"
    }
   ],
   "source": [
    "a()"
   ]
  },
  {
   "cell_type": "code",
   "execution_count": 20,
   "id": "a5f5b6d2-6306-4b73-b747-564f5ec55486",
   "metadata": {},
   "outputs": [],
   "source": [
    "class AddressBook:\n",
    "     def __init__(self, name = \"Aleks\", email = \"a.a@com.com\"):\n",
    "         self.name = name\n",
    "         self.email = email\n",
    "            \n",
    "     def print_name(self):\n",
    "         print(f'Hi, {self.name}. Your email is {self.email}')"
   ]
  },
  {
   "cell_type": "code",
   "execution_count": 12,
   "id": "0fc1d40e-7951-4f96-ad5c-18d585a29251",
   "metadata": {
    "jupyter": {
     "source_hidden": true
    },
    "tags": []
   },
   "outputs": [
    {
     "name": "stdout",
     "output_type": "stream",
     "text": [
      "Hi, Aleks. Your email is aleksander.krasowski@charite.de\n"
     ]
    }
   ],
   "source": [
    "a = AddressBook(\"Aleks\", \"aleksander.krasowski@charite.de\")\n",
    "a.print_name()"
   ]
  },
  {
   "cell_type": "code",
   "execution_count": 13,
   "id": "d3429cce-6951-4e78-b675-e3fe5c198883",
   "metadata": {
    "jupyter": {
     "source_hidden": true
    },
    "tags": []
   },
   "outputs": [
    {
     "data": {
      "text/plain": [
       "'Aleks'"
      ]
     },
     "execution_count": 13,
     "metadata": {},
     "output_type": "execute_result"
    }
   ],
   "source": [
    "a.name"
   ]
  },
  {
   "cell_type": "code",
   "execution_count": 14,
   "id": "c04418c6-61f4-4211-9071-8c41f8033aae",
   "metadata": {
    "collapsed": true,
    "jupyter": {
     "outputs_hidden": true,
     "source_hidden": true
    },
    "tags": []
   },
   "outputs": [
    {
     "data": {
      "text/plain": [
       "'aleksander.krasowski@charite.de'"
      ]
     },
     "execution_count": 14,
     "metadata": {},
     "output_type": "execute_result"
    }
   ],
   "source": [
    "a.email"
   ]
  },
  {
   "cell_type": "code",
   "execution_count": 22,
   "id": "b5b4481e-7b60-459f-85cd-e95cb2b54f3b",
   "metadata": {
    "jupyter": {
     "source_hidden": true
    },
    "tags": []
   },
   "outputs": [
    {
     "data": {
      "text/plain": [
       "'Aleks'"
      ]
     },
     "execution_count": 22,
     "metadata": {},
     "output_type": "execute_result"
    }
   ],
   "source": [
    "AddressBook().name"
   ]
  },
  {
   "cell_type": "markdown",
   "id": "09bf3ef0-fee6-43b9-be82-06abeac64767",
   "metadata": {},
   "source": [
    "### Challenge: Add `__init__()` function\n",
    "- Implement a `__init__()` function which takes `bank_name` and `customer_name` as arguments and instantiates the class with them\n",
    "- Add class methods `print_bank_name()` and `print_customer_name()` which print the respective attributes"
   ]
  },
  {
   "cell_type": "code",
   "execution_count": 23,
   "id": "600c9280-5ee8-4317-9588-3ada28ba9401",
   "metadata": {},
   "outputs": [],
   "source": [
    "class BankAccount:\n",
    "    ### your code here ...\n",
    "    def __init__(self, bank_name, customer_name):\n",
    "        self.bank_name = bank_name\n",
    "        self.customer_name = customer_name\n",
    "    \n",
    "    def print_bank_name(self):\n",
    "        print(self.bank_name)\n",
    "        \n",
    "    def print_customer_name(self):\n",
    "        print(self.customer_name)"
   ]
  },
  {
   "cell_type": "code",
   "execution_count": null,
   "id": "4e3ac960-a3e1-4dcd-9375-91a5176405fa",
   "metadata": {},
   "outputs": [],
   "source": [
    "# %load ../src/_solutions/bank_account_v1.py"
   ]
  },
  {
   "cell_type": "code",
   "execution_count": 24,
   "id": "ef177a10-42e6-4517-ad51-25d71d7ebd6c",
   "metadata": {},
   "outputs": [
    {
     "name": "stdout",
     "output_type": "stream",
     "text": [
      "Sparkasse\n",
      "Martha\n"
     ]
    }
   ],
   "source": [
    "bank_martha = BankAccount('Sparkasse', 'Martha')\n",
    "bank_martha.print_bank_name()\n",
    "bank_martha.print_customer_name()"
   ]
  },
  {
   "cell_type": "code",
   "execution_count": 25,
   "id": "20bc5e05-6023-480b-99dc-10412cf542a3",
   "metadata": {},
   "outputs": [
    {
     "name": "stdout",
     "output_type": "stream",
     "text": [
      "Commerzbank\n",
      "Aleks\n"
     ]
    }
   ],
   "source": [
    "bank_aleks = BankAccount('Commerzbank', 'Aleks')\n",
    "bank_aleks.print_bank_name()\n",
    "bank_aleks.print_customer_name()"
   ]
  },
  {
   "cell_type": "markdown",
   "id": "27d21408-6d3f-4e3f-ae10-faf9284763ae",
   "metadata": {},
   "source": [
    "## Printing a class instance\n",
    "\n",
    "Upon trying to print a class instance you will see a weird looking output:\n",
    "\n",
    "- Something like `<__main__.ClassName object at 0x0000FFFF42FFFF42>`.\n",
    "\n",
    "To actually make a object printable you need to implement a `__str__()` method.\n",
    "\n",
    "Example:\n",
    "```python\n",
    "def __str__(self):\n",
    "    return \"Hello World\"\n",
    "```"
   ]
  },
  {
   "cell_type": "code",
   "execution_count": 26,
   "id": "35850cd4-2ef8-4711-a8b7-798bf2502383",
   "metadata": {},
   "outputs": [
    {
     "name": "stdout",
     "output_type": "stream",
     "text": [
      "<__main__.BankAccount object at 0x7f7aba5ac640>\n"
     ]
    }
   ],
   "source": [
    "print(bank_martha)"
   ]
  },
  {
   "cell_type": "markdown",
   "id": "52cbe82d-1d71-4635-ae6e-b4fc3f28c505",
   "metadata": {},
   "source": [
    "### Challenge: Add a `__str__()` method"
   ]
  },
  {
   "cell_type": "code",
   "execution_count": 38,
   "id": "538c611b-4a6e-4e4b-b1f6-624d5a459db1",
   "metadata": {},
   "outputs": [],
   "source": [
    "class BankAccount:\n",
    "   \n",
    "    def __init__(self, bank_name, customer_name):\n",
    "        self.bank_name = bank_name\n",
    "        self.customer_name = customer_name\n",
    "    \n",
    "    def print_bank_name(self):\n",
    "        print(f\"My name is {self.bank_name}\")\n",
    "        \n",
    "    def print_customer_name(self):\n",
    "        print(f\"This account belongs to {self.customer_name}\")\n",
    "        \n",
    "    ### Your code here...\n",
    "    def __str__(self):\n",
    "        #return f\"This is {self.customer_name}'s Account at {self.bank_name}\"\n",
    "        return \"This is \" + self.customer_name + \"'s Account at \" + self.bank_name\n"
   ]
  },
  {
   "cell_type": "code",
   "execution_count": 34,
   "id": "d02f0123-0626-417d-9375-7ae4dc4dddf3",
   "metadata": {},
   "outputs": [],
   "source": [
    "# %load ../src/_solutions/bank_account_v2.py     "
   ]
  },
  {
   "cell_type": "code",
   "execution_count": 35,
   "id": "9d6befe2-f940-4497-a8d2-5f45b46d7880",
   "metadata": {},
   "outputs": [
    {
     "name": "stdout",
     "output_type": "stream",
     "text": [
      "This is {self.customer_name}'s Account at {self.bank_name}\n"
     ]
    }
   ],
   "source": [
    "bank_martha = BankAccount('Sparkasse', 'Martha')\n",
    "print(bank_martha)"
   ]
  },
  {
   "cell_type": "code",
   "execution_count": 39,
   "id": "664eaee6-1b44-4a65-a52c-728540887be2",
   "metadata": {},
   "outputs": [
    {
     "name": "stdout",
     "output_type": "stream",
     "text": [
      "This is Martha's Account at Sparkasse\n"
     ]
    }
   ],
   "source": [
    "bank_martha = BankAccount('Sparkasse', 'Martha')\n",
    "print(bank_martha)"
   ]
  },
  {
   "cell_type": "code",
   "execution_count": 32,
   "id": "0338efe1-671e-4ef9-84a8-325861cf5787",
   "metadata": {},
   "outputs": [
    {
     "data": {
      "text/plain": [
       "\"This is Martha's Account at Sparkasse\""
      ]
     },
     "execution_count": 32,
     "metadata": {},
     "output_type": "execute_result"
    }
   ],
   "source": [
    "str(bank_martha)"
   ]
  },
  {
   "cell_type": "code",
   "execution_count": 40,
   "id": "f8c05bbe-97aa-4b7c-9212-1ba6610615c0",
   "metadata": {},
   "outputs": [
    {
     "name": "stdout",
     "output_type": "stream",
     "text": [
      "This is Aleks's Account at Commerzbank\n"
     ]
    }
   ],
   "source": [
    "bank_aleks = BankAccount('Commerzbank', 'Aleks')\n",
    "print(bank_aleks)"
   ]
  },
  {
   "cell_type": "code",
   "execution_count": 41,
   "id": "7dfdffc5-f893-4af6-8ec0-4f11c2ae6717",
   "metadata": {},
   "outputs": [],
   "source": [
    "bank_aleks.name = \"Leo\""
   ]
  },
  {
   "cell_type": "code",
   "execution_count": 46,
   "id": "2264adac-4673-4886-bc61-cb507a469892",
   "metadata": {},
   "outputs": [
    {
     "data": {
      "text/plain": [
       "'Leo'"
      ]
     },
     "execution_count": 46,
     "metadata": {},
     "output_type": "execute_result"
    }
   ],
   "source": [
    "bank_aleks.name"
   ]
  },
  {
   "cell_type": "markdown",
   "id": "369fd1ef-902e-4e39-a8e0-988ec822fb7d",
   "metadata": {},
   "source": [
    "## Private attributes and methods\n",
    "You can \"hide\" attributes and methods by prepending `__` to a attribute/method name.\n",
    "It then won't get automatically suggested (and is hard to access, _though not impossible!_)\n",
    "\n",
    "Keep in mind that Python doesn't offer Encapsulation such as Java for example does. The private attribute or method is not in fact private, just hidden!"
   ]
  },
  {
   "cell_type": "code",
   "execution_count": 53,
   "id": "c43dc9a7-8d63-40af-946e-aec0b3a68662",
   "metadata": {},
   "outputs": [],
   "source": [
    "class BankAccount:    \n",
    "    def __init__(self, bank_name, customer_name):\n",
    "        self.bank_name = bank_name\n",
    "        self.customer_name =  customer_name\n",
    "        self.__balance = 0\n",
    "    \n",
    "    def __str__(self):\n",
    "        return f'This {self.bank_name} account belongs to {self.customer_name}'\n",
    "\n",
    "    def print_bank_name(self):\n",
    "        print('My name is', self.bank_name)\n",
    "         \n",
    "    def print_customer_name(self):\n",
    "        print('This account belongs to', self.customer_name)\n",
    "        \n",
    "    # public method to access private attribute\n",
    "    def get_balance(self):\n",
    "        return self.__balance"
   ]
  },
  {
   "cell_type": "code",
   "execution_count": 54,
   "id": "782fc1a7-80e2-4726-a23a-ce9d84fd4050",
   "metadata": {},
   "outputs": [
    {
     "data": {
      "text/plain": [
       "0"
      ]
     },
     "execution_count": 54,
     "metadata": {},
     "output_type": "execute_result"
    }
   ],
   "source": [
    "bank_martha = BankAccount('Sparkasse', 'Martha')\n",
    "bank_martha.get_balance()"
   ]
  },
  {
   "cell_type": "code",
   "execution_count": null,
   "id": "2b27c82c-7e97-419f-a77b-b041af638d62",
   "metadata": {},
   "outputs": [],
   "source": [
    "# See: You can acceess hidden variables by using instance._ClassName__hiddenVariableName\n",
    "# and even overwrite it! So there are no secure variables in Python\n",
    "bank_martha._BankAccount__balance"
   ]
  },
  {
   "cell_type": "code",
   "execution_count": 55,
   "id": "ab964f19-734b-4eca-aecf-afc7dd7b0f72",
   "metadata": {},
   "outputs": [
    {
     "data": {
      "text/plain": [
       "1"
      ]
     },
     "execution_count": 55,
     "metadata": {},
     "output_type": "execute_result"
    }
   ],
   "source": [
    "bank_martha._BankAccount__balance = 1\n",
    "bank_martha.get_balance()"
   ]
  },
  {
   "cell_type": "markdown",
   "id": "79c16753-424f-4343-928d-b600286d19d1",
   "metadata": {},
   "source": [
    "## Challenge: Extend the class for to \"fully\" featured bank account\n",
    "Add the following:\n",
    "- `deposit(int)` method\n",
    "- `withdraw(int)` method\n",
    "- `pin` attribute (ask for it before deposit and withdraw)\n",
    "- (optional) lock account after 3 entering a wrong pin three times"
   ]
  },
  {
   "cell_type": "code",
   "execution_count": 60,
   "id": "4279ab1a-01bb-4600-ad6c-1264bd3896b9",
   "metadata": {},
   "outputs": [
    {
     "name": "stdin",
     "output_type": "stream",
     "text": [
      " 313122\n"
     ]
    }
   ],
   "source": [
    "x = input()"
   ]
  },
  {
   "cell_type": "code",
   "execution_count": 61,
   "id": "ec6020b5-e25f-4d65-b867-ffd69ba60d5d",
   "metadata": {},
   "outputs": [
    {
     "data": {
      "text/plain": [
       "'313122'"
      ]
     },
     "execution_count": 61,
     "metadata": {},
     "output_type": "execute_result"
    }
   ],
   "source": [
    "x"
   ]
  },
  {
   "cell_type": "code",
   "execution_count": 72,
   "id": "5ee61ed5-d895-4ed9-b268-3f795384ecfe",
   "metadata": {},
   "outputs": [],
   "source": [
    "class BankAccount:    \n",
    "    def __init__(self, bank_name, customer_name, pin):\n",
    "        self.bank_name = bank_name\n",
    "        self.customer_name =  customer_name\n",
    "        self.__balance = 0\n",
    "        self.pin = pin # new\n",
    "        self.pin_counter = 0 # optional\n",
    "    \n",
    "    def __str__(self):\n",
    "        return f'This {self.bank_name} account belongs to {self.customer_name}'\n",
    "\n",
    "    def print_bank_name(self):\n",
    "        print('My name is', self.bank_name)\n",
    "         \n",
    "    def print_customer_name(self):\n",
    "        print('This account belongs to', self.customer_name)\n",
    "        \n",
    "    # public method to access private attribute\n",
    "    def get_balance(self):\n",
    "        return self.__balance\n",
    "    \n",
    "    ### Your code here...\n",
    "    def check_pin(self):\n",
    "        if self.pin_counter < 3:\n",
    "            pin = input()\n",
    "            if (pin == self.pin):\n",
    "                self.pin_counter = 0\n",
    "                return True\n",
    "            else:\n",
    "                print(\"Wrong PIN entered\")\n",
    "                self.pin_counter = self.pin_counter + 1\n",
    "                return False\n",
    "        else:\n",
    "            return False\n",
    "    \n",
    "    def deposit(self, amount):\n",
    "        if self.check_pin():\n",
    "            self.__balance = self.__balance + amount\n",
    "        \n",
    "    def withdraw(self, amount):\n",
    "        if self.check_pin():\n",
    "            if (self.__balance - amount < 0):\n",
    "                print(\"Not enough funds\")\n",
    "                return 0\n",
    "            else:\n",
    "                self.__balance = self.__balance - amount\n",
    "                return amount    "
   ]
  },
  {
   "cell_type": "code",
   "execution_count": null,
   "id": "f2cb1101-56e3-464f-83e0-76522f9fa4b9",
   "metadata": {},
   "outputs": [],
   "source": [
    "class Preprocesser:\n",
    "    def __init__(self, dataframe):\n",
    "        self.df = dataframe\n",
    "        if self.df.isna() / self.df.shape[0] > .5:\n",
    "            self.df.drop()\n",
    "    "
   ]
  },
  {
   "cell_type": "code",
   "execution_count": 73,
   "id": "074341f1-e1ce-4e97-b340-dca401befb27",
   "metadata": {
    "jupyter": {
     "source_hidden": true
    },
    "tags": []
   },
   "outputs": [],
   "source": [
    "# %load ../src/_solutions/bank_account_v3.py\n",
    "class BankAccount:\n",
    "    def __init__(self, bank_name, customer_name, pin):\n",
    "        self.bank_name = bank_name\n",
    "        self.customer_name =  customer_name\n",
    "        self.__pin = pin\n",
    "        self.__balance = 0\n",
    "        self.__locked = False\n",
    "        self.__failed_attempts = 0\n",
    "    \n",
    "    def __str__(self):\n",
    "        return f'This {self.bank_name} account belongs to {self.customer_name}'\n",
    "\n",
    "    def print_bank_name(self):\n",
    "        print('My name is', self.bank_name)\n",
    "         \n",
    "    def print_customer_name(self):\n",
    "        print('This account belongs to', self.customer_name)\n",
    "                \n",
    "    def get_balance(self):\n",
    "        return self.__balance\n",
    "    \n",
    "    def check_pin(self):\n",
    "        if not self.__locked:\n",
    "            input_pin = input('Please enter your PIN: ')\n",
    "            if input_pin == self.__pin:\n",
    "                self.__failed_attempts = 0\n",
    "                return True\n",
    "            else:\n",
    "                print('Wrong PIN')\n",
    "                self.__failed_attempts += 1\n",
    "                if self.__failed_attempts == 3:\n",
    "                    self.__locked = True\n",
    "        else:\n",
    "            print('Your account is locked.')\n",
    "        \n",
    "        return False\n",
    "        \n",
    "    def deposit(self, amount):\n",
    "        if self.check_pin():\n",
    "            self.__balance += amount\n",
    "            print('Your amount got deposited.')\n",
    "\n",
    "    def withdraw(self, amount):\n",
    "        if self.check_pin():\n",
    "            if self.__balance - amount < 0:\n",
    "                print(f'Insufficient funds.')\n",
    "            else:\n",
    "                self.__balance -= amount"
   ]
  },
  {
   "cell_type": "code",
   "execution_count": 74,
   "id": "c5b97c02-a2bf-4224-8bdc-56247e81dfe7",
   "metadata": {},
   "outputs": [],
   "source": [
    "bank = BankAccount('Sparkasse', 'Aleks', '7777')"
   ]
  },
  {
   "cell_type": "code",
   "execution_count": 75,
   "id": "7f526403-1f1d-49ed-8555-d9ae0de55271",
   "metadata": {
    "tags": []
   },
   "outputs": [
    {
     "name": "stdin",
     "output_type": "stream",
     "text": [
      " 1111\n"
     ]
    },
    {
     "name": "stdout",
     "output_type": "stream",
     "text": [
      "Wrong PIN entered\n"
     ]
    }
   ],
   "source": [
    "bank.deposit(400)"
   ]
  },
  {
   "cell_type": "code",
   "execution_count": 76,
   "id": "30c89b5a-599d-41af-9284-8ad314b4f19e",
   "metadata": {
    "tags": []
   },
   "outputs": [
    {
     "name": "stdin",
     "output_type": "stream",
     "text": [
      " 7777\n"
     ]
    }
   ],
   "source": [
    "bank.deposit(400)"
   ]
  },
  {
   "cell_type": "code",
   "execution_count": 77,
   "id": "55169c4d-fcb3-485a-9191-54cb7eb9c298",
   "metadata": {},
   "outputs": [
    {
     "data": {
      "text/plain": [
       "400"
      ]
     },
     "execution_count": 77,
     "metadata": {},
     "output_type": "execute_result"
    }
   ],
   "source": [
    "bank.get_balance()"
   ]
  },
  {
   "cell_type": "code",
   "execution_count": 78,
   "id": "45afd952-ba6b-421c-beb2-a740d9cd4b4a",
   "metadata": {},
   "outputs": [
    {
     "name": "stdin",
     "output_type": "stream",
     "text": [
      " 7777\n"
     ]
    },
    {
     "data": {
      "text/plain": [
       "100"
      ]
     },
     "execution_count": 78,
     "metadata": {},
     "output_type": "execute_result"
    }
   ],
   "source": [
    "bank.withdraw(100)"
   ]
  },
  {
   "cell_type": "code",
   "execution_count": 79,
   "id": "19db3008-f574-4f51-a885-9890ee15879d",
   "metadata": {},
   "outputs": [
    {
     "data": {
      "text/plain": [
       "300"
      ]
     },
     "execution_count": 79,
     "metadata": {},
     "output_type": "execute_result"
    }
   ],
   "source": [
    "bank.get_balance()"
   ]
  },
  {
   "cell_type": "markdown",
   "id": "4ffa6ee8-354f-408f-95e7-561a3b687f66",
   "metadata": {},
   "source": [
    "## Inheritance\n",
    "\n",
    "A child class can inherit from a parent class, inheriting all attributes and methods from the specified parent function.\n",
    "\n",
    "Syntax: \n",
    "```python\n",
    "class ChildClass(ParentClass):\n",
    "    pass\n",
    "```\n",
    "\n",
    "You can then extend the child class or even overwrite some of it's functionality. \n",
    "\n",
    "You can call a method or attribute of the parent class using the `super()` keyword."
   ]
  },
  {
   "cell_type": "code",
   "execution_count": 107,
   "id": "a09040cf-e7e3-4299-b74c-36d63eceb9c9",
   "metadata": {},
   "outputs": [],
   "source": [
    "class SparkassenSpecialAccount(BankAccount):\n",
    "\n",
    "    def __init__(self, customer_name, pin):\n",
    "        super().__init__(bank_name = \"Sparkasse\", customer_name = customer_name, pin = pin)\n",
    "        self._BankAccount__balance = 500"
   ]
  },
  {
   "cell_type": "code",
   "execution_count": 108,
   "id": "fac931ac-097b-4493-ae6c-97c8e5e41000",
   "metadata": {},
   "outputs": [],
   "source": [
    "sparkasse = SparkassenSpecialAccount(\"Aleks\", \"1234\")"
   ]
  },
  {
   "cell_type": "code",
   "execution_count": 109,
   "id": "fe9fe964-53ac-4a78-9816-fee98507123c",
   "metadata": {},
   "outputs": [
    {
     "name": "stdout",
     "output_type": "stream",
     "text": [
      "This Sparkasse account belongs to Aleks\n"
     ]
    }
   ],
   "source": [
    "print(sparkasse)"
   ]
  },
  {
   "cell_type": "code",
   "execution_count": 112,
   "id": "a1c73209-5799-41e8-a6cf-c3c63898ae5f",
   "metadata": {},
   "outputs": [
    {
     "data": {
      "text/plain": [
       "500"
      ]
     },
     "execution_count": 112,
     "metadata": {},
     "output_type": "execute_result"
    }
   ],
   "source": [
    "sparkasse.get_balance()"
   ]
  },
  {
   "cell_type": "code",
   "execution_count": 113,
   "id": "49cf4ba0-abb6-42a8-86a8-d8a660c1a79b",
   "metadata": {},
   "outputs": [
    {
     "name": "stdin",
     "output_type": "stream",
     "text": [
      " 1234\n"
     ]
    }
   ],
   "source": [
    "sparkasse.deposit(1000)"
   ]
  },
  {
   "cell_type": "code",
   "execution_count": 114,
   "id": "5857ed3c-c36a-48b3-b3d9-51572c77c4ff",
   "metadata": {},
   "outputs": [
    {
     "data": {
      "text/plain": [
       "1500"
      ]
     },
     "execution_count": 114,
     "metadata": {},
     "output_type": "execute_result"
    }
   ],
   "source": [
    "sparkasse.get_balance()"
   ]
  },
  {
   "cell_type": "code",
   "execution_count": 115,
   "id": "d762017e-5280-4685-b96f-4a1ccaa121b1",
   "metadata": {},
   "outputs": [
    {
     "data": {
      "text/plain": [
       "'Sparkasse'"
      ]
     },
     "execution_count": 115,
     "metadata": {},
     "output_type": "execute_result"
    }
   ],
   "source": [
    "sparkasse.bank_name"
   ]
  },
  {
   "cell_type": "markdown",
   "id": "4efeee4f-b22f-49ac-944b-aed437e1d674",
   "metadata": {},
   "source": [
    "## Challenge: Let's try out a new IDE\n",
    "Press the blue + Button in the top left corner and open a new Terminal session.\n",
    "\n",
    "Type in: `spyder` \n",
    "\n",
    "## Challenge: Implement this \"class\"\n",
    "\n",
    "Please open `src/class.py` with `spyder`\n",
    "\n",
    "- Create the following Classes:\n",
    "    - Student\n",
    "        - Attributes: `name`, `reason` (for taking the class, e.g. \"I want to learn Python!\")\n",
    "    - Instructor\n",
    "        - Attributes: `name`, `bio`, `skills`\n",
    "    - Class\n",
    "        - Attributes: `date`, `subject`, `participants`\n",
    "        - Methods: \n",
    "            - `add_participant()`\n",
    "                - Should accept both `Instructor` or `Student`\n",
    "            - `print_details()`\n",
    "                - Should print out something like:\n",
    "                    ```\n",
    "                    Workshop: 30.06.2022 --- Python OOP class\n",
    "\n",
    "                    Instructors:\n",
    "                    Aleks: Informatikstudent an der TU\n",
    "                    Skills: ['Python', 'Machine Learning']\n",
    "\n",
    "                    Students:\n",
    "                    Dirk: Ich moechte Python lernen\n",
    "                    ```\n",
    "                    \n",
    "> _Hint_: To distinguish students from instructors you can ask for the class name via `type(x).__name__`"
   ]
  },
  {
   "cell_type": "markdown",
   "id": "ef39d030-3136-427a-a5e0-9546367fd422",
   "metadata": {},
   "source": [
    "# Titel\n",
    "Normaler Text\n",
    "\n",
    "- Bullet list\n",
    "\n",
    "![](img/lalala.png)"
   ]
  },
  {
   "cell_type": "code",
   "execution_count": 116,
   "id": "4b061274-c386-476a-97a5-5c791b2a92b4",
   "metadata": {},
   "outputs": [
    {
     "data": {
      "text/plain": [
       "__main__.SparkassenSpecialAccount"
      ]
     },
     "execution_count": 116,
     "metadata": {},
     "output_type": "execute_result"
    }
   ],
   "source": [
    "type(sparkasse)"
   ]
  },
  {
   "cell_type": "code",
   "execution_count": 117,
   "id": "cf776776-a7cb-486e-86a1-c5f7af2d0411",
   "metadata": {},
   "outputs": [
    {
     "data": {
      "text/plain": [
       "'SparkassenSpecialAccount'"
      ]
     },
     "execution_count": 117,
     "metadata": {},
     "output_type": "execute_result"
    }
   ],
   "source": [
    "type(sparkasse).__name__"
   ]
  }
 ],
 "metadata": {
  "kernelspec": {
   "display_name": "Python 3 (ipykernel)",
   "language": "python",
   "name": "python3"
  },
  "language_info": {
   "codemirror_mode": {
    "name": "ipython",
    "version": 3
   },
   "file_extension": ".py",
   "mimetype": "text/x-python",
   "name": "python",
   "nbconvert_exporter": "python",
   "pygments_lexer": "ipython3",
   "version": "3.10.5"
  }
 },
 "nbformat": 4,
 "nbformat_minor": 5
}
