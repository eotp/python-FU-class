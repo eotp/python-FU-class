{
 "cells": [
  {
   "cell_type": "markdown",
   "metadata": {},
   "source": [
    "# Challenge: Processing of Tabular Data "
   ]
  },
  {
   "cell_type": "markdown",
   "metadata": {},
   "source": [
    "__Import Statements__"
   ]
  },
  {
   "cell_type": "code",
   "execution_count": 1,
   "metadata": {},
   "outputs": [],
   "source": [
    "%matplotlib inline\n",
    "import pandas as pd\n",
    "import matplotlib.pyplot as plt"
   ]
  },
  {
   "cell_type": "markdown",
   "metadata": {},
   "source": [
    "## Read the data"
   ]
  },
  {
   "cell_type": "markdown",
   "metadata": {},
   "source": [
    "> __Challenge__: Read the `IHME_GBD_2016_POPULATION_ESTIMATES_1990_2016_Y2017M09D14.CSV` file stored in the `../data/` folder and store it to a variable namend `pop`. _Hint: Use the_ `pd.read_csv` _function._ "
   ]
  },
  {
   "cell_type": "code",
   "execution_count": 2,
   "metadata": {},
   "outputs": [],
   "source": [
    "pop = pd.read_csv(\"../data/IHME_GBD_2016_POPULATION_ESTIMATES_1990_2016_Y2017M09D14.CSV\")"
   ]
  },
  {
   "cell_type": "code",
   "execution_count": 3,
   "metadata": {},
   "outputs": [
    {
     "data": {
      "text/html": [
       "<div>\n",
       "<style scoped>\n",
       "    .dataframe tbody tr th:only-of-type {\n",
       "        vertical-align: middle;\n",
       "    }\n",
       "\n",
       "    .dataframe tbody tr th {\n",
       "        vertical-align: top;\n",
       "    }\n",
       "\n",
       "    .dataframe thead th {\n",
       "        text-align: right;\n",
       "    }\n",
       "</style>\n",
       "<table border=\"1\" class=\"dataframe\">\n",
       "  <thead>\n",
       "    <tr style=\"text-align: right;\">\n",
       "      <th></th>\n",
       "      <th>location_id</th>\n",
       "      <th>location_name</th>\n",
       "      <th>sex_id</th>\n",
       "      <th>sex_name</th>\n",
       "      <th>age_group_id</th>\n",
       "      <th>age_group_name</th>\n",
       "      <th>year_id</th>\n",
       "      <th>pop</th>\n",
       "    </tr>\n",
       "  </thead>\n",
       "  <tbody>\n",
       "    <tr>\n",
       "      <th>0</th>\n",
       "      <td>1</td>\n",
       "      <td>Global</td>\n",
       "      <td>1</td>\n",
       "      <td>Male</td>\n",
       "      <td>1</td>\n",
       "      <td>Under 5</td>\n",
       "      <td>1990</td>\n",
       "      <td>3.073378e+08</td>\n",
       "    </tr>\n",
       "    <tr>\n",
       "      <th>1</th>\n",
       "      <td>1</td>\n",
       "      <td>Global</td>\n",
       "      <td>2</td>\n",
       "      <td>Female</td>\n",
       "      <td>1</td>\n",
       "      <td>Under 5</td>\n",
       "      <td>1990</td>\n",
       "      <td>2.911299e+08</td>\n",
       "    </tr>\n",
       "    <tr>\n",
       "      <th>2</th>\n",
       "      <td>1</td>\n",
       "      <td>Global</td>\n",
       "      <td>3</td>\n",
       "      <td>Both</td>\n",
       "      <td>1</td>\n",
       "      <td>Under 5</td>\n",
       "      <td>1990</td>\n",
       "      <td>5.984677e+08</td>\n",
       "    </tr>\n",
       "    <tr>\n",
       "      <th>3</th>\n",
       "      <td>1</td>\n",
       "      <td>Global</td>\n",
       "      <td>1</td>\n",
       "      <td>Male</td>\n",
       "      <td>1</td>\n",
       "      <td>Under 5</td>\n",
       "      <td>1991</td>\n",
       "      <td>3.089656e+08</td>\n",
       "    </tr>\n",
       "    <tr>\n",
       "      <th>4</th>\n",
       "      <td>1</td>\n",
       "      <td>Global</td>\n",
       "      <td>2</td>\n",
       "      <td>Female</td>\n",
       "      <td>1</td>\n",
       "      <td>Under 5</td>\n",
       "      <td>1991</td>\n",
       "      <td>2.921822e+08</td>\n",
       "    </tr>\n",
       "    <tr>\n",
       "      <th>...</th>\n",
       "      <td>...</td>\n",
       "      <td>...</td>\n",
       "      <td>...</td>\n",
       "      <td>...</td>\n",
       "      <td>...</td>\n",
       "      <td>...</td>\n",
       "      <td>...</td>\n",
       "      <td>...</td>\n",
       "    </tr>\n",
       "    <tr>\n",
       "      <th>603931</th>\n",
       "      <td>44639</td>\n",
       "      <td>Middle SDI</td>\n",
       "      <td>2</td>\n",
       "      <td>Female</td>\n",
       "      <td>235</td>\n",
       "      <td>95 plus</td>\n",
       "      <td>2015</td>\n",
       "      <td>3.984956e+05</td>\n",
       "    </tr>\n",
       "    <tr>\n",
       "      <th>603932</th>\n",
       "      <td>44639</td>\n",
       "      <td>Middle SDI</td>\n",
       "      <td>3</td>\n",
       "      <td>Both</td>\n",
       "      <td>235</td>\n",
       "      <td>95 plus</td>\n",
       "      <td>2015</td>\n",
       "      <td>5.625882e+05</td>\n",
       "    </tr>\n",
       "    <tr>\n",
       "      <th>603933</th>\n",
       "      <td>44639</td>\n",
       "      <td>Middle SDI</td>\n",
       "      <td>1</td>\n",
       "      <td>Male</td>\n",
       "      <td>235</td>\n",
       "      <td>95 plus</td>\n",
       "      <td>2016</td>\n",
       "      <td>1.766505e+05</td>\n",
       "    </tr>\n",
       "    <tr>\n",
       "      <th>603934</th>\n",
       "      <td>44639</td>\n",
       "      <td>Middle SDI</td>\n",
       "      <td>2</td>\n",
       "      <td>Female</td>\n",
       "      <td>235</td>\n",
       "      <td>95 plus</td>\n",
       "      <td>2016</td>\n",
       "      <td>4.302028e+05</td>\n",
       "    </tr>\n",
       "    <tr>\n",
       "      <th>603935</th>\n",
       "      <td>44639</td>\n",
       "      <td>Middle SDI</td>\n",
       "      <td>3</td>\n",
       "      <td>Both</td>\n",
       "      <td>235</td>\n",
       "      <td>95 plus</td>\n",
       "      <td>2016</td>\n",
       "      <td>6.068534e+05</td>\n",
       "    </tr>\n",
       "  </tbody>\n",
       "</table>\n",
       "<p>603936 rows × 8 columns</p>\n",
       "</div>"
      ],
      "text/plain": [
       "        location_id location_name  sex_id sex_name  age_group_id  \\\n",
       "0                 1        Global       1     Male             1   \n",
       "1                 1        Global       2   Female             1   \n",
       "2                 1        Global       3     Both             1   \n",
       "3                 1        Global       1     Male             1   \n",
       "4                 1        Global       2   Female             1   \n",
       "...             ...           ...     ...      ...           ...   \n",
       "603931        44639    Middle SDI       2   Female           235   \n",
       "603932        44639    Middle SDI       3     Both           235   \n",
       "603933        44639    Middle SDI       1     Male           235   \n",
       "603934        44639    Middle SDI       2   Female           235   \n",
       "603935        44639    Middle SDI       3     Both           235   \n",
       "\n",
       "       age_group_name  year_id           pop  \n",
       "0             Under 5     1990  3.073378e+08  \n",
       "1             Under 5     1990  2.911299e+08  \n",
       "2             Under 5     1990  5.984677e+08  \n",
       "3             Under 5     1991  3.089656e+08  \n",
       "4             Under 5     1991  2.921822e+08  \n",
       "...               ...      ...           ...  \n",
       "603931        95 plus     2015  3.984956e+05  \n",
       "603932        95 plus     2015  5.625882e+05  \n",
       "603933        95 plus     2016  1.766505e+05  \n",
       "603934        95 plus     2016  4.302028e+05  \n",
       "603935        95 plus     2016  6.068534e+05  \n",
       "\n",
       "[603936 rows x 8 columns]"
      ]
     },
     "execution_count": 3,
     "metadata": {},
     "output_type": "execute_result"
    }
   ],
   "source": [
    "pop"
   ]
  },
  {
   "cell_type": "code",
   "execution_count": null,
   "metadata": {},
   "outputs": [],
   "source": [
    "# %load ../src/_solutions/tab_data01.py"
   ]
  },
  {
   "cell_type": "markdown",
   "metadata": {},
   "source": [
    "## Inspect the data"
   ]
  },
  {
   "cell_type": "markdown",
   "metadata": {},
   "source": [
    "> __Challenge__: Inspect the data by \n",
    "* printing the column names\n",
    "* counting the number of unique entries in the `location_name` column\n",
    "* printing some location names\n",
    "* figuring out the unique categories for the `sex_name` and `age_group` columns\n"
   ]
  },
  {
   "cell_type": "markdown",
   "metadata": {},
   "source": [
    "\n",
    "### Exploratory Data Analysis"
   ]
  },
  {
   "cell_type": "code",
   "execution_count": null,
   "metadata": {},
   "outputs": [],
   "source": [
    "# %load ../src/_solutions/tab_data02.py"
   ]
  },
  {
   "cell_type": "markdown",
   "metadata": {},
   "source": [
    "* print the column names"
   ]
  },
  {
   "cell_type": "code",
   "execution_count": 4,
   "metadata": {},
   "outputs": [
    {
     "data": {
      "text/plain": [
       "Index(['location_id', 'location_name', 'sex_id', 'sex_name', 'age_group_id',\n",
       "       'age_group_name', 'year_id', 'pop'],\n",
       "      dtype='object')"
      ]
     },
     "execution_count": 4,
     "metadata": {},
     "output_type": "execute_result"
    }
   ],
   "source": [
    "pop.columns"
   ]
  },
  {
   "cell_type": "markdown",
   "metadata": {},
   "source": [
    "* count the number of unique entries in the `location_name` column"
   ]
  },
  {
   "cell_type": "code",
   "execution_count": null,
   "metadata": {},
   "outputs": [],
   "source": [
    "len(pop[\"location_name\"].unique())"
   ]
  },
  {
   "cell_type": "markdown",
   "metadata": {},
   "source": [
    "* print some location names"
   ]
  },
  {
   "cell_type": "code",
   "execution_count": 20,
   "metadata": {},
   "outputs": [
    {
     "name": "stdout",
     "output_type": "stream",
     "text": [
      "['Global' 'Malaysia' 'Kiribati' 'Armenia' 'Albania' 'Serbia' 'Ukraine'\n",
      " 'Western Europe' 'Iceland' 'Sweden' 'Latin America and Caribbean'\n",
      " 'Guyana' 'Peru' 'Venezuela' 'Jordan' 'Tunisia' 'Pakistan' 'Burundi'\n",
      " 'Rwanda' 'South Africa' 'The Gambia' 'Senegal' 'Northern Ireland']\n"
     ]
    }
   ],
   "source": [
    "print(pop[\"location_name\"].unique()[0:-1:10])"
   ]
  },
  {
   "cell_type": "code",
   "execution_count": 12,
   "metadata": {},
   "outputs": [
    {
     "data": {
      "text/plain": [
       "['Eritrea',\n",
       " 'Uzbekistan',\n",
       " 'High-income North America',\n",
       " 'Ireland',\n",
       " 'Argentina',\n",
       " 'Oceania',\n",
       " 'The Gambia',\n",
       " 'Tropical Latin America',\n",
       " 'Nigeria',\n",
       " 'Grenada',\n",
       " 'Trinidad and Tobago',\n",
       " 'Philippines',\n",
       " 'Senegal',\n",
       " 'High SDI',\n",
       " 'Guatemala']"
      ]
     },
     "execution_count": 12,
     "metadata": {},
     "output_type": "execute_result"
    }
   ],
   "source": [
    "from random import sample\n",
    "sample(list(pop[\"location_name\"].unique()), 15)"
   ]
  },
  {
   "cell_type": "code",
   "execution_count": null,
   "metadata": {},
   "outputs": [],
   "source": [
    "from random import sample\n",
    "\n",
    "sample(list(pop[\"location_name\"].unique()), 10)"
   ]
  },
  {
   "cell_type": "markdown",
   "metadata": {},
   "source": [
    "* figure out the unique categories for the `sex_name` and `age_group` columns"
   ]
  },
  {
   "cell_type": "code",
   "execution_count": 21,
   "metadata": {},
   "outputs": [
    {
     "name": "stdout",
     "output_type": "stream",
     "text": [
      "['Male' 'Female' 'Both']\n"
     ]
    }
   ],
   "source": [
    "print(pop[\"sex_name\"].unique())"
   ]
  },
  {
   "cell_type": "code",
   "execution_count": 22,
   "metadata": {},
   "outputs": [
    {
     "name": "stdout",
     "output_type": "stream",
     "text": [
      "['Under 5' 'Early Neonatal' 'Late Neonatal' 'Post Neonatal' '1 to 4'\n",
      " '5 to 9' '10 to 14' '15 to 19' '20 to 24' '25 to 29' '30 to 34'\n",
      " '35 to 39' '40 to 44' '45 to 49' '50 to 54' '55 to 59' '60 to 64'\n",
      " '65 to 69' '70 to 74' '75 to 79' 'All Ages' '5-14 years' '15-49 years'\n",
      " '50-69 years' '70+ years' '<1 year' '80 to 84' '85 to 89' '90 to 94'\n",
      " '<20 years' '10-24 years' '95 plus']\n"
     ]
    }
   ],
   "source": [
    "print(pop[\"age_group_name\"].unique())"
   ]
  },
  {
   "cell_type": "code",
   "execution_count": 26,
   "metadata": {},
   "outputs": [
    {
     "name": "stdout",
     "output_type": "stream",
     "text": [
      "['Male' 'Female' 'Both']\n",
      "['Under 5' 'Early Neonatal' 'Late Neonatal' 'Post Neonatal' '1 to 4'\n",
      " '5 to 9' '10 to 14' '15 to 19' '20 to 24' '25 to 29' '30 to 34'\n",
      " '35 to 39' '40 to 44' '45 to 49' '50 to 54' '55 to 59' '60 to 64'\n",
      " '65 to 69' '70 to 74' '75 to 79' 'All Ages' '5-14 years' '15-49 years'\n",
      " '50-69 years' '70+ years' '<1 year' '80 to 84' '85 to 89' '90 to 94'\n",
      " '<20 years' '10-24 years' '95 plus']\n"
     ]
    }
   ],
   "source": [
    "cols = [\"sex_name\", \"age_group_name\"]\n",
    "\n",
    "for col in cols:\n",
    "    print(pop[col].unique())"
   ]
  },
  {
   "cell_type": "code",
   "execution_count": 27,
   "metadata": {},
   "outputs": [
    {
     "data": {
      "text/plain": [
       "sex_name                                       [Male, Female, Both]\n",
       "age_group_name    [Under 5, Early Neonatal, Late Neonatal, Post ...\n",
       "dtype: object"
      ]
     },
     "execution_count": 27,
     "metadata": {},
     "output_type": "execute_result"
    }
   ],
   "source": [
    "pop[cols].apply(lambda x: x.unique())"
   ]
  },
  {
   "cell_type": "code",
   "execution_count": 28,
   "metadata": {},
   "outputs": [
    {
     "name": "stdout",
     "output_type": "stream",
     "text": [
      "['Male' 'Female' 'Both']\n",
      "['Under 5' 'Early Neonatal' 'Late Neonatal' 'Post Neonatal' '1 to 4'\n",
      " '5 to 9' '10 to 14' '15 to 19' '20 to 24' '25 to 29' '30 to 34'\n",
      " '35 to 39' '40 to 44' '45 to 49' '50 to 54' '55 to 59' '60 to 64'\n",
      " '65 to 69' '70 to 74' '75 to 79' 'All Ages' '5-14 years' '15-49 years'\n",
      " '50-69 years' '70+ years' '<1 year' '80 to 84' '85 to 89' '90 to 94'\n",
      " '<20 years' '10-24 years' '95 plus']\n"
     ]
    },
    {
     "data": {
      "text/plain": [
       "sex_name          None\n",
       "age_group_name    None\n",
       "dtype: object"
      ]
     },
     "execution_count": 28,
     "metadata": {},
     "output_type": "execute_result"
    }
   ],
   "source": [
    "pop[cols].apply(lambda x: print(x.unique()))"
   ]
  },
  {
   "cell_type": "markdown",
   "metadata": {},
   "source": [
    "## Analyzing a subset of the dataset"
   ]
  },
  {
   "cell_type": "markdown",
   "metadata": {},
   "source": [
    "> __Challenge__: Subset the data set based on age groups, location and sex as given below and save the resulting  data frame to a variable called `pop_subset`. "
   ]
  },
  {
   "cell_type": "markdown",
   "metadata": {},
   "source": [
    "__Subsetting__"
   ]
  },
  {
   "cell_type": "code",
   "execution_count": 51,
   "metadata": {},
   "outputs": [],
   "source": [
    "ages = ['5-14 years', '15-49 years', '50-69 years','70+ years']\n",
    "location = [\"Germany\", \"France\", \"Italy\"]\n",
    "sex = ['Male', 'Female']"
   ]
  },
  {
   "cell_type": "code",
   "execution_count": 38,
   "metadata": {},
   "outputs": [],
   "source": [
    "age = pop.loc[(pop[\"age_group_name\"] == '5-14 years') |\n",
    "               (pop[\"age_group_name\"] == '15-49 years') ]"
   ]
  },
  {
   "cell_type": "code",
   "execution_count": 34,
   "metadata": {},
   "outputs": [
    {
     "data": {
      "text/plain": [
       "(603936, 8)"
      ]
     },
     "execution_count": 34,
     "metadata": {},
     "output_type": "execute_result"
    }
   ],
   "source": [
    "pop.shape"
   ]
  },
  {
   "cell_type": "code",
   "execution_count": 33,
   "metadata": {},
   "outputs": [
    {
     "data": {
      "text/plain": [
       "(75492, 8)"
      ]
     },
     "execution_count": 33,
     "metadata": {},
     "output_type": "execute_result"
    }
   ],
   "source": [
    "age.shape"
   ]
  },
  {
   "cell_type": "code",
   "execution_count": 41,
   "metadata": {},
   "outputs": [
    {
     "data": {
      "text/plain": [
       "(972, 8)"
      ]
     },
     "execution_count": 41,
     "metadata": {},
     "output_type": "execute_result"
    }
   ],
   "source": [
    "age_location.shape"
   ]
  },
  {
   "cell_type": "code",
   "execution_count": 40,
   "metadata": {},
   "outputs": [
    {
     "data": {
      "text/plain": [
       "(648, 8)"
      ]
     },
     "execution_count": 40,
     "metadata": {},
     "output_type": "execute_result"
    }
   ],
   "source": [
    "age_sex_location.shape"
   ]
  },
  {
   "cell_type": "code",
   "execution_count": 43,
   "metadata": {},
   "outputs": [],
   "source": [
    "# subset the ages at first\n",
    "age = pop.loc[(pop[\"age_group_name\"] == '5-14 years') | \n",
    "               (pop[\"age_group_name\"] == '15-49 years') |\n",
    "               (pop[\"age_group_name\"] == '50-69 years') |\n",
    "               (pop[\"age_group_name\"] == '70+ years') ]\n",
    "\n",
    "# afterwards subsetting the location\n",
    "age_location = age[(age.location_name == \"Germany\") |\n",
    "                   (age.location_name == \"France\") |\n",
    "                   (age.location_name == \"Italy\")]\n",
    "\n",
    "# at last filter for the sex\n",
    "age_sex_location = age_location[(age_location.sex_name == 'Male') |\n",
    "                                (age_location.sex_name == 'Female')]\n",
    "\n",
    "# age_sex_location"
   ]
  },
  {
   "cell_type": "code",
   "execution_count": 48,
   "metadata": {},
   "outputs": [
    {
     "data": {
      "text/plain": [
       "['Male', 'Female']"
      ]
     },
     "execution_count": 48,
     "metadata": {},
     "output_type": "execute_result"
    }
   ],
   "source": [
    "sex"
   ]
  },
  {
   "cell_type": "code",
   "execution_count": 52,
   "metadata": {},
   "outputs": [],
   "source": [
    "# subset the ages at first\n",
    "age = pop[pop[\"age_group_name\"].isin(ages)]\n",
    "\n",
    "# afterwards subsetting the location\n",
    "age_location = age[age[\"location_name\"].isin(location)]\n",
    "\n",
    "# at last filter for the sex\n",
    "age_sex_location = age_location[age_location[\"sex_name\"].isin(sex)]"
   ]
  },
  {
   "cell_type": "code",
   "execution_count": null,
   "metadata": {},
   "outputs": [],
   "source": [
    "age_sex_location = pop[pop.age_group_name.isin(ages) & \n",
    "                       pop[\"location_name\"].isin(location) & \n",
    "                       pop[\"sex_name\"].isin(sex)]"
   ]
  },
  {
   "cell_type": "code",
   "execution_count": 57,
   "metadata": {},
   "outputs": [],
   "source": [
    "age_sex_location = pop[pop[\"age_group_name\"].isin(ages) & \n",
    "                       pop[\"location_name\"].isin(location) & \n",
    "                       pop[\"sex_name\"].isin(sex)]"
   ]
  },
  {
   "cell_type": "code",
   "execution_count": 54,
   "metadata": {},
   "outputs": [
    {
     "data": {
      "text/plain": [
       "(648, 8)"
      ]
     },
     "execution_count": 54,
     "metadata": {},
     "output_type": "execute_result"
    }
   ],
   "source": [
    "age_sex_location.shape"
   ]
  },
  {
   "cell_type": "code",
   "execution_count": 56,
   "metadata": {},
   "outputs": [
    {
     "data": {
      "text/html": [
       "<div>\n",
       "<style scoped>\n",
       "    .dataframe tbody tr th:only-of-type {\n",
       "        vertical-align: middle;\n",
       "    }\n",
       "\n",
       "    .dataframe tbody tr th {\n",
       "        vertical-align: top;\n",
       "    }\n",
       "\n",
       "    .dataframe thead th {\n",
       "        text-align: right;\n",
       "    }\n",
       "</style>\n",
       "<table border=\"1\" class=\"dataframe\">\n",
       "  <thead>\n",
       "    <tr style=\"text-align: right;\">\n",
       "      <th></th>\n",
       "      <th>location_id</th>\n",
       "      <th>location_name</th>\n",
       "      <th>sex_id</th>\n",
       "      <th>sex_name</th>\n",
       "      <th>age_group_id</th>\n",
       "      <th>age_group_name</th>\n",
       "      <th>year_id</th>\n",
       "      <th>pop</th>\n",
       "    </tr>\n",
       "  </thead>\n",
       "  <tbody>\n",
       "    <tr>\n",
       "      <th>201285</th>\n",
       "      <td>80</td>\n",
       "      <td>France</td>\n",
       "      <td>1</td>\n",
       "      <td>Male</td>\n",
       "      <td>23</td>\n",
       "      <td>5-14 years</td>\n",
       "      <td>1990</td>\n",
       "      <td>3896596.90</td>\n",
       "    </tr>\n",
       "    <tr>\n",
       "      <th>201286</th>\n",
       "      <td>80</td>\n",
       "      <td>France</td>\n",
       "      <td>2</td>\n",
       "      <td>Female</td>\n",
       "      <td>23</td>\n",
       "      <td>5-14 years</td>\n",
       "      <td>1990</td>\n",
       "      <td>3716975.82</td>\n",
       "    </tr>\n",
       "    <tr>\n",
       "      <th>201288</th>\n",
       "      <td>80</td>\n",
       "      <td>France</td>\n",
       "      <td>1</td>\n",
       "      <td>Male</td>\n",
       "      <td>23</td>\n",
       "      <td>5-14 years</td>\n",
       "      <td>1991</td>\n",
       "      <td>3915343.49</td>\n",
       "    </tr>\n",
       "    <tr>\n",
       "      <th>201289</th>\n",
       "      <td>80</td>\n",
       "      <td>France</td>\n",
       "      <td>2</td>\n",
       "      <td>Female</td>\n",
       "      <td>23</td>\n",
       "      <td>5-14 years</td>\n",
       "      <td>1991</td>\n",
       "      <td>3733379.25</td>\n",
       "    </tr>\n",
       "    <tr>\n",
       "      <th>201291</th>\n",
       "      <td>80</td>\n",
       "      <td>France</td>\n",
       "      <td>1</td>\n",
       "      <td>Male</td>\n",
       "      <td>23</td>\n",
       "      <td>5-14 years</td>\n",
       "      <td>1992</td>\n",
       "      <td>3933758.16</td>\n",
       "    </tr>\n",
       "    <tr>\n",
       "      <th>...</th>\n",
       "      <td>...</td>\n",
       "      <td>...</td>\n",
       "      <td>...</td>\n",
       "      <td>...</td>\n",
       "      <td>...</td>\n",
       "      <td>...</td>\n",
       "      <td>...</td>\n",
       "      <td>...</td>\n",
       "    </tr>\n",
       "    <tr>\n",
       "      <th>217153</th>\n",
       "      <td>86</td>\n",
       "      <td>Italy</td>\n",
       "      <td>2</td>\n",
       "      <td>Female</td>\n",
       "      <td>26</td>\n",
       "      <td>70+ years</td>\n",
       "      <td>2014</td>\n",
       "      <td>5669195.28</td>\n",
       "    </tr>\n",
       "    <tr>\n",
       "      <th>217155</th>\n",
       "      <td>86</td>\n",
       "      <td>Italy</td>\n",
       "      <td>1</td>\n",
       "      <td>Male</td>\n",
       "      <td>26</td>\n",
       "      <td>70+ years</td>\n",
       "      <td>2015</td>\n",
       "      <td>4020123.15</td>\n",
       "    </tr>\n",
       "    <tr>\n",
       "      <th>217156</th>\n",
       "      <td>86</td>\n",
       "      <td>Italy</td>\n",
       "      <td>2</td>\n",
       "      <td>Female</td>\n",
       "      <td>26</td>\n",
       "      <td>70+ years</td>\n",
       "      <td>2015</td>\n",
       "      <td>5747247.96</td>\n",
       "    </tr>\n",
       "    <tr>\n",
       "      <th>217158</th>\n",
       "      <td>86</td>\n",
       "      <td>Italy</td>\n",
       "      <td>1</td>\n",
       "      <td>Male</td>\n",
       "      <td>26</td>\n",
       "      <td>70+ years</td>\n",
       "      <td>2016</td>\n",
       "      <td>4096158.53</td>\n",
       "    </tr>\n",
       "    <tr>\n",
       "      <th>217159</th>\n",
       "      <td>86</td>\n",
       "      <td>Italy</td>\n",
       "      <td>2</td>\n",
       "      <td>Female</td>\n",
       "      <td>26</td>\n",
       "      <td>70+ years</td>\n",
       "      <td>2016</td>\n",
       "      <td>5826996.75</td>\n",
       "    </tr>\n",
       "  </tbody>\n",
       "</table>\n",
       "<p>648 rows × 8 columns</p>\n",
       "</div>"
      ],
      "text/plain": [
       "        location_id location_name  sex_id sex_name  age_group_id  \\\n",
       "201285           80        France       1     Male            23   \n",
       "201286           80        France       2   Female            23   \n",
       "201288           80        France       1     Male            23   \n",
       "201289           80        France       2   Female            23   \n",
       "201291           80        France       1     Male            23   \n",
       "...             ...           ...     ...      ...           ...   \n",
       "217153           86         Italy       2   Female            26   \n",
       "217155           86         Italy       1     Male            26   \n",
       "217156           86         Italy       2   Female            26   \n",
       "217158           86         Italy       1     Male            26   \n",
       "217159           86         Italy       2   Female            26   \n",
       "\n",
       "       age_group_name  year_id         pop  \n",
       "201285     5-14 years     1990  3896596.90  \n",
       "201286     5-14 years     1990  3716975.82  \n",
       "201288     5-14 years     1991  3915343.49  \n",
       "201289     5-14 years     1991  3733379.25  \n",
       "201291     5-14 years     1992  3933758.16  \n",
       "...               ...      ...         ...  \n",
       "217153      70+ years     2014  5669195.28  \n",
       "217155      70+ years     2015  4020123.15  \n",
       "217156      70+ years     2015  5747247.96  \n",
       "217158      70+ years     2016  4096158.53  \n",
       "217159      70+ years     2016  5826996.75  \n",
       "\n",
       "[648 rows x 8 columns]"
      ]
     },
     "execution_count": 56,
     "metadata": {},
     "output_type": "execute_result"
    }
   ],
   "source": [
    "# %load ../src/_solutions/tab_data03.py\n",
    "cond = (\n",
    "    pop[\"age_group_name\"].isin(ages) & \n",
    "    pop[\"location_name\"].isin(location) & \n",
    "    pop[\"sex_name\"].isin(sex)\n",
    ")\n",
    "\n",
    "pop_subset = pop[cond]\n",
    "pop_subset\n"
   ]
  },
  {
   "cell_type": "markdown",
   "metadata": {},
   "source": [
    "### Split-Apply-Combine"
   ]
  },
  {
   "cell_type": "markdown",
   "metadata": {},
   "source": [
    "![](_img/split-apply-combine.svg)\n",
    "Image source: [Jake VanderPlas 2016, Data Science Handbook](https://jakevdp.github.io/PythonDataScienceHandbook/)"
   ]
  },
  {
   "cell_type": "markdown",
   "metadata": {},
   "source": [
    "> __Challenge__: Compute the population of Germany, Italy and France for the years 1990 to 2016. _Hint: Use the_ `groupby` _function._\n"
   ]
  },
  {
   "cell_type": "code",
   "execution_count": null,
   "metadata": {},
   "outputs": [],
   "source": [
    "# %load ../src/_solutions/tab_data04.py"
   ]
  },
  {
   "cell_type": "code",
   "execution_count": 74,
   "metadata": {},
   "outputs": [
    {
     "data": {
      "text/html": [
       "<div>\n",
       "<style scoped>\n",
       "    .dataframe tbody tr th:only-of-type {\n",
       "        vertical-align: middle;\n",
       "    }\n",
       "\n",
       "    .dataframe tbody tr th {\n",
       "        vertical-align: top;\n",
       "    }\n",
       "\n",
       "    .dataframe thead th {\n",
       "        text-align: right;\n",
       "    }\n",
       "</style>\n",
       "<table border=\"1\" class=\"dataframe\">\n",
       "  <thead>\n",
       "    <tr style=\"text-align: right;\">\n",
       "      <th></th>\n",
       "      <th>location_id</th>\n",
       "      <th>sex_id</th>\n",
       "      <th>age_group_id</th>\n",
       "      <th>year_id</th>\n",
       "      <th>pop</th>\n",
       "    </tr>\n",
       "    <tr>\n",
       "      <th>location_name</th>\n",
       "      <th></th>\n",
       "      <th></th>\n",
       "      <th></th>\n",
       "      <th></th>\n",
       "      <th></th>\n",
       "    </tr>\n",
       "  </thead>\n",
       "  <tbody>\n",
       "    <tr>\n",
       "      <th>Afghanistan</th>\n",
       "      <td>414720</td>\n",
       "      <td>5184</td>\n",
       "      <td>81243</td>\n",
       "      <td>5191776</td>\n",
       "      <td>4.676981e+09</td>\n",
       "    </tr>\n",
       "    <tr>\n",
       "      <th>Albania</th>\n",
       "      <td>111456</td>\n",
       "      <td>5184</td>\n",
       "      <td>81243</td>\n",
       "      <td>5191776</td>\n",
       "      <td>6.073316e+08</td>\n",
       "    </tr>\n",
       "    <tr>\n",
       "      <th>Algeria</th>\n",
       "      <td>360288</td>\n",
       "      <td>5184</td>\n",
       "      <td>81243</td>\n",
       "      <td>5191776</td>\n",
       "      <td>6.901667e+09</td>\n",
       "    </tr>\n",
       "    <tr>\n",
       "      <th>American Samoa</th>\n",
       "      <td>772416</td>\n",
       "      <td>5184</td>\n",
       "      <td>81243</td>\n",
       "      <td>5191776</td>\n",
       "      <td>1.271539e+07</td>\n",
       "    </tr>\n",
       "    <tr>\n",
       "      <th>Andean Latin America</th>\n",
       "      <td>311040</td>\n",
       "      <td>5184</td>\n",
       "      <td>81243</td>\n",
       "      <td>5191776</td>\n",
       "      <td>9.995907e+09</td>\n",
       "    </tr>\n",
       "    <tr>\n",
       "      <th>...</th>\n",
       "      <td>...</td>\n",
       "      <td>...</td>\n",
       "      <td>...</td>\n",
       "      <td>...</td>\n",
       "      <td>...</td>\n",
       "    </tr>\n",
       "    <tr>\n",
       "      <th>Western Europe</th>\n",
       "      <td>189216</td>\n",
       "      <td>5184</td>\n",
       "      <td>81243</td>\n",
       "      <td>5191776</td>\n",
       "      <td>7.449493e+10</td>\n",
       "    </tr>\n",
       "    <tr>\n",
       "      <th>Western Sub-Saharan Africa</th>\n",
       "      <td>515808</td>\n",
       "      <td>5184</td>\n",
       "      <td>81243</td>\n",
       "      <td>5191776</td>\n",
       "      <td>6.008877e+10</td>\n",
       "    </tr>\n",
       "    <tr>\n",
       "      <th>Yemen</th>\n",
       "      <td>406944</td>\n",
       "      <td>5184</td>\n",
       "      <td>81243</td>\n",
       "      <td>5191776</td>\n",
       "      <td>4.197081e+09</td>\n",
       "    </tr>\n",
       "    <tr>\n",
       "      <th>Zambia</th>\n",
       "      <td>495072</td>\n",
       "      <td>5184</td>\n",
       "      <td>81243</td>\n",
       "      <td>5191776</td>\n",
       "      <td>2.500563e+09</td>\n",
       "    </tr>\n",
       "    <tr>\n",
       "      <th>Zimbabwe</th>\n",
       "      <td>513216</td>\n",
       "      <td>5184</td>\n",
       "      <td>81243</td>\n",
       "      <td>5191776</td>\n",
       "      <td>2.737194e+09</td>\n",
       "    </tr>\n",
       "  </tbody>\n",
       "</table>\n",
       "<p>231 rows × 5 columns</p>\n",
       "</div>"
      ],
      "text/plain": [
       "                            location_id  sex_id  age_group_id  year_id  \\\n",
       "location_name                                                            \n",
       "Afghanistan                      414720    5184         81243  5191776   \n",
       "Albania                          111456    5184         81243  5191776   \n",
       "Algeria                          360288    5184         81243  5191776   \n",
       "American Samoa                   772416    5184         81243  5191776   \n",
       "Andean Latin America             311040    5184         81243  5191776   \n",
       "...                                 ...     ...           ...      ...   \n",
       "Western Europe                   189216    5184         81243  5191776   \n",
       "Western Sub-Saharan Africa       515808    5184         81243  5191776   \n",
       "Yemen                            406944    5184         81243  5191776   \n",
       "Zambia                           495072    5184         81243  5191776   \n",
       "Zimbabwe                         513216    5184         81243  5191776   \n",
       "\n",
       "                                     pop  \n",
       "location_name                             \n",
       "Afghanistan                 4.676981e+09  \n",
       "Albania                     6.073316e+08  \n",
       "Algeria                     6.901667e+09  \n",
       "American Samoa              1.271539e+07  \n",
       "Andean Latin America        9.995907e+09  \n",
       "...                                  ...  \n",
       "Western Europe              7.449493e+10  \n",
       "Western Sub-Saharan Africa  6.008877e+10  \n",
       "Yemen                       4.197081e+09  \n",
       "Zambia                      2.500563e+09  \n",
       "Zimbabwe                    2.737194e+09  \n",
       "\n",
       "[231 rows x 5 columns]"
      ]
     },
     "execution_count": 74,
     "metadata": {},
     "output_type": "execute_result"
    }
   ],
   "source": [
    "# at first: calculate the overall population for each country\n",
    "pop.groupby(\"location_name\").sum()"
   ]
  },
  {
   "cell_type": "markdown",
   "metadata": {},
   "source": [
    "Nice we could calculate the overall population for each country! Unfortunately we lost the time information. So we take a step back and rearrange the `groupby` statement:"
   ]
  },
  {
   "cell_type": "code",
   "execution_count": 83,
   "metadata": {},
   "outputs": [
    {
     "data": {
      "text/html": [
       "<div>\n",
       "<style scoped>\n",
       "    .dataframe tbody tr th:only-of-type {\n",
       "        vertical-align: middle;\n",
       "    }\n",
       "\n",
       "    .dataframe tbody tr th {\n",
       "        vertical-align: top;\n",
       "    }\n",
       "\n",
       "    .dataframe thead th {\n",
       "        text-align: right;\n",
       "    }\n",
       "</style>\n",
       "<table border=\"1\" class=\"dataframe\">\n",
       "  <thead>\n",
       "    <tr style=\"text-align: right;\">\n",
       "      <th></th>\n",
       "      <th></th>\n",
       "      <th>location_id</th>\n",
       "      <th>sex_id</th>\n",
       "      <th>age_group_id</th>\n",
       "      <th>pop</th>\n",
       "    </tr>\n",
       "    <tr>\n",
       "      <th>location_name</th>\n",
       "      <th>year_id</th>\n",
       "      <th></th>\n",
       "      <th></th>\n",
       "      <th></th>\n",
       "      <th></th>\n",
       "    </tr>\n",
       "  </thead>\n",
       "  <tbody>\n",
       "    <tr>\n",
       "      <th rowspan=\"5\" valign=\"top\">France</th>\n",
       "      <th>1990</th>\n",
       "      <td>640</td>\n",
       "      <td>12</td>\n",
       "      <td>196</td>\n",
       "      <td>52924678.45</td>\n",
       "    </tr>\n",
       "    <tr>\n",
       "      <th>1991</th>\n",
       "      <td>640</td>\n",
       "      <td>12</td>\n",
       "      <td>196</td>\n",
       "      <td>53204997.81</td>\n",
       "    </tr>\n",
       "    <tr>\n",
       "      <th>1992</th>\n",
       "      <td>640</td>\n",
       "      <td>12</td>\n",
       "      <td>196</td>\n",
       "      <td>53491245.78</td>\n",
       "    </tr>\n",
       "    <tr>\n",
       "      <th>1993</th>\n",
       "      <td>640</td>\n",
       "      <td>12</td>\n",
       "      <td>196</td>\n",
       "      <td>53764681.77</td>\n",
       "    </tr>\n",
       "    <tr>\n",
       "      <th>1994</th>\n",
       "      <td>640</td>\n",
       "      <td>12</td>\n",
       "      <td>196</td>\n",
       "      <td>54014103.00</td>\n",
       "    </tr>\n",
       "    <tr>\n",
       "      <th>...</th>\n",
       "      <th>...</th>\n",
       "      <td>...</td>\n",
       "      <td>...</td>\n",
       "      <td>...</td>\n",
       "      <td>...</td>\n",
       "    </tr>\n",
       "    <tr>\n",
       "      <th rowspan=\"5\" valign=\"top\">Italy</th>\n",
       "      <th>2012</th>\n",
       "      <td>688</td>\n",
       "      <td>12</td>\n",
       "      <td>196</td>\n",
       "      <td>56805924.59</td>\n",
       "    </tr>\n",
       "    <tr>\n",
       "      <th>2013</th>\n",
       "      <td>688</td>\n",
       "      <td>12</td>\n",
       "      <td>196</td>\n",
       "      <td>57081736.70</td>\n",
       "    </tr>\n",
       "    <tr>\n",
       "      <th>2014</th>\n",
       "      <td>688</td>\n",
       "      <td>12</td>\n",
       "      <td>196</td>\n",
       "      <td>57366276.76</td>\n",
       "    </tr>\n",
       "    <tr>\n",
       "      <th>2015</th>\n",
       "      <td>688</td>\n",
       "      <td>12</td>\n",
       "      <td>196</td>\n",
       "      <td>57659331.41</td>\n",
       "    </tr>\n",
       "    <tr>\n",
       "      <th>2016</th>\n",
       "      <td>688</td>\n",
       "      <td>12</td>\n",
       "      <td>196</td>\n",
       "      <td>57960714.36</td>\n",
       "    </tr>\n",
       "  </tbody>\n",
       "</table>\n",
       "<p>81 rows × 4 columns</p>\n",
       "</div>"
      ],
      "text/plain": [
       "                       location_id  sex_id  age_group_id          pop\n",
       "location_name year_id                                                \n",
       "France        1990             640      12           196  52924678.45\n",
       "              1991             640      12           196  53204997.81\n",
       "              1992             640      12           196  53491245.78\n",
       "              1993             640      12           196  53764681.77\n",
       "              1994             640      12           196  54014103.00\n",
       "...                            ...     ...           ...          ...\n",
       "Italy         2012             688      12           196  56805924.59\n",
       "              2013             688      12           196  57081736.70\n",
       "              2014             688      12           196  57366276.76\n",
       "              2015             688      12           196  57659331.41\n",
       "              2016             688      12           196  57960714.36\n",
       "\n",
       "[81 rows x 4 columns]"
      ]
     },
     "execution_count": 83,
     "metadata": {},
     "output_type": "execute_result"
    }
   ],
   "source": [
    "# calculate the overall population by storing the date at the same time\n",
    "pop_subset.groupby([\"location_name\", \"year_id\"]).sum()"
   ]
  },
  {
   "cell_type": "markdown",
   "metadata": {},
   "source": [
    "Great! But we are only interested in the countries **Germany, Italy and France**. Thats why we go and filter the dataframe accordingly. For those purposes we make use of the `df.get_level_values()` method. We see that our dataframe consist of a multilevel index. That means we have a multilevel index. The year is dependent of the year. Because we only want to filter the dataframe related to the country, we use the `get_level_values` to extract the location-name information out of the multi level index. Afterwards we use this to filter for the above mentioned countries. "
   ]
  },
  {
   "cell_type": "code",
   "execution_count": 79,
   "metadata": {},
   "outputs": [
    {
     "data": {
      "text/plain": [
       "Index(['Afghanistan', 'Afghanistan', 'Afghanistan', 'Afghanistan',\n",
       "       'Afghanistan', 'Afghanistan', 'Afghanistan', 'Afghanistan',\n",
       "       'Afghanistan', 'Afghanistan',\n",
       "       ...\n",
       "       'Zimbabwe', 'Zimbabwe', 'Zimbabwe', 'Zimbabwe', 'Zimbabwe', 'Zimbabwe',\n",
       "       'Zimbabwe', 'Zimbabwe', 'Zimbabwe', 'Zimbabwe'],\n",
       "      dtype='object', name='location_name', length=6237)"
      ]
     },
     "execution_count": 79,
     "metadata": {},
     "output_type": "execute_result"
    }
   ],
   "source": [
    "pop_per_country.index.get_level_values(\"location_name\")"
   ]
  },
  {
   "cell_type": "code",
   "execution_count": 80,
   "metadata": {},
   "outputs": [
    {
     "data": {
      "text/plain": [
       "array([False, False, False, ..., False, False, False])"
      ]
     },
     "execution_count": 80,
     "metadata": {},
     "output_type": "execute_result"
    }
   ],
   "source": [
    "# store the result in variable\n",
    "pop_per_country = pop.groupby([\"location_name\", \"year_id\"]).sum()\n",
    "\n",
    "# extract the location names out of the multilevel index and build a filter for the countries of interest\n",
    "pop_per_country.index.get_level_values('location_name').isin([\"France\", \"Germany\", \"Italy\"])"
   ]
  },
  {
   "cell_type": "code",
   "execution_count": 81,
   "metadata": {},
   "outputs": [
    {
     "data": {
      "text/html": [
       "<div>\n",
       "<style scoped>\n",
       "    .dataframe tbody tr th:only-of-type {\n",
       "        vertical-align: middle;\n",
       "    }\n",
       "\n",
       "    .dataframe tbody tr th {\n",
       "        vertical-align: top;\n",
       "    }\n",
       "\n",
       "    .dataframe thead th {\n",
       "        text-align: right;\n",
       "    }\n",
       "</style>\n",
       "<table border=\"1\" class=\"dataframe\">\n",
       "  <thead>\n",
       "    <tr style=\"text-align: right;\">\n",
       "      <th></th>\n",
       "      <th></th>\n",
       "      <th>location_id</th>\n",
       "      <th>sex_id</th>\n",
       "      <th>age_group_id</th>\n",
       "      <th>pop</th>\n",
       "    </tr>\n",
       "    <tr>\n",
       "      <th>location_name</th>\n",
       "      <th>year_id</th>\n",
       "      <th></th>\n",
       "      <th></th>\n",
       "      <th></th>\n",
       "      <th></th>\n",
       "    </tr>\n",
       "  </thead>\n",
       "  <tbody>\n",
       "    <tr>\n",
       "      <th rowspan=\"5\" valign=\"top\">France</th>\n",
       "      <th>1990</th>\n",
       "      <td>7680</td>\n",
       "      <td>192</td>\n",
       "      <td>3009</td>\n",
       "      <td>3.977995e+08</td>\n",
       "    </tr>\n",
       "    <tr>\n",
       "      <th>1991</th>\n",
       "      <td>7680</td>\n",
       "      <td>192</td>\n",
       "      <td>3009</td>\n",
       "      <td>3.989647e+08</td>\n",
       "    </tr>\n",
       "    <tr>\n",
       "      <th>1992</th>\n",
       "      <td>7680</td>\n",
       "      <td>192</td>\n",
       "      <td>3009</td>\n",
       "      <td>4.000421e+08</td>\n",
       "    </tr>\n",
       "    <tr>\n",
       "      <th>1993</th>\n",
       "      <td>7680</td>\n",
       "      <td>192</td>\n",
       "      <td>3009</td>\n",
       "      <td>4.009065e+08</td>\n",
       "    </tr>\n",
       "    <tr>\n",
       "      <th>1994</th>\n",
       "      <td>7680</td>\n",
       "      <td>192</td>\n",
       "      <td>3009</td>\n",
       "      <td>4.016807e+08</td>\n",
       "    </tr>\n",
       "    <tr>\n",
       "      <th>...</th>\n",
       "      <th>...</th>\n",
       "      <td>...</td>\n",
       "      <td>...</td>\n",
       "      <td>...</td>\n",
       "      <td>...</td>\n",
       "    </tr>\n",
       "    <tr>\n",
       "      <th rowspan=\"5\" valign=\"top\">Italy</th>\n",
       "      <th>2012</th>\n",
       "      <td>8256</td>\n",
       "      <td>192</td>\n",
       "      <td>3009</td>\n",
       "      <td>3.982180e+08</td>\n",
       "    </tr>\n",
       "    <tr>\n",
       "      <th>2013</th>\n",
       "      <td>8256</td>\n",
       "      <td>192</td>\n",
       "      <td>3009</td>\n",
       "      <td>3.994934e+08</td>\n",
       "    </tr>\n",
       "    <tr>\n",
       "      <th>2014</th>\n",
       "      <td>8256</td>\n",
       "      <td>192</td>\n",
       "      <td>3009</td>\n",
       "      <td>4.007466e+08</td>\n",
       "    </tr>\n",
       "    <tr>\n",
       "      <th>2015</th>\n",
       "      <td>8256</td>\n",
       "      <td>192</td>\n",
       "      <td>3009</td>\n",
       "      <td>4.020799e+08</td>\n",
       "    </tr>\n",
       "    <tr>\n",
       "      <th>2016</th>\n",
       "      <td>8256</td>\n",
       "      <td>192</td>\n",
       "      <td>3009</td>\n",
       "      <td>4.035214e+08</td>\n",
       "    </tr>\n",
       "  </tbody>\n",
       "</table>\n",
       "<p>81 rows × 4 columns</p>\n",
       "</div>"
      ],
      "text/plain": [
       "                       location_id  sex_id  age_group_id           pop\n",
       "location_name year_id                                                 \n",
       "France        1990            7680     192          3009  3.977995e+08\n",
       "              1991            7680     192          3009  3.989647e+08\n",
       "              1992            7680     192          3009  4.000421e+08\n",
       "              1993            7680     192          3009  4.009065e+08\n",
       "              1994            7680     192          3009  4.016807e+08\n",
       "...                            ...     ...           ...           ...\n",
       "Italy         2012            8256     192          3009  3.982180e+08\n",
       "              2013            8256     192          3009  3.994934e+08\n",
       "              2014            8256     192          3009  4.007466e+08\n",
       "              2015            8256     192          3009  4.020799e+08\n",
       "              2016            8256     192          3009  4.035214e+08\n",
       "\n",
       "[81 rows x 4 columns]"
      ]
     },
     "execution_count": 81,
     "metadata": {},
     "output_type": "execute_result"
    }
   ],
   "source": [
    "# using the above defined filter to extract only the countries of interest out of the dataframe\n",
    "pop_c = pop_per_country[ pop_per_country.index.get_level_values('location_name').isin([\"France\", \"Germany\", \"Italy\"]) ]\n",
    "pop_c"
   ]
  },
  {
   "cell_type": "markdown",
   "metadata": {},
   "source": [
    "## Plotting"
   ]
  },
  {
   "cell_type": "markdown",
   "metadata": {},
   "source": [
    "> __Challenge__:    \n",
    "Plot how the the population of Germany, Italy and France changed over the years 1990 to 2016. "
   ]
  },
  {
   "cell_type": "code",
   "execution_count": 86,
   "metadata": {},
   "outputs": [
    {
     "data": {
      "text/plain": [
       "<AxesSubplot:xlabel='year_id'>"
      ]
     },
     "execution_count": 86,
     "metadata": {},
     "output_type": "execute_result"
    },
    {
     "data": {
      "image/png": "[encoded data removed]",
      "text/plain": [
       "<Figure size 432x288 with 1 Axes>"
      ]
     },
     "metadata": {
      "needs_background": "light"
     },
     "output_type": "display_data"
    }
   ],
   "source": [
    "# select a specific country out of the multilevel index, filter for the overall population and plot the time series afterwards\n",
    "pop_c.xs(\"Italy\")[\"pop\"].plot()"
   ]
  },
  {
   "cell_type": "code",
   "execution_count": 87,
   "metadata": {},
   "outputs": [
    {
     "data": {
      "image/png": "[encoded data removed]",
      "text/plain": [
       "<Figure size 432x288 with 1 Axes>"
      ]
     },
     "metadata": {
      "needs_background": "light"
     },
     "output_type": "display_data"
    }
   ],
   "source": [
    "# plot the population developement for all countries of interest\n",
    "countries = [\"Germany\", \"France\", \"Italy\"]\n",
    "for country in countries:\n",
    "    pop_c.xs(country)[\"pop\"].plot()"
   ]
  },
  {
   "cell_type": "markdown",
   "metadata": {},
   "source": [
    "Great! unfortunately we don't know which line represents which country. Let's improve the plot:"
   ]
  },
  {
   "cell_type": "code",
   "execution_count": 88,
   "metadata": {},
   "outputs": [
    {
     "data": {
      "text/plain": [
       "Text(0.5, 0, 'years')"
      ]
     },
     "execution_count": 88,
     "metadata": {},
     "output_type": "execute_result"
    },
    {
     "data": {
      "image/png": "[encoded data removed]",
      "text/plain": [
       "<Figure size 1080x360 with 1 Axes>"
      ]
     },
     "metadata": {
      "needs_background": "light"
     },
     "output_type": "display_data"
    }
   ],
   "source": [
    "countries = [\"Germany\", \"France\", \"Italy\"]\n",
    "for country in countries:\n",
    "    pop_c.xs(country)[\"pop\"].plot(figsize = (15,5))\n",
    "\n",
    "# add a grid\n",
    "plt.grid()\n",
    "# add a legend\n",
    "plt.legend(countries)\n",
    "\n",
    "# add a title\n",
    "start_of_ts = pop_per_country.index.get_level_values('year_id').min()\n",
    "end_of_ts = pop_per_country.index.get_level_values('year_id').max()\n",
    "plt.title(\"Population developement from \" + str(start_of_ts) + \" to \" + str(end_of_ts))\n",
    "\n",
    "# add meaningful axis labels\n",
    "plt.ylabel(\"Populationcount\")\n",
    "plt.xlabel(\"years\")"
   ]
  },
  {
   "cell_type": "code",
   "execution_count": 89,
   "metadata": {},
   "outputs": [],
   "source": [
    "# %load ../src/_solutions/tab_data05.py\n",
    "gb.unstack().plot(figsize=(14,4))\n",
    "plt.grid()\n"
   ]
  },
  {
   "cell_type": "markdown",
   "metadata": {},
   "source": [
    "> __Challenge__:    \n",
    "Redo the analysis from above but now include Spain in addition to Germany, Italy and France into the analysis."
   ]
  },
  {
   "cell_type": "markdown",
   "metadata": {},
   "source": [
    "For this purpose it would be most useful to externalise out code to a function called `calculate_pop_development` that takes the **population_dataframe** and the **countries of interest** as input:"
   ]
  },
  {
   "cell_type": "code",
   "execution_count": null,
   "metadata": {},
   "outputs": [],
   "source": [
    "# %load ../src/_solutions/function_externalize.py\n",
    "\n",
    "def calculate_pop_development(df, coi):\n",
    "    "
   ]
  },
  {
   "cell_type": "code",
   "execution_count": null,
   "metadata": {},
   "outputs": [],
   "source": [
    "coi = [\"Germany\", \"France\", \"Italy\", \"Spain\"]\n",
    "calculate_pop_development(pop, coi)"
   ]
  },
  {
   "cell_type": "markdown",
   "metadata": {},
   "source": [
    "***"
   ]
  }
 ],
 "metadata": {
  "kernelspec": {
   "display_name": "Python 3 (ipykernel)",
   "language": "python",
   "name": "python3"
  },
  "language_info": {
   "codemirror_mode": {
    "name": "ipython",
    "version": 3
   },
   "file_extension": ".py",
   "mimetype": "text/x-python",
   "name": "python",
   "nbconvert_exporter": "python",
   "pygments_lexer": "ipython3",
   "version": "3.7.12"
  }
 },
 "nbformat": 4,
 "nbformat_minor": 4
}
