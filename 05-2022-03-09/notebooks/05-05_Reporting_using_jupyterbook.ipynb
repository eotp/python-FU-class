{
 "cells": [
  {
   "cell_type": "markdown",
   "id": "e11258a1",
   "metadata": {},
   "source": [
    "# Reporting using Jupyter Book"
   ]
  },
  {
   "cell_type": "markdown",
   "id": "fe57eeb0",
   "metadata": {},
   "source": [
    "[Jupyter Book](https://jupyterbook.org/intro.html) is an open source project for building beautiful, publication-quality books and documents from computational material.\n",
    "\n",
    "In our case it will help us to export our Jupyter Notebooks into nice to look at HTML files."
   ]
  },
  {
   "cell_type": "markdown",
   "id": "e3bd81a6",
   "metadata": {},
   "source": [
    "## Installation\n",
    "- If you're running this notebook from the environment of todays lesson `jupyter-book` should already be installed.\n",
    "\n",
    "- To install it with conda use the following command to install it from the `conda-forge` channel\n",
    "\n",
    "```bash\n",
    "conda install -c conda-forge jupyter-book\n",
    "```"
   ]
  },
  {
   "cell_type": "markdown",
   "id": "5f8f4c40",
   "metadata": {},
   "source": [
    "## Initialize a template"
   ]
  },
  {
   "cell_type": "markdown",
   "id": "83a8eb6a",
   "metadata": {},
   "source": [
    "- Jupyter Book relies on certain files (mostly for configuration). In order to create them, use the `jupyter-book create <template_path>` command.\n",
    "\n",
    "- To keep things tidy lets use the `reports` directory.\n",
    "\n",
    "> Hint: We can execute terminal commands directly inside our jupyter notebook by starting the line with `!`"
   ]
  },
  {
   "cell_type": "code",
   "execution_count": 7,
   "id": "8c7801d0",
   "metadata": {},
   "outputs": [
    {
     "name": "stdout",
     "output_type": "stream",
     "text": [
      "\n",
      "\u001b[92m===============================================================================\u001b[0m\n",
      "\n",
      "Your book template can be found at\n",
      "\n",
      "    ..\\reports\\jupyterbook\\\n",
      "\n",
      "\u001b[92m===============================================================================\u001b[0m\n",
      "\n"
     ]
    }
   ],
   "source": [
    "!jupyter-book create ../reports/jupyterbook"
   ]
  },
  {
   "cell_type": "markdown",
   "id": "39be87b4",
   "metadata": {},
   "source": [
    "- Before we take a look at the generated files, lets copy over the jupyter notebooks we want to include in our HTML report\n",
    "\n",
    "## Task:\n",
    "- Copy `05-00_Processing_of_Tabular_Data.ipynb` and `05-01_Temperature_anomalies.ipynb`  directory into `../reports/jupyterbook`\n",
    "\n",
    "> Hint: you don't have to leave the Jupyter Universe to do that. Just open the explorer on the left (the folder icon) and use right-click -> copy."
   ]
  },
  {
   "cell_type": "code",
   "execution_count": 2,
   "id": "3de04e12",
   "metadata": {},
   "outputs": [
    {
     "name": "stderr",
     "output_type": "stream",
     "text": [
      "Der Befehl \"cp\" ist entweder falsch geschrieben oder\n",
      "konnte nicht gefunden werden.\n"
     ]
    }
   ],
   "source": [
    "# alternatively use this snippet to copy the desired files\n",
    "!cp AirBnB_solutions.ipynb ../reports/jupyterbook/"
   ]
  },
  {
   "cell_type": "markdown",
   "id": "6fb4833f",
   "metadata": {},
   "source": [
    "- Now let us take a look at the files"
   ]
  },
  {
   "cell_type": "markdown",
   "id": "b353c967",
   "metadata": {},
   "source": [
    "## File inspection\n",
    "### We need to change the content of two files for everything to run smoothly"
   ]
  },
  {
   "cell_type": "markdown",
   "id": "15b8addb",
   "metadata": {},
   "source": [
    "### _config.yml\n",
    "\n",
    "- Stores configuration parameters such as the Title, Author and execution behaviour\n",
    "\n",
    "- You can change `title` and `author` to whatever you like\n",
    "- The **only parameter we need to change is set `execute_notebooks` to `\"off\"`**\n",
    "    - This ensures `jupyter-book` doesn't rerun our notebooks but takes them as they are (with the current outputs)\n",
    "- The remaining fields can be removed\n",
    "\n",
    "Sample file:\n",
    "\n",
    "```yml\n",
    "# _config.yml\n",
    "# Book settings\n",
    "# Learn more at https://jupyterbook.org/customize/config.html\n",
    "\n",
    "title: Your Title\n",
    "author: Your Name\n",
    "logo: logo.png\n",
    "\n",
    "# Turn off re-execution of notebooks on each build.\n",
    "# See https://jupyterbook.org/content/execute.html\n",
    "execute:\n",
    "  execute_notebooks: 'off'\n",
    "```"
   ]
  },
  {
   "cell_type": "markdown",
   "id": "1b1026bc",
   "metadata": {},
   "source": [
    "### _toc.yml\n",
    "\n",
    "- Table of Content file\n",
    "\n",
    "- Specifies which files to render into HTML\n",
    "\n",
    "- Make sure you see the jupyter notebook files `05-00_Processing_of_Tabular_Data.ipynb` and `05-01_Temperature_anomalies.ipynb` in `reports/jupyterbook`\n",
    "\n",
    "- Include both of these files in the Table of Contents\n",
    "\n",
    "Sample file:\n",
    "\n",
    "```yml\n",
    "# Table of Contents\n",
    "# Learn more at https://jupyterbook.org/customize/toc.html\n",
    "\n",
    "format: jb-article\n",
    "root: 05-00_Processing_of_Tabular_Data.ipynb\n",
    "sections:\n",
    "- file: 05-01_Temperature_anomalies.ipynb\n",
    "```"
   ]
  },
  {
   "cell_type": "markdown",
   "id": "3e10ed1d",
   "metadata": {},
   "source": [
    "### Remaining files:\n",
    "\n",
    "- `logo.png` will be displayed inside the HTML\n",
    "- All remaining files are for demonstration purposes only and serve no use for us (you can savely remove them)"
   ]
  },
  {
   "cell_type": "markdown",
   "id": "de5b083e",
   "metadata": {},
   "source": [
    "## Generate HTML files\n",
    "\n",
    "- In order to generate the html files use `jupyter-book build <template_path>`"
   ]
  },
  {
   "cell_type": "code",
   "execution_count": 11,
   "id": "aaa601e3",
   "metadata": {},
   "outputs": [
    {
     "name": "stdout",
     "output_type": "stream",
     "text": [
      "Running Jupyter-Book v0.11.3\n",
      "Source Folder: C:\\Users\\maste\\Python_Kurs\\05_Sitzung\\notebooks\\..\\reports\\jupyterbook\n",
      "Config Path: C:\\Users\\maste\\Python_Kurs\\05_Sitzung\\notebooks\\..\\reports\\jupyterbook\\_config.yml\n",
      "Output Path: C:\\Users\\maste\\Python_Kurs\\05_Sitzung\\notebooks\\..\\reports\\jupyterbook\\_build\\html\n",
      "\u001b[01mRunning Sphinx v3.5.4\u001b[39;49;00m\n",
      "[etoc] Changing master_doc to 'AirBnB_solutions'\n",
      "\u001b[01mloading pickled environment... \u001b[39;49;00mdone\n",
      "\u001b[01mmyst v0.13.7:\u001b[39;49;00m MdParserConfig(renderer='sphinx', commonmark_only=False, dmath_allow_labels=True, dmath_allow_space=True, dmath_allow_digits=True, update_mathjax=True, enable_extensions=['colon_fence', 'dollarmath', 'linkify', 'substitution'], disable_syntax=[], url_schemes=['mailto', 'http', 'https'], heading_anchors=None, html_meta=[], footnote_transition=True, substitutions=[], sub_delimiters=['{', '}'])\n",
      "\u001b[01mbuilding [mo]: \u001b[39;49;00mtargets for 0 po files that are out of date\n",
      "\u001b[01mbuilding [html]: \u001b[39;49;00mtargets for 0 source files that are out of date\n",
      "\u001b[01mupdating environment: \u001b[39;49;00m0 added, 0 changed, 3 removed\n",
      "\u001b[01mlooking for now-outdated files... \u001b[39;49;00mnone found\n",
      "\u001b[01mno targets are out of date.\u001b[39;49;00m\n",
      "\u001b[01mbuild succeeded.\u001b[39;49;00m\n",
      "\n",
      "The HTML pages are in ..\\reports\\jupyterbook\\_build\\html.\n",
      "\n",
      "\u001b[92m===============================================================================\u001b[0m\n",
      "\n",
      "Finished generating HTML for book.\n",
      "Your book's HTML pages are here:\n",
      "    ..\\reports\\jupyterbook\\_build\\html\\\n",
      "You can look at your book by opening this file in a browser:\n",
      "    ..\\reports\\jupyterbook\\_build\\html\\index.html\n",
      "Or paste this line directly into your browser bar:\n",
      "    file://C:\\Users\\maste\\Python_Kurs\\05_Sitzung\\reports\\jupyterbook\\_build\\html\\index.html            \n",
      "\n",
      "\u001b[92m===============================================================================\u001b[0m\n",
      "\n"
     ]
    }
   ],
   "source": [
    "!jupyter-book build ../reports/jupyterbook"
   ]
  },
  {
   "cell_type": "markdown",
   "id": "6a4a1d6a",
   "metadata": {},
   "source": [
    "# Safety Net\n",
    "\n",
    "- Make sure you specify the `_toc.yml` and `_config.yml` files as specified above\n",
    "- If it should still fail for you, try running this:"
   ]
  },
  {
   "cell_type": "code",
   "execution_count": null,
   "id": "c723c4a7",
   "metadata": {},
   "outputs": [],
   "source": [
    "!rm -rf ../reports/jupyterbook\n",
    "!jupyter-book create ../reports/jupyterbook\n",
    "# cp now includes the _img directory\n",
    "# allowing to display images included in original notebooks\n",
    "!cp -r _img 05-00_Processing_of_Tabular_Data.ipynb 05-01_Temperature_anomalies.ipynb ../reports/jupyterbook/\n",
    "!cp ../src/_solutions/_toc.yml ../src/_solutions/_config.yml ../reports/jupyterbook/\n",
    "!jupyter-book build ../reports/jupyterbook"
   ]
  },
  {
   "cell_type": "markdown",
   "id": "81cf5d2d",
   "metadata": {},
   "source": [
    "## Open the HTML files\n",
    "\n",
    "- Check the last lines of the `jupyter-book build` output\n",
    "\n",
    "- All HTML files are in the folder: `../reports/jupyterbook/_build/html`\n",
    "- Open `../reports/jupyterbook/_build/html/index.html` in your Browser or copy the link generated by `jupyter-book` into your Browser to view your notebooks!"
   ]
  },
  {
   "cell_type": "markdown",
   "id": "cbdf91e3",
   "metadata": {},
   "source": [
    "## Further Reading:\n",
    "- [JupyterBook Website](https://jupyterbook.org/intro.html)\n",
    "- [JupyterBook Tutorial by Pablo Caceres](https://github.com/pabloinsente/jupyter-book-tutorial)\n",
    "    - This goes pretty in-depth, you can skip most of the stuff mentioned there (like publishing the HTMLs to GitHub Pages)\n",
    "    - Still very well balanced tutorial (more in-depth than we go, but not too complex)"
   ]
  }
 ],
 "metadata": {
  "kernelspec": {
   "display_name": "Python 3 (ipykernel)",
   "language": "python",
   "name": "python3"
  },
  "language_info": {
   "codemirror_mode": {
    "name": "ipython",
    "version": 3
   },
   "file_extension": ".py",
   "mimetype": "text/x-python",
   "name": "python",
   "nbconvert_exporter": "python",
   "pygments_lexer": "ipython3",
   "version": "3.7.12"
  }
 },
 "nbformat": 4,
 "nbformat_minor": 5
}
