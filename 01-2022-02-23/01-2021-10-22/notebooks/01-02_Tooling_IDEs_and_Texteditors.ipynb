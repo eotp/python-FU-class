{
 "cells": [
  {
   "cell_type": "markdown",
   "metadata": {
    "slideshow": {
     "slide_type": "slide"
    }
   },
   "source": [
    "# Tooling"
   ]
  },
  {
   "cell_type": "markdown",
   "metadata": {
    "slideshow": {
     "slide_type": "subslide"
    }
   },
   "source": [
    "## Texteditors\n",
    "\n",
    "A text editor is a type of computer program that edits plain text. Text editors are often provided with operating systems and software development packages. They are used to change files such as configuration files, documentation files and programming language source code.\n",
    "\n",
    "\n",
    "### Plain text vs. rich text\n",
    "\n",
    "Plain text is created and edited by text editors and rich text is created by word processors or desktop publishing software.\n",
    "\n",
    "__Plain text__ exclusively consists of character representation. Plain text contains no other information about the text itself, not even the character encoding convention employed. \n",
    "\n",
    "__Rich text__ may contain metadata, character formatting data (e.g. typeface, size, weight and style), paragraph formatting data (e.g. indentation, alignment, letter and word distribution, and space between lines or other paragraphs), and page specification data (e.g. size, margin and reading direction). Rich text can be very complex. Rich text can be saved in binary format (e.g. `.doc`), text files adhering to a markup language (e.g. `Markdown` or `HTML`), or in a hybrid form of both (e.g. Office Open XML).\n"
   ]
  },
  {
   "cell_type": "markdown",
   "metadata": {},
   "source": [
    "> Note, there are many texteditors out there, here we just mention a few of them\n",
    "    "
   ]
  },
  {
   "cell_type": "markdown",
   "metadata": {},
   "source": [
    "### [Visual Studio Code](https://code.visualstudio.com/)\n",
    "\n",
    "<img src=\"./_img/vs_code.png\"  width=\"800px\">"
   ]
  },
  {
   "cell_type": "markdown",
   "metadata": {},
   "source": [
    "Visual Studio Code supports JavaScript, Node.js, TypeScript, and it comes with a whole ecosystem of extensions for other languages including C++, C#, Python, PHP etc. It provides great syntax highlighting and auto-complete with IntelliSense based on variable types, function definitions, and imported modules. It also allows you to debug code by launching or attaching to your running apps debug with breakpoints, call stacks, and an interactive console. "
   ]
  },
  {
   "cell_type": "markdown",
   "metadata": {},
   "source": [
    "### [Notepad++](https://notepad-plus-plus.org/)\n",
    "\n",
    "<img src=\"./_img/notepad.png\"  width=\"800px\">"
   ]
  },
  {
   "cell_type": "markdown",
   "metadata": {},
   "source": [
    "Notepad++ is an opensource IDE written in C++. It supports over 50 languages but is available for Windows only."
   ]
  },
  {
   "cell_type": "markdown",
   "metadata": {},
   "source": [
    "### [Sublime Text](https://www.sublimetext.com/)\n",
    "\n",
    "<img src=\"./_img/sublime.png\"  width=\"800px\">"
   ]
  },
  {
   "cell_type": "markdown",
   "metadata": {},
   "source": [
    "Sublime is a top IDE available for free. It is currently available on Windows, Mac, and Linux. It is fast and flexible and it will do everything one should expect from a high class IDE."
   ]
  },
  {
   "cell_type": "markdown",
   "metadata": {},
   "source": [
    "### [Atom](https://atom.io/)\n",
    "\n",
    "<img src=\"./_img/atom.png\"  width=\"800px\">"
   ]
  },
  {
   "cell_type": "markdown",
   "metadata": {},
   "source": [
    "Atom by Github is among the best editors. It has a built-in package manager for installing new packages or start creating your own within this cool tool. Atom comes pre-installed with four UI and eight syntax themes in a variety of colors. The rich and supportive community also creates cool themes for everybody to use so you might find what you’re looking for there. "
   ]
  },
  {
   "cell_type": "markdown",
   "metadata": {
    "slideshow": {
     "slide_type": "subslide"
    }
   },
   "source": [
    "## Integrated Development Environments (IDEs)\n",
    "\n",
    "\n",
    "[An Integrated Development Environment](https://en.wikipedia.org/wiki/Integrated_development_environment) abbreviated as IDE. It is a software application that consolidates the essential tools for computer programmers, which they used in the process of software development.\n",
    "\n",
    "An IDE contains three main component:\n",
    "* Source Code Editor\n",
    "* Compiler or Interpreter\n",
    "* Debugger\n",
    "A developer can access all these components through a single graphical user interface (GUI).\n",
    "\n",
    "> Note, there are numerous IDE softwares available online which programmers can use. \n"
   ]
  },
  {
   "cell_type": "markdown",
   "metadata": {},
   "source": [
    "### [Microsoft Visual Studio](https://visualstudio.microsoft.com/de/)\n",
    "\n",
    "<img src=\"./_img/mvs.png\"  width=\"800px\">"
   ]
  },
  {
   "cell_type": "markdown",
   "metadata": {},
   "source": [
    "This IDE software is capable of creating all types of programs ranging from mobile applications to web apps to video games. It supports 36 different programming languages like:\n",
    "\n",
    "* ASP.NET\n",
    "* DHTML\n",
    "* JavaScript\n",
    "* JScript\n",
    "* Visual Basic\n",
    "* Visual C#\n",
    "* Visual C++\n",
    "* Visual F#\n",
    "* XAML and more It has a massive library of extensions that is always growing."
   ]
  },
  {
   "cell_type": "markdown",
   "metadata": {},
   "source": [
    "### [PyCharm](https://www.jetbrains.com/pycharm/)\n",
    "\n",
    "<img src=\"./_img/pycharm.png\"  width=\"800px\">"
   ]
  },
  {
   "cell_type": "markdown",
   "metadata": {},
   "source": [
    "\n",
    "\n",
    "PyCharm is developed by Jet Brains. This IDE is one of the best for python programmers. It supports nine more languages in addition to Python. These are:\n",
    "* AngularJS\n",
    "* Coffee Script\n",
    "* CSS\n",
    "* HTML\n",
    "* JavaScript\n",
    "* Node.js\n",
    "* TypeScript and\n",
    "* Template languages\n",
    "\n",
    "It can be easily integrated with Git, Mercurial, and SVN."
   ]
  },
  {
   "cell_type": "markdown",
   "metadata": {},
   "source": [
    "***"
   ]
  }
 ],
 "metadata": {
  "celltoolbar": "Slideshow",
  "kernelspec": {
   "display_name": "Python 3",
   "language": "python",
   "name": "python3"
  },
  "language_info": {
   "codemirror_mode": {
    "name": "ipython",
    "version": 3
   },
   "file_extension": ".py",
   "mimetype": "text/x-python",
   "name": "python",
   "nbconvert_exporter": "python",
   "pygments_lexer": "ipython3",
   "version": "3.7.3"
  },
  "livereveal": {
   "scroll": true,
   "start_slideshow_at": "selected"
  }
 },
 "nbformat": 4,
 "nbformat_minor": 4
}
