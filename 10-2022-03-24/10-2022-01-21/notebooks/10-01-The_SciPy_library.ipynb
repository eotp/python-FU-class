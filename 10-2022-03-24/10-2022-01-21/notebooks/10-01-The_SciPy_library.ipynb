{
 "cells": [
  {
   "cell_type": "markdown",
   "metadata": {
    "slideshow": {
     "slide_type": "-"
    }
   },
   "source": [
    "# The SciPy library"
   ]
  },
  {
   "cell_type": "markdown",
   "metadata": {
    "slideshow": {
     "slide_type": "-"
    }
   },
   "source": [
    "The [SciPy library](https://www.scipy.org/scipylib/index.html) is one of the core packages that make up the [SciPy stack](https://www.scipy.org/) (a Python-based ecosystem of open-source software for mathematics, science, and engineering). It provides many user-friendly and efficient numerical routines such as routines for numerical integration and optimization.\n",
    "\n",
    "SciPy is a collection of mathematical algorithms and convenience functions built on the [NumPy](http://www.numpy.org/) extension of Python. It adds significant power to the interactive Python session by providing the user with high-level commands and classes for manipulating and visualizing data. With SciPy an interactive Python session becomes a data-processing and system-prototyping environment."
   ]
  },
  {
   "cell_type": "markdown",
   "metadata": {},
   "source": [
    "SciPy is organized into subpackages covering different scientific computing domains. These are summarized in the following table:\n",
    "\n",
    "Subpackage | Description\n",
    "--- | ---\n",
    "cluster | Clustering algorithms\n",
    "constants | Physical and mathematical constants\n",
    "fftpack | Fast Fourier Transform routines\n",
    "integrate | Integration and ordinary differential equation solvers\n",
    "interpolate | Interpolation and smoothing splines\n",
    "io | Input and Output\n",
    "linalg | Linear algebra\n",
    "ndimage | N-dimensional image processing\n",
    "odr | Orthogonal distance regression\n",
    "optimize | Optimization and root-finding routines\n",
    "signal | Signal processing\n",
    "sparse | Sparse matrices and associated routines\n",
    "spatial | Spatial data structures and algorithms\n",
    "special | Special functions\n",
    "stats | Statistical distributions and functions"
   ]
  },
  {
   "cell_type": "markdown",
   "metadata": {},
   "source": [
    "## Physical and mathematical constants (`scipy.constants`)\n",
    "\n",
    "[Constants at SciPy's online documentation](https://docs.scipy.org/doc/scipy/reference/constants.html)"
   ]
  },
  {
   "cell_type": "code",
   "execution_count": null,
   "metadata": {},
   "outputs": [],
   "source": [
    "import scipy.constants as c "
   ]
  },
  {
   "cell_type": "code",
   "execution_count": null,
   "metadata": {},
   "outputs": [],
   "source": [
    "# mean distance earth to sun\n",
    "c.astronomical_unit"
   ]
  },
  {
   "cell_type": "code",
   "execution_count": null,
   "metadata": {},
   "outputs": [],
   "source": [
    "# speed_of_sound, one Mach (approx., at 15 C, 1 atm) in meters per second\n",
    "c.speed_of_sound"
   ]
  },
  {
   "cell_type": "code",
   "execution_count": null,
   "metadata": {},
   "outputs": [],
   "source": [
    "# speed of light in vacuum (m/s)\n",
    "c.speed_of_light"
   ]
  },
  {
   "cell_type": "code",
   "execution_count": null,
   "metadata": {},
   "outputs": [],
   "source": [
    "# one light year in meters\n",
    "c.light_year"
   ]
  },
  {
   "cell_type": "code",
   "execution_count": null,
   "metadata": {},
   "outputs": [],
   "source": [
    "# one mile in meters\n",
    "c.mile"
   ]
  },
  {
   "cell_type": "code",
   "execution_count": null,
   "metadata": {},
   "outputs": [],
   "source": [
    "# one nautical mile in meters\n",
    "c.nautical_mile"
   ]
  },
  {
   "cell_type": "code",
   "execution_count": null,
   "metadata": {},
   "outputs": [],
   "source": [
    "# one knot in meters per second\n",
    "c.knot"
   ]
  },
  {
   "cell_type": "markdown",
   "metadata": {},
   "source": [
    "## 1d-Interpolation (`scipy.interpolate`)\n",
    "\n",
    "[Interpolation at SciPy's online documentation](https://docs.scipy.org/doc/scipy/reference/interpolate.html)"
   ]
  },
  {
   "cell_type": "code",
   "execution_count": null,
   "metadata": {},
   "outputs": [],
   "source": [
    "# Import libraries\n",
    "import matplotlib.pyplot as plt  \n",
    "import numpy as np "
   ]
  },
  {
   "cell_type": "code",
   "execution_count": null,
   "metadata": {},
   "outputs": [],
   "source": [
    "# Generate data\n",
    "x = np.linspace(0, 10, num=11, endpoint=True)\n",
    "y = np.cos(-x**2/9.0)"
   ]
  },
  {
   "cell_type": "code",
   "execution_count": null,
   "metadata": {},
   "outputs": [],
   "source": [
    "print(\"x: \", x)\n",
    "print(\"y: \", y)"
   ]
  },
  {
   "cell_type": "code",
   "execution_count": null,
   "metadata": {},
   "outputs": [],
   "source": [
    "fig, ax = plt.subplots()\n",
    "ax.plot(x, y, 'o');"
   ]
  },
  {
   "cell_type": "markdown",
   "metadata": {},
   "source": [
    "Using the [`interp1d`](https://docs.scipy.org/doc/scipy/reference/generated/scipy.interpolate.interp1d.html) function for interpolation. "
   ]
  },
  {
   "cell_type": "code",
   "execution_count": null,
   "metadata": {},
   "outputs": [],
   "source": [
    "from scipy.interpolate import interp1d "
   ]
  },
  {
   "cell_type": "code",
   "execution_count": null,
   "metadata": {},
   "outputs": [],
   "source": [
    "#?interp1d "
   ]
  },
  {
   "cell_type": "code",
   "execution_count": null,
   "metadata": {
    "slideshow": {
     "slide_type": "-"
    }
   },
   "outputs": [],
   "source": [
    "# defaut uses linear interpolation\n",
    "f1 = interp1d(x, y)\n",
    "# specifying a cubic interpolation\n",
    "f2 = interp1d(x, y, kind='cubic')"
   ]
  },
  {
   "cell_type": "code",
   "execution_count": null,
   "metadata": {},
   "outputs": [],
   "source": [
    "print(type(f1))\n",
    "print(type(f2))"
   ]
  },
  {
   "cell_type": "code",
   "execution_count": null,
   "metadata": {},
   "outputs": [],
   "source": [
    "# gereate new data\n",
    "xnew = np.linspace(start=0, stop=10, num=200)\n",
    "#xnew"
   ]
  },
  {
   "cell_type": "code",
   "execution_count": null,
   "metadata": {},
   "outputs": [],
   "source": [
    "# apply interpolation algorithm\n",
    "inter1 = f1(xnew)\n",
    "inter2 = f2(xnew)"
   ]
  },
  {
   "cell_type": "code",
   "execution_count": null,
   "metadata": {},
   "outputs": [],
   "source": [
    "# plot results\n",
    "fig, ax = plt.subplots(figsize=(12,4))\n",
    "ax.plot(x, y, 'o', label='data')\n",
    "ax.plot(xnew, inter1, linestyle='-', label='linear')\n",
    "ax.plot(xnew, inter2 , linestyle='--', label='cubic')\n",
    "ax.legend();"
   ]
  },
  {
   "cell_type": "markdown",
   "metadata": {},
   "source": [
    "## Curve fitting (`scipy.optimize.curve_fit`)\n",
    "\n",
    "[Curve fitting at SciPy's online documentation](https://docs.scipy.org/doc/scipy/reference/generated/scipy.optimize.curve_fit.html)"
   ]
  },
  {
   "cell_type": "markdown",
   "metadata": {},
   "source": [
    "### Load sample data"
   ]
  },
  {
   "cell_type": "code",
   "execution_count": null,
   "metadata": {},
   "outputs": [],
   "source": [
    "import os\n",
    "import sys\n",
    "\n",
    "# add the 'src' directory as one where we can import modules\n",
    "src_dir = os.path.abspath(os.path.join(os.getcwd(), os.pardir, 'src'))\n",
    "sys.path.append(src_dir)\n",
    "print(src_dir)"
   ]
  },
  {
   "cell_type": "code",
   "execution_count": null,
   "metadata": {},
   "outputs": [],
   "source": [
    "import helper_funcs as hf"
   ]
  },
  {
   "cell_type": "code",
   "execution_count": null,
   "metadata": {},
   "outputs": [],
   "source": [
    "xdata, ydata = hf.data_exponential()"
   ]
  },
  {
   "cell_type": "markdown",
   "metadata": {},
   "source": [
    "### Plotting the data"
   ]
  },
  {
   "cell_type": "code",
   "execution_count": null,
   "metadata": {},
   "outputs": [],
   "source": [
    "fig, ax = plt.subplots()\n",
    "ax.scatter(xdata, ydata, marker='o', color=\"r\", label=\"data\")\n",
    "ax.legend();"
   ]
  },
  {
   "cell_type": "markdown",
   "metadata": {},
   "source": [
    "### Apply a non-linear solver to fit an exponential function "
   ]
  },
  {
   "cell_type": "markdown",
   "metadata": {},
   "source": [
    "#### Define the model function"
   ]
  },
  {
   "cell_type": "markdown",
   "metadata": {},
   "source": [
    "$$y(x)=y_{0} \\times e^{mx}+ C$$"
   ]
  },
  {
   "cell_type": "code",
   "execution_count": null,
   "metadata": {},
   "outputs": [],
   "source": [
    "import numpy as np\n",
    "def model_func(x, y0, m, C):\n",
    "    y = y0 * np.exp(m * x) + C\n",
    "    return y"
   ]
  },
  {
   "cell_type": "markdown",
   "metadata": {},
   "source": [
    "#### Define fitting function using `sp.optimize.curve_fit`"
   ]
  },
  {
   "cell_type": "code",
   "execution_count": null,
   "metadata": {},
   "outputs": [],
   "source": [
    "from scipy.optimize import curve_fit"
   ]
  },
  {
   "cell_type": "code",
   "execution_count": null,
   "metadata": {},
   "outputs": [],
   "source": [
    "#?curve_fit"
   ]
  },
  {
   "cell_type": "code",
   "execution_count": null,
   "metadata": {},
   "outputs": [],
   "source": [
    "curve_fit(model_func, xdata, ydata)"
   ]
  },
  {
   "cell_type": "markdown",
   "metadata": {},
   "source": [
    "> ### Challenge: Write a function (`fit_exp_nonlinear`) that takes in two arguments, `x` and `y`. The function shall return the optimized values for `y0`, `m`, and `c` of the `model_func`. "
   ]
  },
  {
   "cell_type": "code",
   "execution_count": null,
   "metadata": {},
   "outputs": [],
   "source": [
    "## your code here"
   ]
  },
  {
   "cell_type": "code",
   "execution_count": null,
   "metadata": {},
   "outputs": [],
   "source": [
    "# %load ../src/_solutions/fit_exp_nonlinear.py"
   ]
  },
  {
   "cell_type": "code",
   "execution_count": null,
   "metadata": {},
   "outputs": [],
   "source": [
    "y0, m, C = fit_exp_nonlinear(xdata, ydata)\n",
    "print(\"y0:\", y0)\n",
    "print(\"m:\", m)\n",
    "print(\"C:\", C)"
   ]
  },
  {
   "cell_type": "markdown",
   "metadata": {},
   "source": [
    "#### Use the model defined above to predict for new data "
   ]
  },
  {
   "cell_type": "markdown",
   "metadata": {},
   "source": [
    "> ### Challenge: Use the `model_func` function from above to predict an exponential decay for values in the range [0,1] _(3 minutes)_."
   ]
  },
  {
   "cell_type": "code",
   "execution_count": null,
   "metadata": {},
   "outputs": [],
   "source": [
    "# your code here\n",
    "# replace None with your code\n",
    "\n",
    "# Generate data points to be computed  \n",
    "x_new = None\n",
    "# Fit generated data with paramters\n",
    "fit_y = None"
   ]
  },
  {
   "cell_type": "code",
   "execution_count": null,
   "metadata": {},
   "outputs": [],
   "source": [
    "# %load ../src/_solutions/predict_exp_nonlinear.py"
   ]
  },
  {
   "cell_type": "markdown",
   "metadata": {},
   "source": [
    "#### Plot data and fitted curve"
   ]
  },
  {
   "cell_type": "code",
   "execution_count": null,
   "metadata": {},
   "outputs": [],
   "source": [
    "fig, ax = plt.subplots(figsize=(12,6))\n",
    "ax.scatter(xdata, ydata, marker='o', color=\"r\", label=\"data\")\n",
    "ax.plot(x_new, fit_y, color=\"blue\",\n",
    "        label='Fitted Function:\\n $y = %0.2f  e^{%0.2f x} + %0.2f$' % (y0, m, C))\n",
    "ax.legend();"
   ]
  },
  {
   "cell_type": "markdown",
   "metadata": {},
   "source": [
    "> ###  Challenge: Given the data below (`x`, `y`), fit a [sigmoid](https://en.wikipedia.org/wiki/Sigmoid_function) model to fit the data in the range of [-1,31] _(10 minutes)_.\n",
    "The sigmoid function is given as\n",
    "$$y = \\frac{1}{1 + e^{-k(x-x_0)}}$$"
   ]
  },
  {
   "cell_type": "code",
   "execution_count": null,
   "metadata": {},
   "outputs": [],
   "source": [
    "x, y = hf.data_sigmoid()  \n",
    "fig, ax = plt.subplots(figsize=(12,6))\n",
    "ax.scatter(x, y, marker='o', color=\"r\", label=\"data\");"
   ]
  },
  {
   "cell_type": "code",
   "execution_count": null,
   "metadata": {},
   "outputs": [],
   "source": [
    "# your code here"
   ]
  },
  {
   "cell_type": "code",
   "execution_count": null,
   "metadata": {},
   "outputs": [],
   "source": [
    "# %load ../src/_solutions/sigmoid_func.py"
   ]
  },
  {
   "cell_type": "markdown",
   "metadata": {},
   "source": [
    "***"
   ]
  }
 ],
 "metadata": {
  "interpreter": {
   "hash": "2110c46ed3542393d4e697f0f8f9ee7ff11ffcd47610c808ebfe64cdfaaf8113"
  },
  "kernelspec": {
   "display_name": "Python 3",
   "language": "python",
   "name": "python3"
  },
  "language_info": {
   "codemirror_mode": {
    "name": "ipython",
    "version": 3
   },
   "file_extension": ".py",
   "mimetype": "text/x-python",
   "name": "python",
   "nbconvert_exporter": "python",
   "pygments_lexer": "ipython3",
   "version": "3.9.5"
  },
  "livereveal": {
   "scroll": true,
   "start_slideshow_at": "selected"
  }
 },
 "nbformat": 4,
 "nbformat_minor": 4
}
