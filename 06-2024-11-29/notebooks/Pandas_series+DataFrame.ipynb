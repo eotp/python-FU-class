{
 "cells": [
  {
   "cell_type": "markdown",
   "id": "87a7412e-414e-49b8-8cf0-39b83eb490eb",
   "metadata": {},
   "source": [
    "Die `Pandas` Series Attribute und Methoden:\n",
    "\n",
    "Attribute:\n",
    "\n",
    "*    `name`: Der Name der Series.\n",
    "*    `index`: Der Index der Series.\n",
    "*    `values`: Die Werte der Series als Numpy-Array.\n",
    "*    `dtype`: Der Datentyp der Werte in der Series.\n",
    "*    `shape`: Die Form (Anzahl der Zeilen und Spalten) der Series.\n",
    "*    `size`: Die Anzahl der Elemente in der Series.\n",
    "*    `empty`: Gibt True zurück, wenn die Series leer ist.\n",
    "\n",
    "Methoden:\n",
    "\n",
    "*    `head()`: Gibt die ersten n Zeilen der Series zurück (Standardwert: 5).\n",
    "*    `tail()`: Gibt die letzten n Zeilen der Series zurück (Standardwert: 5).\n",
    "*    `describe()`: Gibt eine Zusammenfassung der Statistiken für die Series zurück.\n",
    "*    `unique()`: Gibt ein Array mit den eindeutigen Werten in der Series zurück.\n",
    "*    `nunique()`: Gibt die Anzahl der eindeutigen Werten in der Series zurück.\n",
    "*    `value_counts()`: Gibt ein Array mit der Häufigkeit jedes Werts in der Series zurück.\n",
    "*    `sort_values()`: Sortiert die Series nach den Werten.\n",
    "*    `sort_index()`: Sortiert die Series nach dem Index.\n",
    "*    `nlargest()`: Gibt die n größten Werte in der Series zurück.\n",
    "*    `nsmallest()`: Gibt die n kleinsten Werte in der Series zurück.\n",
    "*    `dropna()`: Entfernt alle NaN-Werte aus der Series.\n",
    "*    `fillna()`: Füllt alle NaN-Werte in der Series mit einem bestimmten Wert.\n",
    "*    `replace()`: Ersetzt einen bestimmten Wert in der Series durch einen anderen Wert.\n",
    "*    `apply()`: Wendet eine Funktion auf jeden Wert in der Series an.\n",
    "*    `map()`: Ersetzt jeden Wert in der Series durch einen anderen Wert unter Verwendung einer gegebenen Zuordnung.\n",
    "*    `isna()`: Gibt eine boolesche Series zurück, die True für jedes Element in der Series ist, das NaN ist.\n",
    "*    `isnull()`: Gibt eine boolesche Series zurück, die True für jedes Element in der Series ist, das NaN ist."
   ]
  },
  {
   "cell_type": "markdown",
   "id": "1642d317-b37c-4a8d-8837-55ce80c673a0",
   "metadata": {},
   "source": [
    "Die `Pandas` DataFrames Attribute und Methoden:\n",
    "\n",
    "Attribute:\n",
    "\n",
    "* `index`: Der Index des DataFrame.\n",
    "* `columns`: Die Spalten des DataFrame.\n",
    "* `values`: Die Werte des DataFrame als Numpy-Array.\n",
    "* `shape`: Die Form (Anzahl der Zeilen und Spalten) des DataFrame.\n",
    "* `size`: Die Anzahl der Elemente im DataFrame.\n",
    "* `dtypes`: Die Datentypen der Spalten im DataFrame.\n",
    "* `empty`: Gibt True zurück, wenn der DataFrame leer ist.\n",
    "\n",
    "\n",
    "Methoden:\n",
    "\n",
    "* `head()`: Gibt die ersten n Zeilen des DataFrames zurück (Standardwert: 5).\n",
    "* `tail()`: Gibt die letzten n Zeilen des DataFrames zurück (Standardwert: 5).\n",
    "* `describe()`: Gibt eine Zusammenfassung der Statistiken für den DataFrame zurück.\n",
    "* `info()`: Gibt eine Zusammenfassung der Informationen über den DataFrame zurück.\n",
    "* `transpose()`: Dreht den DataFrame um.\n",
    "* `sort_values()`: Sortiert den DataFrame nach den Werten in einer oder mehreren Spalten.\n",
    "* `sort_index()`: Sortiert den DataFrame nach dem Index.\n",
    "* `nlargest()`: Gibt die n größten Werte im DataFrame zurück.\n",
    "* `nsmallest()`: Gibt die n kleinsten Werte im DataFrame zurück.\n",
    "* `drop()`: Entfernt eine oder mehrere Spalten oder Zeilen aus dem DataFrame.\n",
    "* `dropna()`: Entfernt alle Zeilen aus dem DataFrame, die NaN-Werte enthalten.\n",
    "* `fillna()`: Füllt alle NaN-Werte im DataFrame mit einem bestimmten Wert.\n",
    "* `replace()`: Ersetzt einen bestimmten Wert im DataFrame durch einen anderen Wert.\n",
    "* `apply()`: Wendet eine Funktion auf jeden Wert im DataFrame an.\n",
    "* `applymap()`: Wendet eine Funktion auf jedes Element im DataFrame an.\n",
    "* `groupby()`: Gruppiert den DataFrame nach einer oder mehreren Spalten.\n",
    "* `pivot_table()`: Erstellt eine Pivot-Tabelle aus dem DataFrame.\n",
    "* `join()`: Fügt zwei DataFrames basierend auf einem gemeinsamen Index oder einer gemeinsamen Spalte zusammen.\n",
    "* `merge()`: Fügt zwei DataFrames basierend auf gemeinsamen Spalten zusammen.\n",
    "* `query()`: Filtert den DataFrame basierend auf einer gegebenen Abfrage."
   ]
  }
 ],
 "metadata": {
  "kernelspec": {
   "display_name": "Python 3 (ipykernel)",
   "language": "python",
   "name": "python3"
  },
  "language_info": {
   "codemirror_mode": {
    "name": "ipython",
    "version": 3
   },
   "file_extension": ".py",
   "mimetype": "text/x-python",
   "name": "python",
   "nbconvert_exporter": "python",
   "pygments_lexer": "ipython3",
   "version": "3.9.21"
  }
 },
 "nbformat": 4,
 "nbformat_minor": 5
}
