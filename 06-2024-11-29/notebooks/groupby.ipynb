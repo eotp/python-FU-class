{
 "cells": [
  {
   "cell_type": "markdown",
   "id": "013081dd-95d1-4f19-80de-0e4a34c41510",
   "metadata": {},
   "source": [
    "#### `groupby()`-method + aggregation functions"
   ]
  },
  {
   "cell_type": "markdown",
   "id": "2a615373-97ac-48c2-ad4a-99d33c692669",
   "metadata": {},
   "source": [
    "#### Syntax"
   ]
  },
  {
   "cell_type": "markdown",
   "id": "b2c4620a-4c63-4328-bad0-7bd4f381d2fa",
   "metadata": {},
   "source": [
    "`df.groupby([Col1,Col2,...])[[Col1,Col2,...]].aggregation_function()`"
   ]
  },
  {
   "cell_type": "markdown",
   "id": "f9aa7aad-c619-41f2-af94-1d1eaf94213b",
   "metadata": {},
   "source": [
    "`df.groupby([group by these columns])[[output these columns]].aggregation_function()`"
   ]
  },
  {
   "cell_type": "markdown",
   "id": "4cc7b2e9-699f-412a-b9b2-a77a2fa10633",
   "metadata": {},
   "source": [
    "*    `sum()` : Berechnet die Summe der Gruppenwerte.\n",
    "*    `mean()`: Berechnet den Durchschnitt der Gruppenwerte.\n",
    "*    `median()`: Berechnet den Median der Gruppenwerte.\n",
    "*    `min()`: Ermittelt das Minimum der Gruppenwerte.\n",
    "*    `max()`: Ermittelt das Maximum der Gruppenwerte.\n",
    "*    `count()`: Zählt die Anzahl der Nicht-NA-Werte in jeder Gruppe.\n",
    "*    `size()`: Gibt die Anzahl der Elemente in jeder Gruppe zurück, einschließlich NA-Werte.\n",
    "*    `std()`: Berechnet die Standardabweichung der Gruppenwerte.\n",
    "*    `var()`: Berechnet die Varianz der Gruppenwerte.\n",
    "*    `agg()`: Wendet eine benutzerdefinierte Aggregationsfunktion auf die Gruppen an."
   ]
  },
  {
   "cell_type": "code",
   "execution_count": null,
   "id": "832dd745-a3bc-43d3-bad7-289fd16a6f92",
   "metadata": {},
   "outputs": [],
   "source": []
  }
 ],
 "metadata": {
  "kernelspec": {
   "display_name": "Python 3 (ipykernel)",
   "language": "python",
   "name": "python3"
  },
  "language_info": {
   "codemirror_mode": {
    "name": "ipython",
    "version": 3
   },
   "file_extension": ".py",
   "mimetype": "text/x-python",
   "name": "python",
   "nbconvert_exporter": "python",
   "pygments_lexer": "ipython3",
   "version": "3.10.6"
  }
 },
 "nbformat": 4,
 "nbformat_minor": 5
}
