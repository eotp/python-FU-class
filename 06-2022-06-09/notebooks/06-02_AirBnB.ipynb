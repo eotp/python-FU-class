{
 "cells": [
  {
   "cell_type": "markdown",
   "id": "0578aaa7-6fe3-4171-aa5b-6ca829e6f7a1",
   "metadata": {
    "tags": []
   },
   "source": [
    "# Airbnb in New York City - an explorative data analysis\n",
    "\n",
    "On todays session we want to analyze the Airbnb offer in New York City using and improving our already learned knowledge about data science!\n",
    "\n",
    "<img src=\"./_img/NYC_2.jpg\"> \n",
    "\n",
    "For this tutorial the following commands will be very helpful:\n",
    "\n",
    "| commands | meaning |\n",
    "| :-: | :-: |\n",
    "| `pd.read_csv(<path>)` | Reading a .csv-File from your file System | \n",
    "| `len()` | return the length of an input object, for example the row count of an pandas dataframe | \n",
    "| `df.columns()` | returns the column names of a dataframe |\n",
    "| `df.head(<n>)` | returns the first n rows of a dataframe | \n",
    "| `df.tail(<n>)` | returns the last n rows of a dataframe | \n",
    "| `df.loc[<index>]` | locator to filter a dataframe | \n",
    "| `df[\"<column_name>\"]` | filter a dataframe to a given column / return only the specified column of a dataframe | \n",
    "| `df.sample(<n>)` | picks randomly n rows out of a dataframe | \n",
    "| `df.shape()` | returns the dimensions of a dataframe | \n",
    "| `df.unique()` | returns the unique values for each column of a dataframe |  \n",
    "| `df.groupby(\"<column_name>\")` | groups the information of a dataframe by the specified column | \n",
    "| `df.groupby(\"<column_name>\").size()` | return the number of observation in each group | \n",
    "| `df.groupby(\"<column_name>\").sort_values()` | sort the output by values, may based on a specified column | \n",
    "| `df.groupby(\"<column_name>\").xs(\"<column_name>\")` | extract a specific value set out of a grouped information which consists out of a multi level index | \n",
    "| `series.mean()` | calculates the mean value based on the given information list | \n",
    "| `df.describe()` | returns a statistical description for all columns of a given dataframe | "
   ]
  },
  {
   "cell_type": "markdown",
   "id": "10e49c48-9392-4053-b5e1-0474b949db9a",
   "metadata": {},
   "source": [
    "## Loading packages and dataset"
   ]
  },
  {
   "cell_type": "code",
   "execution_count": 20,
   "id": "f2e723e1-c0fe-4bae-854e-80226a2e76c7",
   "metadata": {},
   "outputs": [],
   "source": [
    "%matplotlib inline\n",
    "import pandas as pd\n",
    "import matplotlib.pyplot as plt"
   ]
  },
  {
   "cell_type": "code",
   "execution_count": 21,
   "id": "887f664f-2024-4a95-8f87-6f4557bc0b18",
   "metadata": {},
   "outputs": [],
   "source": [
    "airbnb_NY = pd.read_csv(\"../data/Airbnb_NYC.csv\")"
   ]
  },
  {
   "cell_type": "markdown",
   "id": "b4db45a8-4ea0-4753-9abe-0d078c9dc4fb",
   "metadata": {},
   "source": [
    "## Get to know the dataset\n",
    "\n",
    "> **Question 1A)** How many observations yields the dataset?"
   ]
  },
  {
   "cell_type": "code",
   "execution_count": 22,
   "id": "98768a7e-934d-4c6d-b592-f5bc6258e9ed",
   "metadata": {},
   "outputs": [
    {
     "data": {
      "text/plain": [
       "RangeIndex(start=0, stop=38733, step=1)"
      ]
     },
     "execution_count": 22,
     "metadata": {},
     "output_type": "execute_result"
    }
   ],
   "source": [
    "airbnb_NY.index"
   ]
  },
  {
   "cell_type": "code",
   "execution_count": 23,
   "id": "2026648a-7ef3-4766-a145-925db6e60fb2",
   "metadata": {},
   "outputs": [
    {
     "data": {
      "text/plain": [
       "38733"
      ]
     },
     "execution_count": 23,
     "metadata": {},
     "output_type": "execute_result"
    }
   ],
   "source": [
    "len(airbnb_NY)"
   ]
  },
  {
   "cell_type": "code",
   "execution_count": 24,
   "id": "94b24823-0cc9-482a-910f-05be569cf7da",
   "metadata": {},
   "outputs": [
    {
     "data": {
      "text/plain": [
       "(38733, 10)"
      ]
     },
     "execution_count": 24,
     "metadata": {},
     "output_type": "execute_result"
    }
   ],
   "source": [
    "airbnb_NY.shape"
   ]
  },
  {
   "cell_type": "markdown",
   "id": "7f763f27-6fc1-417b-8f40-73780133b0f4",
   "metadata": {},
   "source": [
    "> **Question 1B)** What columns are included in the dataset?"
   ]
  },
  {
   "cell_type": "code",
   "execution_count": 25,
   "id": "ed1d3ad7-4046-424e-9d8a-198244f383e8",
   "metadata": {},
   "outputs": [
    {
     "data": {
      "text/plain": [
       "Index(['Boroughs', 'Latitude', 'Longitude', 'Prop_Type', 'Min_Nights',\n",
       "       'Host_Listing_Cnt', 'Days_Available', 'Review_Cnt', 'Reviews30d',\n",
       "       'Price'],\n",
       "      dtype='object')"
      ]
     },
     "execution_count": 25,
     "metadata": {},
     "output_type": "execute_result"
    }
   ],
   "source": [
    "airbnb_NY.columns"
   ]
  },
  {
   "cell_type": "markdown",
   "id": "f5fac771-4179-4bf6-8a72-4ac7caadd33e",
   "metadata": {},
   "source": [
    "Okay, now let's get a quick overview:\n",
    "\n",
    "> **Question 2A)** show the first 10 observations of the dataset!"
   ]
  },
  {
   "cell_type": "code",
   "execution_count": 27,
   "id": "cf8e77f8-8e15-4465-bb39-be0e9299b582",
   "metadata": {},
   "outputs": [
    {
     "data": {
      "text/html": [
       "<div>\n",
       "<style scoped>\n",
       "    .dataframe tbody tr th:only-of-type {\n",
       "        vertical-align: middle;\n",
       "    }\n",
       "\n",
       "    .dataframe tbody tr th {\n",
       "        vertical-align: top;\n",
       "    }\n",
       "\n",
       "    .dataframe thead th {\n",
       "        text-align: right;\n",
       "    }\n",
       "</style>\n",
       "<table border=\"1\" class=\"dataframe\">\n",
       "  <thead>\n",
       "    <tr style=\"text-align: right;\">\n",
       "      <th></th>\n",
       "      <th>Boroughs</th>\n",
       "      <th>Latitude</th>\n",
       "      <th>Longitude</th>\n",
       "      <th>Prop_Type</th>\n",
       "      <th>Min_Nights</th>\n",
       "      <th>Host_Listing_Cnt</th>\n",
       "      <th>Days_Available</th>\n",
       "      <th>Review_Cnt</th>\n",
       "      <th>Reviews30d</th>\n",
       "      <th>Price</th>\n",
       "    </tr>\n",
       "  </thead>\n",
       "  <tbody>\n",
       "    <tr>\n",
       "      <th>0</th>\n",
       "      <td>Bronx</td>\n",
       "      <td>40.80011</td>\n",
       "      <td>-73.91330</td>\n",
       "      <td>PrivateRoom</td>\n",
       "      <td>21.0</td>\n",
       "      <td>2.0</td>\n",
       "      <td>291</td>\n",
       "      <td>19</td>\n",
       "      <td>0.27</td>\n",
       "      <td>60.0</td>\n",
       "    </tr>\n",
       "    <tr>\n",
       "      <th>1</th>\n",
       "      <td>Bronx</td>\n",
       "      <td>40.80024</td>\n",
       "      <td>-73.91422</td>\n",
       "      <td>PrivateRoom</td>\n",
       "      <td>3.0</td>\n",
       "      <td>1.0</td>\n",
       "      <td>0</td>\n",
       "      <td>59</td>\n",
       "      <td>2.93</td>\n",
       "      <td>49.0</td>\n",
       "    </tr>\n",
       "    <tr>\n",
       "      <th>2</th>\n",
       "      <td>Bronx</td>\n",
       "      <td>40.80074</td>\n",
       "      <td>-73.91574</td>\n",
       "      <td>PrivateRoom</td>\n",
       "      <td>3.0</td>\n",
       "      <td>1.0</td>\n",
       "      <td>354</td>\n",
       "      <td>3</td>\n",
       "      <td>0.87</td>\n",
       "      <td>50.0</td>\n",
       "    </tr>\n",
       "    <tr>\n",
       "      <th>3</th>\n",
       "      <td>Bronx</td>\n",
       "      <td>40.80091</td>\n",
       "      <td>-73.91449</td>\n",
       "      <td>PrivateRoom</td>\n",
       "      <td>21.0</td>\n",
       "      <td>2.0</td>\n",
       "      <td>117</td>\n",
       "      <td>18</td>\n",
       "      <td>0.36</td>\n",
       "      <td>71.0</td>\n",
       "    </tr>\n",
       "    <tr>\n",
       "      <th>4</th>\n",
       "      <td>Bronx</td>\n",
       "      <td>40.80143</td>\n",
       "      <td>-73.91353</td>\n",
       "      <td>EntireHome</td>\n",
       "      <td>2.0</td>\n",
       "      <td>3.0</td>\n",
       "      <td>0</td>\n",
       "      <td>12</td>\n",
       "      <td>3.50</td>\n",
       "      <td>115.0</td>\n",
       "    </tr>\n",
       "    <tr>\n",
       "      <th>5</th>\n",
       "      <td>Bronx</td>\n",
       "      <td>40.80247</td>\n",
       "      <td>-73.91435</td>\n",
       "      <td>EntireHome</td>\n",
       "      <td>2.0</td>\n",
       "      <td>1.0</td>\n",
       "      <td>300</td>\n",
       "      <td>157</td>\n",
       "      <td>3.29</td>\n",
       "      <td>90.0</td>\n",
       "    </tr>\n",
       "    <tr>\n",
       "      <th>6</th>\n",
       "      <td>Bronx</td>\n",
       "      <td>40.80270</td>\n",
       "      <td>-73.91563</td>\n",
       "      <td>EntireHome</td>\n",
       "      <td>2.0</td>\n",
       "      <td>3.0</td>\n",
       "      <td>50</td>\n",
       "      <td>14</td>\n",
       "      <td>3.89</td>\n",
       "      <td>109.0</td>\n",
       "    </tr>\n",
       "    <tr>\n",
       "      <th>7</th>\n",
       "      <td>Bronx</td>\n",
       "      <td>40.80273</td>\n",
       "      <td>-73.91519</td>\n",
       "      <td>EntireHome</td>\n",
       "      <td>4.0</td>\n",
       "      <td>3.0</td>\n",
       "      <td>134</td>\n",
       "      <td>11</td>\n",
       "      <td>3.40</td>\n",
       "      <td>115.0</td>\n",
       "    </tr>\n",
       "    <tr>\n",
       "      <th>8</th>\n",
       "      <td>Bronx</td>\n",
       "      <td>40.80408</td>\n",
       "      <td>-73.92270</td>\n",
       "      <td>EntireHome</td>\n",
       "      <td>2.0</td>\n",
       "      <td>1.0</td>\n",
       "      <td>125</td>\n",
       "      <td>6</td>\n",
       "      <td>0.80</td>\n",
       "      <td>175.0</td>\n",
       "    </tr>\n",
       "    <tr>\n",
       "      <th>9</th>\n",
       "      <td>Bronx</td>\n",
       "      <td>40.80461</td>\n",
       "      <td>-73.92276</td>\n",
       "      <td>PrivateRoom</td>\n",
       "      <td>3.0</td>\n",
       "      <td>2.0</td>\n",
       "      <td>248</td>\n",
       "      <td>86</td>\n",
       "      <td>1.12</td>\n",
       "      <td>60.0</td>\n",
       "    </tr>\n",
       "  </tbody>\n",
       "</table>\n",
       "</div>"
      ],
      "text/plain": [
       "  Boroughs  Latitude  Longitude    Prop_Type  Min_Nights  Host_Listing_Cnt  \\\n",
       "0    Bronx  40.80011  -73.91330  PrivateRoom        21.0               2.0   \n",
       "1    Bronx  40.80024  -73.91422  PrivateRoom         3.0               1.0   \n",
       "2    Bronx  40.80074  -73.91574  PrivateRoom         3.0               1.0   \n",
       "3    Bronx  40.80091  -73.91449  PrivateRoom        21.0               2.0   \n",
       "4    Bronx  40.80143  -73.91353   EntireHome         2.0               3.0   \n",
       "5    Bronx  40.80247  -73.91435   EntireHome         2.0               1.0   \n",
       "6    Bronx  40.80270  -73.91563   EntireHome         2.0               3.0   \n",
       "7    Bronx  40.80273  -73.91519   EntireHome         4.0               3.0   \n",
       "8    Bronx  40.80408  -73.92270   EntireHome         2.0               1.0   \n",
       "9    Bronx  40.80461  -73.92276  PrivateRoom         3.0               2.0   \n",
       "\n",
       "   Days_Available  Review_Cnt  Reviews30d  Price  \n",
       "0             291          19        0.27   60.0  \n",
       "1               0          59        2.93   49.0  \n",
       "2             354           3        0.87   50.0  \n",
       "3             117          18        0.36   71.0  \n",
       "4               0          12        3.50  115.0  \n",
       "5             300         157        3.29   90.0  \n",
       "6              50          14        3.89  109.0  \n",
       "7             134          11        3.40  115.0  \n",
       "8             125           6        0.80  175.0  \n",
       "9             248          86        1.12   60.0  "
      ]
     },
     "execution_count": 27,
     "metadata": {},
     "output_type": "execute_result"
    }
   ],
   "source": [
    "airbnb_NY.head(10)"
   ]
  },
  {
   "cell_type": "markdown",
   "id": "3c8da9c9-8032-47fa-8e1c-47399d083e3e",
   "metadata": {},
   "source": [
    "> **Question 2B)** show the last 15 observations of the dataset!"
   ]
  },
  {
   "cell_type": "code",
   "execution_count": 28,
   "id": "3cb90be3-63a0-458f-a0e7-7855ce0fdbce",
   "metadata": {},
   "outputs": [
    {
     "data": {
      "text/html": [
       "<div>\n",
       "<style scoped>\n",
       "    .dataframe tbody tr th:only-of-type {\n",
       "        vertical-align: middle;\n",
       "    }\n",
       "\n",
       "    .dataframe tbody tr th {\n",
       "        vertical-align: top;\n",
       "    }\n",
       "\n",
       "    .dataframe thead th {\n",
       "        text-align: right;\n",
       "    }\n",
       "</style>\n",
       "<table border=\"1\" class=\"dataframe\">\n",
       "  <thead>\n",
       "    <tr style=\"text-align: right;\">\n",
       "      <th></th>\n",
       "      <th>Boroughs</th>\n",
       "      <th>Latitude</th>\n",
       "      <th>Longitude</th>\n",
       "      <th>Prop_Type</th>\n",
       "      <th>Min_Nights</th>\n",
       "      <th>Host_Listing_Cnt</th>\n",
       "      <th>Days_Available</th>\n",
       "      <th>Review_Cnt</th>\n",
       "      <th>Reviews30d</th>\n",
       "      <th>Price</th>\n",
       "    </tr>\n",
       "  </thead>\n",
       "  <tbody>\n",
       "    <tr>\n",
       "      <th>38718</th>\n",
       "      <td>Staten Island</td>\n",
       "      <td>40.64535</td>\n",
       "      <td>-74.09255</td>\n",
       "      <td>PrivateRoom</td>\n",
       "      <td>3.0</td>\n",
       "      <td>2.0</td>\n",
       "      <td>55</td>\n",
       "      <td>2</td>\n",
       "      <td>1.40</td>\n",
       "      <td>54.0</td>\n",
       "    </tr>\n",
       "    <tr>\n",
       "      <th>38719</th>\n",
       "      <td>Staten Island</td>\n",
       "      <td>40.64537</td>\n",
       "      <td>-74.08381</td>\n",
       "      <td>PrivateRoom</td>\n",
       "      <td>2.0</td>\n",
       "      <td>1.0</td>\n",
       "      <td>355</td>\n",
       "      <td>79</td>\n",
       "      <td>3.81</td>\n",
       "      <td>100.0</td>\n",
       "    </tr>\n",
       "    <tr>\n",
       "      <th>38720</th>\n",
       "      <td>Staten Island</td>\n",
       "      <td>40.64553</td>\n",
       "      <td>-74.08323</td>\n",
       "      <td>EntireHome</td>\n",
       "      <td>3.0</td>\n",
       "      <td>1.0</td>\n",
       "      <td>213</td>\n",
       "      <td>108</td>\n",
       "      <td>1.75</td>\n",
       "      <td>195.0</td>\n",
       "    </tr>\n",
       "    <tr>\n",
       "      <th>38721</th>\n",
       "      <td>Staten Island</td>\n",
       "      <td>40.64567</td>\n",
       "      <td>-74.08368</td>\n",
       "      <td>EntireHome</td>\n",
       "      <td>4.0</td>\n",
       "      <td>2.0</td>\n",
       "      <td>53</td>\n",
       "      <td>122</td>\n",
       "      <td>2.58</td>\n",
       "      <td>78.0</td>\n",
       "    </tr>\n",
       "    <tr>\n",
       "      <th>38722</th>\n",
       "      <td>Staten Island</td>\n",
       "      <td>40.64579</td>\n",
       "      <td>-74.08027</td>\n",
       "      <td>PrivateRoom</td>\n",
       "      <td>4.0</td>\n",
       "      <td>6.0</td>\n",
       "      <td>158</td>\n",
       "      <td>62</td>\n",
       "      <td>2.73</td>\n",
       "      <td>29.0</td>\n",
       "    </tr>\n",
       "    <tr>\n",
       "      <th>38723</th>\n",
       "      <td>Staten Island</td>\n",
       "      <td>40.64591</td>\n",
       "      <td>-74.08399</td>\n",
       "      <td>EntireHome</td>\n",
       "      <td>1.0</td>\n",
       "      <td>1.0</td>\n",
       "      <td>318</td>\n",
       "      <td>115</td>\n",
       "      <td>5.49</td>\n",
       "      <td>125.0</td>\n",
       "    </tr>\n",
       "    <tr>\n",
       "      <th>38724</th>\n",
       "      <td>Staten Island</td>\n",
       "      <td>40.64594</td>\n",
       "      <td>-74.08342</td>\n",
       "      <td>PrivateRoom</td>\n",
       "      <td>30.0</td>\n",
       "      <td>4.0</td>\n",
       "      <td>365</td>\n",
       "      <td>52</td>\n",
       "      <td>0.80</td>\n",
       "      <td>169.0</td>\n",
       "    </tr>\n",
       "    <tr>\n",
       "      <th>38725</th>\n",
       "      <td>Staten Island</td>\n",
       "      <td>40.64596</td>\n",
       "      <td>-74.08059</td>\n",
       "      <td>EntireHome</td>\n",
       "      <td>4.0</td>\n",
       "      <td>6.0</td>\n",
       "      <td>115</td>\n",
       "      <td>99</td>\n",
       "      <td>3.41</td>\n",
       "      <td>65.0</td>\n",
       "    </tr>\n",
       "    <tr>\n",
       "      <th>38726</th>\n",
       "      <td>Staten Island</td>\n",
       "      <td>40.64601</td>\n",
       "      <td>-74.08304</td>\n",
       "      <td>PrivateRoom</td>\n",
       "      <td>30.0</td>\n",
       "      <td>4.0</td>\n",
       "      <td>0</td>\n",
       "      <td>87</td>\n",
       "      <td>1.35</td>\n",
       "      <td>69.0</td>\n",
       "    </tr>\n",
       "    <tr>\n",
       "      <th>38727</th>\n",
       "      <td>Staten Island</td>\n",
       "      <td>40.64605</td>\n",
       "      <td>-74.07897</td>\n",
       "      <td>EntireHome</td>\n",
       "      <td>4.0</td>\n",
       "      <td>6.0</td>\n",
       "      <td>247</td>\n",
       "      <td>2</td>\n",
       "      <td>0.15</td>\n",
       "      <td>289.0</td>\n",
       "    </tr>\n",
       "    <tr>\n",
       "      <th>38728</th>\n",
       "      <td>Staten Island</td>\n",
       "      <td>40.64641</td>\n",
       "      <td>-74.08502</td>\n",
       "      <td>EntireHome</td>\n",
       "      <td>2.0</td>\n",
       "      <td>1.0</td>\n",
       "      <td>106</td>\n",
       "      <td>58</td>\n",
       "      <td>4.73</td>\n",
       "      <td>130.0</td>\n",
       "    </tr>\n",
       "    <tr>\n",
       "      <th>38729</th>\n",
       "      <td>Staten Island</td>\n",
       "      <td>40.64682</td>\n",
       "      <td>-74.08734</td>\n",
       "      <td>PrivateRoom</td>\n",
       "      <td>20.0</td>\n",
       "      <td>1.0</td>\n",
       "      <td>89</td>\n",
       "      <td>58</td>\n",
       "      <td>1.05</td>\n",
       "      <td>43.0</td>\n",
       "    </tr>\n",
       "    <tr>\n",
       "      <th>38730</th>\n",
       "      <td>Staten Island</td>\n",
       "      <td>40.64730</td>\n",
       "      <td>-74.08408</td>\n",
       "      <td>PrivateRoom</td>\n",
       "      <td>30.0</td>\n",
       "      <td>4.0</td>\n",
       "      <td>0</td>\n",
       "      <td>85</td>\n",
       "      <td>1.35</td>\n",
       "      <td>105.0</td>\n",
       "    </tr>\n",
       "    <tr>\n",
       "      <th>38731</th>\n",
       "      <td>Staten Island</td>\n",
       "      <td>40.64762</td>\n",
       "      <td>-74.08682</td>\n",
       "      <td>EntireHome</td>\n",
       "      <td>3.0</td>\n",
       "      <td>1.0</td>\n",
       "      <td>232</td>\n",
       "      <td>5</td>\n",
       "      <td>1.88</td>\n",
       "      <td>135.0</td>\n",
       "    </tr>\n",
       "    <tr>\n",
       "      <th>38732</th>\n",
       "      <td>Staten Island</td>\n",
       "      <td>40.64779</td>\n",
       "      <td>-74.08460</td>\n",
       "      <td>EntireHome</td>\n",
       "      <td>1.0</td>\n",
       "      <td>1.0</td>\n",
       "      <td>250</td>\n",
       "      <td>108</td>\n",
       "      <td>2.32</td>\n",
       "      <td>140.0</td>\n",
       "    </tr>\n",
       "  </tbody>\n",
       "</table>\n",
       "</div>"
      ],
      "text/plain": [
       "            Boroughs  Latitude  Longitude    Prop_Type  Min_Nights  \\\n",
       "38718  Staten Island  40.64535  -74.09255  PrivateRoom         3.0   \n",
       "38719  Staten Island  40.64537  -74.08381  PrivateRoom         2.0   \n",
       "38720  Staten Island  40.64553  -74.08323   EntireHome         3.0   \n",
       "38721  Staten Island  40.64567  -74.08368   EntireHome         4.0   \n",
       "38722  Staten Island  40.64579  -74.08027  PrivateRoom         4.0   \n",
       "38723  Staten Island  40.64591  -74.08399   EntireHome         1.0   \n",
       "38724  Staten Island  40.64594  -74.08342  PrivateRoom        30.0   \n",
       "38725  Staten Island  40.64596  -74.08059   EntireHome         4.0   \n",
       "38726  Staten Island  40.64601  -74.08304  PrivateRoom        30.0   \n",
       "38727  Staten Island  40.64605  -74.07897   EntireHome         4.0   \n",
       "38728  Staten Island  40.64641  -74.08502   EntireHome         2.0   \n",
       "38729  Staten Island  40.64682  -74.08734  PrivateRoom        20.0   \n",
       "38730  Staten Island  40.64730  -74.08408  PrivateRoom        30.0   \n",
       "38731  Staten Island  40.64762  -74.08682   EntireHome         3.0   \n",
       "38732  Staten Island  40.64779  -74.08460   EntireHome         1.0   \n",
       "\n",
       "       Host_Listing_Cnt  Days_Available  Review_Cnt  Reviews30d  Price  \n",
       "38718               2.0              55           2        1.40   54.0  \n",
       "38719               1.0             355          79        3.81  100.0  \n",
       "38720               1.0             213         108        1.75  195.0  \n",
       "38721               2.0              53         122        2.58   78.0  \n",
       "38722               6.0             158          62        2.73   29.0  \n",
       "38723               1.0             318         115        5.49  125.0  \n",
       "38724               4.0             365          52        0.80  169.0  \n",
       "38725               6.0             115          99        3.41   65.0  \n",
       "38726               4.0               0          87        1.35   69.0  \n",
       "38727               6.0             247           2        0.15  289.0  \n",
       "38728               1.0             106          58        4.73  130.0  \n",
       "38729               1.0              89          58        1.05   43.0  \n",
       "38730               4.0               0          85        1.35  105.0  \n",
       "38731               1.0             232           5        1.88  135.0  \n",
       "38732               1.0             250         108        2.32  140.0  "
      ]
     },
     "execution_count": 28,
     "metadata": {},
     "output_type": "execute_result"
    }
   ],
   "source": [
    "airbnb_NY.tail(15)"
   ]
  },
  {
   "cell_type": "markdown",
   "id": "2bb468f6-89e9-44ec-ac40-4b43eea07159",
   "metadata": {},
   "source": [
    "> **Question 2C)** choose randomly 15 observations out of the dataset and show them!"
   ]
  },
  {
   "cell_type": "code",
   "execution_count": 31,
   "id": "7b9d11cd-e639-4434-9f73-766eb2bb2957",
   "metadata": {},
   "outputs": [
    {
     "data": {
      "text/html": [
       "<div>\n",
       "<style scoped>\n",
       "    .dataframe tbody tr th:only-of-type {\n",
       "        vertical-align: middle;\n",
       "    }\n",
       "\n",
       "    .dataframe tbody tr th {\n",
       "        vertical-align: top;\n",
       "    }\n",
       "\n",
       "    .dataframe thead th {\n",
       "        text-align: right;\n",
       "    }\n",
       "</style>\n",
       "<table border=\"1\" class=\"dataframe\">\n",
       "  <thead>\n",
       "    <tr style=\"text-align: right;\">\n",
       "      <th></th>\n",
       "      <th>Boroughs</th>\n",
       "      <th>Latitude</th>\n",
       "      <th>Longitude</th>\n",
       "      <th>Prop_Type</th>\n",
       "      <th>Min_Nights</th>\n",
       "      <th>Host_Listing_Cnt</th>\n",
       "      <th>Days_Available</th>\n",
       "      <th>Review_Cnt</th>\n",
       "      <th>Reviews30d</th>\n",
       "      <th>Price</th>\n",
       "    </tr>\n",
       "  </thead>\n",
       "  <tbody>\n",
       "    <tr>\n",
       "      <th>35463</th>\n",
       "      <td>Queens</td>\n",
       "      <td>40.73399</td>\n",
       "      <td>-73.87351</td>\n",
       "      <td>EntireHome</td>\n",
       "      <td>3.0</td>\n",
       "      <td>3.0</td>\n",
       "      <td>129</td>\n",
       "      <td>2</td>\n",
       "      <td>0.57</td>\n",
       "      <td>150.0</td>\n",
       "    </tr>\n",
       "    <tr>\n",
       "      <th>21261</th>\n",
       "      <td>Manhattan</td>\n",
       "      <td>40.73036</td>\n",
       "      <td>-73.98633</td>\n",
       "      <td>PrivateRoom</td>\n",
       "      <td>30.0</td>\n",
       "      <td>1.0</td>\n",
       "      <td>244</td>\n",
       "      <td>7</td>\n",
       "      <td>0.19</td>\n",
       "      <td>95.0</td>\n",
       "    </tr>\n",
       "    <tr>\n",
       "      <th>23180</th>\n",
       "      <td>Manhattan</td>\n",
       "      <td>40.74418</td>\n",
       "      <td>-73.97565</td>\n",
       "      <td>PrivateRoom</td>\n",
       "      <td>3.0</td>\n",
       "      <td>2.0</td>\n",
       "      <td>0</td>\n",
       "      <td>2</td>\n",
       "      <td>0.05</td>\n",
       "      <td>70.0</td>\n",
       "    </tr>\n",
       "    <tr>\n",
       "      <th>3944</th>\n",
       "      <td>Brooklyn</td>\n",
       "      <td>40.66430</td>\n",
       "      <td>-73.95196</td>\n",
       "      <td>PrivateRoom</td>\n",
       "      <td>1.0</td>\n",
       "      <td>1.0</td>\n",
       "      <td>1</td>\n",
       "      <td>214</td>\n",
       "      <td>5.02</td>\n",
       "      <td>97.0</td>\n",
       "    </tr>\n",
       "    <tr>\n",
       "      <th>30694</th>\n",
       "      <td>Manhattan</td>\n",
       "      <td>40.80549</td>\n",
       "      <td>-73.95129</td>\n",
       "      <td>PrivateRoom</td>\n",
       "      <td>1.0</td>\n",
       "      <td>2.0</td>\n",
       "      <td>0</td>\n",
       "      <td>3</td>\n",
       "      <td>0.25</td>\n",
       "      <td>83.0</td>\n",
       "    </tr>\n",
       "    <tr>\n",
       "      <th>1557</th>\n",
       "      <td>Brooklyn</td>\n",
       "      <td>40.63189</td>\n",
       "      <td>-74.02322</td>\n",
       "      <td>EntireHome</td>\n",
       "      <td>1.0</td>\n",
       "      <td>1.0</td>\n",
       "      <td>276</td>\n",
       "      <td>19</td>\n",
       "      <td>3.90</td>\n",
       "      <td>135.0</td>\n",
       "    </tr>\n",
       "    <tr>\n",
       "      <th>2858</th>\n",
       "      <td>Brooklyn</td>\n",
       "      <td>40.65235</td>\n",
       "      <td>-73.95347</td>\n",
       "      <td>PrivateRoom</td>\n",
       "      <td>1.0</td>\n",
       "      <td>5.0</td>\n",
       "      <td>172</td>\n",
       "      <td>14</td>\n",
       "      <td>4.33</td>\n",
       "      <td>54.0</td>\n",
       "    </tr>\n",
       "    <tr>\n",
       "      <th>22957</th>\n",
       "      <td>Manhattan</td>\n",
       "      <td>40.74268</td>\n",
       "      <td>-73.97853</td>\n",
       "      <td>EntireHome</td>\n",
       "      <td>1.0</td>\n",
       "      <td>1.0</td>\n",
       "      <td>307</td>\n",
       "      <td>67</td>\n",
       "      <td>0.88</td>\n",
       "      <td>240.0</td>\n",
       "    </tr>\n",
       "    <tr>\n",
       "      <th>34523</th>\n",
       "      <td>Queens</td>\n",
       "      <td>40.69649</td>\n",
       "      <td>-73.90564</td>\n",
       "      <td>PrivateRoom</td>\n",
       "      <td>1.0</td>\n",
       "      <td>12.0</td>\n",
       "      <td>108</td>\n",
       "      <td>21</td>\n",
       "      <td>1.42</td>\n",
       "      <td>55.0</td>\n",
       "    </tr>\n",
       "    <tr>\n",
       "      <th>20458</th>\n",
       "      <td>Manhattan</td>\n",
       "      <td>40.72703</td>\n",
       "      <td>-73.99264</td>\n",
       "      <td>EntireHome</td>\n",
       "      <td>5.0</td>\n",
       "      <td>1.0</td>\n",
       "      <td>0</td>\n",
       "      <td>2</td>\n",
       "      <td>0.38</td>\n",
       "      <td>189.0</td>\n",
       "    </tr>\n",
       "    <tr>\n",
       "      <th>30569</th>\n",
       "      <td>Manhattan</td>\n",
       "      <td>40.80453</td>\n",
       "      <td>-73.95699</td>\n",
       "      <td>PrivateRoom</td>\n",
       "      <td>2.0</td>\n",
       "      <td>1.0</td>\n",
       "      <td>211</td>\n",
       "      <td>37</td>\n",
       "      <td>0.59</td>\n",
       "      <td>110.0</td>\n",
       "    </tr>\n",
       "    <tr>\n",
       "      <th>11376</th>\n",
       "      <td>Brooklyn</td>\n",
       "      <td>40.69395</td>\n",
       "      <td>-73.95232</td>\n",
       "      <td>EntireHome</td>\n",
       "      <td>3.0</td>\n",
       "      <td>2.0</td>\n",
       "      <td>280</td>\n",
       "      <td>49</td>\n",
       "      <td>2.40</td>\n",
       "      <td>135.0</td>\n",
       "    </tr>\n",
       "    <tr>\n",
       "      <th>33138</th>\n",
       "      <td>Manhattan</td>\n",
       "      <td>40.84448</td>\n",
       "      <td>-73.93576</td>\n",
       "      <td>PrivateRoom</td>\n",
       "      <td>2.0</td>\n",
       "      <td>1.0</td>\n",
       "      <td>0</td>\n",
       "      <td>1</td>\n",
       "      <td>0.03</td>\n",
       "      <td>50.0</td>\n",
       "    </tr>\n",
       "    <tr>\n",
       "      <th>24234</th>\n",
       "      <td>Manhattan</td>\n",
       "      <td>40.75211</td>\n",
       "      <td>-73.99228</td>\n",
       "      <td>PrivateRoom</td>\n",
       "      <td>1.0</td>\n",
       "      <td>2.0</td>\n",
       "      <td>0</td>\n",
       "      <td>1</td>\n",
       "      <td>0.05</td>\n",
       "      <td>500.0</td>\n",
       "    </tr>\n",
       "    <tr>\n",
       "      <th>28816</th>\n",
       "      <td>Manhattan</td>\n",
       "      <td>40.78883</td>\n",
       "      <td>-73.96848</td>\n",
       "      <td>EntireHome</td>\n",
       "      <td>3.0</td>\n",
       "      <td>1.0</td>\n",
       "      <td>9</td>\n",
       "      <td>2</td>\n",
       "      <td>0.19</td>\n",
       "      <td>199.0</td>\n",
       "    </tr>\n",
       "  </tbody>\n",
       "</table>\n",
       "</div>"
      ],
      "text/plain": [
       "        Boroughs  Latitude  Longitude    Prop_Type  Min_Nights  \\\n",
       "35463     Queens  40.73399  -73.87351   EntireHome         3.0   \n",
       "21261  Manhattan  40.73036  -73.98633  PrivateRoom        30.0   \n",
       "23180  Manhattan  40.74418  -73.97565  PrivateRoom         3.0   \n",
       "3944    Brooklyn  40.66430  -73.95196  PrivateRoom         1.0   \n",
       "30694  Manhattan  40.80549  -73.95129  PrivateRoom         1.0   \n",
       "1557    Brooklyn  40.63189  -74.02322   EntireHome         1.0   \n",
       "2858    Brooklyn  40.65235  -73.95347  PrivateRoom         1.0   \n",
       "22957  Manhattan  40.74268  -73.97853   EntireHome         1.0   \n",
       "34523     Queens  40.69649  -73.90564  PrivateRoom         1.0   \n",
       "20458  Manhattan  40.72703  -73.99264   EntireHome         5.0   \n",
       "30569  Manhattan  40.80453  -73.95699  PrivateRoom         2.0   \n",
       "11376   Brooklyn  40.69395  -73.95232   EntireHome         3.0   \n",
       "33138  Manhattan  40.84448  -73.93576  PrivateRoom         2.0   \n",
       "24234  Manhattan  40.75211  -73.99228  PrivateRoom         1.0   \n",
       "28816  Manhattan  40.78883  -73.96848   EntireHome         3.0   \n",
       "\n",
       "       Host_Listing_Cnt  Days_Available  Review_Cnt  Reviews30d  Price  \n",
       "35463               3.0             129           2        0.57  150.0  \n",
       "21261               1.0             244           7        0.19   95.0  \n",
       "23180               2.0               0           2        0.05   70.0  \n",
       "3944                1.0               1         214        5.02   97.0  \n",
       "30694               2.0               0           3        0.25   83.0  \n",
       "1557                1.0             276          19        3.90  135.0  \n",
       "2858                5.0             172          14        4.33   54.0  \n",
       "22957               1.0             307          67        0.88  240.0  \n",
       "34523              12.0             108          21        1.42   55.0  \n",
       "20458               1.0               0           2        0.38  189.0  \n",
       "30569               1.0             211          37        0.59  110.0  \n",
       "11376               2.0             280          49        2.40  135.0  \n",
       "33138               1.0               0           1        0.03   50.0  \n",
       "24234               2.0               0           1        0.05  500.0  \n",
       "28816               1.0               9           2        0.19  199.0  "
      ]
     },
     "execution_count": 31,
     "metadata": {},
     "output_type": "execute_result"
    }
   ],
   "source": [
    "airbnb_NY.sample(15, random_state=42)"
   ]
  },
  {
   "cell_type": "markdown",
   "id": "898638fb-215e-4fe3-b40c-a12cf69bfd72",
   "metadata": {},
   "source": [
    "> **Question 2D)** like C) but only the borough, property type and the price should be shown"
   ]
  },
  {
   "cell_type": "code",
   "execution_count": 35,
   "id": "56529d27-ad39-4676-9102-89ed3a7ea6b4",
   "metadata": {},
   "outputs": [
    {
     "data": {
      "text/html": [
       "<div>\n",
       "<style scoped>\n",
       "    .dataframe tbody tr th:only-of-type {\n",
       "        vertical-align: middle;\n",
       "    }\n",
       "\n",
       "    .dataframe tbody tr th {\n",
       "        vertical-align: top;\n",
       "    }\n",
       "\n",
       "    .dataframe thead th {\n",
       "        text-align: right;\n",
       "    }\n",
       "</style>\n",
       "<table border=\"1\" class=\"dataframe\">\n",
       "  <thead>\n",
       "    <tr style=\"text-align: right;\">\n",
       "      <th></th>\n",
       "      <th>Boroughs</th>\n",
       "      <th>Prop_Type</th>\n",
       "      <th>Price</th>\n",
       "    </tr>\n",
       "  </thead>\n",
       "  <tbody>\n",
       "    <tr>\n",
       "      <th>35463</th>\n",
       "      <td>Queens</td>\n",
       "      <td>EntireHome</td>\n",
       "      <td>150.0</td>\n",
       "    </tr>\n",
       "    <tr>\n",
       "      <th>21261</th>\n",
       "      <td>Manhattan</td>\n",
       "      <td>PrivateRoom</td>\n",
       "      <td>95.0</td>\n",
       "    </tr>\n",
       "    <tr>\n",
       "      <th>23180</th>\n",
       "      <td>Manhattan</td>\n",
       "      <td>PrivateRoom</td>\n",
       "      <td>70.0</td>\n",
       "    </tr>\n",
       "    <tr>\n",
       "      <th>3944</th>\n",
       "      <td>Brooklyn</td>\n",
       "      <td>PrivateRoom</td>\n",
       "      <td>97.0</td>\n",
       "    </tr>\n",
       "    <tr>\n",
       "      <th>30694</th>\n",
       "      <td>Manhattan</td>\n",
       "      <td>PrivateRoom</td>\n",
       "      <td>83.0</td>\n",
       "    </tr>\n",
       "    <tr>\n",
       "      <th>1557</th>\n",
       "      <td>Brooklyn</td>\n",
       "      <td>EntireHome</td>\n",
       "      <td>135.0</td>\n",
       "    </tr>\n",
       "    <tr>\n",
       "      <th>2858</th>\n",
       "      <td>Brooklyn</td>\n",
       "      <td>PrivateRoom</td>\n",
       "      <td>54.0</td>\n",
       "    </tr>\n",
       "    <tr>\n",
       "      <th>22957</th>\n",
       "      <td>Manhattan</td>\n",
       "      <td>EntireHome</td>\n",
       "      <td>240.0</td>\n",
       "    </tr>\n",
       "    <tr>\n",
       "      <th>34523</th>\n",
       "      <td>Queens</td>\n",
       "      <td>PrivateRoom</td>\n",
       "      <td>55.0</td>\n",
       "    </tr>\n",
       "    <tr>\n",
       "      <th>20458</th>\n",
       "      <td>Manhattan</td>\n",
       "      <td>EntireHome</td>\n",
       "      <td>189.0</td>\n",
       "    </tr>\n",
       "    <tr>\n",
       "      <th>30569</th>\n",
       "      <td>Manhattan</td>\n",
       "      <td>PrivateRoom</td>\n",
       "      <td>110.0</td>\n",
       "    </tr>\n",
       "    <tr>\n",
       "      <th>11376</th>\n",
       "      <td>Brooklyn</td>\n",
       "      <td>EntireHome</td>\n",
       "      <td>135.0</td>\n",
       "    </tr>\n",
       "    <tr>\n",
       "      <th>33138</th>\n",
       "      <td>Manhattan</td>\n",
       "      <td>PrivateRoom</td>\n",
       "      <td>50.0</td>\n",
       "    </tr>\n",
       "    <tr>\n",
       "      <th>24234</th>\n",
       "      <td>Manhattan</td>\n",
       "      <td>PrivateRoom</td>\n",
       "      <td>500.0</td>\n",
       "    </tr>\n",
       "    <tr>\n",
       "      <th>28816</th>\n",
       "      <td>Manhattan</td>\n",
       "      <td>EntireHome</td>\n",
       "      <td>199.0</td>\n",
       "    </tr>\n",
       "  </tbody>\n",
       "</table>\n",
       "</div>"
      ],
      "text/plain": [
       "        Boroughs    Prop_Type  Price\n",
       "35463     Queens   EntireHome  150.0\n",
       "21261  Manhattan  PrivateRoom   95.0\n",
       "23180  Manhattan  PrivateRoom   70.0\n",
       "3944    Brooklyn  PrivateRoom   97.0\n",
       "30694  Manhattan  PrivateRoom   83.0\n",
       "1557    Brooklyn   EntireHome  135.0\n",
       "2858    Brooklyn  PrivateRoom   54.0\n",
       "22957  Manhattan   EntireHome  240.0\n",
       "34523     Queens  PrivateRoom   55.0\n",
       "20458  Manhattan   EntireHome  189.0\n",
       "30569  Manhattan  PrivateRoom  110.0\n",
       "11376   Brooklyn   EntireHome  135.0\n",
       "33138  Manhattan  PrivateRoom   50.0\n",
       "24234  Manhattan  PrivateRoom  500.0\n",
       "28816  Manhattan   EntireHome  199.0"
      ]
     },
     "execution_count": 35,
     "metadata": {},
     "output_type": "execute_result"
    }
   ],
   "source": [
    "airbnb_NY[ [\"Boroughs\", \"Prop_Type\", \"Price\"] ].sample(15, random_state=42)"
   ]
  },
  {
   "cell_type": "markdown",
   "id": "71167c86-3c0f-47d5-bf7a-655794cead87",
   "metadata": {
    "tags": []
   },
   "source": [
    "## The spatial context matters\n",
    "\n",
    "Let's take a deeper look on the dataset\n",
    "\n",
    "> **Question 3A)** Which boroughs of NYC are covered by the dataset?"
   ]
  },
  {
   "cell_type": "code",
   "execution_count": 36,
   "id": "1f09580a-6848-4de1-b42e-60d3015ed240",
   "metadata": {},
   "outputs": [
    {
     "data": {
      "text/plain": [
       "array(['Bronx', 'Brooklyn', 'Manhattan', 'Queens', 'Staten Island'],\n",
       "      dtype=object)"
      ]
     },
     "execution_count": 36,
     "metadata": {},
     "output_type": "execute_result"
    }
   ],
   "source": [
    "airbnb_NY[\"Boroughs\"].unique()"
   ]
  },
  {
   "cell_type": "markdown",
   "id": "5149bf7b-5f1a-4e6e-850d-bedf437e1609",
   "metadata": {},
   "source": [
    "> **Question 3B)** Which different kind of accomodations exists?"
   ]
  },
  {
   "cell_type": "code",
   "execution_count": 37,
   "id": "b10e7198-58f5-4f3f-913e-e4c0a1fc3478",
   "metadata": {},
   "outputs": [
    {
     "data": {
      "text/plain": [
       "array(['PrivateRoom', 'EntireHome', 'SharedRoom'], dtype=object)"
      ]
     },
     "execution_count": 37,
     "metadata": {},
     "output_type": "execute_result"
    }
   ],
   "source": [
    "airbnb_NY[\"Prop_Type\"].unique()"
   ]
  },
  {
   "cell_type": "markdown",
   "id": "2e528a84-064e-40bf-9aea-27dd296c221f",
   "metadata": {},
   "source": [
    "> **Question 3C)** How many airbnb offers exists per borough?"
   ]
  },
  {
   "cell_type": "code",
   "execution_count": 40,
   "id": "4720adeb-6f07-466f-b885-f091934d42d1",
   "metadata": {},
   "outputs": [
    {
     "data": {
      "text/plain": [
       "Boroughs\n",
       "Bronx              891\n",
       "Brooklyn         16436\n",
       "Manhattan        16383\n",
       "Queens            4695\n",
       "Staten Island      328\n",
       "Name: Latitude, dtype: int64"
      ]
     },
     "execution_count": 40,
     "metadata": {},
     "output_type": "execute_result"
    }
   ],
   "source": [
    "airbnb_NY.groupby(\"Boroughs\")[\"Latitude\"].count()"
   ]
  },
  {
   "cell_type": "markdown",
   "id": "2f650ef4-bab5-40cf-82b9-f687369d9e2c",
   "metadata": {},
   "source": [
    "> **Question 3D)** Order the output from C) by the count of offers!"
   ]
  },
  {
   "cell_type": "code",
   "execution_count": 41,
   "id": "2f6fdf1a-f6f7-40df-99d2-0b2ef05abc8b",
   "metadata": {},
   "outputs": [],
   "source": [
    "output = airbnb_NY.groupby(\"Boroughs\")[\"Latitude\"].count()"
   ]
  },
  {
   "cell_type": "code",
   "execution_count": 43,
   "id": "ebd9b0fb-14e6-45de-873f-7ecbc8d75b3f",
   "metadata": {},
   "outputs": [
    {
     "data": {
      "text/plain": [
       "Boroughs\n",
       "Brooklyn         16436\n",
       "Manhattan        16383\n",
       "Queens            4695\n",
       "Bronx              891\n",
       "Staten Island      328\n",
       "Name: Latitude, dtype: int64"
      ]
     },
     "execution_count": 43,
     "metadata": {},
     "output_type": "execute_result"
    }
   ],
   "source": [
    "output.sort_values(ascending=False)"
   ]
  },
  {
   "cell_type": "markdown",
   "id": "c0908aa1-0e7d-4f2f-b818-bf05803f1542",
   "metadata": {},
   "source": [
    "> **Question 3E)** Refine your search: how is the type of property influenced by the boroughs? Provide a table view!"
   ]
  },
  {
   "cell_type": "code",
   "execution_count": 45,
   "id": "cdc30c6a-643c-47a5-a3be-487a0b346561",
   "metadata": {},
   "outputs": [
    {
     "data": {
      "text/html": [
       "<div>\n",
       "<style scoped>\n",
       "    .dataframe tbody tr th:only-of-type {\n",
       "        vertical-align: middle;\n",
       "    }\n",
       "\n",
       "    .dataframe tbody tr th {\n",
       "        vertical-align: top;\n",
       "    }\n",
       "\n",
       "    .dataframe thead th {\n",
       "        text-align: right;\n",
       "    }\n",
       "</style>\n",
       "<table border=\"1\" class=\"dataframe\">\n",
       "  <thead>\n",
       "    <tr style=\"text-align: right;\">\n",
       "      <th>Prop_Type</th>\n",
       "      <th>EntireHome</th>\n",
       "      <th>PrivateRoom</th>\n",
       "      <th>SharedRoom</th>\n",
       "    </tr>\n",
       "    <tr>\n",
       "      <th>Boroughs</th>\n",
       "      <th></th>\n",
       "      <th></th>\n",
       "      <th></th>\n",
       "    </tr>\n",
       "  </thead>\n",
       "  <tbody>\n",
       "    <tr>\n",
       "      <th>Bronx</th>\n",
       "      <td>308</td>\n",
       "      <td>532</td>\n",
       "      <td>51</td>\n",
       "    </tr>\n",
       "    <tr>\n",
       "      <th>Brooklyn</th>\n",
       "      <td>8163</td>\n",
       "      <td>7992</td>\n",
       "      <td>281</td>\n",
       "    </tr>\n",
       "    <tr>\n",
       "      <th>Manhattan</th>\n",
       "      <td>9776</td>\n",
       "      <td>6258</td>\n",
       "      <td>349</td>\n",
       "    </tr>\n",
       "    <tr>\n",
       "      <th>Queens</th>\n",
       "      <td>1770</td>\n",
       "      <td>2772</td>\n",
       "      <td>153</td>\n",
       "    </tr>\n",
       "    <tr>\n",
       "      <th>Staten Island</th>\n",
       "      <td>156</td>\n",
       "      <td>166</td>\n",
       "      <td>6</td>\n",
       "    </tr>\n",
       "  </tbody>\n",
       "</table>\n",
       "</div>"
      ],
      "text/plain": [
       "Prop_Type      EntireHome  PrivateRoom  SharedRoom\n",
       "Boroughs                                          \n",
       "Bronx                 308          532          51\n",
       "Brooklyn             8163         7992         281\n",
       "Manhattan            9776         6258         349\n",
       "Queens               1770         2772         153\n",
       "Staten Island         156          166           6"
      ]
     },
     "execution_count": 45,
     "metadata": {},
     "output_type": "execute_result"
    }
   ],
   "source": [
    "airbnb_NY.groupby([\"Boroughs\", \"Prop_Type\"]).size().unstack()"
   ]
  },
  {
   "cell_type": "code",
   "execution_count": 48,
   "id": "924fa54c-48db-4c82-a54b-b788271c8632",
   "metadata": {},
   "outputs": [
    {
     "data": {
      "text/html": [
       "<div>\n",
       "<style scoped>\n",
       "    .dataframe tbody tr th:only-of-type {\n",
       "        vertical-align: middle;\n",
       "    }\n",
       "\n",
       "    .dataframe tbody tr th {\n",
       "        vertical-align: top;\n",
       "    }\n",
       "\n",
       "    .dataframe thead th {\n",
       "        text-align: right;\n",
       "    }\n",
       "</style>\n",
       "<table border=\"1\" class=\"dataframe\">\n",
       "  <thead>\n",
       "    <tr style=\"text-align: right;\">\n",
       "      <th>Prop_Type</th>\n",
       "      <th>EntireHome</th>\n",
       "      <th>PrivateRoom</th>\n",
       "      <th>SharedRoom</th>\n",
       "    </tr>\n",
       "    <tr>\n",
       "      <th>Boroughs</th>\n",
       "      <th></th>\n",
       "      <th></th>\n",
       "      <th></th>\n",
       "    </tr>\n",
       "  </thead>\n",
       "  <tbody>\n",
       "    <tr>\n",
       "      <th>Bronx</th>\n",
       "      <td>308</td>\n",
       "      <td>532</td>\n",
       "      <td>51</td>\n",
       "    </tr>\n",
       "    <tr>\n",
       "      <th>Brooklyn</th>\n",
       "      <td>8163</td>\n",
       "      <td>7992</td>\n",
       "      <td>281</td>\n",
       "    </tr>\n",
       "    <tr>\n",
       "      <th>Manhattan</th>\n",
       "      <td>9776</td>\n",
       "      <td>6258</td>\n",
       "      <td>349</td>\n",
       "    </tr>\n",
       "    <tr>\n",
       "      <th>Queens</th>\n",
       "      <td>1770</td>\n",
       "      <td>2772</td>\n",
       "      <td>153</td>\n",
       "    </tr>\n",
       "    <tr>\n",
       "      <th>Staten Island</th>\n",
       "      <td>156</td>\n",
       "      <td>166</td>\n",
       "      <td>6</td>\n",
       "    </tr>\n",
       "  </tbody>\n",
       "</table>\n",
       "</div>"
      ],
      "text/plain": [
       "Prop_Type      EntireHome  PrivateRoom  SharedRoom\n",
       "Boroughs                                          \n",
       "Bronx                 308          532          51\n",
       "Brooklyn             8163         7992         281\n",
       "Manhattan            9776         6258         349\n",
       "Queens               1770         2772         153\n",
       "Staten Island         156          166           6"
      ]
     },
     "execution_count": 48,
     "metadata": {},
     "output_type": "execute_result"
    }
   ],
   "source": [
    "airbnb_NY.groupby([\"Boroughs\",\"Prop_Type\"]).size().unstack(level=0)"
   ]
  },
  {
   "cell_type": "markdown",
   "id": "65057d48-37c4-4eca-b8dd-d77f1889bcbd",
   "metadata": {},
   "source": [
    "> **Question 3F)** Provide a plot to visualize E) \n",
    "hint: try at first to provide a barplot only for Bronx and afterwars for all boroughs at the same time)"
   ]
  },
  {
   "cell_type": "code",
   "execution_count": 61,
   "id": "b8ffbe1c-9de0-4758-aa52-531e9ff7a5a5",
   "metadata": {},
   "outputs": [
    {
     "data": {
      "text/plain": [
       "<AxesSubplot:xlabel='Boroughs'>"
      ]
     },
     "execution_count": 61,
     "metadata": {},
     "output_type": "execute_result"
    },
    {
     "data": {
      "image/png": "[encoded data removed]",
      "text/plain": [
       "<Figure size 432x288 with 1 Axes>"
      ]
     },
     "metadata": {
      "needs_background": "light"
     },
     "output_type": "display_data"
    },
    {
     "data": {
      "image/png": "[encoded data removed]",
      "text/plain": [
       "<Figure size 432x288 with 1 Axes>"
      ]
     },
     "metadata": {
      "needs_background": "light"
     },
     "output_type": "display_data"
    }
   ],
   "source": [
    "df = airbnb_NY.groupby([\"Boroughs\",\"Prop_Type\"]).size().unstack().copy()\n",
    "\n",
    "fig_1, ax_1 = plt.subplots()\n",
    "df.plot.bar(ax = ax_1, stacked=True)\n",
    "\n",
    "fig_2, ax_2 = plt.subplots()\n",
    "df.plot.bar(ax = ax_2)"
   ]
  },
  {
   "cell_type": "code",
   "execution_count": 64,
   "id": "a433aeef-7bc3-458e-86a6-7fcc3c03642c",
   "metadata": {},
   "outputs": [
    {
     "data": {
      "image/png": "[encoded data removed]",
      "text/plain": [
       "<Figure size 432x288 with 1 Axes>"
      ]
     },
     "execution_count": 64,
     "metadata": {},
     "output_type": "execute_result"
    }
   ],
   "source": [
    "ax_2.set_title(\"Hallo\")\n",
    "fig_2"
   ]
  },
  {
   "cell_type": "code",
   "execution_count": 54,
   "id": "b96214b6-60fe-449a-8d0b-a0476749ed3b",
   "metadata": {},
   "outputs": [
    {
     "data": {
      "text/html": [
       "<div>\n",
       "<style scoped>\n",
       "    .dataframe tbody tr th:only-of-type {\n",
       "        vertical-align: middle;\n",
       "    }\n",
       "\n",
       "    .dataframe tbody tr th {\n",
       "        vertical-align: top;\n",
       "    }\n",
       "\n",
       "    .dataframe thead th {\n",
       "        text-align: right;\n",
       "    }\n",
       "</style>\n",
       "<table border=\"1\" class=\"dataframe\">\n",
       "  <thead>\n",
       "    <tr style=\"text-align: right;\">\n",
       "      <th>Prop_Type</th>\n",
       "      <th>EntireHome</th>\n",
       "      <th>PrivateRoom</th>\n",
       "      <th>SharedRoom</th>\n",
       "    </tr>\n",
       "    <tr>\n",
       "      <th>Boroughs</th>\n",
       "      <th></th>\n",
       "      <th></th>\n",
       "      <th></th>\n",
       "    </tr>\n",
       "  </thead>\n",
       "  <tbody>\n",
       "    <tr>\n",
       "      <th>Bronx</th>\n",
       "      <td>308</td>\n",
       "      <td>532</td>\n",
       "      <td>51</td>\n",
       "    </tr>\n",
       "    <tr>\n",
       "      <th>Brooklyn</th>\n",
       "      <td>8163</td>\n",
       "      <td>7992</td>\n",
       "      <td>281</td>\n",
       "    </tr>\n",
       "    <tr>\n",
       "      <th>Manhattan</th>\n",
       "      <td>9776</td>\n",
       "      <td>6258</td>\n",
       "      <td>349</td>\n",
       "    </tr>\n",
       "    <tr>\n",
       "      <th>Queens</th>\n",
       "      <td>1770</td>\n",
       "      <td>2772</td>\n",
       "      <td>153</td>\n",
       "    </tr>\n",
       "    <tr>\n",
       "      <th>Staten Island</th>\n",
       "      <td>156</td>\n",
       "      <td>166</td>\n",
       "      <td>6</td>\n",
       "    </tr>\n",
       "  </tbody>\n",
       "</table>\n",
       "</div>"
      ],
      "text/plain": [
       "Prop_Type      EntireHome  PrivateRoom  SharedRoom\n",
       "Boroughs                                          \n",
       "Bronx                 308          532          51\n",
       "Brooklyn             8163         7992         281\n",
       "Manhattan            9776         6258         349\n",
       "Queens               1770         2772         153\n",
       "Staten Island         156          166           6"
      ]
     },
     "execution_count": 54,
     "metadata": {},
     "output_type": "execute_result"
    }
   ],
   "source": [
    "df"
   ]
  },
  {
   "cell_type": "markdown",
   "id": "db51924d-4bd1-4c0b-9e0d-eba1e528f7f5",
   "metadata": {},
   "source": [
    "## What about the prices?"
   ]
  },
  {
   "cell_type": "markdown",
   "id": "91b0fb2e-315b-4bc1-84b9-8609e9895e61",
   "metadata": {},
   "source": [
    "> **Question 4A)** Which is the most expensive AirBnB?"
   ]
  },
  {
   "cell_type": "code",
   "execution_count": 66,
   "id": "6c3a9480-24de-4314-801e-7ec85aa9851f",
   "metadata": {},
   "outputs": [
    {
     "data": {
      "text/html": [
       "<div>\n",
       "<style scoped>\n",
       "    .dataframe tbody tr th:only-of-type {\n",
       "        vertical-align: middle;\n",
       "    }\n",
       "\n",
       "    .dataframe tbody tr th {\n",
       "        vertical-align: top;\n",
       "    }\n",
       "\n",
       "    .dataframe thead th {\n",
       "        text-align: right;\n",
       "    }\n",
       "</style>\n",
       "<table border=\"1\" class=\"dataframe\">\n",
       "  <thead>\n",
       "    <tr style=\"text-align: right;\">\n",
       "      <th></th>\n",
       "      <th>Boroughs</th>\n",
       "      <th>Latitude</th>\n",
       "      <th>Longitude</th>\n",
       "      <th>Prop_Type</th>\n",
       "      <th>Min_Nights</th>\n",
       "      <th>Host_Listing_Cnt</th>\n",
       "      <th>Days_Available</th>\n",
       "      <th>Review_Cnt</th>\n",
       "      <th>Reviews30d</th>\n",
       "      <th>Price</th>\n",
       "    </tr>\n",
       "  </thead>\n",
       "  <tbody>\n",
       "    <tr>\n",
       "      <th>17131</th>\n",
       "      <td>Brooklyn</td>\n",
       "      <td>40.7326</td>\n",
       "      <td>-73.95739</td>\n",
       "      <td>EntireHome</td>\n",
       "      <td>5.0</td>\n",
       "      <td>1.0</td>\n",
       "      <td>0</td>\n",
       "      <td>5</td>\n",
       "      <td>0.16</td>\n",
       "      <td>10000.0</td>\n",
       "    </tr>\n",
       "    <tr>\n",
       "      <th>37908</th>\n",
       "      <td>Queens</td>\n",
       "      <td>40.7681</td>\n",
       "      <td>-73.91651</td>\n",
       "      <td>PrivateRoom</td>\n",
       "      <td>100.0</td>\n",
       "      <td>1.0</td>\n",
       "      <td>0</td>\n",
       "      <td>2</td>\n",
       "      <td>0.04</td>\n",
       "      <td>10000.0</td>\n",
       "    </tr>\n",
       "  </tbody>\n",
       "</table>\n",
       "</div>"
      ],
      "text/plain": [
       "       Boroughs  Latitude  Longitude    Prop_Type  Min_Nights  \\\n",
       "17131  Brooklyn   40.7326  -73.95739   EntireHome         5.0   \n",
       "37908    Queens   40.7681  -73.91651  PrivateRoom       100.0   \n",
       "\n",
       "       Host_Listing_Cnt  Days_Available  Review_Cnt  Reviews30d    Price  \n",
       "17131               1.0               0           5        0.16  10000.0  \n",
       "37908               1.0               0           2        0.04  10000.0  "
      ]
     },
     "execution_count": 66,
     "metadata": {},
     "output_type": "execute_result"
    }
   ],
   "source": [
    "airbnb_NY.loc[airbnb_NY[\"Price\"] == airbnb_NY[\"Price\"].max()]"
   ]
  },
  {
   "cell_type": "markdown",
   "id": "93adf725-717f-4b65-991f-0d53924824a4",
   "metadata": {},
   "source": [
    "> **Question 4B)** How many airbnb exists that are in price less than 50 $?"
   ]
  },
  {
   "cell_type": "code",
   "execution_count": 69,
   "id": "75b12fb1-655f-4523-9e1d-3f1ad04f4369",
   "metadata": {},
   "outputs": [
    {
     "data": {
      "text/plain": [
       "(3994, 10)"
      ]
     },
     "execution_count": 69,
     "metadata": {},
     "output_type": "execute_result"
    }
   ],
   "source": [
    "airbnb_NY.loc[airbnb_NY[\"Price\"] < 50].shape"
   ]
  },
  {
   "cell_type": "markdown",
   "id": "5270843a-d4a4-49ad-a286-3748c54661a5",
   "metadata": {},
   "source": [
    "> **Question 4C)** Refining B) in which borough are most of them located?"
   ]
  },
  {
   "cell_type": "code",
   "execution_count": 75,
   "id": "c473180d-1a4b-49a7-82b6-90e19b5ff8d4",
   "metadata": {},
   "outputs": [
    {
     "data": {
      "text/plain": [
       "Boroughs\n",
       "Bronx             269\n",
       "Brooklyn         2110\n",
       "Manhattan         550\n",
       "Queens            982\n",
       "Staten Island      83\n",
       "dtype: int64"
      ]
     },
     "metadata": {},
     "output_type": "display_data"
    },
    {
     "data": {
      "text/plain": [
       "Boroughs\n",
       "Brooklyn    2110\n",
       "dtype: int64"
      ]
     },
     "execution_count": 75,
     "metadata": {},
     "output_type": "execute_result"
    }
   ],
   "source": [
    "df = airbnb_NY.loc[airbnb_NY[\"Price\"] < 50].copy()\n",
    "display(df.groupby(\"Boroughs\").size())\n",
    "gb = df.groupby(\"Boroughs\").size()\n",
    "\n",
    "gb.loc[gb == gb.max()]"
   ]
  },
  {
   "cell_type": "markdown",
   "id": "26b50448-370d-4538-9796-70126484e123",
   "metadata": {},
   "source": [
    "> **Question 4D)** Take a closer look at C): provide a ranking of the mean Review-count of these airbnbs per borough!"
   ]
  },
  {
   "cell_type": "code",
   "execution_count": 78,
   "id": "99f30d23-e6e6-46aa-992f-cad13f362778",
   "metadata": {},
   "outputs": [
    {
     "data": {
      "text/plain": [
       "Boroughs\n",
       "Brooklyn         21.005213\n",
       "Manhattan        23.112727\n",
       "Bronx            29.866171\n",
       "Queens           34.489817\n",
       "Staten Island    38.144578\n",
       "Name: Review_Cnt, dtype: float64"
      ]
     },
     "execution_count": 78,
     "metadata": {},
     "output_type": "execute_result"
    }
   ],
   "source": [
    "df.groupby([\"Boroughs\"])[\"Review_Cnt\"].mean().sort_values()"
   ]
  },
  {
   "cell_type": "markdown",
   "id": "919d8a3a-7ca3-4c41-9b47-cdd110ab9127",
   "metadata": {
    "tags": []
   },
   "source": [
    "## Statistics count!\n",
    "\n",
    "> **Question 5A**) What is the mean cost of an airbnb in NYC?"
   ]
  },
  {
   "cell_type": "code",
   "execution_count": null,
   "id": "c19bc1b7-c545-4c27-b237-ea91009f6989",
   "metadata": {},
   "outputs": [],
   "source": []
  },
  {
   "cell_type": "markdown",
   "id": "fd57440f-5ab1-4c82-b535-744c08920498",
   "metadata": {},
   "source": [
    "> **Question 5B)** How does the price vary?"
   ]
  },
  {
   "cell_type": "code",
   "execution_count": null,
   "id": "0f4c2e1b-c135-4b2d-bf6e-5e75d594c01f",
   "metadata": {},
   "outputs": [],
   "source": []
  },
  {
   "cell_type": "markdown",
   "id": "ba211951-959b-4ade-806f-9a8f9ac2bfea",
   "metadata": {},
   "source": [
    "> **Question 5C)** How is the price changing according to the property type? which property type the less expansive one?"
   ]
  },
  {
   "cell_type": "code",
   "execution_count": null,
   "id": "ab4fa760-898b-4d91-8278-caa5c606d959",
   "metadata": {},
   "outputs": [],
   "source": []
  },
  {
   "cell_type": "markdown",
   "id": "ca6d193d-0fe9-4f7c-a62c-96347b99b94c",
   "metadata": {},
   "source": [
    "> **Question 5D)** how does the mean airbnb price is changing according to the boroughs?"
   ]
  },
  {
   "cell_type": "code",
   "execution_count": null,
   "id": "8ead9b26-7eff-4528-98be-d1fb7ebfcf6d",
   "metadata": {},
   "outputs": [],
   "source": []
  },
  {
   "cell_type": "markdown",
   "id": "2aedb66e-4521-4fdf-a3e1-41f1c7665ca3",
   "metadata": {},
   "source": [
    "> **Question 5E)** Which are top 10 rated airbnb per borough? calculate the mean price of them!"
   ]
  },
  {
   "cell_type": "code",
   "execution_count": null,
   "id": "cd37da09-2dab-4377-a4a0-658163bb8f66",
   "metadata": {},
   "outputs": [],
   "source": []
  }
 ],
 "metadata": {
  "kernelspec": {
   "display_name": "Python 3 (ipykernel)",
   "language": "python",
   "name": "python3"
  },
  "language_info": {
   "codemirror_mode": {
    "name": "ipython",
    "version": 3
   },
   "file_extension": ".py",
   "mimetype": "text/x-python",
   "name": "python",
   "nbconvert_exporter": "python",
   "pygments_lexer": "ipython3",
   "version": "3.7.12"
  }
 },
 "nbformat": 4,
 "nbformat_minor": 5
}
