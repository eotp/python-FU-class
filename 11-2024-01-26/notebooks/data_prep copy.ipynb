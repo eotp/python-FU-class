{
 "cells": [
  {
   "cell_type": "markdown",
   "id": "66850d66",
   "metadata": {},
   "source": [
    "# Data Preperation for Streamlit WW2 Implementation\n",
    "Our WW2 data contains attacks on individual coordinates.\n",
    "\n",
    "In this session we want to create a nice looking web-page that let's us easily compare statistics between individual countries.\n",
    "\n",
    "In order to do this we have to aggregate our individual coordinate-based data to per-country data."
   ]
  },
  {
   "cell_type": "markdown",
   "id": "90e09f5b-5367-40f8-b396-b78805938fac",
   "metadata": {},
   "source": [
    "## Imports"
   ]
  },
  {
   "cell_type": "code",
   "execution_count": null,
   "id": "a159f93b-f294-4637-a346-c49c83659c3c",
   "metadata": {},
   "outputs": [],
   "source": [
    "import pandas as pd\n",
    "import geopandas as gpd"
   ]
  },
  {
   "cell_type": "markdown",
   "id": "9a171443-5a17-40f7-abe9-bd51b24cc5df",
   "metadata": {},
   "source": [
    "## Load Raw Data"
   ]
  },
  {
   "cell_type": "code",
   "execution_count": null,
   "id": "df807625-c95e-4feb-a564-1bbb7d27d18e",
   "metadata": {},
   "outputs": [],
   "source": [
    "# load data on european countries\n",
    "europe = pd.read_pickle(\"../data/europe.p\").to_crs(\"EPSG:4326\")\n",
    "# contains all countries intersecting our polygon from the WW2 analysis\n",
    "europe.sample(5)# not only european countries per se\n",
    "# columns of interest for us: name and geometry\n",
    "europe.head()\n"
   ]
  },
  {
   "cell_type": "code",
   "execution_count": null,
   "id": "f20942b4",
   "metadata": {},
   "outputs": [],
   "source": [
    "# load WW2 data for target_df\n",
    "# geometry contains coordinate POINTS\n",
    "europe_data = pd.read_pickle(\"../data/gdf_europe.p\").to_crs(\"EPSG:4326\")\n",
    "europe_data.head()"
   ]
  },
  {
   "cell_type": "markdown",
   "id": "ac7f1bf6-7677-4826-9a03-a8776c6fecc2",
   "metadata": {},
   "source": [
    "## Replace target coordinates by target countries polygons"
   ]
  },
  {
   "cell_type": "code",
   "execution_count": null,
   "id": "11f77326-26c9-4b43-86c2-91879db76cad",
   "metadata": {},
   "outputs": [],
   "source": [
    "res_intersect_europe = gpd.overlay(europe_data, europe, how='intersection')\n",
    "# Basically checks for each geometry in \"europe_data\" (target coordinates) \n",
    "# if intersects with geometry of \"target_df\" (country)\n",
    "# -> Merges both dataframes and keeps country polygon instead of target coordinates\n",
    "res_intersect_europe.head()"
   ]
  },
  {
   "cell_type": "code",
   "execution_count": null,
   "id": "4b3c63e1-0ea9-4096-88fb-52d258ba3716",
   "metadata": {},
   "outputs": [],
   "source": [
    "# Set index to country name so we can directly insert data grouped by country name\n",
    "europe.set_index(\"name\", inplace=True, drop=False)"
   ]
  },
  {
   "cell_type": "code",
   "execution_count": null,
   "id": "211509b9",
   "metadata": {},
   "outputs": [],
   "source": [
    "def insert_totals(target_df, data_df):\n",
    "    # get attack counts and total weight of explosives per year\n",
    "    # and apply it to a given target country\n",
    "    # get totals\n",
    "    target_df[f\"N_powerplants\"] = data_df.groupby(\"name\").size()\n",
    "    target_df[f\"N_green\"] = data_df.loc[data_df[\"green\"]].groupby(\"name\").size()\n",
    "    # replace NaN (no a number) values with 0\n",
    "    target_df.fillna(0, inplace=True)\n",
    "    n_green = data_df.groupby([\"name\", \"green\"])[\"name\"].size().unstack()\n",
    "    target_df[\"green_ratio\"] = (n_green[True] / n_green.sum(axis=1)).fillna(0)\n",
    "    return target_df"
   ]
  },
  {
   "cell_type": "code",
   "execution_count": null,
   "id": "bece33b3",
   "metadata": {},
   "outputs": [],
   "source": [
    "europe = insert_totals(europe, res_intersect_europe)"
   ]
  },
  {
   "cell_type": "code",
   "execution_count": null,
   "id": "244a12a5",
   "metadata": {},
   "outputs": [],
   "source": [
    "europe = europe.loc[europe[\"continent\"] == \"Europe\"]"
   ]
  },
  {
   "cell_type": "code",
   "execution_count": null,
   "id": "5cb62d95",
   "metadata": {},
   "outputs": [],
   "source": [
    "def insert_fuel_types(target_df, data_df):\n",
    "    for pp_type in data_df[\"primary_fuel\"].unique():\n",
    "        target_df[f\"N_fuel_{pp_type}\"] = data_df.loc[data_df[\"primary_fuel\"] == pp_type].groupby(\"name\").size()\n",
    "        data_df.loc[data_df[\"primary_fuel\"] == pp_type, f\"is_{pp_type}\"] = True\n",
    "        data_df.loc[data_df[\"primary_fuel\"] != pp_type, f\"is_{pp_type}\"] = False \n",
    "        ratio = data_df.groupby([\"name\", f\"is_{pp_type}\"]).size().unstack().fillna(0)\n",
    "        target_df[f\"fuel_ratio_{pp_type}\"] = ratio[True] / ratio.sum(axis=1)\n",
    "\n",
    "        production = data_df.groupby([\"name\", f\"is_{pp_type}\"])[\"estimated_generation_gwh_2020\"].sum().unstack().fillna(0)\n",
    "\n",
    "        target_df[f\"fuel_generation_ratio_{pp_type}\"] = production[True] / production.sum(axis=1)\n",
    "        target_df[f\"fuel_generation_total_{pp_type}\"] = production[True]\n",
    "    return target_df"
   ]
  },
  {
   "cell_type": "code",
   "execution_count": null,
   "id": "5d6c0284",
   "metadata": {},
   "outputs": [],
   "source": [
    "europe = insert_fuel_types(europe, res_intersect_europe).fillna(0)"
   ]
  },
  {
   "cell_type": "markdown",
   "id": "4b6b64f7-54f2-495f-a621-86dfd0fcdcbf",
   "metadata": {},
   "source": [
    "# German Bundeslaender"
   ]
  },
  {
   "cell_type": "code",
   "execution_count": null,
   "id": "45ea4135-e800-4b03-97bd-7eff8e41f0e7",
   "metadata": {},
   "outputs": [],
   "source": [
    "# load data containing German Bundesländer\n",
    "# similarly to the europe dataset it contains polygons mapping individual Bundesländer\n",
    "bl = gpd.read_file('../data/vg2500_geo84.zip').to_crs(\"EPSG:4326\")\n",
    "# rename the column that specifies the name so that is the same with the remaining data\n",
    "bl.rename({\"GEN\": \"name\"}, axis=1, inplace=True)"
   ]
  },
  {
   "cell_type": "code",
   "execution_count": null,
   "id": "19ed46c5",
   "metadata": {},
   "outputs": [],
   "source": [
    "bl.head()"
   ]
  },
  {
   "cell_type": "code",
   "execution_count": null,
   "id": "96fb60e8-f5f1-422d-b050-d7327d721542",
   "metadata": {},
   "outputs": [],
   "source": [
    "# same as before but now we want to aggregate data for individual Bundesländer\n",
    "res_intersect_bl = gpd.overlay(europe_data, bl, how='intersection')"
   ]
  },
  {
   "cell_type": "code",
   "execution_count": null,
   "id": "e36d368f",
   "metadata": {},
   "outputs": [],
   "source": [
    "res_intersect_bl.sample(5)"
   ]
  },
  {
   "cell_type": "code",
   "execution_count": null,
   "id": "3f8364f8-cf16-466d-8b6a-a7ea17b6e57f",
   "metadata": {},
   "outputs": [],
   "source": [
    "bl.set_index(\"name\", inplace=True)\n",
    "bl = insert_totals(bl, res_intersect_bl)\n",
    "bl = insert_fuel_types(bl, res_intersect_bl)\n",
    "bl"
   ]
  },
  {
   "cell_type": "markdown",
   "id": "87b58541-215a-44b6-b2bc-03adea231231",
   "metadata": {},
   "source": [
    "## German Landkreise\n",
    "Let's go even lower than Bundesländer"
   ]
  },
  {
   "cell_type": "code",
   "execution_count": null,
   "id": "6e118475-9803-4e70-891d-3afd4738cfcb",
   "metadata": {},
   "outputs": [],
   "source": [
    "kreise = gpd.read_file('../data/vg2500_krs.zip').to_crs(\"EPSG:4326\")\n",
    "kreise.rename({\"GEN\": \"name\"}, axis=1, inplace=True)\n",
    "kreise.sample(5)"
   ]
  },
  {
   "cell_type": "markdown",
   "id": "0a80e23f",
   "metadata": {},
   "source": [
    "repeat the stepts"
   ]
  },
  {
   "cell_type": "code",
   "execution_count": null,
   "id": "84b78dc6-22d0-4f6d-9592-f53e1867dca6",
   "metadata": {},
   "outputs": [],
   "source": [
    "res_intersect_kreise = gpd.overlay(europe_data, kreise, how='intersection')"
   ]
  },
  {
   "cell_type": "code",
   "execution_count": null,
   "id": "4d51f82d",
   "metadata": {},
   "outputs": [],
   "source": [
    "kreise.set_index(\"name\", inplace=True)\n",
    "kreise = insert_totals(kreise, res_intersect_kreise)\n",
    "kreise = insert_fuel_types(kreise, res_intersect_kreise)\n",
    "kreise"
   ]
  },
  {
   "cell_type": "code",
   "execution_count": null,
   "id": "25688ed3",
   "metadata": {},
   "outputs": [],
   "source": [
    "world = gpd.read_file(gpd.datasets.get_path('naturalearth_lowres'))\n",
    "world_data = pd.read_pickle(\"../data/gdf_world.p\").to_crs(\"EPSG:4326\")\n",
    "res_intersect_world = gpd.overlay(world_data, world, how='intersection')"
   ]
  },
  {
   "cell_type": "code",
   "execution_count": null,
   "id": "8ad007a3",
   "metadata": {},
   "outputs": [],
   "source": [
    "world.set_index(\"name\", inplace=True)\n",
    "world = insert_totals(world, res_intersect_world)\n",
    "world = insert_fuel_types(world, res_intersect_world)\n",
    "world"
   ]
  },
  {
   "cell_type": "code",
   "execution_count": null,
   "id": "9569518c",
   "metadata": {},
   "outputs": [],
   "source": [
    "world[\"name\"] = world.index\n",
    "bl[\"name\"] = bl.index\n",
    "kreise[\"name\"] = kreise.index"
   ]
  },
  {
   "cell_type": "code",
   "execution_count": null,
   "id": "6ad5eb8b-2c2d-46da-bbbc-251495d5ada9",
   "metadata": {},
   "outputs": [],
   "source": [
    "europe.fillna(0).to_pickle(\"../data/europe_pp.p\")\n",
    "bl.fillna(0).to_pickle(\"../data/bl_pp.p\")\n",
    "kreise.fillna(0).to_pickle(\"../data/kreise_pp.p\")\n",
    "world.fillna(0).to_pickle(\"../data/world_pp.p\")\n",
    "res_intersect_kreise.to_pickle(\"../data/kreise_full.p\")\n",
    "res_intersect_world.to_pickle(\"../data/world_full.p\")"
   ]
  },
  {
   "cell_type": "code",
   "execution_count": null,
   "id": "f9bcd85c",
   "metadata": {},
   "outputs": [],
   "source": [
    "res_intersect_kreise"
   ]
  },
  {
   "cell_type": "code",
   "execution_count": null,
   "id": "599b9207",
   "metadata": {},
   "outputs": [],
   "source": []
  }
 ],
 "metadata": {
  "kernelspec": {
   "display_name": "Python 3 (ipykernel)",
   "language": "python",
   "name": "python3"
  },
  "language_info": {
   "codemirror_mode": {
    "name": "ipython",
    "version": 3
   },
   "file_extension": ".py",
   "mimetype": "text/x-python",
   "name": "python",
   "nbconvert_exporter": "python",
   "pygments_lexer": "ipython3",
   "version": "3.9.0"
  },
  "vscode": {
   "interpreter": {
    "hash": "86fcf9d5bdcdc91ff18371a0debd92228df6ac5e9cebb35d2f1285faf0b8781d"
   }
  }
 },
 "nbformat": 4,
 "nbformat_minor": 5
}
