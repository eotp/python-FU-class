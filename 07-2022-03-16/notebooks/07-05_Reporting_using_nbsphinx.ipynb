{
 "cells": [
  {
   "cell_type": "markdown",
   "metadata": {},
   "source": [
    "# Reporting using `nbsphinx`"
   ]
  },
  {
   "cell_type": "markdown",
   "metadata": {},
   "source": [
    "[nbsphinx](https://nbsphinx.readthedocs.io/en/0.5.0/index.html#) is a [Sphinx](https://www.sphinx-doc.org/en/master/) extension that provides a source parser for `*.ipynb` files. [Jupyter Notebook](https://jupyter.org/) code cells (and of course their results) are transleted in both HTML and LaTeX output. "
   ]
  },
  {
   "cell_type": "markdown",
   "metadata": {},
   "source": [
    "## Installation\n",
    "\n",
    "For detailed information visit the documentation ([here](https://nbsphinx.readthedocs.io/en/0.5.0/installation.html))."
   ]
  },
  {
   "cell_type": "markdown",
   "metadata": {},
   "source": [
    "If you are using the `conda` package manager, you can install `nbsphinx` from the `conda-forge` channel:\n",
    "```\n",
    "conda install -c conda-forge nbsphinx\n",
    "```"
   ]
  },
  {
   "cell_type": "markdown",
   "metadata": {},
   "source": [
    "*We already installed it at the beginning of the class*"
   ]
  },
  {
   "cell_type": "markdown",
   "metadata": {},
   "source": [
    "## Sphinx Setup\n",
    "For detailed information visit the documentation ([here](https://nbsphinx.readthedocs.io/en/0.5.0/usage.html))."
   ]
  },
  {
   "cell_type": "markdown",
   "metadata": {},
   "source": [
    "\n",
    "In the directory with your notebook files, run this command (assuming you have Sphinx installed already):\n",
    "```\n",
    "python -m sphinx.cmd.quickstart\n",
    "```\n",
    "\n",
    "Answer the questions that appear on the screen. In case of doubt, just press the <Return> key repeatedly to take the default values.\n",
    "\n",
    "After that, there will be a few brand-new files in the current directory. "
   ]
  },
  {
   "cell_type": "markdown",
   "metadata": {},
   "source": [
    "### The `conf.py` file"
   ]
  },
  {
   "cell_type": "markdown",
   "metadata": {},
   "source": [
    "After that, there will be a few brand-new files in the current directory. You’ll have to make a few changes to the file named `conf.py`. You should at least check if those two variables contain the right things:\n",
    "```\n",
    "extensions = [\n",
    "    'nbsphinx',\n",
    "    'sphinx.ext.mathjax',\n",
    "]\n",
    "\n",
    "exclude_patterns = ['_build', '**.ipynb_checkpoints']\n",
    "```\n"
   ]
  },
  {
   "cell_type": "markdown",
   "metadata": {},
   "source": [
    "Further you may add the following lines, as this will make sure that the output is rendered if code execution errors occur.\n",
    "\n",
    "```\n",
    "# Allows to run sphinx even if code execution errors occur\n",
    "nbsphinx_allow_errors = True\n",
    "```"
   ]
  },
  {
   "cell_type": "markdown",
   "metadata": {},
   "source": [
    "If you struggle, please uncomment the cell below, execute it (optional edit it) and copy the content to the file `conf.py`."
   ]
  },
  {
   "cell_type": "code",
   "execution_count": null,
   "metadata": {},
   "outputs": [],
   "source": [
    "# %load ../src/_solutions/conf.py"
   ]
  },
  {
   "cell_type": "markdown",
   "metadata": {},
   "source": [
    "### The `index.rst` file "
   ]
  },
  {
   "cell_type": "markdown",
   "metadata": {},
   "source": [
    "At minimum you must edit the file named `index.rst` and add the file names of your notebooks (without the .ipynb extension) to the [toctree](https://www.sphinx-doc.org/en/master/usage/restructuredtext/directives.html#directive-toctree) directive. \n"
   ]
  },
  {
   "cell_type": "markdown",
   "metadata": {},
   "source": [
    "As an example you may copy and paste the following into your `index.rst` file (adopt you name accordingly)\n",
    "\n",
    "\n",
    "```\n",
    ".. _Jupyter: http://jupyter.org/  \n",
    "\n",
    "Programing with Python - FU Berlin - winter term 2020\n",
    "=======================================================\n",
    "\n",
    "**Data Analysis and Reproducible Research** \n",
    "\n",
    "\n",
    ":Author: Dr. Joachim Krois  \n",
    ":E-mail: joachim.krois@charite.de\n",
    ":Date: |today| \n",
    "\n",
    ".. NOTE:: For analysis we used Python's scientific stack and Jupyter_ Notebooks. \n",
    "\n",
    "\n",
    "Contents \n",
    "=========\n",
    "\n",
    ".. toctree::    \n",
    "   :numbered:   \n",
    "   :maxdepth: 2\n",
    "   \n",
    "   07-04a-EDA_Number_of_attacks\n",
    "   07-04b-EDA_Airplane\n",
    "   07-04c-EDA_Targets\n",
    "```"
   ]
  },
  {
   "cell_type": "markdown",
   "metadata": {},
   "source": [
    "If you struggle, please uncomment the cell below, execute it (optional edit it) and copy the content to the file `index.rst`."
   ]
  },
  {
   "cell_type": "code",
   "execution_count": null,
   "metadata": {},
   "outputs": [],
   "source": [
    "# %load ../src/_solutions/index.rst"
   ]
  },
  {
   "cell_type": "markdown",
   "metadata": {},
   "source": [
    "## Running Sphinx"
   ]
  },
  {
   "cell_type": "markdown",
   "metadata": {},
   "source": [
    "To create the HTML pages, use this command:\n",
    "```\n",
    "python -m sphinx <source-dir> <build-dir>\n",
    "```\n",
    "\n",
    "For example it should like this (make sure you are in the directory of the notebook files):\n",
    "\n",
    "```\n",
    "python -m sphinx . ../reports\n",
    "```\n",
    "\n"
   ]
  },
  {
   "cell_type": "markdown",
   "metadata": {},
   "source": [
    "## HTML Themes"
   ]
  },
  {
   "cell_type": "markdown",
   "metadata": {},
   "source": [
    "The `nbsphinx` extension does not provide its own theme, you can use many the available themes such as those listed below. A more detailed list of themes is provided [here](https://nbsphinx.readthedocs.io/en/0.5.0/usage.html#HTML-Themes). An overview of many more themes can be found at https://sphinx-themes.org/.\n",
    "\n",
    "\n",
    "### Sphinx's Built-In Themes\n",
    "\n",
    "* `agogo`, [example](https://nbsphinx.readthedocs.io/en/agogo-theme/)\n",
    "* `alabaster` (default), [example](https://nbsphinx.readthedocs.io/en/alabaster-theme/)\n",
    "* `bizstyle`, [example](https://nbsphinx.readthedocs.io/en/bizstyle-theme/)\n",
    "* `classic`, [example](https://nbsphinx.readthedocs.io/en/classic-theme/)\n",
    "* `haiku`, [example](https://nbsphinx.readthedocs.io/en/haiku-theme/)\n",
    "* `nature`, [example](https://nbsphinx.readthedocs.io/en/nature-theme/)\n",
    "* `pyramid`, [example](https://nbsphinx.readthedocs.io/en/pyramid-theme/)\n",
    "* `scrolls`, [example](https://nbsphinx.readthedocs.io/en/scrolls-theme/)\n",
    "* `traditional`, [example](https://nbsphinx.readthedocs.io/en/traditional-theme/)\n",
    "\n",
    "\n",
    "In order to apply a built-in theme simply replace the `html_theme` variable in the `conf.py` file with the corresponding theme name, e.g.\n",
    "\n",
    "```\n",
    "html_theme = nature\n",
    "```\n"
   ]
  },
  {
   "cell_type": "markdown",
   "metadata": {},
   "source": [
    "> ### Challange: Change the layout of your report to any built-in theme you like."
   ]
  },
  {
   "cell_type": "markdown",
   "metadata": {},
   "source": [
    "### 3rd-Party Themes\n",
    "\n",
    "3rd-party themes have to be additionally installed. For the purpose of the tutorial the [`jupyter` theme](https://nbsphinx.readthedocs.io/en/jupyter-theme/) was already pre-installed (as defined in the `environment.yml` file).\n",
    "\n",
    "In order to apply that theme edit the `conf.py` file as outlined below.\n",
    "\n",
    "```\n",
    "import jupyter_sphinx_theme\n",
    "html_theme = 'jupyter'\n",
    "html_theme_path = jupyter_sphinx_theme.get_html_theme_path()\n",
    "html_sidebars = {\n",
    "    '**': [\n",
    "        'sidebartoc.html'\n",
    "    ]\n",
    "}\n",
    "```\n",
    "\n",
    "A more 3rd-party themes are listed [here](https://nbsphinx.readthedocs.io/en/0.5.0/usage.html#HTML-Themes)."
   ]
  },
  {
   "cell_type": "markdown",
   "metadata": {},
   "source": [
    "> ### Challenge: Change the layout of your report to the [`jupyter` theme](https://nbsphinx.readthedocs.io/en/jupyter-theme/)."
   ]
  },
  {
   "cell_type": "markdown",
   "metadata": {},
   "source": [
    "***"
   ]
  }
 ],
 "metadata": {
  "kernelspec": {
   "display_name": "Python 3",
   "language": "python",
   "name": "python3"
  },
  "language_info": {
   "codemirror_mode": {
    "name": "ipython",
    "version": 3
   },
   "file_extension": ".py",
   "mimetype": "text/x-python",
   "name": "python",
   "nbconvert_exporter": "python",
   "pygments_lexer": "ipython3",
   "version": "3.7.9"
  }
 },
 "nbformat": 4,
 "nbformat_minor": 4
}
