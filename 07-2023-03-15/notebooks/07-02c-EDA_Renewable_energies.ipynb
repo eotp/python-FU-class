{
 "cells": [
  {
   "cell_type": "markdown",
   "metadata": {},
   "source": [
    "# Exploratory Data Analysis in Action - EDA: Renewable Energies\n",
    "\n",
    "Reneweable Energies questions:\n",
    "- Q1: How many powerplants are present worldwide that utilize Renewable Energies and how many that do not?\n",
    "- Q2: How much energy is produced in a green way opposed to fossil and nuclear energy?\n",
    "- Q3: Which European countries have the highest share of energy production from renewable sources? And which ones the lowest?\n",
    "- Q4: Inspect a country of your choice. How much of energy is gained from individual fuel types? Is the result trustworthy?\n",
    "- Q5: Which types of renewable energies produce the most energy in total? Is there a difference between continents?\n",
    "- Q6:  _Come up with your own question_"
   ]
  },
  {
   "cell_type": "code",
   "execution_count": 2,
   "metadata": {},
   "outputs": [],
   "source": [
    "%matplotlib inline\n",
    "import pandas as pd\n",
    "import matplotlib.pyplot as plt\n",
    "import geopandas as gpd\n",
    "import sys\n",
    "sys.path.append(\"../src/\")\n",
    "\n",
    "from helper import cuteplot\n",
    "from helper import minmax_scaler\n",
    "plt.rcParams[\"figure.figsize\"] = [22,10]"
   ]
  },
  {
   "cell_type": "code",
   "execution_count": 3,
   "metadata": {},
   "outputs": [],
   "source": [
    "import pickle\n",
    "gdf_world = pickle.load(open( \"../data/gdf_world.p\", \"rb\" ))\n",
    "gdf_europe = pickle.load(open( \"../data/gdf_europe.p\", \"rb\" ))\n",
    "gdf_germany = pickle.load(open( \"../data/gdf_germany.p\", \"rb\" ))"
   ]
  },
  {
   "cell_type": "markdown",
   "metadata": {},
   "source": [
    "> **Q1: How many powerplants are present worldwide that utilize Renewable Energies and how many that do not?**"
   ]
  },
  {
   "cell_type": "code",
   "execution_count": 9,
   "metadata": {},
   "outputs": [
    {
     "data": {
      "text/plain": [
       "23458"
      ]
     },
     "execution_count": 9,
     "metadata": {},
     "output_type": "execute_result"
    }
   ],
   "source": [
    "gdf_world_clean = gdf_world.drop_duplicates(subset ='geometry')\n",
    "len(gdf_world_clean.loc[gdf_world_clean['green']==True])"
   ]
  },
  {
   "cell_type": "code",
   "execution_count": 12,
   "metadata": {},
   "outputs": [
    {
     "data": {
      "text/plain": [
       "9215"
      ]
     },
     "execution_count": 12,
     "metadata": {},
     "output_type": "execute_result"
    }
   ],
   "source": [
    "len(gdf_world_clean.loc[gdf_world_clean['green']==False])"
   ]
  },
  {
   "cell_type": "code",
   "execution_count": 11,
   "metadata": {},
   "outputs": [
    {
     "data": {
      "text/plain": [
       "green\n",
       "False     9215\n",
       "True     23458\n",
       "Name: geometry, dtype: int64"
      ]
     },
     "execution_count": 11,
     "metadata": {},
     "output_type": "execute_result"
    }
   ],
   "source": [
    "gdf_world_clean.groupby('green')['geometry'].count()"
   ]
  },
  {
   "cell_type": "markdown",
   "metadata": {},
   "source": [
    "> **Q2: How much energy is produced in a green way opposed to fossil and nuclear energy?**"
   ]
  },
  {
   "cell_type": "code",
   "execution_count": 54,
   "metadata": {},
   "outputs": [
    {
     "data": {
      "text/plain": [
       "5167012.669828"
      ]
     },
     "execution_count": 54,
     "metadata": {},
     "output_type": "execute_result"
    }
   ],
   "source": [
    "green_energy = gdf_world_clean.loc[gdf_world_clean['green']==True]\n",
    "unsustainable_energy = gdf_world_clean.loc[gdf_world_clean['green']==False]\n",
    "c = gdf_world_clean['capacity in MW'].sum()\n",
    "c"
   ]
  },
  {
   "cell_type": "code",
   "execution_count": 52,
   "metadata": {
    "tags": []
   },
   "outputs": [
    {
     "data": {
      "text/plain": [
       "1487577.0025099998"
      ]
     },
     "execution_count": 52,
     "metadata": {},
     "output_type": "execute_result"
    }
   ],
   "source": [
    "a = green_energy['capacity in MW'].sum()\n",
    "a"
   ]
  },
  {
   "cell_type": "code",
   "execution_count": 53,
   "metadata": {},
   "outputs": [
    {
     "data": {
      "text/plain": [
       "3679435.667318"
      ]
     },
     "execution_count": 53,
     "metadata": {},
     "output_type": "execute_result"
    }
   ],
   "source": [
    "b = unsustainable_energy['capacity in MW'].sum()\n",
    "b"
   ]
  },
  {
   "cell_type": "code",
   "execution_count": 28,
   "metadata": {},
   "outputs": [
    {
     "name": "stdout",
     "output_type": "stream",
     "text": [
      "28.7898849406057 % green\n",
      "71.21011505939431 % unsustainable\n"
     ]
    }
   ],
   "source": [
    "print(a/c*100,'% green')\n",
    "print(b/c*100,'% unsustainable')"
   ]
  },
  {
   "cell_type": "code",
   "execution_count": 55,
   "metadata": {},
   "outputs": [],
   "source": [
    "#b.isnull().sum()\n",
    "#unsustainable_energy\n",
    "#green_energy"
   ]
  },
  {
   "cell_type": "markdown",
   "metadata": {},
   "source": [
    "> **Q3: Which European countries have the highest share of energy production from renewable sources? And which ones the lowest?**\n",
    "\n",
    "> _Hint: consider using `df.groupby()` with a list of columns to group on. You can use `df.unstack()` afterwards to get rid of the multi-dimensional Index._"
   ]
  },
  {
   "cell_type": "code",
   "execution_count": 78,
   "metadata": {},
   "outputs": [
    {
     "data": {
      "text/plain": [
       "'Afghanistan'"
      ]
     },
     "execution_count": 78,
     "metadata": {},
     "output_type": "execute_result"
    }
   ],
   "source": [
    "share_green = green_energy.groupby(['country'],as_index=False)['capacity in MW'].sum()\n",
    "share_unsustain = unsustainable_energy.groupby(['country'],as_index=False)['capacity in MW'].sum()\n",
    "\n",
    "#share_green.isnull().sum()\n",
    "#share_unsustain.isnull().sum()\n",
    "share_green['result'] = share_green['capacity in MW']/(share_green['capacity in MW']+share_unsustain['capacity in MW'])\n",
    "\n",
    "result = share_green[['country','result']]\n",
    "result = result.sort_values(by='result', ascending=False)\n",
    "\n",
    "result['country'][0]"
   ]
  },
  {
   "cell_type": "code",
   "execution_count": null,
   "metadata": {},
   "outputs": [],
   "source": [
    "share_total = share_green/(share_green+share_unsustain)\n",
    "\n",
    "share_total.sort_values(ascending=False)"
   ]
  },
  {
   "cell_type": "code",
   "execution_count": 36,
   "metadata": {},
   "outputs": [
    {
     "data": {
      "text/plain": [
       "country\n",
       "China                       6.951384e-02\n",
       "United States of America    4.811607e-02\n",
       "Brazil                      2.323240e-02\n",
       "Canada                      1.853978e-02\n",
       "India                       1.389281e-02\n",
       "                                ...     \n",
       "Cuba                        3.715880e-06\n",
       "Kuwait                      1.935354e-06\n",
       "Palestine                   1.470869e-06\n",
       "Niger                       1.354748e-06\n",
       "Suriname                    9.676771e-07\n",
       "Name: capacity in MW, Length: 144, dtype: float64"
      ]
     },
     "execution_count": 36,
     "metadata": {},
     "output_type": "execute_result"
    }
   ],
   "source": [
    "green_energy.groupby('country')['capacity in MW'].sum().sort_values(ascending=False)"
   ]
  },
  {
   "cell_type": "markdown",
   "metadata": {},
   "source": [
    "> **Q4: Inspect a country of your choice. How much of energy is gained from individual fuel types? Is the result trustworthy?**\n",
    "\n",
    "> _Hint: Double check your result with another source. Is the dataset trustworthy for your country?_\n",
    "\n",
    "> _Note: Consider plotting plants on a map of the country. Consider using the `map_extent` argument in the `cuteplot()` function._"
   ]
  },
  {
   "cell_type": "code",
   "execution_count": null,
   "metadata": {},
   "outputs": [],
   "source": []
  },
  {
   "cell_type": "markdown",
   "metadata": {},
   "source": [
    "> **Q5: Which types of renewable energies produce the most energy in total? Is there a difference between continents?**"
   ]
  },
  {
   "cell_type": "code",
   "execution_count": null,
   "metadata": {},
   "outputs": [],
   "source": []
  },
  {
   "cell_type": "markdown",
   "metadata": {},
   "source": [
    "> **Q6: _Come up with your own question_**"
   ]
  },
  {
   "cell_type": "code",
   "execution_count": null,
   "metadata": {},
   "outputs": [],
   "source": []
  }
 ],
 "metadata": {
  "kernelspec": {
   "display_name": "Python 3 (ipykernel)",
   "language": "python",
   "name": "python3"
  },
  "language_info": {
   "codemirror_mode": {
    "name": "ipython",
    "version": 3
   },
   "file_extension": ".py",
   "mimetype": "text/x-python",
   "name": "python",
   "nbconvert_exporter": "python",
   "pygments_lexer": "ipython3",
   "version": "3.10.6"
  }
 },
 "nbformat": 4,
 "nbformat_minor": 4
}
