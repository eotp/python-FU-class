{
 "cells": [
  {
   "cell_type": "code",
   "execution_count": 2,
   "id": "1901769c-0aba-490b-8176-887d6ca56d41",
   "metadata": {},
   "outputs": [
    {
     "name": "stdin",
     "output_type": "stream",
     "text": [
      "How many variables 5\n"
     ]
    },
    {
     "name": "stdout",
     "output_type": "stream",
     "text": [
      "5\n",
      "<class 'int'>\n"
     ]
    }
   ],
   "source": [
    "length = input('How many variables')\n",
    "length = int(length)\n",
    "print(length)\n",
    "print(type(length))"
   ]
  },
  {
   "cell_type": "code",
   "execution_count": null,
   "id": "ea2a10ab-0601-4be0-b35a-b422cc5ec986",
   "metadata": {},
   "outputs": [],
   "source": []
  }
 ],
 "metadata": {
  "kernelspec": {
   "display_name": "Python 3 (ipykernel)",
   "language": "python",
   "name": "python3"
  },
  "language_info": {
   "codemirror_mode": {
    "name": "ipython",
    "version": 3
   },
   "file_extension": ".py",
   "mimetype": "text/x-python",
   "name": "python",
   "nbconvert_exporter": "python",
   "pygments_lexer": "ipython3",
   "version": "3.9.21"
  }
 },
 "nbformat": 4,
 "nbformat_minor": 5
}
