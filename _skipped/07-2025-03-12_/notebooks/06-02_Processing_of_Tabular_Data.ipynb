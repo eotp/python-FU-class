{
 "cells": [
  {
   "cell_type": "markdown",
   "metadata": {},
   "source": [
    "# Challenge: Processing of Tabular Data "
   ]
  },
  {
   "cell_type": "markdown",
   "metadata": {},
   "source": [
    "__Import Statements__"
   ]
  },
  {
   "cell_type": "code",
   "execution_count": 2,
   "metadata": {},
   "outputs": [],
   "source": [
    "%matplotlib inline\n",
    "import pandas as pd\n",
    "import matplotlib.pyplot as plt"
   ]
  },
  {
   "cell_type": "markdown",
   "metadata": {},
   "source": [
    "## Read the data"
   ]
  },
  {
   "cell_type": "markdown",
   "metadata": {},
   "source": [
    "> **Challenge:** Read the `IHME_GBD_2016_POPULATION_ESTIMATES_1990_2016_Y2017M09D14.CSV` file stored in the `../data/` folder and store it to a variable namend `pop`. _Hint: Use the_ `pd.read_csv` _function._ "
   ]
  },
  {
   "cell_type": "code",
   "execution_count": null,
   "metadata": {},
   "outputs": [],
   "source": [
    "## your code here\n"
   ]
  },
  {
   "cell_type": "code",
   "execution_count": 7,
   "metadata": {},
   "outputs": [
    {
     "data": {
      "text/html": [
       "<div>\n",
       "<style scoped>\n",
       "    .dataframe tbody tr th:only-of-type {\n",
       "        vertical-align: middle;\n",
       "    }\n",
       "\n",
       "    .dataframe tbody tr th {\n",
       "        vertical-align: top;\n",
       "    }\n",
       "\n",
       "    .dataframe thead th {\n",
       "        text-align: right;\n",
       "    }\n",
       "</style>\n",
       "<table border=\"1\" class=\"dataframe\">\n",
       "  <thead>\n",
       "    <tr style=\"text-align: right;\">\n",
       "      <th></th>\n",
       "      <th>location_id</th>\n",
       "      <th>location_name</th>\n",
       "      <th>sex_id</th>\n",
       "      <th>sex_name</th>\n",
       "      <th>age_group_id</th>\n",
       "      <th>age_group_name</th>\n",
       "      <th>year_id</th>\n",
       "      <th>pop</th>\n",
       "    </tr>\n",
       "  </thead>\n",
       "  <tbody>\n",
       "    <tr>\n",
       "      <th>0</th>\n",
       "      <td>1</td>\n",
       "      <td>Global</td>\n",
       "      <td>1</td>\n",
       "      <td>Male</td>\n",
       "      <td>1</td>\n",
       "      <td>Under 5</td>\n",
       "      <td>1990</td>\n",
       "      <td>307337836.5</td>\n",
       "    </tr>\n",
       "    <tr>\n",
       "      <th>1</th>\n",
       "      <td>1</td>\n",
       "      <td>Global</td>\n",
       "      <td>2</td>\n",
       "      <td>Female</td>\n",
       "      <td>1</td>\n",
       "      <td>Under 5</td>\n",
       "      <td>1990</td>\n",
       "      <td>291129853.7</td>\n",
       "    </tr>\n",
       "    <tr>\n",
       "      <th>2</th>\n",
       "      <td>1</td>\n",
       "      <td>Global</td>\n",
       "      <td>3</td>\n",
       "      <td>Both</td>\n",
       "      <td>1</td>\n",
       "      <td>Under 5</td>\n",
       "      <td>1990</td>\n",
       "      <td>598467690.1</td>\n",
       "    </tr>\n",
       "    <tr>\n",
       "      <th>3</th>\n",
       "      <td>1</td>\n",
       "      <td>Global</td>\n",
       "      <td>1</td>\n",
       "      <td>Male</td>\n",
       "      <td>1</td>\n",
       "      <td>Under 5</td>\n",
       "      <td>1991</td>\n",
       "      <td>308965555.0</td>\n",
       "    </tr>\n",
       "    <tr>\n",
       "      <th>4</th>\n",
       "      <td>1</td>\n",
       "      <td>Global</td>\n",
       "      <td>2</td>\n",
       "      <td>Female</td>\n",
       "      <td>1</td>\n",
       "      <td>Under 5</td>\n",
       "      <td>1991</td>\n",
       "      <td>292182185.9</td>\n",
       "    </tr>\n",
       "  </tbody>\n",
       "</table>\n",
       "</div>"
      ],
      "text/plain": [
       "   location_id location_name  sex_id sex_name  age_group_id age_group_name  \\\n",
       "0            1        Global       1     Male             1        Under 5   \n",
       "1            1        Global       2   Female             1        Under 5   \n",
       "2            1        Global       3     Both             1        Under 5   \n",
       "3            1        Global       1     Male             1        Under 5   \n",
       "4            1        Global       2   Female             1        Under 5   \n",
       "\n",
       "   year_id          pop  \n",
       "0     1990  307337836.5  \n",
       "1     1990  291129853.7  \n",
       "2     1990  598467690.1  \n",
       "3     1991  308965555.0  \n",
       "4     1991  292182185.9  "
      ]
     },
     "execution_count": 7,
     "metadata": {},
     "output_type": "execute_result"
    }
   ],
   "source": [
    "# %load ../src/_solutions/tab_data01.py\n",
    "pop = pd.read_csv(\"../data/IHME_GBD_2016_POPULATION_ESTIMATES_1990_2016_Y2017M09D14.CSV\")\n",
    "pop.head()\n"
   ]
  },
  {
   "cell_type": "markdown",
   "metadata": {},
   "source": [
    "## Inspect the data"
   ]
  },
  {
   "cell_type": "markdown",
   "metadata": {},
   "source": [
    "> **Challenge:** Inspect the data by \n",
    "* printing the column names\n",
    "* counting the number of unique entries in the `location_name` column\n",
    "* printing some location names\n",
    "* figuring out the unique categories for the `sex_name` and `age_group` columns\n",
    "\n",
    "> _Hint_: the `pd.DataFrame` attributes and methods: `.columns`, `.nunique()`, `.unique()`, `.sample()` may come handy\n"
   ]
  },
  {
   "cell_type": "markdown",
   "metadata": {},
   "source": [
    "\n",
    "### Exploratory Data Analysis"
   ]
  },
  {
   "cell_type": "code",
   "execution_count": 8,
   "metadata": {},
   "outputs": [],
   "source": [
    "# %load ../src/_solutions/tab_data02.py\n",
    "pop.columns\n",
    "pop[\"location_name\"].nunique()\n",
    "pop[\"location_name\"].sample(10)\n",
    "pop[\"sex_name\"].unique()\n",
    "pop[\"age_group_name\"].unique()\n"
   ]
  },
  {
   "cell_type": "markdown",
   "metadata": {},
   "source": [
    "* print the column names"
   ]
  },
  {
   "cell_type": "code",
   "execution_count": 19,
   "metadata": {},
   "outputs": [
    {
     "data": {
      "text/plain": [
       "Index(['location_id', 'location_name', 'sex_id', 'sex_name', 'age_group_id',\n",
       "       'age_group_name', 'year_id', 'pop'],\n",
       "      dtype='object')"
      ]
     },
     "execution_count": 19,
     "metadata": {},
     "output_type": "execute_result"
    }
   ],
   "source": [
    "## your code here\n",
    "pop.columns"
   ]
  },
  {
   "cell_type": "markdown",
   "metadata": {},
   "source": [
    "* count the number of unique entries in the `location_name` column"
   ]
  },
  {
   "cell_type": "code",
   "execution_count": 12,
   "metadata": {},
   "outputs": [
    {
     "data": {
      "text/plain": [
       "231"
      ]
     },
     "execution_count": 12,
     "metadata": {},
     "output_type": "execute_result"
    }
   ],
   "source": [
    "## your code here\n",
    "len(pop['location_name'].unique())"
   ]
  },
  {
   "cell_type": "markdown",
   "metadata": {},
   "source": [
    "* print some location names"
   ]
  },
  {
   "cell_type": "code",
   "execution_count": 14,
   "metadata": {},
   "outputs": [
    {
     "data": {
      "text/plain": [
       "96778                  Turkmenistan\n",
       "300691          Trinidad and Tobago\n",
       "253660    High-income North America\n",
       "407647                  Afghanistan\n",
       "496375                      Namibia\n",
       "529400                       Guinea\n",
       "517229                   Cape Verde\n",
       "8827                          China\n",
       "440567            Equatorial Guinea\n",
       "84569                       Georgia\n",
       "Name: location_name, dtype: object"
      ]
     },
     "execution_count": 14,
     "metadata": {},
     "output_type": "execute_result"
    }
   ],
   "source": [
    "## your code here\n",
    "pop['location_name'].sample(10)"
   ]
  },
  {
   "cell_type": "markdown",
   "metadata": {},
   "source": [
    "* figure out the unique categories for the `sex_name` and `age_group` columns"
   ]
  },
  {
   "cell_type": "code",
   "execution_count": 17,
   "metadata": {},
   "outputs": [
    {
     "data": {
      "text/plain": [
       "array(['Male', 'Female', 'Both'], dtype=object)"
      ]
     },
     "execution_count": 17,
     "metadata": {},
     "output_type": "execute_result"
    }
   ],
   "source": [
    "## your code here\n",
    "pop['sex_name'].unique()"
   ]
  },
  {
   "cell_type": "code",
   "execution_count": 20,
   "metadata": {},
   "outputs": [
    {
     "data": {
      "text/plain": [
       "array(['Under 5', 'Early Neonatal', 'Late Neonatal', 'Post Neonatal',\n",
       "       '1 to 4', '5 to 9', '10 to 14', '15 to 19', '20 to 24', '25 to 29',\n",
       "       '30 to 34', '35 to 39', '40 to 44', '45 to 49', '50 to 54',\n",
       "       '55 to 59', '60 to 64', '65 to 69', '70 to 74', '75 to 79',\n",
       "       'All Ages', '5-14 years', '15-49 years', '50-69 years',\n",
       "       '70+ years', '<1 year', '80 to 84', '85 to 89', '90 to 94',\n",
       "       '<20 years', '10-24 years', '95 plus'], dtype=object)"
      ]
     },
     "execution_count": 20,
     "metadata": {},
     "output_type": "execute_result"
    }
   ],
   "source": [
    "## your code here\n",
    "pop['age_group_name'].unique()"
   ]
  },
  {
   "cell_type": "markdown",
   "metadata": {},
   "source": [
    "## Analyzing a subset of the dataset"
   ]
  },
  {
   "cell_type": "markdown",
   "metadata": {},
   "source": [
    "> **Challenge:** Subset the data set based on age groups, location and sex as given below and save the resulting  data frame to a variable called `pop_subset`. \n",
    "\n",
    "> _Hint_: You can check for values being included in a list of elements using `df[column].isin(my_list)` \n",
    "\n",
    "> _Hint_: You can select the elements in a dataframe for which this condition applies using the `loc`-method: `df.loc[df[column].isin(my_list), :]`\n",
    "\n",
    "> _Hint_: You can combine `pd.Series` (columns) with a `dtype` of `bool` using:\n",
    "\n",
    "> - `&` (and)\n",
    ">   - `True & True == True`\n",
    ">   - `True & False == False`\n",
    ">   - `False & False == False`\n",
    "> - `|` (or)\n",
    ">   - `True | True == True`\n",
    ">   - `True | False == True`\n",
    ">   - `False | False == False`\n",
    "> E.g. `df[column].isin(my_list) & df[column].isin(my_other_list)` will only be `True` for rows where the `column` value is in both lists"
   ]
  },
  {
   "cell_type": "code",
   "execution_count": 23,
   "metadata": {},
   "outputs": [
    {
     "data": {
      "text/html": [
       "<div>\n",
       "<style scoped>\n",
       "    .dataframe tbody tr th:only-of-type {\n",
       "        vertical-align: middle;\n",
       "    }\n",
       "\n",
       "    .dataframe tbody tr th {\n",
       "        vertical-align: top;\n",
       "    }\n",
       "\n",
       "    .dataframe thead th {\n",
       "        text-align: right;\n",
       "    }\n",
       "</style>\n",
       "<table border=\"1\" class=\"dataframe\">\n",
       "  <thead>\n",
       "    <tr style=\"text-align: right;\">\n",
       "      <th></th>\n",
       "      <th>location_id</th>\n",
       "      <th>location_name</th>\n",
       "      <th>sex_id</th>\n",
       "      <th>sex_name</th>\n",
       "      <th>age_group_id</th>\n",
       "      <th>age_group_name</th>\n",
       "      <th>year_id</th>\n",
       "      <th>pop</th>\n",
       "    </tr>\n",
       "  </thead>\n",
       "  <tbody>\n",
       "    <tr>\n",
       "      <th>0</th>\n",
       "      <td>1</td>\n",
       "      <td>Global</td>\n",
       "      <td>1</td>\n",
       "      <td>Male</td>\n",
       "      <td>1</td>\n",
       "      <td>Under 5</td>\n",
       "      <td>1990</td>\n",
       "      <td>3.073378e+08</td>\n",
       "    </tr>\n",
       "    <tr>\n",
       "      <th>3</th>\n",
       "      <td>1</td>\n",
       "      <td>Global</td>\n",
       "      <td>1</td>\n",
       "      <td>Male</td>\n",
       "      <td>1</td>\n",
       "      <td>Under 5</td>\n",
       "      <td>1991</td>\n",
       "      <td>3.089656e+08</td>\n",
       "    </tr>\n",
       "    <tr>\n",
       "      <th>6</th>\n",
       "      <td>1</td>\n",
       "      <td>Global</td>\n",
       "      <td>1</td>\n",
       "      <td>Male</td>\n",
       "      <td>1</td>\n",
       "      <td>Under 5</td>\n",
       "      <td>1992</td>\n",
       "      <td>3.096011e+08</td>\n",
       "    </tr>\n",
       "    <tr>\n",
       "      <th>9</th>\n",
       "      <td>1</td>\n",
       "      <td>Global</td>\n",
       "      <td>1</td>\n",
       "      <td>Male</td>\n",
       "      <td>1</td>\n",
       "      <td>Under 5</td>\n",
       "      <td>1993</td>\n",
       "      <td>3.094043e+08</td>\n",
       "    </tr>\n",
       "    <tr>\n",
       "      <th>12</th>\n",
       "      <td>1</td>\n",
       "      <td>Global</td>\n",
       "      <td>1</td>\n",
       "      <td>Male</td>\n",
       "      <td>1</td>\n",
       "      <td>Under 5</td>\n",
       "      <td>1994</td>\n",
       "      <td>3.086484e+08</td>\n",
       "    </tr>\n",
       "    <tr>\n",
       "      <th>...</th>\n",
       "      <td>...</td>\n",
       "      <td>...</td>\n",
       "      <td>...</td>\n",
       "      <td>...</td>\n",
       "      <td>...</td>\n",
       "      <td>...</td>\n",
       "      <td>...</td>\n",
       "      <td>...</td>\n",
       "    </tr>\n",
       "    <tr>\n",
       "      <th>603921</th>\n",
       "      <td>44639</td>\n",
       "      <td>Middle SDI</td>\n",
       "      <td>1</td>\n",
       "      <td>Male</td>\n",
       "      <td>235</td>\n",
       "      <td>95 plus</td>\n",
       "      <td>2012</td>\n",
       "      <td>1.465375e+05</td>\n",
       "    </tr>\n",
       "    <tr>\n",
       "      <th>603924</th>\n",
       "      <td>44639</td>\n",
       "      <td>Middle SDI</td>\n",
       "      <td>1</td>\n",
       "      <td>Male</td>\n",
       "      <td>235</td>\n",
       "      <td>95 plus</td>\n",
       "      <td>2013</td>\n",
       "      <td>1.522679e+05</td>\n",
       "    </tr>\n",
       "    <tr>\n",
       "      <th>603927</th>\n",
       "      <td>44639</td>\n",
       "      <td>Middle SDI</td>\n",
       "      <td>1</td>\n",
       "      <td>Male</td>\n",
       "      <td>235</td>\n",
       "      <td>95 plus</td>\n",
       "      <td>2014</td>\n",
       "      <td>1.576811e+05</td>\n",
       "    </tr>\n",
       "    <tr>\n",
       "      <th>603930</th>\n",
       "      <td>44639</td>\n",
       "      <td>Middle SDI</td>\n",
       "      <td>1</td>\n",
       "      <td>Male</td>\n",
       "      <td>235</td>\n",
       "      <td>95 plus</td>\n",
       "      <td>2015</td>\n",
       "      <td>1.640926e+05</td>\n",
       "    </tr>\n",
       "    <tr>\n",
       "      <th>603933</th>\n",
       "      <td>44639</td>\n",
       "      <td>Middle SDI</td>\n",
       "      <td>1</td>\n",
       "      <td>Male</td>\n",
       "      <td>235</td>\n",
       "      <td>95 plus</td>\n",
       "      <td>2016</td>\n",
       "      <td>1.766505e+05</td>\n",
       "    </tr>\n",
       "  </tbody>\n",
       "</table>\n",
       "<p>201312 rows × 8 columns</p>\n",
       "</div>"
      ],
      "text/plain": [
       "        location_id location_name  sex_id sex_name  age_group_id  \\\n",
       "0                 1        Global       1     Male             1   \n",
       "3                 1        Global       1     Male             1   \n",
       "6                 1        Global       1     Male             1   \n",
       "9                 1        Global       1     Male             1   \n",
       "12                1        Global       1     Male             1   \n",
       "...             ...           ...     ...      ...           ...   \n",
       "603921        44639    Middle SDI       1     Male           235   \n",
       "603924        44639    Middle SDI       1     Male           235   \n",
       "603927        44639    Middle SDI       1     Male           235   \n",
       "603930        44639    Middle SDI       1     Male           235   \n",
       "603933        44639    Middle SDI       1     Male           235   \n",
       "\n",
       "       age_group_name  year_id           pop  \n",
       "0             Under 5     1990  3.073378e+08  \n",
       "3             Under 5     1991  3.089656e+08  \n",
       "6             Under 5     1992  3.096011e+08  \n",
       "9             Under 5     1993  3.094043e+08  \n",
       "12            Under 5     1994  3.086484e+08  \n",
       "...               ...      ...           ...  \n",
       "603921        95 plus     2012  1.465375e+05  \n",
       "603924        95 plus     2013  1.522679e+05  \n",
       "603927        95 plus     2014  1.576811e+05  \n",
       "603930        95 plus     2015  1.640926e+05  \n",
       "603933        95 plus     2016  1.766505e+05  \n",
       "\n",
       "[201312 rows x 8 columns]"
      ]
     },
     "execution_count": 23,
     "metadata": {},
     "output_type": "execute_result"
    }
   ],
   "source": [
    "test_list = ['Male']\n",
    "\n",
    "pop.loc[pop['sex_name'].isin(test_list)]"
   ]
  },
  {
   "cell_type": "markdown",
   "metadata": {},
   "source": [
    "__Subsetting__"
   ]
  },
  {
   "cell_type": "code",
   "execution_count": 26,
   "metadata": {},
   "outputs": [],
   "source": [
    "ages = ['5-14 years', '15-49 years', '50-69 years','70+ years']\n",
    "location = [\"Germany\", \"France\", \"Italy\"]\n",
    "sex = ['Male', 'Female']"
   ]
  },
  {
   "cell_type": "code",
   "execution_count": null,
   "metadata": {},
   "outputs": [],
   "source": [
    "## your code here\n"
   ]
  },
  {
   "cell_type": "code",
   "execution_count": 27,
   "metadata": {},
   "outputs": [
    {
     "name": "stdout",
     "output_type": "stream",
     "text": [
      "(648, 8)\n"
     ]
    },
    {
     "data": {
      "text/html": [
       "<div>\n",
       "<style scoped>\n",
       "    .dataframe tbody tr th:only-of-type {\n",
       "        vertical-align: middle;\n",
       "    }\n",
       "\n",
       "    .dataframe tbody tr th {\n",
       "        vertical-align: top;\n",
       "    }\n",
       "\n",
       "    .dataframe thead th {\n",
       "        text-align: right;\n",
       "    }\n",
       "</style>\n",
       "<table border=\"1\" class=\"dataframe\">\n",
       "  <thead>\n",
       "    <tr style=\"text-align: right;\">\n",
       "      <th></th>\n",
       "      <th>location_id</th>\n",
       "      <th>location_name</th>\n",
       "      <th>sex_id</th>\n",
       "      <th>sex_name</th>\n",
       "      <th>age_group_id</th>\n",
       "      <th>age_group_name</th>\n",
       "      <th>year_id</th>\n",
       "      <th>pop</th>\n",
       "    </tr>\n",
       "  </thead>\n",
       "  <tbody>\n",
       "    <tr>\n",
       "      <th>201600</th>\n",
       "      <td>80</td>\n",
       "      <td>France</td>\n",
       "      <td>1</td>\n",
       "      <td>Male</td>\n",
       "      <td>26</td>\n",
       "      <td>70+ years</td>\n",
       "      <td>2014</td>\n",
       "      <td>3330456.47</td>\n",
       "    </tr>\n",
       "    <tr>\n",
       "      <th>203961</th>\n",
       "      <td>81</td>\n",
       "      <td>Germany</td>\n",
       "      <td>1</td>\n",
       "      <td>Male</td>\n",
       "      <td>24</td>\n",
       "      <td>15-49 years</td>\n",
       "      <td>1991</td>\n",
       "      <td>20272948.21</td>\n",
       "    </tr>\n",
       "    <tr>\n",
       "      <th>201331</th>\n",
       "      <td>80</td>\n",
       "      <td>France</td>\n",
       "      <td>2</td>\n",
       "      <td>Female</td>\n",
       "      <td>23</td>\n",
       "      <td>5-14 years</td>\n",
       "      <td>2005</td>\n",
       "      <td>3646844.97</td>\n",
       "    </tr>\n",
       "    <tr>\n",
       "      <th>203991</th>\n",
       "      <td>81</td>\n",
       "      <td>Germany</td>\n",
       "      <td>1</td>\n",
       "      <td>Male</td>\n",
       "      <td>24</td>\n",
       "      <td>15-49 years</td>\n",
       "      <td>2001</td>\n",
       "      <td>20152048.10</td>\n",
       "    </tr>\n",
       "    <tr>\n",
       "      <th>217027</th>\n",
       "      <td>86</td>\n",
       "      <td>Italy</td>\n",
       "      <td>2</td>\n",
       "      <td>Female</td>\n",
       "      <td>25</td>\n",
       "      <td>50-69 years</td>\n",
       "      <td>1999</td>\n",
       "      <td>7091643.92</td>\n",
       "    </tr>\n",
       "  </tbody>\n",
       "</table>\n",
       "</div>"
      ],
      "text/plain": [
       "        location_id location_name  sex_id sex_name  age_group_id  \\\n",
       "201600           80        France       1     Male            26   \n",
       "203961           81       Germany       1     Male            24   \n",
       "201331           80        France       2   Female            23   \n",
       "203991           81       Germany       1     Male            24   \n",
       "217027           86         Italy       2   Female            25   \n",
       "\n",
       "       age_group_name  year_id          pop  \n",
       "201600      70+ years     2014   3330456.47  \n",
       "203961    15-49 years     1991  20272948.21  \n",
       "201331     5-14 years     2005   3646844.97  \n",
       "203991    15-49 years     2001  20152048.10  \n",
       "217027    50-69 years     1999   7091643.92  "
      ]
     },
     "execution_count": 27,
     "metadata": {},
     "output_type": "execute_result"
    }
   ],
   "source": [
    "# %load ../src/_solutions/tab_data03.py\n",
    "cond = (\n",
    "    pop[\"age_group_name\"].isin(ages) & \n",
    "    pop[\"location_name\"].isin(location) & \n",
    "    pop[\"sex_name\"].isin(sex)\n",
    ")\n",
    "\n",
    "pop_subset = pop.loc[cond,:]\n",
    "print(pop_subset.shape)\n",
    "pop_subset.sample(5)\n"
   ]
  },
  {
   "cell_type": "code",
   "execution_count": 28,
   "metadata": {},
   "outputs": [
    {
     "data": {
      "text/html": [
       "<div>\n",
       "<style scoped>\n",
       "    .dataframe tbody tr th:only-of-type {\n",
       "        vertical-align: middle;\n",
       "    }\n",
       "\n",
       "    .dataframe tbody tr th {\n",
       "        vertical-align: top;\n",
       "    }\n",
       "\n",
       "    .dataframe thead th {\n",
       "        text-align: right;\n",
       "    }\n",
       "</style>\n",
       "<table border=\"1\" class=\"dataframe\">\n",
       "  <thead>\n",
       "    <tr style=\"text-align: right;\">\n",
       "      <th></th>\n",
       "      <th>location_id</th>\n",
       "      <th>location_name</th>\n",
       "      <th>sex_id</th>\n",
       "      <th>sex_name</th>\n",
       "      <th>age_group_id</th>\n",
       "      <th>age_group_name</th>\n",
       "      <th>year_id</th>\n",
       "      <th>pop</th>\n",
       "    </tr>\n",
       "  </thead>\n",
       "  <tbody>\n",
       "    <tr>\n",
       "      <th>201285</th>\n",
       "      <td>80</td>\n",
       "      <td>France</td>\n",
       "      <td>1</td>\n",
       "      <td>Male</td>\n",
       "      <td>23</td>\n",
       "      <td>5-14 years</td>\n",
       "      <td>1990</td>\n",
       "      <td>3896596.90</td>\n",
       "    </tr>\n",
       "    <tr>\n",
       "      <th>201286</th>\n",
       "      <td>80</td>\n",
       "      <td>France</td>\n",
       "      <td>2</td>\n",
       "      <td>Female</td>\n",
       "      <td>23</td>\n",
       "      <td>5-14 years</td>\n",
       "      <td>1990</td>\n",
       "      <td>3716975.82</td>\n",
       "    </tr>\n",
       "    <tr>\n",
       "      <th>201288</th>\n",
       "      <td>80</td>\n",
       "      <td>France</td>\n",
       "      <td>1</td>\n",
       "      <td>Male</td>\n",
       "      <td>23</td>\n",
       "      <td>5-14 years</td>\n",
       "      <td>1991</td>\n",
       "      <td>3915343.49</td>\n",
       "    </tr>\n",
       "    <tr>\n",
       "      <th>201289</th>\n",
       "      <td>80</td>\n",
       "      <td>France</td>\n",
       "      <td>2</td>\n",
       "      <td>Female</td>\n",
       "      <td>23</td>\n",
       "      <td>5-14 years</td>\n",
       "      <td>1991</td>\n",
       "      <td>3733379.25</td>\n",
       "    </tr>\n",
       "    <tr>\n",
       "      <th>201291</th>\n",
       "      <td>80</td>\n",
       "      <td>France</td>\n",
       "      <td>1</td>\n",
       "      <td>Male</td>\n",
       "      <td>23</td>\n",
       "      <td>5-14 years</td>\n",
       "      <td>1992</td>\n",
       "      <td>3933758.16</td>\n",
       "    </tr>\n",
       "    <tr>\n",
       "      <th>...</th>\n",
       "      <td>...</td>\n",
       "      <td>...</td>\n",
       "      <td>...</td>\n",
       "      <td>...</td>\n",
       "      <td>...</td>\n",
       "      <td>...</td>\n",
       "      <td>...</td>\n",
       "      <td>...</td>\n",
       "    </tr>\n",
       "    <tr>\n",
       "      <th>217153</th>\n",
       "      <td>86</td>\n",
       "      <td>Italy</td>\n",
       "      <td>2</td>\n",
       "      <td>Female</td>\n",
       "      <td>26</td>\n",
       "      <td>70+ years</td>\n",
       "      <td>2014</td>\n",
       "      <td>5669195.28</td>\n",
       "    </tr>\n",
       "    <tr>\n",
       "      <th>217155</th>\n",
       "      <td>86</td>\n",
       "      <td>Italy</td>\n",
       "      <td>1</td>\n",
       "      <td>Male</td>\n",
       "      <td>26</td>\n",
       "      <td>70+ years</td>\n",
       "      <td>2015</td>\n",
       "      <td>4020123.15</td>\n",
       "    </tr>\n",
       "    <tr>\n",
       "      <th>217156</th>\n",
       "      <td>86</td>\n",
       "      <td>Italy</td>\n",
       "      <td>2</td>\n",
       "      <td>Female</td>\n",
       "      <td>26</td>\n",
       "      <td>70+ years</td>\n",
       "      <td>2015</td>\n",
       "      <td>5747247.96</td>\n",
       "    </tr>\n",
       "    <tr>\n",
       "      <th>217158</th>\n",
       "      <td>86</td>\n",
       "      <td>Italy</td>\n",
       "      <td>1</td>\n",
       "      <td>Male</td>\n",
       "      <td>26</td>\n",
       "      <td>70+ years</td>\n",
       "      <td>2016</td>\n",
       "      <td>4096158.53</td>\n",
       "    </tr>\n",
       "    <tr>\n",
       "      <th>217159</th>\n",
       "      <td>86</td>\n",
       "      <td>Italy</td>\n",
       "      <td>2</td>\n",
       "      <td>Female</td>\n",
       "      <td>26</td>\n",
       "      <td>70+ years</td>\n",
       "      <td>2016</td>\n",
       "      <td>5826996.75</td>\n",
       "    </tr>\n",
       "  </tbody>\n",
       "</table>\n",
       "<p>648 rows × 8 columns</p>\n",
       "</div>"
      ],
      "text/plain": [
       "        location_id location_name  sex_id sex_name  age_group_id  \\\n",
       "201285           80        France       1     Male            23   \n",
       "201286           80        France       2   Female            23   \n",
       "201288           80        France       1     Male            23   \n",
       "201289           80        France       2   Female            23   \n",
       "201291           80        France       1     Male            23   \n",
       "...             ...           ...     ...      ...           ...   \n",
       "217153           86         Italy       2   Female            26   \n",
       "217155           86         Italy       1     Male            26   \n",
       "217156           86         Italy       2   Female            26   \n",
       "217158           86         Italy       1     Male            26   \n",
       "217159           86         Italy       2   Female            26   \n",
       "\n",
       "       age_group_name  year_id         pop  \n",
       "201285     5-14 years     1990  3896596.90  \n",
       "201286     5-14 years     1990  3716975.82  \n",
       "201288     5-14 years     1991  3915343.49  \n",
       "201289     5-14 years     1991  3733379.25  \n",
       "201291     5-14 years     1992  3933758.16  \n",
       "...               ...      ...         ...  \n",
       "217153      70+ years     2014  5669195.28  \n",
       "217155      70+ years     2015  4020123.15  \n",
       "217156      70+ years     2015  5747247.96  \n",
       "217158      70+ years     2016  4096158.53  \n",
       "217159      70+ years     2016  5826996.75  \n",
       "\n",
       "[648 rows x 8 columns]"
      ]
     },
     "execution_count": 28,
     "metadata": {},
     "output_type": "execute_result"
    }
   ],
   "source": [
    "pop_subset"
   ]
  },
  {
   "cell_type": "markdown",
   "metadata": {},
   "source": [
    "### Split-Apply-Combine"
   ]
  },
  {
   "cell_type": "markdown",
   "metadata": {},
   "source": [
    "![](_img/split-apply-combine.svg)\n",
    "Image source: [Jake VanderPlas 2016, Data Science Handbook](https://jakevdp.github.io/PythonDataScienceHandbook/)"
   ]
  },
  {
   "cell_type": "markdown",
   "metadata": {},
   "source": [
    "> **Challenge:** Compute the population of Germany, Italy and France for the years 1990 to 2016. \n",
    "\n",
    "> _Hint_: Use the `groupby` function. You can also pass multiple columns to it by passing a `list`\n",
    "\n",
    "> _Hint_: When passing multiple columns you will end up with an ugly `MultiIndex`. You can transform an `index` level to columns using the `.unstack(level)` method. With `level = 0` being the leftmost index, `level = 1` the second from left, etc.\n"
   ]
  },
  {
   "cell_type": "code",
   "execution_count": 30,
   "metadata": {},
   "outputs": [
    {
     "data": {
      "text/plain": [
       "year_id  location_name\n",
       "1990     France           52924678.45\n",
       "         Germany          74905392.07\n",
       "         Italy            53965720.67\n",
       "1991     France           53204997.81\n",
       "         Germany          75282202.61\n",
       "                             ...     \n",
       "2015     Germany          78112961.81\n",
       "         Italy            57659331.41\n",
       "2016     France           61020069.08\n",
       "         Germany          78619000.77\n",
       "         Italy            57960714.36\n",
       "Name: pop, Length: 81, dtype: float64"
      ]
     },
     "execution_count": 30,
     "metadata": {},
     "output_type": "execute_result"
    }
   ],
   "source": [
    "# %load ../src/_solutions/tab_data04.py\n",
    "gb = pop_subset.groupby([\"year_id\", \"location_name\"])[\"pop\"].sum()\n",
    "gb\n"
   ]
  },
  {
   "cell_type": "code",
   "execution_count": 33,
   "metadata": {},
   "outputs": [
    {
     "data": {
      "text/html": [
       "<div>\n",
       "<style scoped>\n",
       "    .dataframe tbody tr th:only-of-type {\n",
       "        vertical-align: middle;\n",
       "    }\n",
       "\n",
       "    .dataframe tbody tr th {\n",
       "        vertical-align: top;\n",
       "    }\n",
       "\n",
       "    .dataframe thead th {\n",
       "        text-align: right;\n",
       "    }\n",
       "</style>\n",
       "<table border=\"1\" class=\"dataframe\">\n",
       "  <thead>\n",
       "    <tr style=\"text-align: right;\">\n",
       "      <th>location_name</th>\n",
       "      <th>France</th>\n",
       "      <th>Germany</th>\n",
       "      <th>Italy</th>\n",
       "    </tr>\n",
       "    <tr>\n",
       "      <th>year_id</th>\n",
       "      <th></th>\n",
       "      <th></th>\n",
       "      <th></th>\n",
       "    </tr>\n",
       "  </thead>\n",
       "  <tbody>\n",
       "    <tr>\n",
       "      <th>1990</th>\n",
       "      <td>52924678.45</td>\n",
       "      <td>74905392.07</td>\n",
       "      <td>53965720.67</td>\n",
       "    </tr>\n",
       "    <tr>\n",
       "      <th>1991</th>\n",
       "      <td>53204997.81</td>\n",
       "      <td>75282202.61</td>\n",
       "      <td>54096588.22</td>\n",
       "    </tr>\n",
       "    <tr>\n",
       "      <th>1992</th>\n",
       "      <td>53491245.78</td>\n",
       "      <td>75846260.69</td>\n",
       "      <td>54185851.15</td>\n",
       "    </tr>\n",
       "    <tr>\n",
       "      <th>1993</th>\n",
       "      <td>53764681.77</td>\n",
       "      <td>76382332.04</td>\n",
       "      <td>54181997.23</td>\n",
       "    </tr>\n",
       "    <tr>\n",
       "      <th>1994</th>\n",
       "      <td>54014103.00</td>\n",
       "      <td>76711513.38</td>\n",
       "      <td>54185577.66</td>\n",
       "    </tr>\n",
       "    <tr>\n",
       "      <th>1995</th>\n",
       "      <td>54244201.26</td>\n",
       "      <td>77017974.10</td>\n",
       "      <td>54196349.68</td>\n",
       "    </tr>\n",
       "    <tr>\n",
       "      <th>1996</th>\n",
       "      <td>54453151.38</td>\n",
       "      <td>77271569.64</td>\n",
       "      <td>54215293.54</td>\n",
       "    </tr>\n",
       "    <tr>\n",
       "      <th>1997</th>\n",
       "      <td>54652082.22</td>\n",
       "      <td>77347967.36</td>\n",
       "      <td>54261314.98</td>\n",
       "    </tr>\n",
       "    <tr>\n",
       "      <th>1998</th>\n",
       "      <td>54837898.37</td>\n",
       "      <td>77306087.32</td>\n",
       "      <td>54309603.01</td>\n",
       "    </tr>\n",
       "    <tr>\n",
       "      <th>1999</th>\n",
       "      <td>55080702.99</td>\n",
       "      <td>77293813.76</td>\n",
       "      <td>54329309.93</td>\n",
       "    </tr>\n",
       "    <tr>\n",
       "      <th>2000</th>\n",
       "      <td>55411738.40</td>\n",
       "      <td>77331577.64</td>\n",
       "      <td>54353264.02</td>\n",
       "    </tr>\n",
       "    <tr>\n",
       "      <th>2001</th>\n",
       "      <td>55777710.44</td>\n",
       "      <td>77429977.84</td>\n",
       "      <td>54388801.14</td>\n",
       "    </tr>\n",
       "    <tr>\n",
       "      <th>2002</th>\n",
       "      <td>56148772.92</td>\n",
       "      <td>77572863.01</td>\n",
       "      <td>54460704.27</td>\n",
       "    </tr>\n",
       "    <tr>\n",
       "      <th>2003</th>\n",
       "      <td>56524552.70</td>\n",
       "      <td>77629811.40</td>\n",
       "      <td>54690631.60</td>\n",
       "    </tr>\n",
       "    <tr>\n",
       "      <th>2004</th>\n",
       "      <td>56925329.38</td>\n",
       "      <td>77640713.22</td>\n",
       "      <td>55033516.62</td>\n",
       "    </tr>\n",
       "    <tr>\n",
       "      <th>2005</th>\n",
       "      <td>57362117.47</td>\n",
       "      <td>77625678.15</td>\n",
       "      <td>55290296.71</td>\n",
       "    </tr>\n",
       "    <tr>\n",
       "      <th>2006</th>\n",
       "      <td>57780785.66</td>\n",
       "      <td>77540495.53</td>\n",
       "      <td>55447150.87</td>\n",
       "    </tr>\n",
       "    <tr>\n",
       "      <th>2007</th>\n",
       "      <td>58140459.87</td>\n",
       "      <td>77410998.63</td>\n",
       "      <td>55715794.01</td>\n",
       "    </tr>\n",
       "    <tr>\n",
       "      <th>2008</th>\n",
       "      <td>58458362.46</td>\n",
       "      <td>77257023.21</td>\n",
       "      <td>56075640.98</td>\n",
       "    </tr>\n",
       "    <tr>\n",
       "      <th>2009</th>\n",
       "      <td>58750572.26</td>\n",
       "      <td>77093829.71</td>\n",
       "      <td>56330724.78</td>\n",
       "    </tr>\n",
       "    <tr>\n",
       "      <th>2010</th>\n",
       "      <td>59034248.17</td>\n",
       "      <td>76974942.55</td>\n",
       "      <td>56517916.98</td>\n",
       "    </tr>\n",
       "    <tr>\n",
       "      <th>2011</th>\n",
       "      <td>59333389.35</td>\n",
       "      <td>76936624.35</td>\n",
       "      <td>56633630.78</td>\n",
       "    </tr>\n",
       "    <tr>\n",
       "      <th>2012</th>\n",
       "      <td>59628203.78</td>\n",
       "      <td>77038235.71</td>\n",
       "      <td>56805924.59</td>\n",
       "    </tr>\n",
       "    <tr>\n",
       "      <th>2013</th>\n",
       "      <td>59907632.52</td>\n",
       "      <td>77242754.95</td>\n",
       "      <td>57081736.70</td>\n",
       "    </tr>\n",
       "    <tr>\n",
       "      <th>2014</th>\n",
       "      <td>60200287.87</td>\n",
       "      <td>77653446.03</td>\n",
       "      <td>57366276.76</td>\n",
       "    </tr>\n",
       "    <tr>\n",
       "      <th>2015</th>\n",
       "      <td>60607027.88</td>\n",
       "      <td>78112961.81</td>\n",
       "      <td>57659331.41</td>\n",
       "    </tr>\n",
       "    <tr>\n",
       "      <th>2016</th>\n",
       "      <td>61020069.08</td>\n",
       "      <td>78619000.77</td>\n",
       "      <td>57960714.36</td>\n",
       "    </tr>\n",
       "  </tbody>\n",
       "</table>\n",
       "</div>"
      ],
      "text/plain": [
       "location_name       France      Germany        Italy\n",
       "year_id                                             \n",
       "1990           52924678.45  74905392.07  53965720.67\n",
       "1991           53204997.81  75282202.61  54096588.22\n",
       "1992           53491245.78  75846260.69  54185851.15\n",
       "1993           53764681.77  76382332.04  54181997.23\n",
       "1994           54014103.00  76711513.38  54185577.66\n",
       "1995           54244201.26  77017974.10  54196349.68\n",
       "1996           54453151.38  77271569.64  54215293.54\n",
       "1997           54652082.22  77347967.36  54261314.98\n",
       "1998           54837898.37  77306087.32  54309603.01\n",
       "1999           55080702.99  77293813.76  54329309.93\n",
       "2000           55411738.40  77331577.64  54353264.02\n",
       "2001           55777710.44  77429977.84  54388801.14\n",
       "2002           56148772.92  77572863.01  54460704.27\n",
       "2003           56524552.70  77629811.40  54690631.60\n",
       "2004           56925329.38  77640713.22  55033516.62\n",
       "2005           57362117.47  77625678.15  55290296.71\n",
       "2006           57780785.66  77540495.53  55447150.87\n",
       "2007           58140459.87  77410998.63  55715794.01\n",
       "2008           58458362.46  77257023.21  56075640.98\n",
       "2009           58750572.26  77093829.71  56330724.78\n",
       "2010           59034248.17  76974942.55  56517916.98\n",
       "2011           59333389.35  76936624.35  56633630.78\n",
       "2012           59628203.78  77038235.71  56805924.59\n",
       "2013           59907632.52  77242754.95  57081736.70\n",
       "2014           60200287.87  77653446.03  57366276.76\n",
       "2015           60607027.88  78112961.81  57659331.41\n",
       "2016           61020069.08  78619000.77  57960714.36"
      ]
     },
     "execution_count": 33,
     "metadata": {},
     "output_type": "execute_result"
    }
   ],
   "source": [
    "gb.unstack()"
   ]
  },
  {
   "cell_type": "code",
   "execution_count": null,
   "metadata": {},
   "outputs": [],
   "source": [
    "## your code here"
   ]
  },
  {
   "cell_type": "markdown",
   "metadata": {},
   "source": [
    "### Multi-Index Dataframes"
   ]
  },
  {
   "cell_type": "code",
   "execution_count": 34,
   "metadata": {},
   "outputs": [
    {
     "data": {
      "text/plain": [
       "location_name  age_group_name\n",
       "France         15-49 years       1.437323e+07\n",
       "               5-14 years        3.827837e+06\n",
       "               50-69 years       6.626705e+06\n",
       "               70+ years         3.536658e+06\n",
       "Germany        15-49 years       1.925660e+07\n",
       "               5-14 years        4.095171e+06\n",
       "               50-69 years       1.006431e+07\n",
       "               70+ years         5.148287e+06\n",
       "Italy          15-49 years       1.390473e+07\n",
       "               5-14 years        2.825256e+06\n",
       "               50-69 years       7.023152e+06\n",
       "               70+ years         3.908706e+06\n",
       "Name: pop, dtype: float64"
      ]
     },
     "execution_count": 34,
     "metadata": {},
     "output_type": "execute_result"
    }
   ],
   "source": [
    "pop_subset.groupby([\"location_name\", \"age_group_name\"])[\"pop\"].mean()"
   ]
  },
  {
   "cell_type": "code",
   "execution_count": null,
   "metadata": {},
   "outputs": [],
   "source": [
    "pop_multi_index = pop_subset.groupby([\"location_name\", \"age_group_name\"])[\"pop\"].mean()"
   ]
  },
  {
   "cell_type": "code",
   "execution_count": null,
   "metadata": {},
   "outputs": [],
   "source": [
    "type(pop_multi_index)"
   ]
  },
  {
   "cell_type": "code",
   "execution_count": null,
   "metadata": {},
   "outputs": [],
   "source": [
    "pop_multi_index.index"
   ]
  },
  {
   "cell_type": "code",
   "execution_count": null,
   "metadata": {},
   "outputs": [],
   "source": [
    "pop_multi_index.unstack()"
   ]
  },
  {
   "cell_type": "markdown",
   "metadata": {},
   "source": [
    "> ### Challenge: Load the dataset in `'../data/data_unstack.csv'` groupby the columns `'Year'` and `'Names'` and aggregate with `sum()` over the column `'Money'`. Use `unstack()`-method to reform the dataframe so the `'Year'`-Column is set as Index.\n"
   ]
  },
  {
   "cell_type": "code",
   "execution_count": null,
   "metadata": {},
   "outputs": [],
   "source": [
    "## your code here"
   ]
  },
  {
   "cell_type": "code",
   "execution_count": 52,
   "metadata": {},
   "outputs": [
    {
     "name": "stdout",
     "output_type": "stream",
     "text": [
      "      Names  Age  Country  Money  Year\n",
      "0     Alice   25  Germany   5500  1990\n",
      "1       Bob   21   France   2000  1990\n",
      "2   Charlie   28    Spain   3000  1990\n",
      "3     David   46       UK   4000  1990\n",
      "4     Alice   25  Germany   5500  1995\n",
      "5       Bob   21   France   2000  1995\n",
      "6   Charlie   28    Spain   3000  1995\n",
      "7     David   46       UK   4000  1995\n",
      "8     Alice   25  Germany   5500  2000\n",
      "9       Bob   21   France   2000  2000\n",
      "10  Charlie   28    Spain   3000  2000\n",
      "11    David   46       UK   4000  2000\n",
      "12    Alice   25  Germany   -500  1990\n",
      "13      Bob   21   France  -2000  1990\n",
      "14  Charlie   28    Spain    700  1990\n",
      "15    David   46       UK    100  1990\n",
      "16    Alice   25  Germany    550  1995\n",
      "17      Bob   21   France    200  1995\n",
      "18  Charlie   28    Spain     30  1995\n",
      "19    David   46       UK   -800  1995\n",
      "20    Alice   25  Germany    900  2000\n",
      "21      Bob   21   France     10  2000\n",
      "22  Charlie   28    Spain    300  2000\n",
      "23    David   46       UK   -400  2000\n",
      "Money  Names  \n",
      "-2000  Bob        1990\n",
      "-800   David      1995\n",
      "-500   Alice      1990\n",
      "-400   David      2000\n",
      " 10    Bob        2000\n",
      " 30    Charlie    1995\n",
      " 100   David      1990\n",
      " 200   Bob        1995\n",
      " 300   Charlie    2000\n",
      " 550   Alice      1995\n",
      " 700   Charlie    1990\n",
      " 900   Alice      2000\n",
      " 2000  Bob        5985\n",
      " 3000  Charlie    5985\n",
      " 4000  David      5985\n",
      " 5500  Alice      5985\n",
      "Name: Year, dtype: int64\n"
     ]
    },
    {
     "data": {
      "text/html": [
       "<div>\n",
       "<style scoped>\n",
       "    .dataframe tbody tr th:only-of-type {\n",
       "        vertical-align: middle;\n",
       "    }\n",
       "\n",
       "    .dataframe tbody tr th {\n",
       "        vertical-align: top;\n",
       "    }\n",
       "\n",
       "    .dataframe thead th {\n",
       "        text-align: right;\n",
       "    }\n",
       "</style>\n",
       "<table border=\"1\" class=\"dataframe\">\n",
       "  <thead>\n",
       "    <tr style=\"text-align: right;\">\n",
       "      <th>Names</th>\n",
       "      <th>Alice</th>\n",
       "      <th>Bob</th>\n",
       "      <th>Charlie</th>\n",
       "      <th>David</th>\n",
       "    </tr>\n",
       "    <tr>\n",
       "      <th>Money</th>\n",
       "      <th></th>\n",
       "      <th></th>\n",
       "      <th></th>\n",
       "      <th></th>\n",
       "    </tr>\n",
       "  </thead>\n",
       "  <tbody>\n",
       "    <tr>\n",
       "      <th>-2000</th>\n",
       "      <td>NaN</td>\n",
       "      <td>1990.0</td>\n",
       "      <td>NaN</td>\n",
       "      <td>NaN</td>\n",
       "    </tr>\n",
       "    <tr>\n",
       "      <th>-800</th>\n",
       "      <td>NaN</td>\n",
       "      <td>NaN</td>\n",
       "      <td>NaN</td>\n",
       "      <td>1995.0</td>\n",
       "    </tr>\n",
       "    <tr>\n",
       "      <th>-500</th>\n",
       "      <td>1990.0</td>\n",
       "      <td>NaN</td>\n",
       "      <td>NaN</td>\n",
       "      <td>NaN</td>\n",
       "    </tr>\n",
       "    <tr>\n",
       "      <th>-400</th>\n",
       "      <td>NaN</td>\n",
       "      <td>NaN</td>\n",
       "      <td>NaN</td>\n",
       "      <td>2000.0</td>\n",
       "    </tr>\n",
       "    <tr>\n",
       "      <th>10</th>\n",
       "      <td>NaN</td>\n",
       "      <td>2000.0</td>\n",
       "      <td>NaN</td>\n",
       "      <td>NaN</td>\n",
       "    </tr>\n",
       "    <tr>\n",
       "      <th>30</th>\n",
       "      <td>NaN</td>\n",
       "      <td>NaN</td>\n",
       "      <td>1995.0</td>\n",
       "      <td>NaN</td>\n",
       "    </tr>\n",
       "    <tr>\n",
       "      <th>100</th>\n",
       "      <td>NaN</td>\n",
       "      <td>NaN</td>\n",
       "      <td>NaN</td>\n",
       "      <td>1990.0</td>\n",
       "    </tr>\n",
       "    <tr>\n",
       "      <th>200</th>\n",
       "      <td>NaN</td>\n",
       "      <td>1995.0</td>\n",
       "      <td>NaN</td>\n",
       "      <td>NaN</td>\n",
       "    </tr>\n",
       "    <tr>\n",
       "      <th>300</th>\n",
       "      <td>NaN</td>\n",
       "      <td>NaN</td>\n",
       "      <td>2000.0</td>\n",
       "      <td>NaN</td>\n",
       "    </tr>\n",
       "    <tr>\n",
       "      <th>550</th>\n",
       "      <td>1995.0</td>\n",
       "      <td>NaN</td>\n",
       "      <td>NaN</td>\n",
       "      <td>NaN</td>\n",
       "    </tr>\n",
       "    <tr>\n",
       "      <th>700</th>\n",
       "      <td>NaN</td>\n",
       "      <td>NaN</td>\n",
       "      <td>1990.0</td>\n",
       "      <td>NaN</td>\n",
       "    </tr>\n",
       "    <tr>\n",
       "      <th>900</th>\n",
       "      <td>2000.0</td>\n",
       "      <td>NaN</td>\n",
       "      <td>NaN</td>\n",
       "      <td>NaN</td>\n",
       "    </tr>\n",
       "    <tr>\n",
       "      <th>2000</th>\n",
       "      <td>NaN</td>\n",
       "      <td>5985.0</td>\n",
       "      <td>NaN</td>\n",
       "      <td>NaN</td>\n",
       "    </tr>\n",
       "    <tr>\n",
       "      <th>3000</th>\n",
       "      <td>NaN</td>\n",
       "      <td>NaN</td>\n",
       "      <td>5985.0</td>\n",
       "      <td>NaN</td>\n",
       "    </tr>\n",
       "    <tr>\n",
       "      <th>4000</th>\n",
       "      <td>NaN</td>\n",
       "      <td>NaN</td>\n",
       "      <td>NaN</td>\n",
       "      <td>5985.0</td>\n",
       "    </tr>\n",
       "    <tr>\n",
       "      <th>5500</th>\n",
       "      <td>5985.0</td>\n",
       "      <td>NaN</td>\n",
       "      <td>NaN</td>\n",
       "      <td>NaN</td>\n",
       "    </tr>\n",
       "  </tbody>\n",
       "</table>\n",
       "</div>"
      ],
      "text/plain": [
       "Names   Alice     Bob  Charlie   David\n",
       "Money                                 \n",
       "-2000     NaN  1990.0      NaN     NaN\n",
       "-800      NaN     NaN      NaN  1995.0\n",
       "-500   1990.0     NaN      NaN     NaN\n",
       "-400      NaN     NaN      NaN  2000.0\n",
       " 10       NaN  2000.0      NaN     NaN\n",
       " 30       NaN     NaN   1995.0     NaN\n",
       " 100      NaN     NaN      NaN  1990.0\n",
       " 200      NaN  1995.0      NaN     NaN\n",
       " 300      NaN     NaN   2000.0     NaN\n",
       " 550   1995.0     NaN      NaN     NaN\n",
       " 700      NaN     NaN   1990.0     NaN\n",
       " 900   2000.0     NaN      NaN     NaN\n",
       " 2000     NaN  5985.0      NaN     NaN\n",
       " 3000     NaN     NaN   5985.0     NaN\n",
       " 4000     NaN     NaN      NaN  5985.0\n",
       " 5500  5985.0     NaN      NaN     NaN"
      ]
     },
     "execution_count": 52,
     "metadata": {},
     "output_type": "execute_result"
    }
   ],
   "source": [
    "# %load ../src/_solutions/unstack_example.py\n",
    "df_unstack = pd.read_csv('../data/data_unstack.csv')\n",
    "\n",
    "print(df_unstack)\n",
    "\n",
    "df_unstack = df_unstack.groupby(['Money', 'Names'])['Year'].sum()\n",
    "\n",
    "print(df_unstack)\n",
    "\n",
    "df_unstack2 = df_unstack.unstack()\n",
    "\n",
    "df_unstack2"
   ]
  },
  {
   "cell_type": "code",
   "execution_count": 59,
   "metadata": {},
   "outputs": [
    {
     "data": {
      "text/plain": [
       "Names  Money\n",
       "Alice  -2000       NaN\n",
       "       -800        NaN\n",
       "       -500     1990.0\n",
       "       -400        NaN\n",
       "        10         NaN\n",
       "                 ...  \n",
       "David   900        NaN\n",
       "        2000       NaN\n",
       "        3000       NaN\n",
       "        4000    5985.0\n",
       "        5500       NaN\n",
       "Length: 64, dtype: float64"
      ]
     },
     "execution_count": 59,
     "metadata": {},
     "output_type": "execute_result"
    }
   ],
   "source": [
    "df_unstack2.unstack()"
   ]
  },
  {
   "cell_type": "code",
   "execution_count": 49,
   "metadata": {},
   "outputs": [
    {
     "data": {
      "text/html": [
       "<div>\n",
       "<style scoped>\n",
       "    .dataframe tbody tr th:only-of-type {\n",
       "        vertical-align: middle;\n",
       "    }\n",
       "\n",
       "    .dataframe tbody tr th {\n",
       "        vertical-align: top;\n",
       "    }\n",
       "\n",
       "    .dataframe thead th {\n",
       "        text-align: right;\n",
       "    }\n",
       "</style>\n",
       "<table border=\"1\" class=\"dataframe\">\n",
       "  <thead>\n",
       "    <tr style=\"text-align: right;\">\n",
       "      <th>Names</th>\n",
       "      <th>Alice</th>\n",
       "      <th>Bob</th>\n",
       "      <th>Charlie</th>\n",
       "      <th>David</th>\n",
       "    </tr>\n",
       "    <tr>\n",
       "      <th>Year</th>\n",
       "      <th></th>\n",
       "      <th></th>\n",
       "      <th></th>\n",
       "      <th></th>\n",
       "    </tr>\n",
       "  </thead>\n",
       "  <tbody>\n",
       "    <tr>\n",
       "      <th>1990</th>\n",
       "      <td>5000</td>\n",
       "      <td>0</td>\n",
       "      <td>3700</td>\n",
       "      <td>4100</td>\n",
       "    </tr>\n",
       "    <tr>\n",
       "      <th>1995</th>\n",
       "      <td>6050</td>\n",
       "      <td>2200</td>\n",
       "      <td>3030</td>\n",
       "      <td>3200</td>\n",
       "    </tr>\n",
       "    <tr>\n",
       "      <th>2000</th>\n",
       "      <td>6400</td>\n",
       "      <td>2010</td>\n",
       "      <td>3300</td>\n",
       "      <td>3600</td>\n",
       "    </tr>\n",
       "  </tbody>\n",
       "</table>\n",
       "</div>"
      ],
      "text/plain": [
       "Names  Alice   Bob  Charlie  David\n",
       "Year                              \n",
       "1990    5000     0     3700   4100\n",
       "1995    6050  2200     3030   3200\n",
       "2000    6400  2010     3300   3600"
      ]
     },
     "execution_count": 49,
     "metadata": {},
     "output_type": "execute_result"
    }
   ],
   "source": [
    "df_unstack.unstack()"
   ]
  },
  {
   "cell_type": "markdown",
   "metadata": {},
   "source": [
    "## Plotting"
   ]
  },
  {
   "cell_type": "markdown",
   "metadata": {},
   "source": [
    "> **Challenge:**    \n",
    "Plot how the the population of Germany, Italy and France changed over the years 1990 to 2016. "
   ]
  },
  {
   "cell_type": "code",
   "execution_count": 64,
   "metadata": {},
   "outputs": [
    {
     "data": {
      "image/png": "[encoded data removed]",
      "text/plain": [
       "<Figure size 1400x400 with 1 Axes>"
      ]
     },
     "metadata": {},
     "output_type": "display_data"
    }
   ],
   "source": [
    "# %load ../src/_solutions/tab_data05.py\n",
    "gb.unstack().plot(figsize=(14,4))\n",
    "plt.grid()\n"
   ]
  },
  {
   "cell_type": "markdown",
   "metadata": {},
   "source": [
    "> **Challenge:**    \n",
    "Redo the analysis from above but now include Spain in addition to Germany, Italy and France into the analysis."
   ]
  },
  {
   "cell_type": "code",
   "execution_count": 65,
   "metadata": {},
   "outputs": [],
   "source": [
    "ages = ['5-14 years', '15-49 years', '50-69 years','70+ years']\n",
    "location = [\"Spain\", \"Germany\", \"France\", \"Italy\"]\n",
    "sex = ['Male', 'Female']"
   ]
  },
  {
   "cell_type": "code",
   "execution_count": null,
   "metadata": {},
   "outputs": [],
   "source": [
    "## your code here\n"
   ]
  },
  {
   "cell_type": "code",
   "execution_count": 66,
   "metadata": {},
   "outputs": [
    {
     "name": "stdout",
     "output_type": "stream",
     "text": [
      "(864, 8)\n"
     ]
    },
    {
     "data": {
      "text/html": [
       "<div>\n",
       "<style scoped>\n",
       "    .dataframe tbody tr th:only-of-type {\n",
       "        vertical-align: middle;\n",
       "    }\n",
       "\n",
       "    .dataframe tbody tr th {\n",
       "        vertical-align: top;\n",
       "    }\n",
       "\n",
       "    .dataframe thead th {\n",
       "        text-align: right;\n",
       "    }\n",
       "</style>\n",
       "<table border=\"1\" class=\"dataframe\">\n",
       "  <thead>\n",
       "    <tr style=\"text-align: right;\">\n",
       "      <th></th>\n",
       "      <th>location_id</th>\n",
       "      <th>location_name</th>\n",
       "      <th>sex_id</th>\n",
       "      <th>sex_name</th>\n",
       "      <th>age_group_id</th>\n",
       "      <th>age_group_name</th>\n",
       "      <th>year_id</th>\n",
       "      <th>pop</th>\n",
       "    </tr>\n",
       "  </thead>\n",
       "  <tbody>\n",
       "    <tr>\n",
       "      <th>232426</th>\n",
       "      <td>92</td>\n",
       "      <td>Spain</td>\n",
       "      <td>2</td>\n",
       "      <td>Female</td>\n",
       "      <td>23</td>\n",
       "      <td>5-14 years</td>\n",
       "      <td>2002</td>\n",
       "      <td>1957173.82</td>\n",
       "    </tr>\n",
       "    <tr>\n",
       "      <th>232407</th>\n",
       "      <td>92</td>\n",
       "      <td>Spain</td>\n",
       "      <td>1</td>\n",
       "      <td>Male</td>\n",
       "      <td>23</td>\n",
       "      <td>5-14 years</td>\n",
       "      <td>1996</td>\n",
       "      <td>2321940.07</td>\n",
       "    </tr>\n",
       "    <tr>\n",
       "      <th>217008</th>\n",
       "      <td>86</td>\n",
       "      <td>Italy</td>\n",
       "      <td>1</td>\n",
       "      <td>Male</td>\n",
       "      <td>25</td>\n",
       "      <td>50-69 years</td>\n",
       "      <td>1993</td>\n",
       "      <td>6365455.69</td>\n",
       "    </tr>\n",
       "    <tr>\n",
       "      <th>232705</th>\n",
       "      <td>92</td>\n",
       "      <td>Spain</td>\n",
       "      <td>2</td>\n",
       "      <td>Female</td>\n",
       "      <td>26</td>\n",
       "      <td>70+ years</td>\n",
       "      <td>2014</td>\n",
       "      <td>3624896.32</td>\n",
       "    </tr>\n",
       "    <tr>\n",
       "      <th>232513</th>\n",
       "      <td>92</td>\n",
       "      <td>Spain</td>\n",
       "      <td>2</td>\n",
       "      <td>Female</td>\n",
       "      <td>24</td>\n",
       "      <td>15-49 years</td>\n",
       "      <td>2004</td>\n",
       "      <td>11059651.65</td>\n",
       "    </tr>\n",
       "  </tbody>\n",
       "</table>\n",
       "</div>"
      ],
      "text/plain": [
       "        location_id location_name  sex_id sex_name  age_group_id  \\\n",
       "232426           92         Spain       2   Female            23   \n",
       "232407           92         Spain       1     Male            23   \n",
       "217008           86         Italy       1     Male            25   \n",
       "232705           92         Spain       2   Female            26   \n",
       "232513           92         Spain       2   Female            24   \n",
       "\n",
       "       age_group_name  year_id          pop  \n",
       "232426     5-14 years     2002   1957173.82  \n",
       "232407     5-14 years     1996   2321940.07  \n",
       "217008    50-69 years     1993   6365455.69  \n",
       "232705      70+ years     2014   3624896.32  \n",
       "232513    15-49 years     2004  11059651.65  "
      ]
     },
     "execution_count": 66,
     "metadata": {},
     "output_type": "execute_result"
    }
   ],
   "source": [
    "# %load ../src/_solutions/tab_data03.py\n",
    "ages = ['5-14 years', '15-49 years', '50-69 years','70+ years']\n",
    "location = [\"Spain\", \"Germany\", \"France\", \"Italy\"]\n",
    "sex = ['Male', 'Female']\n",
    "\n",
    "cond = (\n",
    "    pop[\"age_group_name\"].isin(ages) & \n",
    "    pop[\"location_name\"].isin(location) & \n",
    "    pop[\"sex_name\"].isin(sex)\n",
    ")\n",
    "\n",
    "pop_subset = pop.loc[cond,:]\n",
    "\n",
    "gb = pop_subset.groupby([\"year_id\", \"location_name\"])[\"pop\"].sum()\n"
   ]
  },
  {
   "cell_type": "code",
   "execution_count": 67,
   "metadata": {},
   "outputs": [
    {
     "data": {
      "text/plain": [
       "year_id  location_name\n",
       "1990     France           52924678.45\n",
       "         Germany          74905392.07\n",
       "         Italy            53965720.67\n",
       "         Spain            36832506.47\n",
       "1991     France           53204997.81\n",
       "                             ...     \n",
       "2015     Spain            44243841.58\n",
       "2016     France           61020069.08\n",
       "         Germany          78619000.77\n",
       "         Italy            57960714.36\n",
       "         Spain            44315872.48\n",
       "Name: pop, Length: 108, dtype: float64"
      ]
     },
     "execution_count": 67,
     "metadata": {},
     "output_type": "execute_result"
    }
   ],
   "source": [
    "# %load ../src/_solutions/tab_data04.py\n",
    "gb = pop_subset.groupby([\"year_id\", \"location_name\"])[\"pop\"].sum()\n",
    "gb\n"
   ]
  },
  {
   "cell_type": "code",
   "execution_count": 68,
   "metadata": {},
   "outputs": [
    {
     "data": {
      "text/plain": [
       "<AxesSubplot:xlabel='year_id'>"
      ]
     },
     "execution_count": 68,
     "metadata": {},
     "output_type": "execute_result"
    },
    {
     "data": {
      "image/png": "[encoded data removed]",
      "text/plain": [
       "<Figure size 640x480 with 1 Axes>"
      ]
     },
     "metadata": {},
     "output_type": "display_data"
    }
   ],
   "source": [
    "gb.unstack().plot()\n"
   ]
  },
  {
   "cell_type": "code",
   "execution_count": null,
   "metadata": {},
   "outputs": [],
   "source": [
    "## your code here"
   ]
  },
  {
   "cell_type": "markdown",
   "metadata": {},
   "source": [
    "> ### Challenge: Compute the population of Germany, Italy and France for the years 1990 to 2016. _Hint: Use the_ `groupby` _method_ for the columns `year_id` and `location_name`\n"
   ]
  },
  {
   "cell_type": "code",
   "execution_count": null,
   "metadata": {},
   "outputs": [],
   "source": [
    "## your code here"
   ]
  },
  {
   "cell_type": "code",
   "execution_count": null,
   "metadata": {},
   "outputs": [],
   "source": [
    "# %load ../src/_solutions/tab_data04.py"
   ]
  },
  {
   "cell_type": "markdown",
   "metadata": {},
   "source": [
    "## Plotting"
   ]
  },
  {
   "cell_type": "markdown",
   "metadata": {},
   "source": [
    "> ### Challenge:    \n",
    "Plot how the the population of Germany, Italy and France changed over the years 1990 to 2016. "
   ]
  },
  {
   "cell_type": "markdown",
   "metadata": {},
   "source": [
    "*Hint*: Use `unstack()` to deal with multi-Index dataframes : [Documentation unstack()](https://pandas.pydata.org/docs/reference/api/pandas.DataFrame.unstack.html)"
   ]
  },
  {
   "cell_type": "code",
   "execution_count": null,
   "metadata": {
    "tags": []
   },
   "outputs": [],
   "source": [
    "## your code here"
   ]
  },
  {
   "cell_type": "code",
   "execution_count": null,
   "metadata": {},
   "outputs": [],
   "source": [
    "# %load ../src/_solutions/tab_data05.py"
   ]
  },
  {
   "cell_type": "markdown",
   "metadata": {},
   "source": [
    "> ### Challenge: Redo the analysis from above but now include Spain in addition to Germany, Italy and France into the analysis."
   ]
  },
  {
   "cell_type": "markdown",
   "metadata": {},
   "source": [
    "## Solution:\n",
    "- Append `'Spain'` into the location list and rerun the code above"
   ]
  },
  {
   "cell_type": "code",
   "execution_count": null,
   "metadata": {},
   "outputs": [],
   "source": [
    "location = [\"Germany\", \"France\", \"Italy\"]"
   ]
  },
  {
   "cell_type": "code",
   "execution_count": null,
   "metadata": {},
   "outputs": [],
   "source": [
    "location.append('Spain')\n",
    "location"
   ]
  },
  {
   "cell_type": "code",
   "execution_count": null,
   "metadata": {
    "tags": []
   },
   "outputs": [],
   "source": [
    "## your code here"
   ]
  },
  {
   "cell_type": "code",
   "execution_count": null,
   "metadata": {
    "tags": []
   },
   "outputs": [],
   "source": [
    "# %load ../src/_solutions/challenge0.py"
   ]
  },
  {
   "cell_type": "markdown",
   "metadata": {},
   "source": [
    "### Challenge: Plot the the population for all age groups between 1990-2016."
   ]
  },
  {
   "cell_type": "code",
   "execution_count": null,
   "metadata": {},
   "outputs": [],
   "source": [
    "#your code here..."
   ]
  },
  {
   "cell_type": "code",
   "execution_count": null,
   "metadata": {
    "tags": []
   },
   "outputs": [],
   "source": [
    "# %load ../src/_solutions/challenge1.py"
   ]
  },
  {
   "cell_type": "markdown",
   "metadata": {
    "tags": []
   },
   "source": [
    "### Challenge: Plot the the population for `'5-14 years'` and `'70+ years'` for germany between 1990-2016."
   ]
  },
  {
   "cell_type": "code",
   "execution_count": null,
   "metadata": {
    "tags": []
   },
   "outputs": [],
   "source": [
    "# your code here...\n",
    "ages = ['5-14 years', '15-49 years', '50-69 years','70+ years']\n",
    "location = [\"Spain\", \"Germany\", \"France\", \"Italy\"]\n",
    "sex = ['Male', 'Female']\n",
    "\n",
    "cond = (\n",
    "    pop[\"age_group_name\"].isin(ages) & \n",
    "    pop[\"location_name\"].isin(location) & \n",
    "    pop[\"sex_name\"].isin(sex)\n",
    ")\n",
    "\n",
    "pop_subset = pop.loc[cond,:]\n",
    "\n",
    "gb = pop_subset.groupby([\"year_id\", \"age_group_name\"])[\"pop\"].sum()"
   ]
  },
  {
   "cell_type": "code",
   "execution_count": 69,
   "metadata": {
    "tags": []
   },
   "outputs": [],
   "source": [
    "# %load ../src/_solutions/challenge2.py\n",
    "ages = ['5-14 years','70+ years']\n",
    "location  = ['Germany']\n",
    "sex = ['Male', 'Female']\n",
    "\n",
    "cond = (\n",
    "    pop[\"age_group_name\"].isin(ages) & \n",
    "    pop[\"location_name\"].isin(location) & \n",
    "    pop[\"sex_name\"].isin(sex)\n",
    ")\n",
    "\n",
    "pop_subset2 = pop.loc[cond,:]\n",
    "print(pop_subset2.shape)\n",
    "print(pop_subset2.sample(5))\n",
    "\n",
    "gb2 = pop_subset2.groupby([\"year_id\", \"age_group_name\"])[\"pop\"].sum()\n",
    "print(gb2)\n",
    "\n",
    "gb2.unstack().plot()"
   ]
  },
  {
   "cell_type": "markdown",
   "metadata": {
    "tags": []
   },
   "source": [
    "### Challenge: Plot the the population for '95 plus' for germany grouped by `sex_name` and `year_id` between 1990-2016."
   ]
  },
  {
   "cell_type": "code",
   "execution_count": null,
   "metadata": {
    "tags": []
   },
   "outputs": [],
   "source": [
    "# your code here..."
   ]
  },
  {
   "cell_type": "code",
   "execution_count": null,
   "metadata": {
    "tags": []
   },
   "outputs": [],
   "source": [
    "# %load ../src/_solutions/challenge3.py"
   ]
  },
  {
   "cell_type": "code",
   "execution_count": 77,
   "metadata": {},
   "outputs": [],
   "source": [
    "ages = ['5-14 years','70+ years']\n",
    "location  = ['Germany', 'Spain']\n",
    "sex = ['Male', 'Female']\n",
    "groupby = [\"year_id\", \"location_name\"]"
   ]
  },
  {
   "cell_type": "code",
   "execution_count": 78,
   "metadata": {},
   "outputs": [],
   "source": [
    "def population_query(ages, location, sex, groupby):\n",
    "    \n",
    "    cond = (pop[\"age_group_name\"].isin(ages) & pop[\"location_name\"].isin(location) & pop[\"sex_name\"].isin(sex))\n",
    "\n",
    "    pop_subset2 = pop.loc[cond,:]\n",
    "\n",
    "\n",
    "    gb2 = pop_subset2.groupby(groupby)[\"pop\"].sum()\n",
    "\n",
    "\n",
    "    return gb2.unstack().plot()"
   ]
  },
  {
   "cell_type": "code",
   "execution_count": 79,
   "metadata": {},
   "outputs": [
    {
     "data": {
      "text/plain": [
       "<AxesSubplot:xlabel='year_id'>"
      ]
     },
     "execution_count": 79,
     "metadata": {},
     "output_type": "execute_result"
    },
    {
     "data": {
      "image/png": "[encoded data removed]",
      "text/plain": [
       "<Figure size 640x480 with 1 Axes>"
      ]
     },
     "metadata": {},
     "output_type": "display_data"
    }
   ],
   "source": [
    "population_query(ages, location, sex, groupby)"
   ]
  },
  {
   "cell_type": "markdown",
   "metadata": {},
   "source": [
    "***"
   ]
  }
 ],
 "metadata": {
  "kernelspec": {
   "display_name": "Python 3 (ipykernel)",
   "language": "python",
   "name": "python3"
  },
  "language_info": {
   "codemirror_mode": {
    "name": "ipython",
    "version": 3
   },
   "file_extension": ".py",
   "mimetype": "text/x-python",
   "name": "python",
   "nbconvert_exporter": "python",
   "pygments_lexer": "ipython3",
   "version": "3.9.21"
  },
  "vscode": {
   "interpreter": {
    "hash": "b0fa6594d8f4cbf19f97940f81e996739fb7646882a419484c72d19e05852a7e"
   }
  }
 },
 "nbformat": 4,
 "nbformat_minor": 4
}
